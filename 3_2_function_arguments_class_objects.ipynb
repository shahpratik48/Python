{
  "cells": [
    {
      "cell_type": "markdown",
      "id": "10760ef0-ca43-4c77-8913-d6eaedba0705",
      "metadata": {
        "id": "10760ef0-ca43-4c77-8913-d6eaedba0705"
      },
      "source": [
        "# Functions, Arguments and Class\n",
        "Python's capabilities for building modular and efficient code are rooted in its support for **functions**, **arguments**, and **classes**. Functions allow programmers to define reusable blocks of logic, improving code clarity and reducing duplication. By incorporating **arguments**, functions become dynamic and adaptable, enabling them to handle different inputs and produce versatile outputs. Moving into the realm of Object-Oriented Programming (OOP), **classes** provide a blueprint for creating objects that encapsulate data and behavior. Together, these constructs form the foundation of scalable and maintainable Python applications, empowering developers to create reusable, organized, and powerful code.\n"
      ]
    },
    {
      "cell_type": "markdown",
      "id": "b7603912-e80c-4eaa-a59c-6d8e1eef1b6b",
      "metadata": {
        "id": "b7603912-e80c-4eaa-a59c-6d8e1eef1b6b"
      },
      "source": [
        "# 1. Functions\n",
        "\n",
        "Functions are reusable blocks of code designed to perform specific tasks. They help make programs modular, reduce redundancy, and enhance readability.\n",
        "\n",
        "A function is defined using the def keyword, followed by the function name and parentheses. Inside the parentheses, you can specify parameters (inputs). The function may or may not return a value."
      ]
    },
    {
      "cell_type": "code",
      "execution_count": null,
      "id": "d3003f54-2167-43e5-9e5c-89f7c8e5f71e",
      "metadata": {
        "id": "d3003f54-2167-43e5-9e5c-89f7c8e5f71e"
      },
      "outputs": [],
      "source": [
        "def myFunction():\n",
        "    print(\"This is my first function.\")"
      ]
    },
    {
      "cell_type": "code",
      "execution_count": null,
      "id": "fbbfb690-ea91-4e3a-8ad3-f979ddc7b29d",
      "metadata": {
        "id": "fbbfb690-ea91-4e3a-8ad3-f979ddc7b29d",
        "outputId": "e0761cb1-0a91-4821-d7aa-ce240d791cca"
      },
      "outputs": [
        {
          "name": "stdout",
          "output_type": "stream",
          "text": [
            "This is my first function.\n"
          ]
        }
      ],
      "source": [
        "myFunction()"
      ]
    },
    {
      "cell_type": "markdown",
      "id": "14217631-befb-43ae-ade4-a7efb70fc944",
      "metadata": {
        "id": "14217631-befb-43ae-ade4-a7efb70fc944"
      },
      "source": [
        "## **Function to Multiply Two Numbers**\n",
        "This demonstrates a basic example of creating a function that takes two numbers as input, multiplies them, and returns the result."
      ]
    },
    {
      "cell_type": "markdown",
      "id": "ca02b573-11e4-4e26-ae5f-14b07e84e268",
      "metadata": {
        "id": "ca02b573-11e4-4e26-ae5f-14b07e84e268"
      },
      "source": [
        "### **Structure to Define a Function**\n",
        "The typical structure of a function includes:\n",
        "1. Function definition (`def` keyword).\n",
        "2. Optional parameters for input.\n",
        "3. A block of code that performs the function's task.\n",
        "4. A `return` statement to return the output."
      ]
    },
    {
      "cell_type": "code",
      "execution_count": 1,
      "id": "57ee4602-b33f-4d5e-a1e3-59a65ac06348",
      "metadata": {
        "id": "57ee4602-b33f-4d5e-a1e3-59a65ac06348"
      },
      "outputs": [],
      "source": [
        "def multiply(num1, num2):\n",
        "    result = num1 * num2\n",
        "    return result"
      ]
    },
    {
      "cell_type": "markdown",
      "id": "e5ab0246-be69-48fa-9c27-4cc4a498d557",
      "metadata": {
        "id": "e5ab0246-be69-48fa-9c27-4cc4a498d557"
      },
      "source": [
        "### **Taking Static Input**\n",
        "Functions can operate on pre-defined, hardcoded values, showcasing a simple and straightforward use of functions.\n"
      ]
    },
    {
      "cell_type": "code",
      "execution_count": null,
      "id": "40f04a18-8200-448d-a8d8-c29ec32fbe30",
      "metadata": {
        "id": "40f04a18-8200-448d-a8d8-c29ec32fbe30",
        "outputId": "f4628edd-45c0-4dc7-84ea-b8e4e1e7de3b"
      },
      "outputs": [
        {
          "name": "stdout",
          "output_type": "stream",
          "text": [
            "The multiplication is : 144\n"
          ]
        }
      ],
      "source": [
        "num1 = 12\n",
        "num2 = 12\n",
        "result = multiply(num1, num2)\n",
        "\n",
        "print(\"The multiplication is :\", result)"
      ]
    },
    {
      "cell_type": "markdown",
      "id": "6ca5228f-f61d-4c81-8e4e-ea1b1de826e1",
      "metadata": {
        "id": "6ca5228f-f61d-4c81-8e4e-ea1b1de826e1"
      },
      "source": [
        "### **Taking Dynamic Inputs**\n",
        "Dynamic inputs allow the user to provide values at runtime, making functions interactive and versatile."
      ]
    },
    {
      "cell_type": "code",
      "execution_count": null,
      "id": "80c05132-8a3a-41bd-aa7d-ee67e2e03ae4",
      "metadata": {
        "id": "80c05132-8a3a-41bd-aa7d-ee67e2e03ae4",
        "outputId": "71d4bf18-9e6d-40bb-fb7a-c63b8e5f447e"
      },
      "outputs": [
        {
          "name": "stdin",
          "output_type": "stream",
          "text": [
            "Please enter the first number :  12\n",
            "Please enter the second number :  12\n"
          ]
        },
        {
          "name": "stdout",
          "output_type": "stream",
          "text": [
            "The multiplication is : 144\n"
          ]
        }
      ],
      "source": [
        "num1 = int(input(\"Please enter the first number : \"))\n",
        "num2 = int(input(\"Please enter the second number : \"))\n",
        "result = multiply(num1, num2)\n",
        "\n",
        "print(\"The multiplication is :\", result)"
      ]
    },
    {
      "cell_type": "markdown",
      "id": "2d2ece93-4ded-4991-a1fb-3df573d928ae",
      "metadata": {
        "id": "2d2ece93-4ded-4991-a1fb-3df573d928ae"
      },
      "source": [
        "### **Concept of Local and Global Variables**\n",
        "This concept explains the scope of variables:\n",
        "- **Local Variables**: Defined within a function and accessible only inside it.\n",
        "- **Global Variables**: Defined outside any function and accessible throughout the program."
      ]
    },
    {
      "cell_type": "code",
      "execution_count": null,
      "id": "10036cec-f4f7-497d-b6da-f5ba7f0964b3",
      "metadata": {
        "id": "10036cec-f4f7-497d-b6da-f5ba7f0964b3"
      },
      "outputs": [],
      "source": [
        "# Function\n",
        "\n",
        "def myFunction():\n",
        "    var1 = 10 #defined inside the function -- local\n",
        "    print(\"var1 inside myFunction:\", var1)\n",
        "    print(\"var2 inside myFunction:\", var2)\n",
        "\n",
        "var2 = 20 #defined outside the function -- global"
      ]
    },
    {
      "cell_type": "code",
      "execution_count": null,
      "id": "3e4452b1-b44d-4d96-a9b3-59131a2567dc",
      "metadata": {
        "id": "3e4452b1-b44d-4d96-a9b3-59131a2567dc",
        "outputId": "f21ea76c-5f51-4d8c-e673-40ae652d4e0d"
      },
      "outputs": [
        {
          "name": "stdout",
          "output_type": "stream",
          "text": [
            "var1 inside myFunction: 10\n",
            "var2 inside myFunction: 20\n"
          ]
        }
      ],
      "source": [
        "myFunction()"
      ]
    },
    {
      "cell_type": "code",
      "execution_count": null,
      "id": "d7240e8a-351c-4e8f-ba60-6420dfc8a9f2",
      "metadata": {
        "id": "d7240e8a-351c-4e8f-ba60-6420dfc8a9f2",
        "outputId": "024b49f8-2f16-4f5f-dc25-f78369896fd8"
      },
      "outputs": [
        {
          "ename": "NameError",
          "evalue": "name 'var1' is not defined",
          "output_type": "error",
          "traceback": [
            "\u001b[1;31m---------------------------------------------------------------------------\u001b[0m",
            "\u001b[1;31mNameError\u001b[0m                                 Traceback (most recent call last)",
            "Cell \u001b[1;32mIn[47], line 1\u001b[0m\n\u001b[1;32m----> 1\u001b[0m \u001b[38;5;28mprint\u001b[39m(\u001b[38;5;124m\"\u001b[39m\u001b[38;5;124mvar1 outside myFunction:\u001b[39m\u001b[38;5;124m\"\u001b[39m, \u001b[43mvar1\u001b[49m) \u001b[38;5;66;03m#this will not work outside function as var1 is only defined locally inside the function\u001b[39;00m\n",
            "\u001b[1;31mNameError\u001b[0m: name 'var1' is not defined"
          ]
        }
      ],
      "source": [
        "print(\"var1 outside myFunction:\", var1) #this will not work outside function as var1 is only defined locally inside the function"
      ]
    },
    {
      "cell_type": "code",
      "execution_count": null,
      "id": "435298ae-63c4-43dd-95ec-67b5b42c370b",
      "metadata": {
        "id": "435298ae-63c4-43dd-95ec-67b5b42c370b",
        "outputId": "7c3c91bd-f539-4e92-bafb-3a34b1d57b32"
      },
      "outputs": [
        {
          "name": "stdout",
          "output_type": "stream",
          "text": [
            "var2 outside myFunction: 20\n"
          ]
        }
      ],
      "source": [
        "print(\"var2 outside myFunction:\", var2) #this will work outside also"
      ]
    },
    {
      "cell_type": "markdown",
      "id": "4404f3ef-77d4-4d97-a521-c9388f98a368",
      "metadata": {
        "id": "4404f3ef-77d4-4d97-a521-c9388f98a368"
      },
      "source": [
        "## 2. Arguments or Parameters\n",
        "\n",
        "Arguments or parameters are the values passed to a function to customize its behavior."
      ]
    },
    {
      "cell_type": "markdown",
      "id": "56595daa-3be0-420b-8cec-6273189dda05",
      "metadata": {
        "id": "56595daa-3be0-420b-8cec-6273189dda05"
      },
      "source": [
        "### **Argument Concepts**\n",
        "Parameters can be passed into functions to control their logic. These can include:\n",
        "- **Positional Arguments**: Passed in the same order as specified in the function definition.\n",
        "- **Keyword Arguments**: Passed using the parameter name, allowing flexibility in order."
      ]
    },
    {
      "cell_type": "code",
      "execution_count": null,
      "id": "9efba299-5a81-4cca-8d3e-6c0aa284da1d",
      "metadata": {
        "id": "9efba299-5a81-4cca-8d3e-6c0aa284da1d"
      },
      "outputs": [],
      "source": [
        "def myFunction(var1, var2):           #function is taking 2 arguments/parameters\n",
        "    print(\"Var1 is : \", var1)         #defining the body of funtion\n",
        "    print(\"Var2 is : \", var2)\n",
        "    result = var1 + var2\n",
        "    print(\"the output of function is: \",result)\n",
        "    return result                     #returning the result"
      ]
    },
    {
      "cell_type": "code",
      "execution_count": null,
      "id": "27642e33-6f15-4887-a39a-53f3d3383646",
      "metadata": {
        "id": "27642e33-6f15-4887-a39a-53f3d3383646",
        "outputId": "af4de83b-512b-4a60-f3b5-e03681deb8d9"
      },
      "outputs": [
        {
          "name": "stdout",
          "output_type": "stream",
          "text": [
            "Var1 is :  10\n",
            "Var2 is :  20\n",
            "the output of function is:  30\n"
          ]
        }
      ],
      "source": [
        "var1 = 10\n",
        "var2 = 20\n",
        "\n",
        "res = myFunction(var1, var2)          #calling the function which does the tasks as defined in function"
      ]
    },
    {
      "cell_type": "markdown",
      "id": "c85df31b-85ba-4dea-a74a-a57baf01df71",
      "metadata": {
        "id": "c85df31b-85ba-4dea-a74a-a57baf01df71"
      },
      "source": [
        "### **Default Arguments**\n",
        "Default arguments allow you to define a default value for a parameter, which is used if no value is provided during the function call."
      ]
    },
    {
      "cell_type": "code",
      "execution_count": null,
      "id": "c1c4903c-ef03-4a0f-9c6b-a8a57e44dc62",
      "metadata": {
        "id": "c1c4903c-ef03-4a0f-9c6b-a8a57e44dc62",
        "outputId": "b8005b1e-8af7-4f9b-fd24-4fd9efe39819"
      },
      "outputs": [
        {
          "name": "stdout",
          "output_type": "stream",
          "text": [
            "Var1 is :  10\n",
            "Var2 is :  0\n",
            "10\n"
          ]
        }
      ],
      "source": [
        "def myFunction(var3, var4=0):\n",
        "    print(\"Var1 is : \", var3)\n",
        "    print(\"Var2 is : \", var4)\n",
        "    result = var3 + var4\n",
        "    return result\n",
        "\n",
        "\n",
        "var3 = 10\n",
        "\n",
        "res = myFunction(var3)           #it will only take var3 and var4 is already initialized\n",
        "print(res)"
      ]
    },
    {
      "cell_type": "markdown",
      "id": "b359aba4-e125-40aa-803a-927908c2fac4",
      "metadata": {
        "id": "b359aba4-e125-40aa-803a-927908c2fac4"
      },
      "source": [
        "### **Changing the Value of Default Arguments**\n",
        "Demonstrates how to override default values by passing new arguments during function calls."
      ]
    },
    {
      "cell_type": "code",
      "execution_count": null,
      "id": "4b5ca44f-5c03-4a76-a49b-8fefae80cfde",
      "metadata": {
        "id": "4b5ca44f-5c03-4a76-a49b-8fefae80cfde",
        "outputId": "eeb42042-85b5-4cd9-97c3-199a22afe80b"
      },
      "outputs": [
        {
          "name": "stdout",
          "output_type": "stream",
          "text": [
            "Var1 is :  10\n",
            "Var2 is :  100\n",
            "110\n"
          ]
        }
      ],
      "source": [
        "def myFunction(var3, var4=0):\n",
        "    print(\"Var1 is : \", var3)\n",
        "    print(\"Var2 is : \", var4)\n",
        "    result = var3 + var4\n",
        "    return result\n",
        "\n",
        "\n",
        "var3 = 10\n",
        "var4 = 100\n",
        "\n",
        "res = myFunction(var3, var4)           #it will only take var3 and var4 is already initialized\n",
        "print(res)"
      ]
    },
    {
      "cell_type": "markdown",
      "id": "9c9f0d4a-9795-4efd-9996-31393ea6ad0c",
      "metadata": {
        "id": "9c9f0d4a-9795-4efd-9996-31393ea6ad0c"
      },
      "source": [
        "## Use Case of Functions\n",
        "\n",
        "### **Banking with Static Input**\n",
        "This example showcases a function simulating banking operations like depositing or withdrawing money using hardcoded inputs."
      ]
    },
    {
      "cell_type": "code",
      "execution_count": null,
      "id": "46415edc-a6b2-4f7d-8f9c-6a6b742020ff",
      "metadata": {
        "id": "46415edc-a6b2-4f7d-8f9c-6a6b742020ff",
        "outputId": "c22fdd73-1f3b-4049-9e37-c3debe3ff789"
      },
      "outputs": [
        {
          "name": "stdout",
          "output_type": "stream",
          "text": [
            "Interest: 1000.0\n",
            "Account Valid: True\n",
            "Transferred $250.00 from 1234567890 to 9876543210.\n",
            "Balance: 5000.0\n",
            "EMI: 2307.246316875833\n"
          ]
        }
      ],
      "source": [
        "def calculate_interest(principal, rate, time):\n",
        "    return (principal * rate * time) / 100\n",
        "\n",
        "def validate_account(account_number, pin):\n",
        "    valid_account = \"1234567890\"\n",
        "    valid_pin = 1234\n",
        "    return account_number == valid_account and pin == valid_pin\n",
        "\n",
        "def transfer_money(sender_account, receiver_account, amount):\n",
        "    if amount <= 0:\n",
        "        return \"Amount must be positive.\"\n",
        "    return f\"Transferred ${amount:.2f} from {sender_account} to {receiver_account}.\"\n",
        "\n",
        "def check_balance(account_number):\n",
        "    balances = {\"1234567890\": 5000.00, \"9876543210\": 10000.00}\n",
        "    return balances.get(account_number, \"Account not found.\")\n",
        "\n",
        "def calculate_emi(principal, rate, tenure):\n",
        "    monthly_rate = rate / (12 * 100)\n",
        "    return (principal * monthly_rate * (1 + monthly_rate)**tenure) / ((1 + monthly_rate)**tenure - 1)\n",
        "\n",
        "\n",
        "# Example Usage\n",
        "print(\"Interest:\", calculate_interest(10000, 5, 2))\n",
        "print(\"Account Valid:\", validate_account(\"1234567890\", 1234))\n",
        "print(transfer_money(\"1234567890\", \"9876543210\", 250))\n",
        "print(\"Balance:\", check_balance(\"1234567890\"))\n",
        "print(\"EMI:\", calculate_emi(50000, 10, 24))\n"
      ]
    },
    {
      "cell_type": "markdown",
      "id": "f7c86d53-70c5-45c6-8cfe-e57f92faf9a9",
      "metadata": {
        "id": "f7c86d53-70c5-45c6-8cfe-e57f92faf9a9"
      },
      "source": [
        "### **Banking with Dynamic Input**\n",
        "A more flexible version where inputs (like deposit or withdrawal amounts) are provided dynamically by the user."
      ]
    },
    {
      "cell_type": "code",
      "execution_count": null,
      "id": "2c4e572f-5447-431c-a404-350f637acf3c",
      "metadata": {
        "id": "2c4e572f-5447-431c-a404-350f637acf3c",
        "outputId": "7a0f276e-2e95-4934-ff7b-d353c1d82d45"
      },
      "outputs": [
        {
          "name": "stdout",
          "output_type": "stream",
          "text": [
            "Choose an operation:\n",
            "1. Calculate Interest\n",
            "2. Validate Account\n",
            "3. Transfer Money\n",
            "4. Check Balance\n",
            "5. Calculate EMI\n"
          ]
        },
        {
          "name": "stdin",
          "output_type": "stream",
          "text": [
            "Enter the operation number:  2\n",
            "Enter account number:  1234567890\n",
            "Enter PIN:  1234\n"
          ]
        },
        {
          "name": "stdout",
          "output_type": "stream",
          "text": [
            "Account Valid: True\n"
          ]
        }
      ],
      "source": [
        "def calculate_interest(principal, rate, time):\n",
        "    return (principal * rate * time) / 100\n",
        "\n",
        "def validate_account(account_number, pin):\n",
        "    valid_account = \"1234567890\"\n",
        "    valid_pin = 1234\n",
        "    return account_number == valid_account and pin == valid_pin\n",
        "\n",
        "def transfer_money(sender_account, receiver_account, amount):\n",
        "    if amount <= 0:\n",
        "        return \"Amount must be positive.\"\n",
        "    return f\"Transferred ${amount:.2f} from {sender_account} to {receiver_account}.\"\n",
        "\n",
        "def check_balance(account_number):\n",
        "    balances = {\"1234567890\": 5000.00, \"9876543210\": 10000.00}\n",
        "    return balances.get(account_number, \"Account not found.\")\n",
        "\n",
        "def calculate_emi(principal, rate, tenure):\n",
        "    monthly_rate = rate / (12 * 100)\n",
        "    return (principal * monthly_rate * (1 + monthly_rate)**tenure) / ((1 + monthly_rate)**tenure - 1)\n",
        "\n",
        "# Interactive Input\n",
        "print(\"Choose an operation:\")\n",
        "print(\"1. Calculate Interest\")\n",
        "print(\"2. Validate Account\")\n",
        "print(\"3. Transfer Money\")\n",
        "print(\"4. Check Balance\")\n",
        "print(\"5. Calculate EMI\")\n",
        "choice = int(input(\"Enter the operation number: \"))\n",
        "\n",
        "if choice == 1:\n",
        "    principal = float(input(\"Enter principal amount: \"))\n",
        "    rate = float(input(\"Enter interest rate (%): \"))\n",
        "    time = float(input(\"Enter time (years): \"))\n",
        "    print(\"Interest:\", calculate_interest(principal, rate, time))\n",
        "\n",
        "elif choice == 2:\n",
        "    account_number = input(\"Enter account number: \")\n",
        "    pin = int(input(\"Enter PIN: \"))\n",
        "    print(\"Account Valid:\", validate_account(account_number, pin))\n",
        "\n",
        "elif choice == 3:\n",
        "    sender = input(\"Enter sender account number: \")\n",
        "    receiver = input(\"Enter receiver account number: \")\n",
        "    amount = float(input(\"Enter transfer amount: \"))\n",
        "    print(transfer_money(sender, receiver, amount))\n",
        "\n",
        "elif choice == 4:\n",
        "    account_number = input(\"Enter account number: \")\n",
        "    print(\"Balance:\", check_balance(account_number))\n",
        "\n",
        "elif choice == 5:\n",
        "    principal = float(input(\"Enter loan amount: \"))\n",
        "    rate = float(input(\"Enter annual interest rate (%): \"))\n",
        "    tenure = int(input(\"Enter tenure (months): \"))\n",
        "    print(\"Monthly EMI:\", calculate_emi(principal, rate, tenure))\n",
        "\n",
        "else:\n",
        "    print(\"Invalid choice!\")\n"
      ]
    },
    {
      "cell_type": "markdown",
      "id": "fd4914ff-9155-4140-b7ae-89ababe67351",
      "metadata": {
        "id": "fd4914ff-9155-4140-b7ae-89ababe67351"
      },
      "source": [
        "## Class and Objects\n",
        "\n",
        "This section introduces **Object-Oriented Programming (OOP)** concepts in Python, focusing on classes and objects."
      ]
    },
    {
      "cell_type": "markdown",
      "id": "1d713626-9b27-437c-8565-a588ba14fe85",
      "metadata": {
        "id": "1d713626-9b27-437c-8565-a588ba14fe85"
      },
      "source": [
        "### **Define a Class**\n",
        "A class is a blueprint for creating objects. It contains:\n",
        "- **Attributes**: Represent data or properties.\n",
        "- **Methods**: Functions defined inside the class to manipulate attributes.\n",
        "\n",
        "First, we need to create the attributes of the class    \n",
        "\n",
        "=========> a class has two functions '__init__' and 'main'\n",
        "\n",
        "**init** function ==> initializes the variables\n",
        "\n",
        "**main** function ==> calls the variables"
      ]
    },
    {
      "cell_type": "code",
      "execution_count": null,
      "id": "1a10eccd-bc1e-4cae-bd11-25e5c06f66bf",
      "metadata": {
        "id": "1a10eccd-bc1e-4cae-bd11-25e5c06f66bf"
      },
      "outputs": [],
      "source": [
        "class Student:\n",
        "    def __init__(self, fname, lname, gender, enrno):\n",
        "        self.fname = fname\n",
        "        self.lname = lname\n",
        "        self.gender = gender\n",
        "        self.enrno = enrno\n",
        "\n",
        "    def main(self):\n",
        "        print(\"Hello\", self.fname)\n",
        "        print(\"Your Last name is\", self.lname)\n",
        "        print(\"Your gender is\", self.gender)\n",
        "        print(\"Your Enrollment number is\", self.enrno)"
      ]
    },
    {
      "cell_type": "markdown",
      "id": "d40d8e39-7c2b-455a-988f-f64e8bb2a58f",
      "metadata": {
        "id": "d40d8e39-7c2b-455a-988f-f64e8bb2a58f"
      },
      "source": [
        "### **Creates the Object**\n",
        "Objects are instances of a class, created to access and use the class's attributes and methods."
      ]
    },
    {
      "cell_type": "code",
      "execution_count": null,
      "id": "f573316b-f7ad-4f15-a78e-e578fbea2dc4",
      "metadata": {
        "id": "f573316b-f7ad-4f15-a78e-e578fbea2dc4"
      },
      "outputs": [],
      "source": [
        "# Create an object of the Student class\n",
        "s1 = Student(\"John\", \"Smith\", \"M\", \"E-001\")\n",
        "s2 = Student(\"jalal\", \"khan\", \"M\", \"E-3030\")"
      ]
    },
    {
      "cell_type": "markdown",
      "id": "623cf6b0-d47b-498b-bd86-8e3a23d325ec",
      "metadata": {
        "id": "623cf6b0-d47b-498b-bd86-8e3a23d325ec"
      },
      "source": [
        "### **Call the Class**\n",
        "Demonstrates how to create and use objects to call the methods defined in a class."
      ]
    },
    {
      "cell_type": "code",
      "execution_count": null,
      "id": "a71c7ba5-4ab8-4a67-b143-37a6bdd2be76",
      "metadata": {
        "scrolled": true,
        "id": "a71c7ba5-4ab8-4a67-b143-37a6bdd2be76",
        "outputId": "300e267a-93d9-44bc-cfdd-379e18551d82"
      },
      "outputs": [
        {
          "name": "stdout",
          "output_type": "stream",
          "text": [
            "Hello John\n",
            "Your Last name is Smith\n",
            "Your gender is M\n",
            "Your Enrollment number is E-001\n",
            "Hello jalal\n",
            "Your Last name is khan\n",
            "Your gender is M\n",
            "Your Enrollment number is E-3030\n"
          ]
        }
      ],
      "source": [
        "# Call the main method and print an attribute\n",
        "s1.main()\n",
        "s2.main()"
      ]
    },
    {
      "cell_type": "code",
      "execution_count": null,
      "id": "f26f602c-2bf9-4ff4-891e-926e2ecddf3d",
      "metadata": {
        "id": "f26f602c-2bf9-4ff4-891e-926e2ecddf3d"
      },
      "outputs": [],
      "source": []
    },
    {
      "cell_type": "code",
      "execution_count": null,
      "id": "7ab55c2e-4e86-4b7f-a3bf-094eaf29979b",
      "metadata": {
        "id": "7ab55c2e-4e86-4b7f-a3bf-094eaf29979b"
      },
      "outputs": [],
      "source": []
    }
  ],
  "metadata": {
    "kernelspec": {
      "display_name": "Python 3 (ipykernel)",
      "language": "python",
      "name": "python3"
    },
    "language_info": {
      "codemirror_mode": {
        "name": "ipython",
        "version": 3
      },
      "file_extension": ".py",
      "mimetype": "text/x-python",
      "name": "python",
      "nbconvert_exporter": "python",
      "pygments_lexer": "ipython3",
      "version": "3.12.4"
    },
    "colab": {
      "provenance": []
    }
  },
  "nbformat": 4,
  "nbformat_minor": 5
}