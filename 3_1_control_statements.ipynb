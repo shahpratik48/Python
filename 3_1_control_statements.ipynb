{
  "cells": [
    {
      "cell_type": "markdown",
      "id": "8d500fa6-1aba-4f33-88bf-4338d39d0032",
      "metadata": {
        "id": "8d500fa6-1aba-4f33-88bf-4338d39d0032"
      },
      "source": [
        "# **Conditional Statements in Python**"
      ]
    },
    {
      "cell_type": "markdown",
      "source": [
        "Conditional statements are an essential feature of Python that enable programs to make decisions. They allow specific blocks of code to execute only when certain conditions are met, providing flexibility and control over the program's flow. By evaluating conditions using Boolean expressions (True or False), conditional statements guide the program to take appropriate actions based on the situation.\n",
        "\n",
        "\n",
        "These statements are vital in creating dynamic and interactive applications. Whether it's determining user eligibility, grading test scores, or managing complex logic in systems, conditional statements are a cornerstone of decision-making in Python.\n",
        "\n",
        "\n",
        "**The primary types of conditional constructs include:**\n",
        "\n",
        "1. **If-Else Statements:** For simple decision-making.\n",
        "2. **If-Elif-Else Statements:** For multiple conditional checks.\n",
        "3. **While Loops:** For repeated execution based on a condition.\n",
        "\n",
        "\n",
        "\n",
        "Understanding these constructs is fundamental to writing effective and efficient Python programs."
      ],
      "metadata": {
        "id": "EnKci0siUAV5"
      },
      "id": "EnKci0siUAV5"
    },
    {
      "cell_type": "markdown",
      "id": "5617f21a-4744-48de-abc2-809047ea65b6",
      "metadata": {
        "id": "5617f21a-4744-48de-abc2-809047ea65b6"
      },
      "source": [
        "# Type 1: If else statement\n",
        "\n",
        "The if-else statement is used to execute one block of code if a condition evaluates to True and another block of code if the condition evaluates to False."
      ]
    },
    {
      "cell_type": "code",
      "source": [
        "#This cell initializes the salary variable with a value of 6000, which will be used in the conditional statements below."
      ],
      "metadata": {
        "id": "8EPgAAab4xqp"
      },
      "id": "8EPgAAab4xqp",
      "execution_count": null,
      "outputs": []
    },
    {
      "cell_type": "code",
      "execution_count": null,
      "id": "02844345-0086-4441-8797-527613546bc1",
      "metadata": {
        "id": "02844345-0086-4441-8797-527613546bc1"
      },
      "outputs": [],
      "source": [
        "salary = 6000"
      ]
    },
    {
      "cell_type": "code",
      "source": [
        "#This cell checks if the salary is greater than 5000 using an if-else statement. If the condition is true, it prints \"Approved.\" Otherwise, it prints \"Rejected.\""
      ],
      "metadata": {
        "id": "vkPoSB_U5UQ7"
      },
      "id": "vkPoSB_U5UQ7",
      "execution_count": null,
      "outputs": []
    },
    {
      "cell_type": "code",
      "execution_count": null,
      "id": "c28c768f-3e07-4717-922a-f838221fc522",
      "metadata": {
        "id": "c28c768f-3e07-4717-922a-f838221fc522",
        "outputId": "24ffd992-4761-4dfa-c619-6c13d75236bf"
      },
      "outputs": [
        {
          "name": "stdout",
          "output_type": "stream",
          "text": [
            "Approved\n"
          ]
        }
      ],
      "source": [
        "if salary > 5000:\n",
        "    print(\"Approved\")\n",
        "else:\n",
        "    print(\"Rejected\")"
      ]
    },
    {
      "cell_type": "code",
      "source": [
        "#This cell checks if the salary is less than 5000 using an if-else statement. If the condition is true, it prints \"Approved.\" Otherwise, it prints \"Rejected.\""
      ],
      "metadata": {
        "id": "9zthQk_y5ilB"
      },
      "id": "9zthQk_y5ilB",
      "execution_count": null,
      "outputs": []
    },
    {
      "cell_type": "code",
      "execution_count": null,
      "id": "d4b5ba57-aba0-4758-bed4-8b16dd26d75c",
      "metadata": {
        "id": "d4b5ba57-aba0-4758-bed4-8b16dd26d75c",
        "outputId": "2ba8b2e6-5a53-44ca-8560-6f952dadf934"
      },
      "outputs": [
        {
          "name": "stdout",
          "output_type": "stream",
          "text": [
            "Rejected\n"
          ]
        }
      ],
      "source": [
        "if salary < 5000:\n",
        "    print(\"Approved\")\n",
        "else:\n",
        "    print(\"Rejected\")"
      ]
    },
    {
      "cell_type": "code",
      "source": [
        "#This cell repeats the logic of checking if the salary is greater than 5000. It’s similar to Cell 2 and demonstrates the same conditional check."
      ],
      "metadata": {
        "id": "sarTwqTA5w4N"
      },
      "id": "sarTwqTA5w4N",
      "execution_count": null,
      "outputs": []
    },
    {
      "cell_type": "code",
      "execution_count": null,
      "id": "5d85a5c8-4a67-467c-bb03-387cad2631b4",
      "metadata": {
        "id": "5d85a5c8-4a67-467c-bb03-387cad2631b4"
      },
      "outputs": [],
      "source": [
        "if salary > 5000:\n",
        "    print(\"Approved\")\n",
        "else:\n",
        "    print(\"Rejected\")"
      ]
    },
    {
      "cell_type": "markdown",
      "id": "e9fb1bdd-0058-4331-9997-32ef0fea195e",
      "metadata": {
        "id": "e9fb1bdd-0058-4331-9997-32ef0fea195e"
      },
      "source": [
        "# Type 2: If else and elif statement\n",
        "\n",
        "The if-elif-else statement is used when there are multiple conditions to check. It evaluates conditions in sequence until one evaluates to True. If none of the conditions are True, the else block executes."
      ]
    },
    {
      "cell_type": "code",
      "execution_count": null,
      "id": "ad8f9b60-3d6b-4421-b366-25835fa4e1da",
      "metadata": {
        "id": "ad8f9b60-3d6b-4421-b366-25835fa4e1da",
        "outputId": "414db7be-2f7c-494d-f3ea-1c2998598ecc"
      },
      "outputs": [
        {
          "name": "stdout",
          "output_type": "stream",
          "text": [
            "Grade: B\n"
          ]
        }
      ],
      "source": [
        "#This code checks a score and assigns a grade based on the following conditions:\n",
        "#If the score is greater than or equal to 90, the grade is \"A\".\n",
        "#If the score is between 80 and 89, the grade is \"B\".\n",
        "#Additional ranges assign grades \"C\", \"D\", or \"F\".\n",
        "\n",
        "# Example: Check the score and assign a grade\n",
        "score = 85\n",
        "\n",
        "if score >= 90:\n",
        "    print(\"Grade: A\")\n",
        "elif score >= 80:\n",
        "    print(\"Grade: B\")\n",
        "elif score >= 70:\n",
        "    print(\"Grade: C\")\n",
        "elif score >= 60:\n",
        "    print(\"Grade: D\")\n",
        "else:\n",
        "    print(\"Grade: F\")\n"
      ]
    },
    {
      "cell_type": "markdown",
      "id": "9b14bc55-f067-4083-91ca-e1d58448e778",
      "metadata": {
        "id": "9b14bc55-f067-4083-91ca-e1d58448e778"
      },
      "source": [
        "# Application of if-else-elif:\n",
        "1. Simple Banking System"
      ]
    },
    {
      "cell_type": "code",
      "execution_count": null,
      "id": "4ff72348-fd24-4743-8efc-023419ff0530",
      "metadata": {
        "id": "4ff72348-fd24-4743-8efc-023419ff0530",
        "outputId": "aa50bbcb-67f7-4a4f-8905-a48108050eb5"
      },
      "outputs": [
        {
          "name": "stdout",
          "output_type": "stream",
          "text": [
            "Welcome to HDFC Bank!\n",
            " \n",
            "Choose an option:\n",
            "1. Deposit\n",
            "2. Withdraw\n",
            "3. Check Balance\n",
            "4. Exit\n",
            "----------------- \n",
            " \n",
            " \n"
          ]
        },
        {
          "name": "stdin",
          "output_type": "stream",
          "text": [
            "Enter your choice (1/2/3/4):  4\n"
          ]
        },
        {
          "name": "stdout",
          "output_type": "stream",
          "text": [
            "Thank you for using the Bank! Goodbye.\n"
          ]
        }
      ],
      "source": [
        "#This Python program simulates a simple banking system where users can perform the following actions in a loop until they choose to exit:\n",
        "\n",
        "#Deposit: Allows users to add money to their account. The deposited amount is added to the balance.\n",
        "#Withdraw: Allows users to withdraw money if the account balance is sufficient. If not, it shows an \"Insufficient funds\" message.\n",
        "#Check Balance: Displays the current balance of the account.\n",
        "#Exit: Ends the program with a goodbye message.\n",
        "#The while True loop ensures the program runs continuously until the user selects option 4 (Exit). Error handling is included for invalid menu options and insufficient funds during withdrawal.\n",
        "\n",
        "# Simple Banking System\n",
        "balance = 1000  # Initial account balance\n",
        "\n",
        "print(\"Welcome to HDFC Bank!\")\n",
        "print(\" \")\n",
        "print(\"Choose an option:\")\n",
        "print(\"1. Deposit\")\n",
        "print(\"2. Withdraw\")\n",
        "print(\"3. Check Balance\")\n",
        "print(\"4. Exit\")\n",
        "print(\"----------------- \")\n",
        "print(\" \")\n",
        "print(\" \")\n",
        "\n",
        "while True:\n",
        "    option = int(input(\"Enter your choice (1/2/3/4): \"))\n",
        "\n",
        "    if option == 1:\n",
        "        deposit_amount = float(input(\"Enter amount to deposit: \"))\n",
        "        balance += deposit_amount\n",
        "        print(f\"Deposited: {deposit_amount}. New Balance: {balance}\")\n",
        "    elif option == 2:\n",
        "        withdraw_amount = float(input(\"Enter amount to withdraw: \"))\n",
        "        if withdraw_amount > balance:\n",
        "            print(\"Insufficient funds! Cannot withdraw.\")\n",
        "        else:\n",
        "            balance -= withdraw_amount\n",
        "            print(f\"Withdrawn: {withdraw_amount}. New Balance: {balance}\")\n",
        "    elif option == 3:\n",
        "        print(f\"Your current balance is: {balance}\")\n",
        "    elif option == 4:\n",
        "        print(\"Thank you for using the Bank! Goodbye.\")\n",
        "        break\n",
        "    else:\n",
        "        print(\"Invalid option! Please choose a valid option.\")\n"
      ]
    },
    {
      "cell_type": "markdown",
      "id": "e5e06b6e-f53e-43e3-8015-e4002f71e288",
      "metadata": {
        "id": "e5e06b6e-f53e-43e3-8015-e4002f71e288"
      },
      "source": [
        "# Type 3: While loop\n",
        "The while loop is a type of control structure in Python that allows a block of code to be executed repeatedly as long as a specified condition is true. It is particularly useful for situations where the number of iterations is not predetermined and depends on the condition."
      ]
    },
    {
      "cell_type": "code",
      "execution_count": null,
      "id": "0d1bb668-8c7e-46ce-a89a-40a1a66ea09d",
      "metadata": {
        "id": "0d1bb668-8c7e-46ce-a89a-40a1a66ea09d",
        "outputId": "a762edfe-2d38-4854-9327-7b41e6b675bd"
      },
      "outputs": [
        {
          "name": "stdout",
          "output_type": "stream",
          "text": [
            "0\n",
            "2\n",
            "4\n",
            "6\n",
            "8\n"
          ]
        }
      ],
      "source": [
        "#Code Explanation: Printing Even Numbers using a while Loop\n",
        "#This code uses a while loop to print numbers incrementing by 2, starting from 0, until the value reaches 10.\n",
        "\n",
        "#Initialization: i is initialized to 0.\n",
        "#Condition: The loop runs as long as i is less than 10.\n",
        "#Increment: The value of i is increased by 2 in each iteration.\n",
        "#The result is the even numbers 0, 2, 4, 6, 8 being printed.\n",
        "\n",
        "i = 0\n",
        "while i < 10:\n",
        "    print(i)\n",
        "    i += 2"
      ]
    },
    {
      "cell_type": "markdown",
      "id": "42f967d8-657b-42b9-80ae-649c4fb13382",
      "metadata": {
        "id": "42f967d8-657b-42b9-80ae-649c4fb13382"
      },
      "source": [
        "Presence of boolean variable in while loop"
      ]
    },
    {
      "cell_type": "code",
      "source": [
        "#Code Explanation: Using a while Loop with a Conditional Flag\n",
        "#This code demonstrates the use of a while loop with a conditional flag (var1) to control the loop execution.\n",
        "\n",
        "#Initialization:\n",
        "\n",
        "#i is initialized to 0, which serves as the counter variable.\n",
        "#var1 is set to True, acting as the loop control variable.\n",
        "#Loop Execution:\n",
        "\n",
        "#The loop continues running as long as var1 is True.\n",
        "#In each iteration:\n",
        "#The current value of i is printed.\n",
        "#i is incremented by 2.\n",
        "#Condition to Stop the Loop:\n",
        "\n",
        "#Inside the loop, there’s an if statement checking if i is greater than or equal to 10.\n",
        "#If the condition is true, var1 is set to False, which stops the loop."
      ],
      "metadata": {
        "id": "17p4xyWo7Dgy"
      },
      "id": "17p4xyWo7Dgy",
      "execution_count": null,
      "outputs": []
    },
    {
      "cell_type": "code",
      "execution_count": null,
      "id": "c376dad3-9360-4b9f-87a0-7fcbcd9caa41",
      "metadata": {
        "id": "c376dad3-9360-4b9f-87a0-7fcbcd9caa41",
        "outputId": "7a26feef-3571-4316-b587-5665168e739e"
      },
      "outputs": [
        {
          "name": "stdout",
          "output_type": "stream",
          "text": [
            "0\n",
            "2\n",
            "4\n",
            "6\n",
            "8\n"
          ]
        }
      ],
      "source": [
        "i = 0\n",
        "var1 = True\n",
        "\n",
        "while var1:\n",
        "    print(i)\n",
        "    i += 2\n",
        "    if i >= 10:\n",
        "        var1 = False\n"
      ]
    },
    {
      "cell_type": "markdown",
      "id": "91480ec3-6619-4d3a-95ca-3c72a6ed6799",
      "metadata": {
        "id": "91480ec3-6619-4d3a-95ca-3c72a6ed6799"
      },
      "source": [
        "## Difference in using conditional statement **with while** and **without while**\n"
      ]
    },
    {
      "cell_type": "code",
      "source": [
        "#!Code Explanation: Simple Banking System\n",
        "#This Python program provides a basic banking interface with four key operations:\n",
        "\n",
        "#Deposit: Add money to the account balance.\n",
        "#Withdraw: Deduct money from the account balance if sufficient funds are available.\n",
        "#Check Balance: Display the current account balance.\n",
        "#Exit: Exit the banking system.\n",
        "#The program runs in a continuous loop (while True), allowing the user to perform multiple actions until they choose to exit.\n",
        "\n"
      ],
      "metadata": {
        "id": "D3s4QCYq7fbi"
      },
      "id": "D3s4QCYq7fbi",
      "execution_count": null,
      "outputs": []
    },
    {
      "cell_type": "code",
      "execution_count": null,
      "id": "e66ff478-50c2-4c9b-9b1c-2c357c27aecc",
      "metadata": {
        "id": "e66ff478-50c2-4c9b-9b1c-2c357c27aecc",
        "outputId": "b9458742-a199-41ec-9bb6-9d688a4e8b66"
      },
      "outputs": [
        {
          "name": "stdout",
          "output_type": "stream",
          "text": [
            "Welcome to SBI Bank!\n",
            " \n",
            "1. Deposit\n",
            "2. Withdraw\n",
            "3. Check Balance\n",
            "4. Exit\n"
          ]
        },
        {
          "name": "stdin",
          "output_type": "stream",
          "text": [
            "Enter your choice (1/2/3/4):  3\n"
          ]
        },
        {
          "name": "stdout",
          "output_type": "stream",
          "text": [
            "Your balance is 1000\n",
            "1. Deposit\n",
            "2. Withdraw\n",
            "3. Check Balance\n",
            "4. Exit\n"
          ]
        },
        {
          "name": "stdin",
          "output_type": "stream",
          "text": [
            "Enter your choice (1/2/3/4):  3\n"
          ]
        },
        {
          "name": "stdout",
          "output_type": "stream",
          "text": [
            "Your balance is 1000\n",
            "1. Deposit\n",
            "2. Withdraw\n",
            "3. Check Balance\n",
            "4. Exit\n"
          ]
        },
        {
          "name": "stdin",
          "output_type": "stream",
          "text": [
            "Enter your choice (1/2/3/4):  3\n"
          ]
        },
        {
          "name": "stdout",
          "output_type": "stream",
          "text": [
            "Your balance is 1000\n",
            "1. Deposit\n",
            "2. Withdraw\n",
            "3. Check Balance\n",
            "4. Exit\n"
          ]
        },
        {
          "name": "stdin",
          "output_type": "stream",
          "text": [
            "Enter your choice (1/2/3/4):  2\n",
            "Enter amount to withdraw:  3\n"
          ]
        },
        {
          "name": "stdout",
          "output_type": "stream",
          "text": [
            "Withdrew 3.0. New balance is 997.0\n",
            "1. Deposit\n",
            "2. Withdraw\n",
            "3. Check Balance\n",
            "4. Exit\n"
          ]
        },
        {
          "name": "stdin",
          "output_type": "stream",
          "text": [
            "Enter your choice (1/2/3/4):  1\n",
            "Enter amount to deposit:  2000\n"
          ]
        },
        {
          "name": "stdout",
          "output_type": "stream",
          "text": [
            "Deposited 2000.0. New balance is 2997.0\n",
            "1. Deposit\n",
            "2. Withdraw\n",
            "3. Check Balance\n",
            "4. Exit\n"
          ]
        },
        {
          "name": "stdin",
          "output_type": "stream",
          "text": [
            "Enter your choice (1/2/3/4):  2\n",
            "Enter amount to withdraw:  5000\n"
          ]
        },
        {
          "name": "stdout",
          "output_type": "stream",
          "text": [
            "Insufficient funds.\n",
            "1. Deposit\n",
            "2. Withdraw\n",
            "3. Check Balance\n",
            "4. Exit\n"
          ]
        }
      ],
      "source": [
        "# Simple Banking System\n",
        "balance = 1000  # Initial account balance\n",
        "\n",
        "print(\"Welcome to SBI Bank!\")\n",
        "print(\" \")\n",
        "while True:\n",
        "    print(\"1. Deposit\")\n",
        "    print(\"2. Withdraw\")\n",
        "    print(\"3. Check Balance\")\n",
        "    print(\"4. Exit\")\n",
        "\n",
        "    option = int(input(\"Enter your choice (1/2/3/4): \"))\n",
        "\n",
        "    if option == 1:\n",
        "        deposit_amount = float(input(\"Enter amount to deposit: \"))\n",
        "        balance += deposit_amount\n",
        "        print(\"Deposited \" + str(deposit_amount) + \". New balance is \" + str(balance))\n",
        "    elif option == 2:\n",
        "        withdraw_amount = float(input(\"Enter amount to withdraw: \"))\n",
        "        if withdraw_amount > balance:\n",
        "            print(\"Insufficient funds.\")\n",
        "        else:\n",
        "            balance -= withdraw_amount\n",
        "            print(\"Withdrew \" + str(withdraw_amount) + \". New balance is \" + str(balance))\n",
        "    elif option == 3:\n",
        "        print(\"Your balance is \" + str(balance))\n",
        "    elif option == 4:\n",
        "        print(\"Goodbye!\")\n",
        "        break\n",
        "    else:\n",
        "        print(\"Invalid option. Try again.\")"
      ]
    },
    {
      "cell_type": "code",
      "execution_count": null,
      "id": "c832e4de-82bd-4533-a9f0-92c073144c69",
      "metadata": {
        "id": "c832e4de-82bd-4533-a9f0-92c073144c69"
      },
      "outputs": [],
      "source": []
    }
  ],
  "metadata": {
    "kernelspec": {
      "display_name": "Python 3 (ipykernel)",
      "language": "python",
      "name": "python3"
    },
    "language_info": {
      "codemirror_mode": {
        "name": "ipython",
        "version": 3
      },
      "file_extension": ".py",
      "mimetype": "text/x-python",
      "name": "python",
      "nbconvert_exporter": "python",
      "pygments_lexer": "ipython3",
      "version": "3.12.4"
    },
    "colab": {
      "provenance": []
    }
  },
  "nbformat": 4,
  "nbformat_minor": 5
}