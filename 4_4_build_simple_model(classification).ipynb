{
  "cells": [
    {
      "cell_type": "markdown",
      "id": "4a7915ef-d61a-4514-b170-847bc23bb61b",
      "metadata": {
        "id": "4a7915ef-d61a-4514-b170-847bc23bb61b"
      },
      "source": [
        "# Build a Simple Machine Learning Classification Model Using Scikit-Learn\n",
        "\n",
        "# Introduction\n",
        "\n",
        "In this lab, we will walk through the process of building a simple machine learning classification model using the popular Python library, **scikit-learn**. The dataset, **'loan_small.csv'**, will be used to demonstrate the complete workflow, starting from data preprocessing to model evaluation.\n",
        "\n",
        "This lab is designed to provide a step-by-step guide to understanding the core concepts and techniques involved in building a machine learning model for classification tasks. We will cover the following steps:\n",
        "\n",
        "1. **Loading and exploring the dataset:** Understand the structure and contents of the data.\n",
        "2. **Preprocessing the data:** Handle missing values and encode categorical variables for model compatibility.\n",
        "3. **Splitting the data:** Divide the dataset into training and testing sets for evaluation.\n",
        "4. **Scaling features:** Normalize feature values to improve model performance.\n",
        "5. **Training a Logistic Regression model:** Build and train a logistic regression model to classify loan approvals.\n",
        "6. **Saving the model:** Use `joblib` to save the trained model for future reuse.\n",
        "7. **Making predictions and evaluating performance:** Assess the model using metrics such as accuracy, precision, recall, and F1-score.\n",
        "\n",
        "By the end of this lab, you will have a clear understanding of how to use **scikit-learn** to build and evaluate a machine learning classification model. Additionally, you will gain insights into the importance of data preprocessing, feature scaling, and model evaluation in the machine learning pipeline.\n",
        "\n"
      ]
    },
    {
      "cell_type": "markdown",
      "id": "7c3711fe-e52a-4063-8760-2b3d4468d287",
      "metadata": {
        "id": "7c3711fe-e52a-4063-8760-2b3d4468d287"
      },
      "source": [
        "# Step-by-Step Guide"
      ]
    },
    {
      "cell_type": "markdown",
      "id": "604f487c-2f87-48c1-aee5-be66f87bde0e",
      "metadata": {
        "id": "604f487c-2f87-48c1-aee5-be66f87bde0e"
      },
      "source": [
        "## Step 1: Load the Data\n",
        "\n",
        "The first step in any machine learning project is loading the dataset. This involves reading the data file into a suitable format, such as a DataFrame. Inspecting the structure of the dataset is critical to understand the types of data, the presence of missing values, and overall data quality.\n",
        "\n",
        "- **Objective:** Understand the dataset's structure and identify initial issues (e.g., missing values or categorical data).\n",
        "- **Key Considerations:** Ensure that the data is loaded without errors and explore its columns, data types, and summary statistics.\n"
      ]
    },
    {
      "cell_type": "code",
      "execution_count": null,
      "id": "431be18d-dc3b-4786-8b6e-a1fb9f97247b",
      "metadata": {
        "id": "431be18d-dc3b-4786-8b6e-a1fb9f97247b",
        "outputId": "9f6a1189-bede-4e5d-c120-be36455b634e"
      },
      "outputs": [
        {
          "name": "stdout",
          "output_type": "stream",
          "text": [
            "   Gender  ApplicantIncome  CoapplicantIncome  LoanAmount   Area Loan_Status\n",
            "0     NaN           5849.0                0.0         NaN  urban           Y\n",
            "1    Male           4583.0                NaN       128.0   semi           N\n",
            "2    Male           3000.0                0.0        66.0    NaN           Y\n",
            "3  Female           2583.0             2358.0       120.0   semi         NaN\n",
            "4    Male              NaN                0.0       141.0  urban           Y\n"
          ]
        }
      ],
      "source": [
        "import pandas as pd\n",
        "\n",
        "# Load the dataset\n",
        "data = pd.read_csv('loan_small.csv')\n",
        "\n",
        "# Drop the Loan_ID column (not useful for prediction)\n",
        "data = data.drop(columns=['Loan_ID'])\n",
        "\n",
        "# Display the first few rows\n",
        "print(data.head())\n"
      ]
    },
    {
      "cell_type": "markdown",
      "id": "a5aa28f7-79f1-4486-88e5-382101ba96e6",
      "metadata": {
        "id": "a5aa28f7-79f1-4486-88e5-382101ba96e6"
      },
      "source": [
        "## Step 2: Data Preprocessing\n",
        "\n",
        "Preprocessing prepares the data for model training by addressing inconsistencies or inadequacies in raw data.\n",
        "\n",
        "1. **Handle Missing Values:**  \n",
        "   Missing data can negatively impact model performance. Imputation techniques, such as replacing missing values with the mean, median, or mode, can fill these gaps. Tools like `SimpleImputer` in Python simplify this process.\n",
        "\n",
        "2. **Encode Categorical Variables:**  \n",
        "   Machine learning models require numerical input. Text-based categorical columns, such as \"Gender\" or \"Area,\" must be converted into numerical form using techniques like label encoding or one-hot encoding.\n",
        "\n",
        "3. **Feature Engineering (if required):**  \n",
        "   Derive new features or transform existing ones to improve model performance.\n",
        "\n",
        "- **Objective:** Ensure the data is clean, consistent, and fully numeric for modeling.\n",
        "- **Key Considerations:** Choose imputation strategies and encoding methods appropriate for the dataset.\n"
      ]
    },
    {
      "cell_type": "code",
      "execution_count": null,
      "id": "f32e4d8e-f6e5-4602-8ea0-4aa5b084eb45",
      "metadata": {
        "id": "f32e4d8e-f6e5-4602-8ea0-4aa5b084eb45",
        "outputId": "bc98ea75-3444-4f69-a5ac-5627f2f5120f"
      },
      "outputs": [
        {
          "name": "stdout",
          "output_type": "stream",
          "text": [
            "   Gender  ApplicantIncome  CoapplicantIncome  LoanAmount  Area  Loan_Status\n",
            "0       1           5849.0                0.0        17.0     2            1\n",
            "1       1           4583.0                0.0       128.0     1            0\n",
            "2       1           3000.0                0.0        66.0     1            1\n",
            "3       0           2583.0             2358.0       120.0     1            1\n",
            "4       1           1299.0                0.0       141.0     2            1\n"
          ]
        }
      ],
      "source": [
        "from sklearn.preprocessing import LabelEncoder\n",
        "from sklearn.impute import SimpleImputer\n",
        "\n",
        "# Impute missing values with the most frequent value\n",
        "imputer = SimpleImputer(strategy=\"most_frequent\")\n",
        "data_imputed = pd.DataFrame(imputer.fit_transform(data), columns=data.columns)\n",
        "\n",
        "# Encode categorical variables\n",
        "label_encoders = {}\n",
        "for col in ['Gender', 'Area', 'Loan_Status']:\n",
        "    label_encoders[col] = LabelEncoder()\n",
        "    data_imputed[col] = label_encoders[col].fit_transform(data_imputed[col])\n",
        "\n",
        "# Convert numerical columns back to float\n",
        "data_imputed[[\"ApplicantIncome\", \"CoapplicantIncome\", \"LoanAmount\"]] = data_imputed[\n",
        "    [\"ApplicantIncome\", \"CoapplicantIncome\", \"LoanAmount\"]\n",
        "].astype(float)\n",
        "\n",
        "# Display the cleaned dataset\n",
        "print(data_imputed.head())"
      ]
    },
    {
      "cell_type": "markdown",
      "id": "69f1ad65-56ce-4183-a9f9-241649c4fab0",
      "metadata": {
        "id": "69f1ad65-56ce-4183-a9f9-241649c4fab0"
      },
      "source": [
        "## Step 3: Train-Test Split\n",
        "\n",
        "Dividing the dataset into training and testing sets is essential for evaluating a model's generalization capability. A common split ratio is 70:30 or 80:20.\n",
        "\n",
        "- **Training Set:** Used to train the model.\n",
        "- **Test Set:** Used to evaluate how well the model performs on unseen data.\n",
        "\n",
        "- **Objective:** Prevent overfitting and ensure the model's performance is robust on new data.\n",
        "- **Key Considerations:** Maintain an appropriate split ratio and shuffle the data before splitting to avoid bias.\n"
      ]
    },
    {
      "cell_type": "code",
      "execution_count": null,
      "id": "a998a858-7e00-4dc8-91ad-48044d3e7cc2",
      "metadata": {
        "id": "a998a858-7e00-4dc8-91ad-48044d3e7cc2",
        "outputId": "a7a9e5dd-0f46-463e-8d3f-0cb045ca0b27"
      },
      "outputs": [
        {
          "name": "stdout",
          "output_type": "stream",
          "text": [
            "(12, 5) (4, 5) (12,) (4,)\n"
          ]
        }
      ],
      "source": [
        "from sklearn.model_selection import train_test_split\n",
        "\n",
        "# Define features (X) and target (y)\n",
        "X = data_imputed.drop(columns=[\"Loan_Status\"])\n",
        "y = data_imputed[\"Loan_Status\"]\n",
        "\n",
        "# Split the data into training and testing sets\n",
        "X_train, X_test, y_train, y_test = train_test_split(\n",
        "    X, y, test_size=0.2, random_state=42, stratify=y\n",
        ")\n",
        "\n",
        "# Check the shapes of the splits\n",
        "print(X_train.shape, X_test.shape, y_train.shape, y_test.shape)\n"
      ]
    },
    {
      "cell_type": "markdown",
      "id": "ce4ec2a5-496d-4dd3-bc7c-4dbb99cd8103",
      "metadata": {
        "id": "ce4ec2a5-496d-4dd3-bc7c-4dbb99cd8103"
      },
      "source": [
        "## Step 4: Scale the Data\n",
        "\n",
        "Feature scaling ensures all input features contribute equally to the model. Algorithms like logistic regression and support vector machines are sensitive to feature magnitudes.\n",
        "\n",
        "- **Standard Scaling:** Centers the data to a mean of 0 with a standard deviation of 1.\n",
        "- **Min-Max Scaling:** Scales data to a fixed range, usually [0, 1].\n",
        "\n",
        "- **Objective:** Improve model convergence and performance by normalizing feature values.\n",
        "- **Key Considerations:** Apply scaling only to numeric features, not categorical data.\n"
      ]
    },
    {
      "cell_type": "code",
      "execution_count": null,
      "id": "f1dd9eb1-823a-441e-8541-6717f243d76c",
      "metadata": {
        "id": "f1dd9eb1-823a-441e-8541-6717f243d76c"
      },
      "outputs": [],
      "source": [
        "from sklearn.preprocessing import StandardScaler\n",
        "\n",
        "# Scale the features\n",
        "scaler = StandardScaler()\n",
        "X_train_scaled = scaler.fit_transform(X_train)\n",
        "X_test_scaled = scaler.transform(X_test)"
      ]
    },
    {
      "cell_type": "markdown",
      "id": "915f6089-c6d4-4139-a5a4-42cc5ba930be",
      "metadata": {
        "id": "915f6089-c6d4-4139-a5a4-42cc5ba930be"
      },
      "source": [
        "## Step 5: Train Logistic Regression Model\n",
        "\n",
        "After preparing the data, the next step is to train a logistic regression model. Logistic regression is a simple yet effective algorithm for binary classification tasks. It calculates probabilities for each class and assigns the input data to the class with the highest probability.\n",
        "\n",
        "- **Objective:** Build a model that learns patterns from the training data and generalizes well to unseen data.\n",
        "- **Key Considerations:** Ensure that the training process converges by using appropriately scaled data and a sufficient number of iterations.\n"
      ]
    },
    {
      "cell_type": "code",
      "execution_count": null,
      "id": "5822b6e3-a40b-4ad5-b0d9-8ce95e1ec9c8",
      "metadata": {
        "id": "5822b6e3-a40b-4ad5-b0d9-8ce95e1ec9c8",
        "outputId": "9e9a7fe1-fdbc-44fb-9038-751787988210"
      },
      "outputs": [
        {
          "data": {
            "text/html": [
              "<style>#sk-container-id-5 {\n",
              "  /* Definition of color scheme common for light and dark mode */\n",
              "  --sklearn-color-text: black;\n",
              "  --sklearn-color-line: gray;\n",
              "  /* Definition of color scheme for unfitted estimators */\n",
              "  --sklearn-color-unfitted-level-0: #fff5e6;\n",
              "  --sklearn-color-unfitted-level-1: #f6e4d2;\n",
              "  --sklearn-color-unfitted-level-2: #ffe0b3;\n",
              "  --sklearn-color-unfitted-level-3: chocolate;\n",
              "  /* Definition of color scheme for fitted estimators */\n",
              "  --sklearn-color-fitted-level-0: #f0f8ff;\n",
              "  --sklearn-color-fitted-level-1: #d4ebff;\n",
              "  --sklearn-color-fitted-level-2: #b3dbfd;\n",
              "  --sklearn-color-fitted-level-3: cornflowerblue;\n",
              "\n",
              "  /* Specific color for light theme */\n",
              "  --sklearn-color-text-on-default-background: var(--sg-text-color, var(--theme-code-foreground, var(--jp-content-font-color1, black)));\n",
              "  --sklearn-color-background: var(--sg-background-color, var(--theme-background, var(--jp-layout-color0, white)));\n",
              "  --sklearn-color-border-box: var(--sg-text-color, var(--theme-code-foreground, var(--jp-content-font-color1, black)));\n",
              "  --sklearn-color-icon: #696969;\n",
              "\n",
              "  @media (prefers-color-scheme: dark) {\n",
              "    /* Redefinition of color scheme for dark theme */\n",
              "    --sklearn-color-text-on-default-background: var(--sg-text-color, var(--theme-code-foreground, var(--jp-content-font-color1, white)));\n",
              "    --sklearn-color-background: var(--sg-background-color, var(--theme-background, var(--jp-layout-color0, #111)));\n",
              "    --sklearn-color-border-box: var(--sg-text-color, var(--theme-code-foreground, var(--jp-content-font-color1, white)));\n",
              "    --sklearn-color-icon: #878787;\n",
              "  }\n",
              "}\n",
              "\n",
              "#sk-container-id-5 {\n",
              "  color: var(--sklearn-color-text);\n",
              "}\n",
              "\n",
              "#sk-container-id-5 pre {\n",
              "  padding: 0;\n",
              "}\n",
              "\n",
              "#sk-container-id-5 input.sk-hidden--visually {\n",
              "  border: 0;\n",
              "  clip: rect(1px 1px 1px 1px);\n",
              "  clip: rect(1px, 1px, 1px, 1px);\n",
              "  height: 1px;\n",
              "  margin: -1px;\n",
              "  overflow: hidden;\n",
              "  padding: 0;\n",
              "  position: absolute;\n",
              "  width: 1px;\n",
              "}\n",
              "\n",
              "#sk-container-id-5 div.sk-dashed-wrapped {\n",
              "  border: 1px dashed var(--sklearn-color-line);\n",
              "  margin: 0 0.4em 0.5em 0.4em;\n",
              "  box-sizing: border-box;\n",
              "  padding-bottom: 0.4em;\n",
              "  background-color: var(--sklearn-color-background);\n",
              "}\n",
              "\n",
              "#sk-container-id-5 div.sk-container {\n",
              "  /* jupyter's `normalize.less` sets `[hidden] { display: none; }`\n",
              "     but bootstrap.min.css set `[hidden] { display: none !important; }`\n",
              "     so we also need the `!important` here to be able to override the\n",
              "     default hidden behavior on the sphinx rendered scikit-learn.org.\n",
              "     See: https://github.com/scikit-learn/scikit-learn/issues/21755 */\n",
              "  display: inline-block !important;\n",
              "  position: relative;\n",
              "}\n",
              "\n",
              "#sk-container-id-5 div.sk-text-repr-fallback {\n",
              "  display: none;\n",
              "}\n",
              "\n",
              "div.sk-parallel-item,\n",
              "div.sk-serial,\n",
              "div.sk-item {\n",
              "  /* draw centered vertical line to link estimators */\n",
              "  background-image: linear-gradient(var(--sklearn-color-text-on-default-background), var(--sklearn-color-text-on-default-background));\n",
              "  background-size: 2px 100%;\n",
              "  background-repeat: no-repeat;\n",
              "  background-position: center center;\n",
              "}\n",
              "\n",
              "/* Parallel-specific style estimator block */\n",
              "\n",
              "#sk-container-id-5 div.sk-parallel-item::after {\n",
              "  content: \"\";\n",
              "  width: 100%;\n",
              "  border-bottom: 2px solid var(--sklearn-color-text-on-default-background);\n",
              "  flex-grow: 1;\n",
              "}\n",
              "\n",
              "#sk-container-id-5 div.sk-parallel {\n",
              "  display: flex;\n",
              "  align-items: stretch;\n",
              "  justify-content: center;\n",
              "  background-color: var(--sklearn-color-background);\n",
              "  position: relative;\n",
              "}\n",
              "\n",
              "#sk-container-id-5 div.sk-parallel-item {\n",
              "  display: flex;\n",
              "  flex-direction: column;\n",
              "}\n",
              "\n",
              "#sk-container-id-5 div.sk-parallel-item:first-child::after {\n",
              "  align-self: flex-end;\n",
              "  width: 50%;\n",
              "}\n",
              "\n",
              "#sk-container-id-5 div.sk-parallel-item:last-child::after {\n",
              "  align-self: flex-start;\n",
              "  width: 50%;\n",
              "}\n",
              "\n",
              "#sk-container-id-5 div.sk-parallel-item:only-child::after {\n",
              "  width: 0;\n",
              "}\n",
              "\n",
              "/* Serial-specific style estimator block */\n",
              "\n",
              "#sk-container-id-5 div.sk-serial {\n",
              "  display: flex;\n",
              "  flex-direction: column;\n",
              "  align-items: center;\n",
              "  background-color: var(--sklearn-color-background);\n",
              "  padding-right: 1em;\n",
              "  padding-left: 1em;\n",
              "}\n",
              "\n",
              "\n",
              "/* Toggleable style: style used for estimator/Pipeline/ColumnTransformer box that is\n",
              "clickable and can be expanded/collapsed.\n",
              "- Pipeline and ColumnTransformer use this feature and define the default style\n",
              "- Estimators will overwrite some part of the style using the `sk-estimator` class\n",
              "*/\n",
              "\n",
              "/* Pipeline and ColumnTransformer style (default) */\n",
              "\n",
              "#sk-container-id-5 div.sk-toggleable {\n",
              "  /* Default theme specific background. It is overwritten whether we have a\n",
              "  specific estimator or a Pipeline/ColumnTransformer */\n",
              "  background-color: var(--sklearn-color-background);\n",
              "}\n",
              "\n",
              "/* Toggleable label */\n",
              "#sk-container-id-5 label.sk-toggleable__label {\n",
              "  cursor: pointer;\n",
              "  display: block;\n",
              "  width: 100%;\n",
              "  margin-bottom: 0;\n",
              "  padding: 0.5em;\n",
              "  box-sizing: border-box;\n",
              "  text-align: center;\n",
              "}\n",
              "\n",
              "#sk-container-id-5 label.sk-toggleable__label-arrow:before {\n",
              "  /* Arrow on the left of the label */\n",
              "  content: \"▸\";\n",
              "  float: left;\n",
              "  margin-right: 0.25em;\n",
              "  color: var(--sklearn-color-icon);\n",
              "}\n",
              "\n",
              "#sk-container-id-5 label.sk-toggleable__label-arrow:hover:before {\n",
              "  color: var(--sklearn-color-text);\n",
              "}\n",
              "\n",
              "/* Toggleable content - dropdown */\n",
              "\n",
              "#sk-container-id-5 div.sk-toggleable__content {\n",
              "  max-height: 0;\n",
              "  max-width: 0;\n",
              "  overflow: hidden;\n",
              "  text-align: left;\n",
              "  /* unfitted */\n",
              "  background-color: var(--sklearn-color-unfitted-level-0);\n",
              "}\n",
              "\n",
              "#sk-container-id-5 div.sk-toggleable__content.fitted {\n",
              "  /* fitted */\n",
              "  background-color: var(--sklearn-color-fitted-level-0);\n",
              "}\n",
              "\n",
              "#sk-container-id-5 div.sk-toggleable__content pre {\n",
              "  margin: 0.2em;\n",
              "  border-radius: 0.25em;\n",
              "  color: var(--sklearn-color-text);\n",
              "  /* unfitted */\n",
              "  background-color: var(--sklearn-color-unfitted-level-0);\n",
              "}\n",
              "\n",
              "#sk-container-id-5 div.sk-toggleable__content.fitted pre {\n",
              "  /* unfitted */\n",
              "  background-color: var(--sklearn-color-fitted-level-0);\n",
              "}\n",
              "\n",
              "#sk-container-id-5 input.sk-toggleable__control:checked~div.sk-toggleable__content {\n",
              "  /* Expand drop-down */\n",
              "  max-height: 200px;\n",
              "  max-width: 100%;\n",
              "  overflow: auto;\n",
              "}\n",
              "\n",
              "#sk-container-id-5 input.sk-toggleable__control:checked~label.sk-toggleable__label-arrow:before {\n",
              "  content: \"▾\";\n",
              "}\n",
              "\n",
              "/* Pipeline/ColumnTransformer-specific style */\n",
              "\n",
              "#sk-container-id-5 div.sk-label input.sk-toggleable__control:checked~label.sk-toggleable__label {\n",
              "  color: var(--sklearn-color-text);\n",
              "  background-color: var(--sklearn-color-unfitted-level-2);\n",
              "}\n",
              "\n",
              "#sk-container-id-5 div.sk-label.fitted input.sk-toggleable__control:checked~label.sk-toggleable__label {\n",
              "  background-color: var(--sklearn-color-fitted-level-2);\n",
              "}\n",
              "\n",
              "/* Estimator-specific style */\n",
              "\n",
              "/* Colorize estimator box */\n",
              "#sk-container-id-5 div.sk-estimator input.sk-toggleable__control:checked~label.sk-toggleable__label {\n",
              "  /* unfitted */\n",
              "  background-color: var(--sklearn-color-unfitted-level-2);\n",
              "}\n",
              "\n",
              "#sk-container-id-5 div.sk-estimator.fitted input.sk-toggleable__control:checked~label.sk-toggleable__label {\n",
              "  /* fitted */\n",
              "  background-color: var(--sklearn-color-fitted-level-2);\n",
              "}\n",
              "\n",
              "#sk-container-id-5 div.sk-label label.sk-toggleable__label,\n",
              "#sk-container-id-5 div.sk-label label {\n",
              "  /* The background is the default theme color */\n",
              "  color: var(--sklearn-color-text-on-default-background);\n",
              "}\n",
              "\n",
              "/* On hover, darken the color of the background */\n",
              "#sk-container-id-5 div.sk-label:hover label.sk-toggleable__label {\n",
              "  color: var(--sklearn-color-text);\n",
              "  background-color: var(--sklearn-color-unfitted-level-2);\n",
              "}\n",
              "\n",
              "/* Label box, darken color on hover, fitted */\n",
              "#sk-container-id-5 div.sk-label.fitted:hover label.sk-toggleable__label.fitted {\n",
              "  color: var(--sklearn-color-text);\n",
              "  background-color: var(--sklearn-color-fitted-level-2);\n",
              "}\n",
              "\n",
              "/* Estimator label */\n",
              "\n",
              "#sk-container-id-5 div.sk-label label {\n",
              "  font-family: monospace;\n",
              "  font-weight: bold;\n",
              "  display: inline-block;\n",
              "  line-height: 1.2em;\n",
              "}\n",
              "\n",
              "#sk-container-id-5 div.sk-label-container {\n",
              "  text-align: center;\n",
              "}\n",
              "\n",
              "/* Estimator-specific */\n",
              "#sk-container-id-5 div.sk-estimator {\n",
              "  font-family: monospace;\n",
              "  border: 1px dotted var(--sklearn-color-border-box);\n",
              "  border-radius: 0.25em;\n",
              "  box-sizing: border-box;\n",
              "  margin-bottom: 0.5em;\n",
              "  /* unfitted */\n",
              "  background-color: var(--sklearn-color-unfitted-level-0);\n",
              "}\n",
              "\n",
              "#sk-container-id-5 div.sk-estimator.fitted {\n",
              "  /* fitted */\n",
              "  background-color: var(--sklearn-color-fitted-level-0);\n",
              "}\n",
              "\n",
              "/* on hover */\n",
              "#sk-container-id-5 div.sk-estimator:hover {\n",
              "  /* unfitted */\n",
              "  background-color: var(--sklearn-color-unfitted-level-2);\n",
              "}\n",
              "\n",
              "#sk-container-id-5 div.sk-estimator.fitted:hover {\n",
              "  /* fitted */\n",
              "  background-color: var(--sklearn-color-fitted-level-2);\n",
              "}\n",
              "\n",
              "/* Specification for estimator info (e.g. \"i\" and \"?\") */\n",
              "\n",
              "/* Common style for \"i\" and \"?\" */\n",
              "\n",
              ".sk-estimator-doc-link,\n",
              "a:link.sk-estimator-doc-link,\n",
              "a:visited.sk-estimator-doc-link {\n",
              "  float: right;\n",
              "  font-size: smaller;\n",
              "  line-height: 1em;\n",
              "  font-family: monospace;\n",
              "  background-color: var(--sklearn-color-background);\n",
              "  border-radius: 1em;\n",
              "  height: 1em;\n",
              "  width: 1em;\n",
              "  text-decoration: none !important;\n",
              "  margin-left: 1ex;\n",
              "  /* unfitted */\n",
              "  border: var(--sklearn-color-unfitted-level-1) 1pt solid;\n",
              "  color: var(--sklearn-color-unfitted-level-1);\n",
              "}\n",
              "\n",
              ".sk-estimator-doc-link.fitted,\n",
              "a:link.sk-estimator-doc-link.fitted,\n",
              "a:visited.sk-estimator-doc-link.fitted {\n",
              "  /* fitted */\n",
              "  border: var(--sklearn-color-fitted-level-1) 1pt solid;\n",
              "  color: var(--sklearn-color-fitted-level-1);\n",
              "}\n",
              "\n",
              "/* On hover */\n",
              "div.sk-estimator:hover .sk-estimator-doc-link:hover,\n",
              ".sk-estimator-doc-link:hover,\n",
              "div.sk-label-container:hover .sk-estimator-doc-link:hover,\n",
              ".sk-estimator-doc-link:hover {\n",
              "  /* unfitted */\n",
              "  background-color: var(--sklearn-color-unfitted-level-3);\n",
              "  color: var(--sklearn-color-background);\n",
              "  text-decoration: none;\n",
              "}\n",
              "\n",
              "div.sk-estimator.fitted:hover .sk-estimator-doc-link.fitted:hover,\n",
              ".sk-estimator-doc-link.fitted:hover,\n",
              "div.sk-label-container:hover .sk-estimator-doc-link.fitted:hover,\n",
              ".sk-estimator-doc-link.fitted:hover {\n",
              "  /* fitted */\n",
              "  background-color: var(--sklearn-color-fitted-level-3);\n",
              "  color: var(--sklearn-color-background);\n",
              "  text-decoration: none;\n",
              "}\n",
              "\n",
              "/* Span, style for the box shown on hovering the info icon */\n",
              ".sk-estimator-doc-link span {\n",
              "  display: none;\n",
              "  z-index: 9999;\n",
              "  position: relative;\n",
              "  font-weight: normal;\n",
              "  right: .2ex;\n",
              "  padding: .5ex;\n",
              "  margin: .5ex;\n",
              "  width: min-content;\n",
              "  min-width: 20ex;\n",
              "  max-width: 50ex;\n",
              "  color: var(--sklearn-color-text);\n",
              "  box-shadow: 2pt 2pt 4pt #999;\n",
              "  /* unfitted */\n",
              "  background: var(--sklearn-color-unfitted-level-0);\n",
              "  border: .5pt solid var(--sklearn-color-unfitted-level-3);\n",
              "}\n",
              "\n",
              ".sk-estimator-doc-link.fitted span {\n",
              "  /* fitted */\n",
              "  background: var(--sklearn-color-fitted-level-0);\n",
              "  border: var(--sklearn-color-fitted-level-3);\n",
              "}\n",
              "\n",
              ".sk-estimator-doc-link:hover span {\n",
              "  display: block;\n",
              "}\n",
              "\n",
              "/* \"?\"-specific style due to the `<a>` HTML tag */\n",
              "\n",
              "#sk-container-id-5 a.estimator_doc_link {\n",
              "  float: right;\n",
              "  font-size: 1rem;\n",
              "  line-height: 1em;\n",
              "  font-family: monospace;\n",
              "  background-color: var(--sklearn-color-background);\n",
              "  border-radius: 1rem;\n",
              "  height: 1rem;\n",
              "  width: 1rem;\n",
              "  text-decoration: none;\n",
              "  /* unfitted */\n",
              "  color: var(--sklearn-color-unfitted-level-1);\n",
              "  border: var(--sklearn-color-unfitted-level-1) 1pt solid;\n",
              "}\n",
              "\n",
              "#sk-container-id-5 a.estimator_doc_link.fitted {\n",
              "  /* fitted */\n",
              "  border: var(--sklearn-color-fitted-level-1) 1pt solid;\n",
              "  color: var(--sklearn-color-fitted-level-1);\n",
              "}\n",
              "\n",
              "/* On hover */\n",
              "#sk-container-id-5 a.estimator_doc_link:hover {\n",
              "  /* unfitted */\n",
              "  background-color: var(--sklearn-color-unfitted-level-3);\n",
              "  color: var(--sklearn-color-background);\n",
              "  text-decoration: none;\n",
              "}\n",
              "\n",
              "#sk-container-id-5 a.estimator_doc_link.fitted:hover {\n",
              "  /* fitted */\n",
              "  background-color: var(--sklearn-color-fitted-level-3);\n",
              "}\n",
              "</style><div id=\"sk-container-id-5\" class=\"sk-top-container\"><div class=\"sk-text-repr-fallback\"><pre>LogisticRegression(random_state=42)</pre><b>In a Jupyter environment, please rerun this cell to show the HTML representation or trust the notebook. <br />On GitHub, the HTML representation is unable to render, please try loading this page with nbviewer.org.</b></div><div class=\"sk-container\" hidden><div class=\"sk-item\"><div class=\"sk-estimator fitted sk-toggleable\"><input class=\"sk-toggleable__control sk-hidden--visually\" id=\"sk-estimator-id-5\" type=\"checkbox\" checked><label for=\"sk-estimator-id-5\" class=\"sk-toggleable__label fitted sk-toggleable__label-arrow fitted\">&nbsp;&nbsp;LogisticRegression<a class=\"sk-estimator-doc-link fitted\" rel=\"noreferrer\" target=\"_blank\" href=\"https://scikit-learn.org/1.4/modules/generated/sklearn.linear_model.LogisticRegression.html\">?<span>Documentation for LogisticRegression</span></a><span class=\"sk-estimator-doc-link fitted\">i<span>Fitted</span></span></label><div class=\"sk-toggleable__content fitted\"><pre>LogisticRegression(random_state=42)</pre></div> </div></div></div></div>"
            ],
            "text/plain": [
              "LogisticRegression(random_state=42)"
            ]
          },
          "execution_count": 29,
          "metadata": {},
          "output_type": "execute_result"
        }
      ],
      "source": [
        "from sklearn.linear_model import LogisticRegression\n",
        "\n",
        "# Initialize the model\n",
        "model = LogisticRegression(random_state=42)\n",
        "\n",
        "# Train the model\n",
        "model.fit(X_train_scaled, y_train)"
      ]
    },
    {
      "cell_type": "markdown",
      "id": "bb257607-6886-41bd-a034-3a850a9ead8a",
      "metadata": {
        "id": "bb257607-6886-41bd-a034-3a850a9ead8a"
      },
      "source": [
        "## Step 6: Save the Model\n",
        "\n",
        "Once the model is trained, it can be saved for future use without needing to retrain it. Tools like `joblib` or `pickle` in Python are commonly used to serialize and save models.\n",
        "\n",
        "- **Objective:** Save the trained model to reuse it for predictions or deployment without retraining.\n",
        "- **Key Considerations:** Store the model in a location where it can be easily loaded for future predictions.\n"
      ]
    },
    {
      "cell_type": "code",
      "execution_count": null,
      "id": "e7c1893c-654e-4395-871d-fbf7ef7ff98f",
      "metadata": {
        "id": "e7c1893c-654e-4395-871d-fbf7ef7ff98f",
        "outputId": "282a91b6-b073-4330-af90-42cb5fbcb79f"
      },
      "outputs": [
        {
          "name": "stdout",
          "output_type": "stream",
          "text": [
            "Model saved successfully.\n"
          ]
        }
      ],
      "source": [
        "import joblib\n",
        "\n",
        "# Save the model to a file\n",
        "joblib.dump(model, 'logistic_model.pkl')\n",
        "print(\"Model saved successfully.\")"
      ]
    },
    {
      "cell_type": "markdown",
      "id": "ac3aa62f-a279-4263-b4d0-c59b265eab4e",
      "metadata": {
        "id": "ac3aa62f-a279-4263-b4d0-c59b265eab4e"
      },
      "source": [
        "## Step 7: Make Predictions\n",
        "\n",
        "Using the saved model, predictions can be made on the test data. This involves loading the model, applying it to new inputs, and evaluating its predictions.\n",
        "\n",
        "- **Objective:** Use the trained model to predict outcomes on unseen data and assess its performance.\n",
        "- **Key Considerations:** Ensure that the test data undergoes the same preprocessing steps as the training data.\n"
      ]
    },
    {
      "cell_type": "code",
      "execution_count": null,
      "id": "e382aac9-0ef4-483e-8bc5-4d1f503e211e",
      "metadata": {
        "id": "e382aac9-0ef4-483e-8bc5-4d1f503e211e",
        "outputId": "5b8a8040-3d42-47d0-b070-d02cc8234ae8"
      },
      "outputs": [
        {
          "name": "stdout",
          "output_type": "stream",
          "text": [
            "   Actual  Predicted\n",
            "0       0          0\n",
            "1       1          0\n",
            "2       1          0\n",
            "3       1          0\n",
            "Accuracy: 0.25\n"
          ]
        },
        {
          "name": "stderr",
          "output_type": "stream",
          "text": [
            "C:\\ProgramData\\anaconda3\\Lib\\site-packages\\sklearn\\base.py:486: UserWarning: X has feature names, but LogisticRegression was fitted without feature names\n",
            "  warnings.warn(\n"
          ]
        }
      ],
      "source": [
        "from sklearn.metrics import accuracy_score\n",
        "\n",
        "# Load the saved model\n",
        "loaded_model = joblib.load('logistic_model.pkl')\n",
        "\n",
        "# Predict on the test set\n",
        "y_pred = loaded_model.predict(X_test)\n",
        "\n",
        "# Evaluate the model\n",
        "accuracy = accuracy_score(y_test, y_pred)\n",
        "\n",
        "# Display predictions and accuracy\n",
        "predictions = pd.DataFrame({\"Actual\": y_test.values, \"Predicted\": y_pred})\n",
        "print(predictions)\n",
        "print(f\"Accuracy: {accuracy:.2f}\")\n"
      ]
    },
    {
      "cell_type": "markdown",
      "id": "b7995284-b9c6-4718-84f7-688eda0953db",
      "metadata": {
        "id": "b7995284-b9c6-4718-84f7-688eda0953db"
      },
      "source": [
        "## Step 8: Evaluation Report\n",
        "\n",
        "Evaluating the model involves calculating metrics like accuracy, precision, recall, and F1-score to understand how well the model is performing. Tools like `classification_report` from `sklearn.metrics` provide detailed performance metrics for each class.\n",
        "\n",
        "- **Objective:** Analyze the model's strengths and weaknesses to identify areas for improvement.\n",
        "- **Key Considerations:** Use multiple metrics to get a comprehensive understanding of model performance, especially in imbalanced datasets.\n"
      ]
    },
    {
      "cell_type": "code",
      "execution_count": null,
      "id": "5159d4f0-1d6a-4fbd-8ce7-62de28508758",
      "metadata": {
        "id": "5159d4f0-1d6a-4fbd-8ce7-62de28508758",
        "outputId": "e6e46cb8-6761-4333-8ebb-58b9aba369b8"
      },
      "outputs": [
        {
          "name": "stdout",
          "output_type": "stream",
          "text": [
            "Classification Report:\n",
            "              precision    recall  f1-score   support\n",
            "\n",
            "           0       0.25      1.00      0.40         1\n",
            "           1       0.00      0.00      0.00         3\n",
            "\n",
            "    accuracy                           0.25         4\n",
            "   macro avg       0.12      0.50      0.20         4\n",
            "weighted avg       0.06      0.25      0.10         4\n",
            "\n"
          ]
        }
      ],
      "source": [
        "from sklearn.metrics import classification_report\n",
        "\n",
        "# Example usage of classification_report\n",
        "print(\"Classification Report:\")\n",
        "print(classification_report(y_test, y_pred))\n"
      ]
    },
    {
      "cell_type": "code",
      "execution_count": null,
      "id": "3c02726b-6690-40ed-9ee1-4add7130bbf1",
      "metadata": {
        "id": "3c02726b-6690-40ed-9ee1-4add7130bbf1"
      },
      "outputs": [],
      "source": []
    }
  ],
  "metadata": {
    "kernelspec": {
      "display_name": "Python 3 (ipykernel)",
      "language": "python",
      "name": "python3"
    },
    "language_info": {
      "codemirror_mode": {
        "name": "ipython",
        "version": 3
      },
      "file_extension": ".py",
      "mimetype": "text/x-python",
      "name": "python",
      "nbconvert_exporter": "python",
      "pygments_lexer": "ipython3",
      "version": "3.12.4"
    },
    "colab": {
      "provenance": []
    }
  },
  "nbformat": 4,
  "nbformat_minor": 5
}