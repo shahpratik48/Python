{
  "cells": [
    {
      "cell_type": "markdown",
      "source": [
        "## Introduction\n",
        "\n",
        "Python provides several built-in data structures that allow developers to store, organize, and manipulate data efficiently. These data structures are the backbone of Python programming and play a vital role in problem-solving and algorithm design.\n",
        "\n",
        "**Data structures** in Python can hold a collection of elements, such as numbers, strings, or even other data structures. They are flexible, easy to use, and provide built-in methods for operations like adding, removing, and manipulating elements.\n",
        "\n",
        "In this lecture we'll learn about the following:\n",
        "\n",
        "1. Lists in Python\n",
        "2. Basic Operations on list\n",
        "3. Tuples in Python\n",
        "4. Dictionary in Python"
      ],
      "metadata": {
        "id": "UzXh5NdMRKgG"
      },
      "id": "UzXh5NdMRKgG"
    },
    {
      "cell_type": "markdown",
      "id": "b9aecb74-37d3-423c-af92-b1d3e6157fcb",
      "metadata": {
        "id": "b9aecb74-37d3-423c-af92-b1d3e6157fcb"
      },
      "source": [
        "# Python Data Structures"
      ]
    },
    {
      "cell_type": "markdown",
      "id": "608c8fe4-85e5-4616-8080-6147c2e97c3b",
      "metadata": {
        "id": "608c8fe4-85e5-4616-8080-6147c2e97c3b"
      },
      "source": [
        "# 1. Lists in Python\n",
        "\n",
        "Lists are one of the most versatile and commonly used data structures in Python. They are ordered, mutable, and can hold a mix of different data types.\n",
        "\n",
        "Key Features of Lists:\n",
        "\n",
        "\n",
        "\n",
        "1.   **Ordered:** Elements maintain their position based on the order of insertion.\n",
        "2.   **Mutable:** You can change, add, or remove elements after the list is created.\n",
        "3.   **Heterogeneous:** Can store elements of different types (e.g., integers, strings, or even other lists).\n"
      ]
    },
    {
      "cell_type": "code",
      "execution_count": null,
      "id": "bd82fe42-11f8-4b81-a2f7-74418b474b3b",
      "metadata": {
        "id": "bd82fe42-11f8-4b81-a2f7-74418b474b3b"
      },
      "outputs": [],
      "source": [
        "# Declare and Initialise a list\n",
        "list1 = [\"Jalal\", \"Khan\", \"Huzaifa\"]"
      ]
    },
    {
      "cell_type": "code",
      "execution_count": null,
      "id": "efe8a673-0595-4cf0-b7c0-866a51e27b3b",
      "metadata": {
        "id": "efe8a673-0595-4cf0-b7c0-866a51e27b3b",
        "outputId": "e970a4a0-de96-4643-e005-cc6238767468"
      },
      "outputs": [
        {
          "data": {
            "text/plain": [
              "['Jalal', 'Khan', 'Huzaifa']"
            ]
          },
          "execution_count": 7,
          "metadata": {},
          "output_type": "execute_result"
        }
      ],
      "source": [
        "list1"
      ]
    },
    {
      "cell_type": "code",
      "execution_count": null,
      "id": "16b1b873-0642-4e0b-841f-356c03f5b4bd",
      "metadata": {
        "id": "16b1b873-0642-4e0b-841f-356c03f5b4bd",
        "outputId": "ff8c3a8e-8dc3-4d11-db2c-7c3213852613"
      },
      "outputs": [
        {
          "name": "stdout",
          "output_type": "stream",
          "text": [
            "Huzaifa\n"
          ]
        }
      ],
      "source": [
        "# Access the element of a list\n",
        "print(list1[2])"
      ]
    },
    {
      "cell_type": "markdown",
      "source": [
        "Now let's learn about Basic Operations on list!"
      ],
      "metadata": {
        "id": "YV2QbDLWVqxJ"
      },
      "id": "YV2QbDLWVqxJ"
    },
    {
      "cell_type": "markdown",
      "id": "ad783d35-70b8-44c5-a2d6-7fed149b094e",
      "metadata": {
        "id": "ad783d35-70b8-44c5-a2d6-7fed149b094e"
      },
      "source": [
        "# Basic Operations on list\n",
        "\n",
        "Lists in Python are versatile and support various operations to manipulate and access data."
      ]
    },
    {
      "cell_type": "code",
      "execution_count": null,
      "id": "30a7fe0a-c72f-432a-88b5-2e0199acb1ae",
      "metadata": {
        "id": "30a7fe0a-c72f-432a-88b5-2e0199acb1ae"
      },
      "outputs": [],
      "source": [
        "# Add an element to a list using Append\n",
        "list1.append(\"Lise\")"
      ]
    },
    {
      "cell_type": "code",
      "execution_count": null,
      "id": "af56eeca-6b68-4f1a-9d8f-9f9a7cfaf37d",
      "metadata": {
        "id": "af56eeca-6b68-4f1a-9d8f-9f9a7cfaf37d",
        "outputId": "0f27115d-f7cf-4f59-873f-ccb00ab93293"
      },
      "outputs": [
        {
          "data": {
            "text/plain": [
              "['Jalal', 'Khan', 'Huzaifa', 'Lise']"
            ]
          },
          "execution_count": 14,
          "metadata": {},
          "output_type": "execute_result"
        }
      ],
      "source": [
        "list1"
      ]
    },
    {
      "cell_type": "code",
      "execution_count": null,
      "id": "0466c9c5-8d57-4015-9a78-7bf072f1d664",
      "metadata": {
        "id": "0466c9c5-8d57-4015-9a78-7bf072f1d664"
      },
      "outputs": [],
      "source": [
        "# Update an element\n",
        "list1[1] = \"Frans\""
      ]
    },
    {
      "cell_type": "code",
      "execution_count": null,
      "id": "35a5197b-0118-4768-9c86-dfcceb563c69",
      "metadata": {
        "id": "35a5197b-0118-4768-9c86-dfcceb563c69",
        "outputId": "7c209eeb-e4bb-4c1e-bace-033348a0d315"
      },
      "outputs": [
        {
          "data": {
            "text/plain": [
              "['Jalal', 'Frans', 'Huzaifa', 'Lise', 'Lise']"
            ]
          },
          "execution_count": 24,
          "metadata": {},
          "output_type": "execute_result"
        }
      ],
      "source": [
        "list1"
      ]
    },
    {
      "cell_type": "code",
      "execution_count": null,
      "id": "2709437c-70c0-46ef-b6e1-fca68d44b186",
      "metadata": {
        "id": "2709437c-70c0-46ef-b6e1-fca68d44b186"
      },
      "outputs": [],
      "source": [
        "# Delete an element\n",
        "del list1[2]"
      ]
    },
    {
      "cell_type": "code",
      "execution_count": null,
      "id": "5cab31ea-f42b-4f8d-b655-764d8196688a",
      "metadata": {
        "id": "5cab31ea-f42b-4f8d-b655-764d8196688a",
        "outputId": "b25eb32e-071d-4d3c-b241-3d1a5ec6f14a"
      },
      "outputs": [
        {
          "data": {
            "text/plain": [
              "['Jalal', 'Frans', 'Lise', 'Lise']"
            ]
          },
          "execution_count": 28,
          "metadata": {},
          "output_type": "execute_result"
        }
      ],
      "source": [
        "list1"
      ]
    },
    {
      "cell_type": "code",
      "execution_count": null,
      "id": "eb140b7a-1d58-4ce3-821d-e44f9b036b6a",
      "metadata": {
        "id": "eb140b7a-1d58-4ce3-821d-e44f9b036b6a",
        "outputId": "b0363e06-f330-4d7f-ca29-0df8490499ab"
      },
      "outputs": [
        {
          "data": {
            "text/plain": [
              "4"
            ]
          },
          "execution_count": 32,
          "metadata": {},
          "output_type": "execute_result"
        }
      ],
      "source": [
        "len(list1)"
      ]
    },
    {
      "cell_type": "code",
      "execution_count": null,
      "id": "a5ec374b-5563-4e9d-acda-a2a051a78511",
      "metadata": {
        "id": "a5ec374b-5563-4e9d-acda-a2a051a78511"
      },
      "outputs": [],
      "source": [
        "# Concatenate two lists\n",
        "list2 = [\"a\", \"b\", \"c\"]\n",
        "\n",
        "conlist = list1 + list2"
      ]
    },
    {
      "cell_type": "code",
      "execution_count": null,
      "id": "a4403212-e72a-40e6-94d3-e056d969b6ee",
      "metadata": {
        "id": "a4403212-e72a-40e6-94d3-e056d969b6ee",
        "outputId": "b4c68760-ec90-44d7-f4d5-e38658affca7"
      },
      "outputs": [
        {
          "data": {
            "text/plain": [
              "['Jalal', 'Frans', 'Lise', 'Lise', 'a', 'b', 'c']"
            ]
          },
          "execution_count": 36,
          "metadata": {},
          "output_type": "execute_result"
        }
      ],
      "source": [
        "conlist"
      ]
    },
    {
      "cell_type": "code",
      "execution_count": null,
      "id": "61e6e08d-675c-429d-b52d-092c08c33e34",
      "metadata": {
        "id": "61e6e08d-675c-429d-b52d-092c08c33e34"
      },
      "outputs": [],
      "source": [
        "# Sort the content of the list\n",
        "list1.sort()"
      ]
    },
    {
      "cell_type": "code",
      "execution_count": null,
      "id": "861391cb-7536-4b31-ba9e-c0be9605e305",
      "metadata": {
        "id": "861391cb-7536-4b31-ba9e-c0be9605e305",
        "outputId": "bb159909-e099-4167-ae92-683d1475a195"
      },
      "outputs": [
        {
          "data": {
            "text/plain": [
              "['Frans', 'Jalal', 'Lise', 'Lise']"
            ]
          },
          "execution_count": 44,
          "metadata": {},
          "output_type": "execute_result"
        }
      ],
      "source": [
        "list1"
      ]
    },
    {
      "cell_type": "code",
      "execution_count": null,
      "id": "efb8dc0c-bbb6-4bbc-b400-719fee77a528",
      "metadata": {
        "id": "efb8dc0c-bbb6-4bbc-b400-719fee77a528"
      },
      "outputs": [],
      "source": [
        "# Multidimensional lists\n",
        "twoDlist = [[\"Jalal\", \"Khan\", \"Huz\"], [123, 456, 345]]"
      ]
    },
    {
      "cell_type": "code",
      "execution_count": null,
      "id": "74963d02-e407-45da-9fef-3f138417cf9c",
      "metadata": {
        "id": "74963d02-e407-45da-9fef-3f138417cf9c",
        "outputId": "f373968a-9f32-4ef3-8fd5-2d0b66eb5b18"
      },
      "outputs": [
        {
          "data": {
            "text/plain": [
              "[['Jalal', 'Khan', 'Huz'], [123, 456, 345]]"
            ]
          },
          "execution_count": 54,
          "metadata": {},
          "output_type": "execute_result"
        }
      ],
      "source": [
        "twoDlist"
      ]
    },
    {
      "cell_type": "code",
      "execution_count": null,
      "id": "c5bab7ea-1039-4621-b225-f37e3a20b07a",
      "metadata": {
        "id": "c5bab7ea-1039-4621-b225-f37e3a20b07a",
        "outputId": "8c12fb6c-a938-441d-cede-7727f4901b5f"
      },
      "outputs": [
        {
          "data": {
            "text/plain": [
              "'Khan'"
            ]
          },
          "execution_count": 56,
          "metadata": {},
          "output_type": "execute_result"
        }
      ],
      "source": [
        "twoDlist[0][1]"
      ]
    },
    {
      "cell_type": "code",
      "execution_count": null,
      "id": "a76a4578-f700-4872-b44c-acf728988475",
      "metadata": {
        "id": "a76a4578-f700-4872-b44c-acf728988475"
      },
      "outputs": [],
      "source": [
        "# Slicing of the multidimensional list\n",
        "sublist = []\n",
        "\n",
        "for list in twoDlist:\n",
        "    sublist.append(twoDlist[0:3])"
      ]
    },
    {
      "cell_type": "markdown",
      "source": [
        "A sublist is a subset of elements from a list, which can include consecutive or non-consecutive elements of the original list. Sublist elements maintain the order they had in the original list."
      ],
      "metadata": {
        "id": "Xsn6V_37V5AL"
      },
      "id": "Xsn6V_37V5AL"
    },
    {
      "cell_type": "code",
      "execution_count": null,
      "id": "1e48f575-d44e-4ac7-9a15-c0fd6fb7c0c1",
      "metadata": {
        "id": "1e48f575-d44e-4ac7-9a15-c0fd6fb7c0c1",
        "outputId": "8718f161-9c31-45a3-8ecd-72c3848b515b"
      },
      "outputs": [
        {
          "data": {
            "text/plain": [
              "[[['Jalal', 'Khan', 'Huz'], [123, 456, 345]],\n",
              " [['Jalal', 'Khan', 'Huz'], [123, 456, 345]]]"
            ]
          },
          "execution_count": 84,
          "metadata": {},
          "output_type": "execute_result"
        }
      ],
      "source": [
        "sublist"
      ]
    },
    {
      "cell_type": "markdown",
      "source": [
        "Now let's learn about Tuples in Python."
      ],
      "metadata": {
        "id": "yLTKFFaRWBtp"
      },
      "id": "yLTKFFaRWBtp"
    },
    {
      "cell_type": "markdown",
      "id": "7d583136-0b0b-43a3-860e-11903e53ba3a",
      "metadata": {
        "id": "7d583136-0b0b-43a3-860e-11903e53ba3a"
      },
      "source": [
        "# 2. Tuples in Python\n",
        "\n",
        "Tuples are one of the basic data structures in Python, similar to lists but with an important distinction: tuples are immutable. This means that once a tuple is created, its elements cannot be changed, added, or removed.\n",
        "\n",
        "**Key Features of Tuples:**\n",
        "\n",
        "1. **Immutable:** Tuples cannot be modified after creation.\n",
        "2. **Ordered:** Elements maintain their insertion order.\n",
        "3.**Allow Duplicates:**Tuples can contain duplicate elements.\n",
        "4. **Heterogeneous:** Can store elements of different data types.\n",
        "5.**Faster than Lists:**Due to immutability, tuples have better performance in some cases."
      ]
    },
    {
      "cell_type": "code",
      "execution_count": null,
      "id": "b1de6e9f-6dca-4c67-91af-cef9888f953b",
      "metadata": {
        "id": "b1de6e9f-6dca-4c67-91af-cef9888f953b"
      },
      "outputs": [],
      "source": [
        "t1 = (1, 2, 3)"
      ]
    },
    {
      "cell_type": "code",
      "execution_count": null,
      "id": "bab726c1-2630-4e6a-858e-f0d0772a8a80",
      "metadata": {
        "id": "bab726c1-2630-4e6a-858e-f0d0772a8a80",
        "outputId": "5119dbc1-81a1-4589-b21e-7d26dead2fa3"
      },
      "outputs": [
        {
          "data": {
            "text/plain": [
              "(1, 2, 3)"
            ]
          },
          "execution_count": 89,
          "metadata": {},
          "output_type": "execute_result"
        }
      ],
      "source": [
        "t1"
      ]
    },
    {
      "cell_type": "code",
      "execution_count": null,
      "id": "6fc46dae-210e-4ed8-a128-2c5bab0d9a2d",
      "metadata": {
        "id": "6fc46dae-210e-4ed8-a128-2c5bab0d9a2d",
        "outputId": "1521554f-1177-41b3-825a-6480c0748f78"
      },
      "outputs": [
        {
          "data": {
            "text/plain": [
              "3"
            ]
          },
          "execution_count": 91,
          "metadata": {},
          "output_type": "execute_result"
        }
      ],
      "source": [
        "len(t1)"
      ]
    },
    {
      "cell_type": "markdown",
      "source": [
        "Now let's learn about Dictionary in Python."
      ],
      "metadata": {
        "id": "LgTvY6STWG_A"
      },
      "id": "LgTvY6STWG_A"
    },
    {
      "cell_type": "markdown",
      "id": "e290de8f-1bc6-4d72-8f8f-498aa022fa2e",
      "metadata": {
        "id": "e290de8f-1bc6-4d72-8f8f-498aa022fa2e"
      },
      "source": [
        "# 3. Dictionary in Python\n",
        "\n",
        "A dictionary in Python is an unordered collection of key-value pairs. Each key is unique, and it maps to a specific value. Dictionaries are mutable, meaning you can change, add, or remove key-value pairs after creation.\n",
        "\n",
        "**Key Features of Dictionaries**\n",
        "\n",
        "1. **Key-Value Pairs:** Each entry in a dictionary has a key and a value (key: value).\n",
        "2. **Keys Are Unique:** No duplicate keys are allowed.\n",
        "3. **Unordered:** Entries do not maintain a specific order (from Python 3.7+, they maintain insertion order).\n",
        "4. **Mutable:** You can modify, add, or remove elements.\n",
        "5. **Keys Are Immutable:** Keys must be of a hashable type (e.g., strings, numbers, or tuples)."
      ]
    },
    {
      "cell_type": "code",
      "execution_count": null,
      "id": "f877800b-1683-4be9-80a9-d2c8379d467b",
      "metadata": {
        "id": "f877800b-1683-4be9-80a9-d2c8379d467b"
      },
      "outputs": [],
      "source": [
        "# Define and initialise a dictionary\n",
        "Address = {'Street'  : '180 Adams Street', \\\n",
        "           'City'    : 'Chicago',          \\\n",
        "           'State'   : 'IL',               \\\n",
        "           'Country' : 'USA'}"
      ]
    },
    {
      "cell_type": "code",
      "execution_count": null,
      "id": "a55345d0-2ef1-4b7d-b16f-708dab74d5c2",
      "metadata": {
        "id": "a55345d0-2ef1-4b7d-b16f-708dab74d5c2",
        "outputId": "363a9895-2d27-4f88-8ca0-72d8f754074d"
      },
      "outputs": [
        {
          "data": {
            "text/plain": [
              "{'Street': '180 Adams Street',\n",
              " 'City': 'Chicago',\n",
              " 'State': 'IL',\n",
              " 'Country': 'USA'}"
            ]
          },
          "execution_count": 112,
          "metadata": {},
          "output_type": "execute_result"
        }
      ],
      "source": [
        "Address"
      ]
    },
    {
      "cell_type": "code",
      "execution_count": null,
      "id": "7abcee8d-487d-4cd5-b41a-4f0a70055db7",
      "metadata": {
        "id": "7abcee8d-487d-4cd5-b41a-4f0a70055db7",
        "outputId": "dcbce016-7792-47eb-fa28-08d7d6770e5f"
      },
      "outputs": [
        {
          "data": {
            "text/plain": [
              "'180 Adams Street'"
            ]
          },
          "execution_count": 114,
          "metadata": {},
          "output_type": "execute_result"
        }
      ],
      "source": [
        "# Access the value\n",
        "Address['Street']"
      ]
    },
    {
      "cell_type": "code",
      "execution_count": null,
      "id": "22e479f5-754f-4eba-95e9-de06350e0ce5",
      "metadata": {
        "id": "22e479f5-754f-4eba-95e9-de06350e0ce5"
      },
      "outputs": [],
      "source": [
        "# Update the value using key\n",
        "Address['Street'] = '181 Adams Street'"
      ]
    },
    {
      "cell_type": "code",
      "execution_count": null,
      "id": "1fb36f12-3936-4c12-a2ec-c843d12e2680",
      "metadata": {
        "id": "1fb36f12-3936-4c12-a2ec-c843d12e2680",
        "outputId": "fbd530f1-b537-4555-bb45-e1e6125757f3"
      },
      "outputs": [
        {
          "data": {
            "text/plain": [
              "'181 Adams Street'"
            ]
          },
          "execution_count": 118,
          "metadata": {},
          "output_type": "execute_result"
        }
      ],
      "source": [
        "Address['Street']"
      ]
    },
    {
      "cell_type": "code",
      "execution_count": null,
      "id": "50ecf510-6bec-4ad6-85fb-8fc46d28fd16",
      "metadata": {
        "id": "50ecf510-6bec-4ad6-85fb-8fc46d28fd16"
      },
      "outputs": [],
      "source": [
        "# Add a key-value pair to existing dictionary\n",
        "Address['Zip'] = 60611"
      ]
    },
    {
      "cell_type": "code",
      "execution_count": null,
      "id": "bac3fbf1-488e-44fc-99f7-b6a66c675e0c",
      "metadata": {
        "id": "bac3fbf1-488e-44fc-99f7-b6a66c675e0c",
        "outputId": "ee211418-d04f-4a8e-bf04-8448b69110e5"
      },
      "outputs": [
        {
          "data": {
            "text/plain": [
              "{'Street': '181 Adams Street',\n",
              " 'City': 'Chicago',\n",
              " 'State': 'IL',\n",
              " 'Country': 'USA',\n",
              " 'Zip': 60611}"
            ]
          },
          "execution_count": 122,
          "metadata": {},
          "output_type": "execute_result"
        }
      ],
      "source": [
        "Address"
      ]
    },
    {
      "cell_type": "code",
      "execution_count": null,
      "id": "3faf7c3d-d7cd-4b0f-afa5-bdca39f7cbcc",
      "metadata": {
        "id": "3faf7c3d-d7cd-4b0f-afa5-bdca39f7cbcc"
      },
      "outputs": [],
      "source": [
        "# Delete a key-value pair\n",
        "del Address['Zip']"
      ]
    },
    {
      "cell_type": "code",
      "execution_count": null,
      "id": "f30b9f4f-3a68-4e4a-a861-572bc95ad031",
      "metadata": {
        "id": "f30b9f4f-3a68-4e4a-a861-572bc95ad031",
        "outputId": "3cf8a733-1240-4eb0-ef28-112b2a9fe374"
      },
      "outputs": [
        {
          "data": {
            "text/plain": [
              "{'Street': '181 Adams Street',\n",
              " 'City': 'Chicago',\n",
              " 'State': 'IL',\n",
              " 'Country': 'USA'}"
            ]
          },
          "execution_count": 126,
          "metadata": {},
          "output_type": "execute_result"
        }
      ],
      "source": [
        "Address"
      ]
    },
    {
      "cell_type": "code",
      "execution_count": null,
      "id": "b10b775f-0604-49b1-bd60-6ca003ee38c8",
      "metadata": {
        "id": "b10b775f-0604-49b1-bd60-6ca003ee38c8",
        "outputId": "97fd5ebe-59f9-4dcc-e006-f49d4ef39674"
      },
      "outputs": [
        {
          "data": {
            "text/plain": [
              "4"
            ]
          },
          "execution_count": 128,
          "metadata": {},
          "output_type": "execute_result"
        }
      ],
      "source": [
        "# Get the length of the dictionary\n",
        "len(Address)"
      ]
    },
    {
      "cell_type": "code",
      "execution_count": null,
      "id": "d5d08559-84d6-4750-a424-0f6229586cd3",
      "metadata": {
        "id": "d5d08559-84d6-4750-a424-0f6229586cd3",
        "outputId": "2bef32f8-eea6-4789-e53a-c43700be145e"
      },
      "outputs": [
        {
          "data": {
            "text/plain": [
              "\"{'Street': '181 Adams Street', 'City': 'Chicago', 'State': 'IL', 'Country': 'USA'}\""
            ]
          },
          "execution_count": 132,
          "metadata": {},
          "output_type": "execute_result"
        }
      ],
      "source": [
        "# Convert the dictionary into a string - Converting a dictionary to a string is for data serialization, storage, or transmission in formats like JSON.\n",
        "str(Address)"
      ]
    },
    {
      "cell_type": "code",
      "execution_count": null,
      "id": "03d9ba19-df51-4148-8c97-f7135acb83bc",
      "metadata": {
        "id": "03d9ba19-df51-4148-8c97-f7135acb83bc",
        "outputId": "89cdded1-9ff1-4e80-83ce-553f900ae2f9"
      },
      "outputs": [
        {
          "data": {
            "text/plain": [
              "dict_keys(['Street', 'City', 'State', 'Country'])"
            ]
          },
          "execution_count": 134,
          "metadata": {},
          "output_type": "execute_result"
        }
      ],
      "source": [
        "# Get the list of all the keys of dictionary\n",
        "Address.keys()"
      ]
    },
    {
      "cell_type": "code",
      "execution_count": null,
      "id": "25aecf08-1c95-4575-a61f-1b0b2ef888c3",
      "metadata": {
        "id": "25aecf08-1c95-4575-a61f-1b0b2ef888c3",
        "outputId": "88f7f0d7-34c7-4fce-8f05-0c60e629bbb4"
      },
      "outputs": [
        {
          "data": {
            "text/plain": [
              "dict_values(['181 Adams Street', 'Chicago', 'IL', 'USA'])"
            ]
          },
          "execution_count": 136,
          "metadata": {},
          "output_type": "execute_result"
        }
      ],
      "source": [
        "Address.values()"
      ]
    }
  ],
  "metadata": {
    "kernelspec": {
      "display_name": "Python 3 (ipykernel)",
      "language": "python",
      "name": "python3"
    },
    "language_info": {
      "codemirror_mode": {
        "name": "ipython",
        "version": 3
      },
      "file_extension": ".py",
      "mimetype": "text/x-python",
      "name": "python",
      "nbconvert_exporter": "python",
      "pygments_lexer": "ipython3",
      "version": "3.12.4"
    },
    "colab": {
      "provenance": []
    }
  },
  "nbformat": 4,
  "nbformat_minor": 5
}