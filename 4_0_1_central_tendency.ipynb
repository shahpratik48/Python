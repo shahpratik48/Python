{
  "nbformat": 4,
  "nbformat_minor": 0,
  "metadata": {
    "colab": {
      "provenance": [],
      "authorship_tag": "ABX9TyME2UoHkv5xOmUMEJQImdxR"
    },
    "kernelspec": {
      "name": "python3",
      "display_name": "Python 3"
    },
    "language_info": {
      "name": "python"
    }
  },
  "cells": [
    {
      "cell_type": "markdown",
      "source": [
        "**Central Tendency**\n",
        "\n",
        "The goal is to calculate and display the central tendency measures (Mean, Median, Mode) of a given dataset. These measures help summarize the data by representing a \"central\" value around which other data points cluster.\n",
        "\n",
        "\n",
        "**Key Objectives:**\n",
        "\n",
        "*  Understand and calculate the mean, median, and mode for a dataset.\n",
        "*   Allow users to input data manually or load it from a file.\n",
        "\n",
        "*   Display appropriate error messages for invalid data or file formats.\n",
        "\n",
        "\n",
        "*   Improve Statistical Literacy by understanding and using the central tendency measures, users can improve their grasp of basic statistics and how different measures are useful depending on the data type.\n",
        "*   Application in Data Analysis introduces users to how central tendency can be applied in real-world data analysis, helping them summarize and interpret datasets efficiently.\n",
        "\n",
        "\n",
        "\n",
        "\n",
        "\n",
        "\n",
        "\n",
        "\n",
        "\n",
        "\n"
      ],
      "metadata": {
        "id": "I-XulsHZEBI6"
      }
    },
    {
      "cell_type": "markdown",
      "source": [
        " **Theory:**\n",
        "\n",
        "**Central Tendency:** Central tendency refers to the statistical measures that identify the center of a data distribution. These measures aim to summarize the entire dataset by providing a single representative value. The three most commonly used measures of central tendency are mean, median, and mode.\n",
        "\n",
        "**Mean (Arithmetic Average):**\n",
        "\n",
        "**Definition:** The mean is the sum of all data points divided by the number of data points.\n",
        "\n",
        "**Formula:**\n",
        "   Mean=\n",
        "∑x i / N\n",
        "\n",
        "\n",
        "where\n",
        "𝑥\n",
        "𝑖\n",
        "  are the individual data points, and\n",
        "𝑁\n",
        " is the number of data points.\n",
        "\n",
        "**Usefulness:** The mean is sensitive to every value in the dataset, meaning that extreme values (outliers) can significantly influence the mean. For example, in a dataset of salaries, a few extremely high salaries could distort the mean, making it appear higher than the majority of the data.\n",
        "\n",
        "**Limitations:** When data has outliers or is skewed, the mean might not be a good representation of the \"central\" value. For example, the average income in a region might not reflect the typical income of most individuals if there are a few very wealthy people.\n",
        "\n",
        "\n",
        "\n",
        "\n",
        "\n",
        "\n",
        "\n",
        "\n",
        "\n",
        "**Median (Middle Value):**\n",
        "\n",
        "**Definition:** The median is the middle value in a dataset when it is ordered (from smallest to largest). If there is an even number of data points, the median is the average of the two middle values.\n",
        "\n",
        "**Formula:**\n",
        "If\n",
        "𝑁\n",
        " is odd, the median is the value at position\n",
        "𝑁\n",
        "+\n",
        "1\n",
        "/\n",
        "2\n",
        ".\n",
        "\n",
        "If\n",
        "𝑁\n",
        "is even, the median is the average of the values at positions\n",
        "𝑁\n",
        "/\n",
        "2\n",
        "\n",
        "  and\n",
        "(𝑁\n",
        "/\n",
        "2)\n",
        "+\n",
        "1.\n",
        "\n",
        "\n",
        "**Usefulness:** The median is robust to outliers because it depends only on the middle value(s) of the ordered data. This makes it a better measure of central tendency when the dataset is skewed or contains extreme values.\n",
        "\n",
        "**Limitations:** The median does not account for the magnitude of values on either side, meaning it doesn't reflect the overall distribution of the data as well as the mean.\n",
        "\n",
        "**Mode (Most Frequent Value):**\n",
        "\n",
        "**Definition:** The mode is the value that appears most frequently in the dataset. A dataset can have one mode (unimodal), more than one mode (bimodal or multimodal), or no mode at all if all values occur with the same frequency.\n",
        "\n",
        "**Usefulness:** The mode is useful in identifying the most common value in categorical data or when determining the most frequent event in a series of observations. For example, in a survey, the mode might represent the most common response or the most frequent category.\n",
        "\n",
        "**Limitations:** The mode can be misleading if the data set has multiple values occurring with the same frequency (multimodal), or no value occurs more frequently than others.\n"
      ],
      "metadata": {
        "id": "jYrb4KKpUt20"
      }
    },
    {
      "cell_type": "markdown",
      "source": [
        "**Comparison of Measures of Central Tendency:** Each measure has its strengths and weaknesses, making them appropriate for different types of data:\n",
        "\n",
        "\n",
        "*   Mean is most useful for data that is symmetrically distributed without significant outliers.\n",
        "\n",
        "*   Median is preferred for skewed distributions or when outliers are present, as it is not influenced by extreme values.\n",
        "*   Mode is best for categorical data or when identifying the most frequent event is crucial.\n",
        "\n",
        "\n",
        "\n",
        "\n",
        "\n",
        "\n",
        "\n",
        "\n",
        "**Choosing the Right Measure:** The choice of measure depends on the nature of the data and the analysis goals. For normally distributed data (bell curve), the mean is often the most informative measure. In cases of skewed data or ordinal data, the median is usually more representative. The mode, on the other hand, is useful when identifying the most frequent category or value is important, especially in non-numeric data."
      ],
      "metadata": {
        "id": "w2wvf1buhqFZ"
      }
    },
    {
      "cell_type": "markdown",
      "source": [
        " **Code Implementation**\n",
        "\n",
        " The implementation of the module calculates the mean, median, and mode for the dataset provided by the user. It can handle manual data entry as well as data loading from files with different formats. Here’s the detailed explanation of each part of the code:\n",
        "\n",
        " **Step 1: Importing necessary libraries**\n",
        "\n",
        " We import libraries that provide essential functions for computing the central tendency. **numpy** is efficient for mean and median calculations, **statistics** is used to compute the mode and **import os**\n",
        " provides a way to interact with the operating system. While it's not directly used in the current version of the code, it can be useful for handling file paths or checking for file existence. If you extend this code further (e.g., for saving results or more complex file operations), you would use os."
      ],
      "metadata": {
        "id": "LnWXiRt-lNZU"
      }
    },
    {
      "cell_type": "code",
      "source": [
        "import numpy as np\n",
        "from statistics import mode, StatisticsError\n",
        "import os"
      ],
      "metadata": {
        "id": "8OsICpETpCwZ"
      },
      "execution_count": 1,
      "outputs": []
    },
    {
      "cell_type": "markdown",
      "source": [
        "**Step 2: Function to Calculate Central Tendency**\n",
        "\n",
        "This function takes a list of numerical data as input and calculates three measures of central tendency: **mean, median, and mode.**\n",
        "\n",
        "**1. mean_value = np.mean(data) :**\n",
        "*   This line uses the **numpy.mean()** function to compute the mean of the dataset.\n",
        "*  The **mean** is calculated as the sum of all values divided by the number of values in the dataset.\n",
        "\n",
        "\n",
        "\n",
        "\n",
        "**2. median_value = np.median(data) :**\n",
        "\n",
        "\n",
        "*   The **numpy.median()** function is used to calculate the **median**.\n",
        "*   The **median** is the middle value when the data is sorted in ascending order. If the number of data points is odd, it picks the middle value. If even, it takes the average of the two middle values.\n",
        "\n",
        "\n",
        "**3. mode_value = mode(data) :**\n",
        "\n",
        "\n",
        "*   The **mode()** function is used to calculate the mode, which is the most frequent value in the dataset.\n",
        "\n",
        "*   If there’s more than one mode (i.e., a multimodal dataset) or no mode at all, it will raise a **StatisticsError**, which is caught by the inner **try-except** block.\n",
        "*   If there’s no unique mode, we assign the string **\"No unique mode\"** to the **mode_value** variable.\n",
        "\n",
        "\n",
        "\n",
        "\n",
        "\n",
        "\n",
        "\n",
        "\n",
        "\n",
        "**4. Displaying Results :**\n",
        "\n",
        "\n",
        "*  After calculating the mean, median, and mode, the program prints out the results.\n",
        "*   The results are printed with formatted strings to clearly show each central tendency measure.\n",
        "\n",
        "\n",
        "\n",
        "\n",
        "\n",
        "**5.Error Handling :**\n",
        "\n",
        "*   The outer try-except block handles any other unexpected errors, such as if the data is not valid (non-numeric or empty).\n",
        "*  Any error encountered will be caught by except Exception as e, and a message with the error details will be printed.\n",
        "\n",
        "\n",
        "\n",
        "\n",
        "\n"
      ],
      "metadata": {
        "id": "1x7aQDIZpS3P"
      }
    },
    {
      "cell_type": "code",
      "source": [
        "def calculate_central_tendency(data):\n",
        "    try:\n",
        "        # Calculate Mean\n",
        "        mean_value = np.mean(data)\n",
        "\n",
        "        # Calculate Median\n",
        "        median_value = np.median(data)\n",
        "\n",
        "        # Calculate Mode\n",
        "        try:\n",
        "            mode_value = mode(data)\n",
        "        except StatisticsError:\n",
        "            mode_value = \"No unique mode\"\n",
        "\n",
        "        # Display Results\n",
        "        print(\"\\nCentral Tendency Measures:\")\n",
        "        print(f\"Mean: {mean_value}\")\n",
        "        print(f\"Median: {median_value}\")\n",
        "        print(f\"Mode: {mode_value}\")\n",
        "\n",
        "    except Exception as e:\n",
        "        print(f\"Error: {e}\")\n"
      ],
      "metadata": {
        "id": "kUGGwHGjvScd"
      },
      "execution_count": 3,
      "outputs": []
    },
    {
      "cell_type": "markdown",
      "source": [
        "**Step 3 :  Main Program Block**\n",
        "\n",
        "\n",
        "\n",
        "\n",
        "1.   if __name__ == \"__main__\" :\n",
        "This is the standard Python way of checking whether the script is being run directly or being imported as a module into another script. When running this program directly, it will execute the code inside this block.\n",
        "2.  **User Input Prompt :** The program prints a simple menu to the user with two options:\n",
        "*   Option 1 allows the user to enter data manually.\n",
        "*   Option 2 allows the user to load data from a file (in various formats).\n",
        "\n",
        "\n",
        "3.   **choice = input(\"Choose an option (1 or 2): \") :**\n",
        "This line takes the user’s input, asking them to choose an option (1 or 2). It stores their response in the choice variable.\n",
        "\n",
        "\n",
        "\n",
        "\n",
        "\n",
        "\n",
        "\n",
        "\n",
        "\n",
        "\n",
        "\n",
        "\n",
        "\n",
        "\n",
        "\n",
        "\n"
      ],
      "metadata": {
        "id": "G-FCTRjx49RC"
      }
    },
    {
      "cell_type": "code",
      "source": [
        "if __name__ == \"__main__\":\n",
        "    print(\"Central Tendency Calculator\")\n",
        "    print(\"1. Enter data manually\")\n",
        "    print(\"2. Load data from a file\")\n",
        "\n",
        "    choice = input(\"Choose an option (1 or 2): \")\n"
      ],
      "metadata": {
        "colab": {
          "base_uri": "https://localhost:8080/"
        },
        "id": "YpHMSsd16LU1",
        "outputId": "dd9c27cc-5543-4dc1-c0f3-766d9df698dd"
      },
      "execution_count": 5,
      "outputs": [
        {
          "name": "stdout",
          "output_type": "stream",
          "text": [
            "Central Tendency Calculator\n",
            "1. Enter data manually\n",
            "2. Load data from a file\n",
            "Choose an option (1 or 2): 2\n"
          ]
        }
      ]
    },
    {
      "cell_type": "markdown",
      "source": [
        "**Step 4 : Data Entry via User Input or File**\n",
        "\n",
        "1.  **If the User Chooses Option 1 (Enter Data Manually)**\n",
        "\n",
        "\n",
        "*   **Manual Data Entry :**\n",
        "\n",
        "*   If the user chooses option 1, they are prompted to enter a series of numbers separated by spaces.\n",
        "\n",
        "*   The **input()** function reads the user's input as a string, and **replace(' , ' , '  ')** replaces any commas with spaces to standardize the input format.\n",
        "\n",
        "*   The **.split()** method splits the string into a list of values.\n",
        "*  The **map(float, ...)** function converts each string value to a float.\n",
        "\n",
        "\n",
        "*   The **list()** function converts the result into a list of numbers, which is then passed to the **calculate_central_tendency(data)** function.\n",
        "\n",
        "\n",
        "\n",
        "*   **Error Handling:**\n",
        "\n",
        "\n",
        "*   If the user enters any non-numeric value (e.g., text or symbols), a ValueError will be raised. In that case, the program will print a message asking the user to enter valid numbers\n",
        "\n",
        "\n",
        "\n",
        "\n",
        "\n",
        "\n",
        "\n",
        "\n",
        "\n"
      ],
      "metadata": {
        "id": "6TJg5rnj6j_W"
      }
    },
    {
      "cell_type": "code",
      "source": [
        "if choice == \"1\":\n",
        "    try:\n",
        "        data = list(map(float, input(\"Enter numbers separated by spaces: \").replace(',', ' ').split()))\n",
        "        calculate_central_tendency(data)\n",
        "    except ValueError:\n",
        "        print(\"Please enter valid numbers.\")\n",
        "\n",
        ""
      ],
      "metadata": {
        "id": "rT1tvbZ38RX5"
      },
      "execution_count": 9,
      "outputs": []
    },
    {
      "cell_type": "markdown",
      "source": [
        "**2. If the User Chooses Option 2 (Load Data from a File)**\n",
        "\n",
        "\n",
        "\n",
        "*   **File Loading :**\n",
        "\n",
        "\n",
        "*   If the user chooses option 2, they are prompted to provide the path to the file. The program checks the file extension to determine how to read it.\n",
        "\n",
        "* If the file is **.txt**, the program reads the contents, splits them into numbers, and converts them into a list of floats.\n",
        "*   If the file is **.csv**, it uses the **csv** module to read the contents, flattening any nested lists of values into a single list and converting them to floats.\n",
        "\n",
        "\n",
        "*  If the file is **.xlsx**, it uses the **pandas** library to read the Excel file and convert it into a flat list of floats.\n",
        "\n",
        "\n",
        "*   **Error Handling :**\n",
        "\n",
        "*  If the file format is not supported, the program prints an error message and exits.\n",
        "*   The program also handles **FileNotFoundError** if the file is not found at the given path and **ValueError** if the file contains invalid data.\n",
        "\n",
        "\n",
        "\n",
        "\n",
        "\n",
        "\n"
      ],
      "metadata": {
        "id": "Q5x9ox4j8tuG"
      }
    },
    {
      "cell_type": "code",
      "source": [
        "if choice == \"2\":\n",
        "    file_path = input(\"Enter the file path (.txt, .csv, or .xlsx file): \")\n",
        "    try:\n",
        "        if file_path.endswith(\".txt\"):\n",
        "            with open(file_path, \"r\") as file:\n",
        "                data = list(map(float, file.read().split()))\n",
        "        elif file_path.endswith(\".csv\"):\n",
        "            import csv\n",
        "            with open(file_path, \"r\") as file:\n",
        "                reader = csv.reader(file)\n",
        "                data = [float(value) for row in reader for value in row]\n",
        "        elif file_path.endswith(\".xlsx\"):\n",
        "            import pandas as pd\n",
        "            df = pd.read_excel(file_path, header=None)\n",
        "            data = df.to_numpy().flatten().astype(float).tolist()\n",
        "        else:\n",
        "            print(\"Unsupported file format. Please provide a .txt, .csv, or .xlsx file.\")\n",
        "            exit()\n",
        "        calculate_central_tendency(data)\n",
        "    except FileNotFoundError:\n",
        "        print(\"File not found. Please check the file path.\")\n",
        "    except ValueError:\n",
        "        print(\"File contains invalid data. Ensure it has only numbers.\")\n"
      ],
      "metadata": {
        "colab": {
          "base_uri": "https://localhost:8080/"
        },
        "id": "jGrFcvOO9s17",
        "outputId": "33d6be32-7cbb-4163-838a-2d194a35dc2a"
      },
      "execution_count": 10,
      "outputs": [
        {
          "output_type": "stream",
          "name": "stdout",
          "text": [
            "Enter the file path (.txt, .csv, or .xlsx file): data.csv\n",
            "\n",
            "Central Tendency Measures:\n",
            "Mean: 4.57\n",
            "Median: 4.5\n",
            "Mode: 4.5\n"
          ]
        }
      ]
    },
    {
      "cell_type": "markdown",
      "source": [
        "**Conclusion :**\n",
        "\n",
        "This program efficiently computes the **mean, median, and mode** for a dataset, either entered manually or loaded from a file. It also includes error handling to ensure that invalid data or file formats don't cause the program to crash."
      ],
      "metadata": {
        "id": "7eLIOVoz_PuN"
      }
    }
  ]
}