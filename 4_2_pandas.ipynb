{
  "cells": [
    {
      "cell_type": "markdown",
      "id": "de2762f9-bf9b-4b04-84db-53a79055ae60",
      "metadata": {
        "id": "de2762f9-bf9b-4b04-84db-53a79055ae60"
      },
      "source": [
        "# Introduction\n",
        "\n",
        "**Pandas** is a powerful and open-source Python library used for data manipulation and analysis. The name \"Pandas\" is derived from two sources: \"Panel Data\" and \"Python Data Analysis\"\n",
        "\n",
        "The **Pandas** library in Python gets its name from two sources, combining its purpose and functionality:\n",
        "\n",
        "**1. Data Analysis and Manipulation:**\n",
        "   - The name \"Pandas\" is derived from the term **\"Panel Data,\"** which refers to multidimensional structured datasets commonly used in econometrics and statistics.\n",
        "   - \"Pandas\" also resembles the word \"data,\" emphasizing its primary use in data manipulation and analysis.\n",
        "\n",
        "**2. Catchy and Memorable Name:**\n",
        "   - The name \"Pandas\" is easy to remember, unique, and has a friendly appeal, much like the animal panda.\n",
        "\n",
        "Overall, the name reflects the library's focus on working with structured data efficiently while being approachable for users.\n",
        "\n",
        "It provides high-performance, easy-to-use data structures and functions specifically designed for working with structured data, such as tables or time series.\n",
        "\n",
        "**Key Features of Pandas:**\n",
        "\n",
        "**1. Data Structures:**\n",
        "\n",
        "*   Series: A one-dimensional labeled array capable of holding any data type (e.g.,\n",
        "integers, strings, floats, etc.).\n",
        "*   DataFrame: A two-dimensional labeled data structure, similar to a table in a database or an Excel spreadsheet.\n",
        "\n",
        "**2. Data Manipulation:**\n",
        "\n",
        "*   Easy handling of missing data.\n",
        "*   Tools for reshaping, merging, and joining datasets.\n",
        "*   Data filtering and subsetting.\n",
        "\n",
        "**3. Data Analysis:**\n",
        "\n",
        "*   Grouping and aggregations.\n",
        "*   Statistical operations like mean, median, standard deviation, etc.\n",
        "*   Data visualization through integration with libraries like Matplotlib and Seaborn.\n",
        "\n",
        "**4. File I/O Operations:**\n",
        "*   Reading and writing data to/from CSV, Excel, SQL databases, JSON, and other formats.\n",
        "\n",
        "**5. Time Series Data:**\n",
        "\n",
        "*   Built-in support for handling date and time data."
      ]
    },
    {
      "cell_type": "markdown",
      "id": "beee739a-c711-4952-9bc0-ab6b65303ae7",
      "metadata": {
        "id": "beee739a-c711-4952-9bc0-ab6b65303ae7"
      },
      "source": [
        "## **Section 1: Basic Operations**"
      ]
    },
    {
      "cell_type": "markdown",
      "source": [
        "Once you’ve loaded or created a dataset using Pandas, you can perform various operations to explore, manipulate, and analyze the data. Here's a quick overview of basic operations with examples:"
      ],
      "metadata": {
        "id": "c9rytkQvrV8U"
      },
      "id": "c9rytkQvrV8U"
    },
    {
      "cell_type": "code",
      "source": [
        "!pip install pandas"
      ],
      "metadata": {
        "id": "48EPf7YglEHf"
      },
      "id": "48EPf7YglEHf",
      "execution_count": null,
      "outputs": []
    },
    {
      "cell_type": "markdown",
      "source": [
        "Sometimes, you might encounter an error like **\"ModuleNotFoundError: No module named 'pandas'\"**.\n",
        "Run the code below to install the pandas library and avoid this error."
      ],
      "metadata": {
        "id": "lZg1nKfwmflC"
      },
      "id": "lZg1nKfwmflC"
    },
    {
      "cell_type": "code",
      "execution_count": 3,
      "id": "07ca7210-e74c-4ce4-8c06-18035b39eb72",
      "metadata": {
        "id": "07ca7210-e74c-4ce4-8c06-18035b39eb72"
      },
      "outputs": [],
      "source": [
        "# Import libraries\n",
        "import pandas as pd"
      ]
    },
    {
      "cell_type": "code",
      "execution_count": null,
      "id": "995834aa-bd89-4ea4-ac24-69173e22cda0",
      "metadata": {
        "id": "995834aa-bd89-4ea4-ac24-69173e22cda0",
        "outputId": "fe399fb4-486b-4c85-a46f-300680b8dd82",
        "colab": {
          "base_uri": "https://localhost:8080/",
          "height": 304
        }
      },
      "outputs": [
        {
          "output_type": "error",
          "ename": "FileNotFoundError",
          "evalue": "[Errno 2] No such file or directory: 'loan_small.csv'",
          "traceback": [
            "\u001b[0;31m---------------------------------------------------------------------------\u001b[0m",
            "\u001b[0;31mFileNotFoundError\u001b[0m                         Traceback (most recent call last)",
            "\u001b[0;32m<ipython-input-2-1261c248dbab>\u001b[0m in \u001b[0;36m<cell line: 2>\u001b[0;34m()\u001b[0m\n\u001b[1;32m      1\u001b[0m \u001b[0;31m# Read data from the csv file\u001b[0m\u001b[0;34m\u001b[0m\u001b[0;34m\u001b[0m\u001b[0m\n\u001b[0;32m----> 2\u001b[0;31m \u001b[0mdataset\u001b[0m \u001b[0;34m=\u001b[0m \u001b[0mpd\u001b[0m\u001b[0;34m.\u001b[0m\u001b[0mread_csv\u001b[0m\u001b[0;34m(\u001b[0m\u001b[0;34m'loan_small.csv'\u001b[0m\u001b[0;34m)\u001b[0m\u001b[0;34m\u001b[0m\u001b[0;34m\u001b[0m\u001b[0m\n\u001b[0m",
            "\u001b[0;32m/usr/local/lib/python3.10/dist-packages/pandas/io/parsers/readers.py\u001b[0m in \u001b[0;36mread_csv\u001b[0;34m(filepath_or_buffer, sep, delimiter, header, names, index_col, usecols, dtype, engine, converters, true_values, false_values, skipinitialspace, skiprows, skipfooter, nrows, na_values, keep_default_na, na_filter, verbose, skip_blank_lines, parse_dates, infer_datetime_format, keep_date_col, date_parser, date_format, dayfirst, cache_dates, iterator, chunksize, compression, thousands, decimal, lineterminator, quotechar, quoting, doublequote, escapechar, comment, encoding, encoding_errors, dialect, on_bad_lines, delim_whitespace, low_memory, memory_map, float_precision, storage_options, dtype_backend)\u001b[0m\n\u001b[1;32m   1024\u001b[0m     \u001b[0mkwds\u001b[0m\u001b[0;34m.\u001b[0m\u001b[0mupdate\u001b[0m\u001b[0;34m(\u001b[0m\u001b[0mkwds_defaults\u001b[0m\u001b[0;34m)\u001b[0m\u001b[0;34m\u001b[0m\u001b[0;34m\u001b[0m\u001b[0m\n\u001b[1;32m   1025\u001b[0m \u001b[0;34m\u001b[0m\u001b[0m\n\u001b[0;32m-> 1026\u001b[0;31m     \u001b[0;32mreturn\u001b[0m \u001b[0m_read\u001b[0m\u001b[0;34m(\u001b[0m\u001b[0mfilepath_or_buffer\u001b[0m\u001b[0;34m,\u001b[0m \u001b[0mkwds\u001b[0m\u001b[0;34m)\u001b[0m\u001b[0;34m\u001b[0m\u001b[0;34m\u001b[0m\u001b[0m\n\u001b[0m\u001b[1;32m   1027\u001b[0m \u001b[0;34m\u001b[0m\u001b[0m\n\u001b[1;32m   1028\u001b[0m \u001b[0;34m\u001b[0m\u001b[0m\n",
            "\u001b[0;32m/usr/local/lib/python3.10/dist-packages/pandas/io/parsers/readers.py\u001b[0m in \u001b[0;36m_read\u001b[0;34m(filepath_or_buffer, kwds)\u001b[0m\n\u001b[1;32m    618\u001b[0m \u001b[0;34m\u001b[0m\u001b[0m\n\u001b[1;32m    619\u001b[0m     \u001b[0;31m# Create the parser.\u001b[0m\u001b[0;34m\u001b[0m\u001b[0;34m\u001b[0m\u001b[0m\n\u001b[0;32m--> 620\u001b[0;31m     \u001b[0mparser\u001b[0m \u001b[0;34m=\u001b[0m \u001b[0mTextFileReader\u001b[0m\u001b[0;34m(\u001b[0m\u001b[0mfilepath_or_buffer\u001b[0m\u001b[0;34m,\u001b[0m \u001b[0;34m**\u001b[0m\u001b[0mkwds\u001b[0m\u001b[0;34m)\u001b[0m\u001b[0;34m\u001b[0m\u001b[0;34m\u001b[0m\u001b[0m\n\u001b[0m\u001b[1;32m    621\u001b[0m \u001b[0;34m\u001b[0m\u001b[0m\n\u001b[1;32m    622\u001b[0m     \u001b[0;32mif\u001b[0m \u001b[0mchunksize\u001b[0m \u001b[0;32mor\u001b[0m \u001b[0miterator\u001b[0m\u001b[0;34m:\u001b[0m\u001b[0;34m\u001b[0m\u001b[0;34m\u001b[0m\u001b[0m\n",
            "\u001b[0;32m/usr/local/lib/python3.10/dist-packages/pandas/io/parsers/readers.py\u001b[0m in \u001b[0;36m__init__\u001b[0;34m(self, f, engine, **kwds)\u001b[0m\n\u001b[1;32m   1618\u001b[0m \u001b[0;34m\u001b[0m\u001b[0m\n\u001b[1;32m   1619\u001b[0m         \u001b[0mself\u001b[0m\u001b[0;34m.\u001b[0m\u001b[0mhandles\u001b[0m\u001b[0;34m:\u001b[0m \u001b[0mIOHandles\u001b[0m \u001b[0;34m|\u001b[0m \u001b[0;32mNone\u001b[0m \u001b[0;34m=\u001b[0m \u001b[0;32mNone\u001b[0m\u001b[0;34m\u001b[0m\u001b[0;34m\u001b[0m\u001b[0m\n\u001b[0;32m-> 1620\u001b[0;31m         \u001b[0mself\u001b[0m\u001b[0;34m.\u001b[0m\u001b[0m_engine\u001b[0m \u001b[0;34m=\u001b[0m \u001b[0mself\u001b[0m\u001b[0;34m.\u001b[0m\u001b[0m_make_engine\u001b[0m\u001b[0;34m(\u001b[0m\u001b[0mf\u001b[0m\u001b[0;34m,\u001b[0m \u001b[0mself\u001b[0m\u001b[0;34m.\u001b[0m\u001b[0mengine\u001b[0m\u001b[0;34m)\u001b[0m\u001b[0;34m\u001b[0m\u001b[0;34m\u001b[0m\u001b[0m\n\u001b[0m\u001b[1;32m   1621\u001b[0m \u001b[0;34m\u001b[0m\u001b[0m\n\u001b[1;32m   1622\u001b[0m     \u001b[0;32mdef\u001b[0m \u001b[0mclose\u001b[0m\u001b[0;34m(\u001b[0m\u001b[0mself\u001b[0m\u001b[0;34m)\u001b[0m \u001b[0;34m->\u001b[0m \u001b[0;32mNone\u001b[0m\u001b[0;34m:\u001b[0m\u001b[0;34m\u001b[0m\u001b[0;34m\u001b[0m\u001b[0m\n",
            "\u001b[0;32m/usr/local/lib/python3.10/dist-packages/pandas/io/parsers/readers.py\u001b[0m in \u001b[0;36m_make_engine\u001b[0;34m(self, f, engine)\u001b[0m\n\u001b[1;32m   1878\u001b[0m                 \u001b[0;32mif\u001b[0m \u001b[0;34m\"b\"\u001b[0m \u001b[0;32mnot\u001b[0m \u001b[0;32min\u001b[0m \u001b[0mmode\u001b[0m\u001b[0;34m:\u001b[0m\u001b[0;34m\u001b[0m\u001b[0;34m\u001b[0m\u001b[0m\n\u001b[1;32m   1879\u001b[0m                     \u001b[0mmode\u001b[0m \u001b[0;34m+=\u001b[0m \u001b[0;34m\"b\"\u001b[0m\u001b[0;34m\u001b[0m\u001b[0;34m\u001b[0m\u001b[0m\n\u001b[0;32m-> 1880\u001b[0;31m             self.handles = get_handle(\n\u001b[0m\u001b[1;32m   1881\u001b[0m                 \u001b[0mf\u001b[0m\u001b[0;34m,\u001b[0m\u001b[0;34m\u001b[0m\u001b[0;34m\u001b[0m\u001b[0m\n\u001b[1;32m   1882\u001b[0m                 \u001b[0mmode\u001b[0m\u001b[0;34m,\u001b[0m\u001b[0;34m\u001b[0m\u001b[0;34m\u001b[0m\u001b[0m\n",
            "\u001b[0;32m/usr/local/lib/python3.10/dist-packages/pandas/io/common.py\u001b[0m in \u001b[0;36mget_handle\u001b[0;34m(path_or_buf, mode, encoding, compression, memory_map, is_text, errors, storage_options)\u001b[0m\n\u001b[1;32m    871\u001b[0m         \u001b[0;32mif\u001b[0m \u001b[0mioargs\u001b[0m\u001b[0;34m.\u001b[0m\u001b[0mencoding\u001b[0m \u001b[0;32mand\u001b[0m \u001b[0;34m\"b\"\u001b[0m \u001b[0;32mnot\u001b[0m \u001b[0;32min\u001b[0m \u001b[0mioargs\u001b[0m\u001b[0;34m.\u001b[0m\u001b[0mmode\u001b[0m\u001b[0;34m:\u001b[0m\u001b[0;34m\u001b[0m\u001b[0;34m\u001b[0m\u001b[0m\n\u001b[1;32m    872\u001b[0m             \u001b[0;31m# Encoding\u001b[0m\u001b[0;34m\u001b[0m\u001b[0;34m\u001b[0m\u001b[0m\n\u001b[0;32m--> 873\u001b[0;31m             handle = open(\n\u001b[0m\u001b[1;32m    874\u001b[0m                 \u001b[0mhandle\u001b[0m\u001b[0;34m,\u001b[0m\u001b[0;34m\u001b[0m\u001b[0;34m\u001b[0m\u001b[0m\n\u001b[1;32m    875\u001b[0m                 \u001b[0mioargs\u001b[0m\u001b[0;34m.\u001b[0m\u001b[0mmode\u001b[0m\u001b[0;34m,\u001b[0m\u001b[0;34m\u001b[0m\u001b[0;34m\u001b[0m\u001b[0m\n",
            "\u001b[0;31mFileNotFoundError\u001b[0m: [Errno 2] No such file or directory: 'loan_small.csv'"
          ]
        }
      ],
      "source": [
        "# Read data from the csv file\n",
        "dataset = pd.read_csv('loan_small.csv')"
      ]
    },
    {
      "cell_type": "code",
      "execution_count": null,
      "id": "bef9650b-0cdd-4f77-8b5d-60d07dba1650",
      "metadata": {
        "id": "bef9650b-0cdd-4f77-8b5d-60d07dba1650",
        "outputId": "f1812149-3fe7-471d-e06a-73be266842d8"
      },
      "outputs": [
        {
          "data": {
            "text/html": [
              "<div>\n",
              "<style scoped>\n",
              "    .dataframe tbody tr th:only-of-type {\n",
              "        vertical-align: middle;\n",
              "    }\n",
              "\n",
              "    .dataframe tbody tr th {\n",
              "        vertical-align: top;\n",
              "    }\n",
              "\n",
              "    .dataframe thead th {\n",
              "        text-align: right;\n",
              "    }\n",
              "</style>\n",
              "<table border=\"1\" class=\"dataframe\">\n",
              "  <thead>\n",
              "    <tr style=\"text-align: right;\">\n",
              "      <th></th>\n",
              "      <th>Loan_ID</th>\n",
              "      <th>Gender</th>\n",
              "      <th>ApplicantIncome</th>\n",
              "      <th>CoapplicantIncome</th>\n",
              "      <th>LoanAmount</th>\n",
              "      <th>Area</th>\n",
              "      <th>Loan_Status</th>\n",
              "    </tr>\n",
              "  </thead>\n",
              "  <tbody>\n",
              "    <tr>\n",
              "      <th>0</th>\n",
              "      <td>LP001002</td>\n",
              "      <td>NaN</td>\n",
              "      <td>5849.0</td>\n",
              "      <td>0.0</td>\n",
              "      <td>NaN</td>\n",
              "      <td>urban</td>\n",
              "      <td>Y</td>\n",
              "    </tr>\n",
              "    <tr>\n",
              "      <th>1</th>\n",
              "      <td>LP001003</td>\n",
              "      <td>Male</td>\n",
              "      <td>4583.0</td>\n",
              "      <td>NaN</td>\n",
              "      <td>128.0</td>\n",
              "      <td>semi</td>\n",
              "      <td>N</td>\n",
              "    </tr>\n",
              "    <tr>\n",
              "      <th>2</th>\n",
              "      <td>LP001005</td>\n",
              "      <td>Male</td>\n",
              "      <td>3000.0</td>\n",
              "      <td>0.0</td>\n",
              "      <td>66.0</td>\n",
              "      <td>NaN</td>\n",
              "      <td>Y</td>\n",
              "    </tr>\n",
              "    <tr>\n",
              "      <th>3</th>\n",
              "      <td>LP001006</td>\n",
              "      <td>Female</td>\n",
              "      <td>2583.0</td>\n",
              "      <td>2358.0</td>\n",
              "      <td>120.0</td>\n",
              "      <td>semi</td>\n",
              "      <td>NaN</td>\n",
              "    </tr>\n",
              "    <tr>\n",
              "      <th>4</th>\n",
              "      <td>LP001008</td>\n",
              "      <td>Male</td>\n",
              "      <td>NaN</td>\n",
              "      <td>0.0</td>\n",
              "      <td>141.0</td>\n",
              "      <td>urban</td>\n",
              "      <td>Y</td>\n",
              "    </tr>\n",
              "    <tr>\n",
              "      <th>5</th>\n",
              "      <td>LP001011</td>\n",
              "      <td>Male</td>\n",
              "      <td>5417.0</td>\n",
              "      <td>4196.0</td>\n",
              "      <td>267.0</td>\n",
              "      <td>semi</td>\n",
              "      <td>Y</td>\n",
              "    </tr>\n",
              "    <tr>\n",
              "      <th>6</th>\n",
              "      <td>LP001013</td>\n",
              "      <td>Male</td>\n",
              "      <td>2333.0</td>\n",
              "      <td>1516.0</td>\n",
              "      <td>NaN</td>\n",
              "      <td>rural</td>\n",
              "      <td>Y</td>\n",
              "    </tr>\n",
              "    <tr>\n",
              "      <th>7</th>\n",
              "      <td>LP001014</td>\n",
              "      <td>Female</td>\n",
              "      <td>3036.0</td>\n",
              "      <td>2504.0</td>\n",
              "      <td>158.0</td>\n",
              "      <td>semi</td>\n",
              "      <td>N</td>\n",
              "    </tr>\n",
              "    <tr>\n",
              "      <th>8</th>\n",
              "      <td>LP001018</td>\n",
              "      <td>Male</td>\n",
              "      <td>4006.0</td>\n",
              "      <td>1526.0</td>\n",
              "      <td>168.0</td>\n",
              "      <td>rural</td>\n",
              "      <td>Y</td>\n",
              "    </tr>\n",
              "    <tr>\n",
              "      <th>9</th>\n",
              "      <td>LP001020</td>\n",
              "      <td>Male</td>\n",
              "      <td>12841.0</td>\n",
              "      <td>10968.0</td>\n",
              "      <td>349.0</td>\n",
              "      <td>semi</td>\n",
              "      <td>N</td>\n",
              "    </tr>\n",
              "    <tr>\n",
              "      <th>10</th>\n",
              "      <td>LP001024</td>\n",
              "      <td>Female</td>\n",
              "      <td>3200.0</td>\n",
              "      <td>700.0</td>\n",
              "      <td>70.0</td>\n",
              "      <td>urban</td>\n",
              "      <td>Y</td>\n",
              "    </tr>\n",
              "    <tr>\n",
              "      <th>11</th>\n",
              "      <td>LP001027</td>\n",
              "      <td>Male</td>\n",
              "      <td>2500.0</td>\n",
              "      <td>1840.0</td>\n",
              "      <td>109.0</td>\n",
              "      <td>urban</td>\n",
              "      <td>Y</td>\n",
              "    </tr>\n",
              "    <tr>\n",
              "      <th>12</th>\n",
              "      <td>LP001028</td>\n",
              "      <td>Female</td>\n",
              "      <td>NaN</td>\n",
              "      <td>8106.0</td>\n",
              "      <td>NaN</td>\n",
              "      <td>urban</td>\n",
              "      <td>Y</td>\n",
              "    </tr>\n",
              "    <tr>\n",
              "      <th>13</th>\n",
              "      <td>LP001029</td>\n",
              "      <td>Male</td>\n",
              "      <td>1853.0</td>\n",
              "      <td>2840.0</td>\n",
              "      <td>114.0</td>\n",
              "      <td>urban</td>\n",
              "      <td>N</td>\n",
              "    </tr>\n",
              "    <tr>\n",
              "      <th>14</th>\n",
              "      <td>LP001030</td>\n",
              "      <td>Male</td>\n",
              "      <td>1299.0</td>\n",
              "      <td>1086.0</td>\n",
              "      <td>17.0</td>\n",
              "      <td>semi</td>\n",
              "      <td>Y</td>\n",
              "    </tr>\n",
              "    <tr>\n",
              "      <th>15</th>\n",
              "      <td>LP001032</td>\n",
              "      <td>Male</td>\n",
              "      <td>4950.0</td>\n",
              "      <td>0.0</td>\n",
              "      <td>125.0</td>\n",
              "      <td>semi</td>\n",
              "      <td>Y</td>\n",
              "    </tr>\n",
              "  </tbody>\n",
              "</table>\n",
              "</div>"
            ],
            "text/plain": [
              "     Loan_ID  Gender  ApplicantIncome  CoapplicantIncome  LoanAmount   Area  \\\n",
              "0   LP001002     NaN           5849.0                0.0         NaN  urban   \n",
              "1   LP001003    Male           4583.0                NaN       128.0   semi   \n",
              "2   LP001005    Male           3000.0                0.0        66.0    NaN   \n",
              "3   LP001006  Female           2583.0             2358.0       120.0   semi   \n",
              "4   LP001008    Male              NaN                0.0       141.0  urban   \n",
              "5   LP001011    Male           5417.0             4196.0       267.0   semi   \n",
              "6   LP001013    Male           2333.0             1516.0         NaN  rural   \n",
              "7   LP001014  Female           3036.0             2504.0       158.0   semi   \n",
              "8   LP001018    Male           4006.0             1526.0       168.0  rural   \n",
              "9   LP001020    Male          12841.0            10968.0       349.0   semi   \n",
              "10  LP001024  Female           3200.0              700.0        70.0  urban   \n",
              "11  LP001027    Male           2500.0             1840.0       109.0  urban   \n",
              "12  LP001028  Female              NaN             8106.0         NaN  urban   \n",
              "13  LP001029    Male           1853.0             2840.0       114.0  urban   \n",
              "14  LP001030    Male           1299.0             1086.0        17.0   semi   \n",
              "15  LP001032    Male           4950.0                0.0       125.0   semi   \n",
              "\n",
              "   Loan_Status  \n",
              "0            Y  \n",
              "1            N  \n",
              "2            Y  \n",
              "3          NaN  \n",
              "4            Y  \n",
              "5            Y  \n",
              "6            Y  \n",
              "7            N  \n",
              "8            Y  \n",
              "9            N  \n",
              "10           Y  \n",
              "11           Y  \n",
              "12           Y  \n",
              "13           N  \n",
              "14           Y  \n",
              "15           Y  "
            ]
          },
          "execution_count": 506,
          "metadata": {},
          "output_type": "execute_result"
        }
      ],
      "source": [
        "#look at the all values\n",
        "dataset"
      ]
    },
    {
      "cell_type": "code",
      "execution_count": null,
      "id": "9a6608f4-b506-42d5-948d-fedaa04329fe",
      "metadata": {
        "id": "9a6608f4-b506-42d5-948d-fedaa04329fe",
        "outputId": "4bfb8141-ce67-477b-e61e-6d13305570ec"
      },
      "outputs": [
        {
          "data": {
            "text/html": [
              "<div>\n",
              "<style scoped>\n",
              "    .dataframe tbody tr th:only-of-type {\n",
              "        vertical-align: middle;\n",
              "    }\n",
              "\n",
              "    .dataframe tbody tr th {\n",
              "        vertical-align: top;\n",
              "    }\n",
              "\n",
              "    .dataframe thead th {\n",
              "        text-align: right;\n",
              "    }\n",
              "</style>\n",
              "<table border=\"1\" class=\"dataframe\">\n",
              "  <thead>\n",
              "    <tr style=\"text-align: right;\">\n",
              "      <th></th>\n",
              "      <th>Loan_ID</th>\n",
              "      <th>Gender</th>\n",
              "      <th>ApplicantIncome</th>\n",
              "      <th>CoapplicantIncome</th>\n",
              "      <th>LoanAmount</th>\n",
              "      <th>Area</th>\n",
              "      <th>Loan_Status</th>\n",
              "    </tr>\n",
              "  </thead>\n",
              "  <tbody>\n",
              "    <tr>\n",
              "      <th>0</th>\n",
              "      <td>LP001002</td>\n",
              "      <td>NaN</td>\n",
              "      <td>5849.0</td>\n",
              "      <td>0.0</td>\n",
              "      <td>NaN</td>\n",
              "      <td>urban</td>\n",
              "      <td>Y</td>\n",
              "    </tr>\n",
              "    <tr>\n",
              "      <th>1</th>\n",
              "      <td>LP001003</td>\n",
              "      <td>Male</td>\n",
              "      <td>4583.0</td>\n",
              "      <td>NaN</td>\n",
              "      <td>128.0</td>\n",
              "      <td>semi</td>\n",
              "      <td>N</td>\n",
              "    </tr>\n",
              "    <tr>\n",
              "      <th>2</th>\n",
              "      <td>LP001005</td>\n",
              "      <td>Male</td>\n",
              "      <td>3000.0</td>\n",
              "      <td>0.0</td>\n",
              "      <td>66.0</td>\n",
              "      <td>NaN</td>\n",
              "      <td>Y</td>\n",
              "    </tr>\n",
              "    <tr>\n",
              "      <th>3</th>\n",
              "      <td>LP001006</td>\n",
              "      <td>Female</td>\n",
              "      <td>2583.0</td>\n",
              "      <td>2358.0</td>\n",
              "      <td>120.0</td>\n",
              "      <td>semi</td>\n",
              "      <td>NaN</td>\n",
              "    </tr>\n",
              "    <tr>\n",
              "      <th>4</th>\n",
              "      <td>LP001008</td>\n",
              "      <td>Male</td>\n",
              "      <td>NaN</td>\n",
              "      <td>0.0</td>\n",
              "      <td>141.0</td>\n",
              "      <td>urban</td>\n",
              "      <td>Y</td>\n",
              "    </tr>\n",
              "  </tbody>\n",
              "</table>\n",
              "</div>"
            ],
            "text/plain": [
              "    Loan_ID  Gender  ApplicantIncome  CoapplicantIncome  LoanAmount   Area  \\\n",
              "0  LP001002     NaN           5849.0                0.0         NaN  urban   \n",
              "1  LP001003    Male           4583.0                NaN       128.0   semi   \n",
              "2  LP001005    Male           3000.0                0.0        66.0    NaN   \n",
              "3  LP001006  Female           2583.0             2358.0       120.0   semi   \n",
              "4  LP001008    Male              NaN                0.0       141.0  urban   \n",
              "\n",
              "  Loan_Status  \n",
              "0           Y  \n",
              "1           N  \n",
              "2           Y  \n",
              "3         NaN  \n",
              "4           Y  "
            ]
          },
          "execution_count": 507,
          "metadata": {},
          "output_type": "execute_result"
        }
      ],
      "source": [
        "#Look at the first 5 values\n",
        "dataset.head()"
      ]
    },
    {
      "cell_type": "markdown",
      "source": [
        "**dataset.head()** displays the first 5 rows of a DataFrame by default, allowing you to quickly preview the data structure, column names, and sample values."
      ],
      "metadata": {
        "id": "XxkAhxWeDtA2"
      },
      "id": "XxkAhxWeDtA2"
    },
    {
      "cell_type": "code",
      "execution_count": null,
      "id": "c6ad84c4-ef5f-4dd0-b50a-2603af937fa0",
      "metadata": {
        "id": "c6ad84c4-ef5f-4dd0-b50a-2603af937fa0"
      },
      "outputs": [],
      "source": [
        "# Access the data using iloc.\n",
        "# Example - Get first three rows from the second and third column\n",
        "subset = dataset.iloc[0:3, 1:3]"
      ]
    },
    {
      "cell_type": "markdown",
      "source": [
        "This code uses iloc to access specific rows and columns in a DataFrame by their integer-based index positions.\n",
        "\n",
        "**Explanation:**\n",
        "*   dataset.iloc[0:3, 1:3]: Selects rows 0 to 2 (the first three rows) and columns 1 to 2 (the second and third columns, as Python indexing is exclusive at the end).\n",
        "*   subset: Stores the selected portion of the dataset."
      ],
      "metadata": {
        "id": "Tf6ZqQziD24r"
      },
      "id": "Tf6ZqQziD24r"
    },
    {
      "cell_type": "code",
      "execution_count": null,
      "id": "cfcc8208-18eb-4afa-9a77-7e1c564c6740",
      "metadata": {
        "id": "cfcc8208-18eb-4afa-9a77-7e1c564c6740",
        "outputId": "0a66261f-74e8-4ee9-e0a0-0a3e8db067d9"
      },
      "outputs": [
        {
          "data": {
            "text/html": [
              "<div>\n",
              "<style scoped>\n",
              "    .dataframe tbody tr th:only-of-type {\n",
              "        vertical-align: middle;\n",
              "    }\n",
              "\n",
              "    .dataframe tbody tr th {\n",
              "        vertical-align: top;\n",
              "    }\n",
              "\n",
              "    .dataframe thead th {\n",
              "        text-align: right;\n",
              "    }\n",
              "</style>\n",
              "<table border=\"1\" class=\"dataframe\">\n",
              "  <thead>\n",
              "    <tr style=\"text-align: right;\">\n",
              "      <th></th>\n",
              "      <th>Gender</th>\n",
              "      <th>ApplicantIncome</th>\n",
              "    </tr>\n",
              "  </thead>\n",
              "  <tbody>\n",
              "    <tr>\n",
              "      <th>0</th>\n",
              "      <td>NaN</td>\n",
              "      <td>5849.0</td>\n",
              "    </tr>\n",
              "    <tr>\n",
              "      <th>1</th>\n",
              "      <td>Male</td>\n",
              "      <td>4583.0</td>\n",
              "    </tr>\n",
              "    <tr>\n",
              "      <th>2</th>\n",
              "      <td>Male</td>\n",
              "      <td>3000.0</td>\n",
              "    </tr>\n",
              "  </tbody>\n",
              "</table>\n",
              "</div>"
            ],
            "text/plain": [
              "  Gender  ApplicantIncome\n",
              "0    NaN           5849.0\n",
              "1   Male           4583.0\n",
              "2   Male           3000.0"
            ]
          },
          "execution_count": 509,
          "metadata": {},
          "output_type": "execute_result"
        }
      ],
      "source": [
        "subset"
      ]
    },
    {
      "cell_type": "code",
      "execution_count": null,
      "id": "6b549eb5-8cf7-4ca0-b125-48a248f39901",
      "metadata": {
        "id": "6b549eb5-8cf7-4ca0-b125-48a248f39901"
      },
      "outputs": [],
      "source": [
        "# Access the data using column names\n",
        "# Get all rows of the column Gender and ApplicantIncome\n",
        "subsetN = dataset[['Gender', 'ApplicantIncome']]"
      ]
    },
    {
      "cell_type": "markdown",
      "source": [
        "This code accesses specific columns in a DataFrame using their names.\n",
        "\n",
        "**Explanation:**\n",
        "\n",
        "\n",
        "*   dataset[['Gender', 'ApplicantIncome']]: Selects all rows for the columns named \"Gender\" and \"ApplicantIncome\".\n",
        "*   subsetN: Stores the resulting subset of the DataFrame containing only the specified columns."
      ],
      "metadata": {
        "id": "LaRD-ToSFNW8"
      },
      "id": "LaRD-ToSFNW8"
    },
    {
      "cell_type": "code",
      "execution_count": null,
      "id": "d6609043-2b44-4300-b553-a67d597eb4e0",
      "metadata": {
        "id": "d6609043-2b44-4300-b553-a67d597eb4e0",
        "outputId": "38b941ca-512a-4a73-ab64-f7affdba7b3e"
      },
      "outputs": [
        {
          "data": {
            "text/html": [
              "<div>\n",
              "<style scoped>\n",
              "    .dataframe tbody tr th:only-of-type {\n",
              "        vertical-align: middle;\n",
              "    }\n",
              "\n",
              "    .dataframe tbody tr th {\n",
              "        vertical-align: top;\n",
              "    }\n",
              "\n",
              "    .dataframe thead th {\n",
              "        text-align: right;\n",
              "    }\n",
              "</style>\n",
              "<table border=\"1\" class=\"dataframe\">\n",
              "  <thead>\n",
              "    <tr style=\"text-align: right;\">\n",
              "      <th></th>\n",
              "      <th>Gender</th>\n",
              "      <th>ApplicantIncome</th>\n",
              "    </tr>\n",
              "  </thead>\n",
              "  <tbody>\n",
              "    <tr>\n",
              "      <th>0</th>\n",
              "      <td>NaN</td>\n",
              "      <td>5849.0</td>\n",
              "    </tr>\n",
              "    <tr>\n",
              "      <th>1</th>\n",
              "      <td>Male</td>\n",
              "      <td>4583.0</td>\n",
              "    </tr>\n",
              "    <tr>\n",
              "      <th>2</th>\n",
              "      <td>Male</td>\n",
              "      <td>3000.0</td>\n",
              "    </tr>\n",
              "    <tr>\n",
              "      <th>3</th>\n",
              "      <td>Female</td>\n",
              "      <td>2583.0</td>\n",
              "    </tr>\n",
              "    <tr>\n",
              "      <th>4</th>\n",
              "      <td>Male</td>\n",
              "      <td>NaN</td>\n",
              "    </tr>\n",
              "    <tr>\n",
              "      <th>5</th>\n",
              "      <td>Male</td>\n",
              "      <td>5417.0</td>\n",
              "    </tr>\n",
              "    <tr>\n",
              "      <th>6</th>\n",
              "      <td>Male</td>\n",
              "      <td>2333.0</td>\n",
              "    </tr>\n",
              "    <tr>\n",
              "      <th>7</th>\n",
              "      <td>Female</td>\n",
              "      <td>3036.0</td>\n",
              "    </tr>\n",
              "    <tr>\n",
              "      <th>8</th>\n",
              "      <td>Male</td>\n",
              "      <td>4006.0</td>\n",
              "    </tr>\n",
              "    <tr>\n",
              "      <th>9</th>\n",
              "      <td>Male</td>\n",
              "      <td>12841.0</td>\n",
              "    </tr>\n",
              "    <tr>\n",
              "      <th>10</th>\n",
              "      <td>Female</td>\n",
              "      <td>3200.0</td>\n",
              "    </tr>\n",
              "    <tr>\n",
              "      <th>11</th>\n",
              "      <td>Male</td>\n",
              "      <td>2500.0</td>\n",
              "    </tr>\n",
              "    <tr>\n",
              "      <th>12</th>\n",
              "      <td>Female</td>\n",
              "      <td>NaN</td>\n",
              "    </tr>\n",
              "    <tr>\n",
              "      <th>13</th>\n",
              "      <td>Male</td>\n",
              "      <td>1853.0</td>\n",
              "    </tr>\n",
              "    <tr>\n",
              "      <th>14</th>\n",
              "      <td>Male</td>\n",
              "      <td>1299.0</td>\n",
              "    </tr>\n",
              "    <tr>\n",
              "      <th>15</th>\n",
              "      <td>Male</td>\n",
              "      <td>4950.0</td>\n",
              "    </tr>\n",
              "  </tbody>\n",
              "</table>\n",
              "</div>"
            ],
            "text/plain": [
              "    Gender  ApplicantIncome\n",
              "0      NaN           5849.0\n",
              "1     Male           4583.0\n",
              "2     Male           3000.0\n",
              "3   Female           2583.0\n",
              "4     Male              NaN\n",
              "5     Male           5417.0\n",
              "6     Male           2333.0\n",
              "7   Female           3036.0\n",
              "8     Male           4006.0\n",
              "9     Male          12841.0\n",
              "10  Female           3200.0\n",
              "11    Male           2500.0\n",
              "12  Female              NaN\n",
              "13    Male           1853.0\n",
              "14    Male           1299.0\n",
              "15    Male           4950.0"
            ]
          },
          "execution_count": 511,
          "metadata": {},
          "output_type": "execute_result"
        }
      ],
      "source": [
        "subsetN"
      ]
    },
    {
      "cell_type": "code",
      "execution_count": null,
      "id": "0f8653c9-28e5-4bc3-aa36-423ff2f7ba0e",
      "metadata": {
        "id": "0f8653c9-28e5-4bc3-aa36-423ff2f7ba0e"
      },
      "outputs": [],
      "source": [
        "# Get first three rows of the columns Gender and ApplicantIncome\n",
        "subsetN = dataset[['Gender', 'ApplicantIncome']][0:3]"
      ]
    },
    {
      "cell_type": "code",
      "execution_count": null,
      "id": "00eccad0-ca06-4a5f-97ce-d893048ba32c",
      "metadata": {
        "id": "00eccad0-ca06-4a5f-97ce-d893048ba32c",
        "outputId": "566ab238-6d76-4959-88a6-57a7d8ac656d"
      },
      "outputs": [
        {
          "data": {
            "text/html": [
              "<div>\n",
              "<style scoped>\n",
              "    .dataframe tbody tr th:only-of-type {\n",
              "        vertical-align: middle;\n",
              "    }\n",
              "\n",
              "    .dataframe tbody tr th {\n",
              "        vertical-align: top;\n",
              "    }\n",
              "\n",
              "    .dataframe thead th {\n",
              "        text-align: right;\n",
              "    }\n",
              "</style>\n",
              "<table border=\"1\" class=\"dataframe\">\n",
              "  <thead>\n",
              "    <tr style=\"text-align: right;\">\n",
              "      <th></th>\n",
              "      <th>Gender</th>\n",
              "      <th>ApplicantIncome</th>\n",
              "    </tr>\n",
              "  </thead>\n",
              "  <tbody>\n",
              "    <tr>\n",
              "      <th>0</th>\n",
              "      <td>NaN</td>\n",
              "      <td>5849.0</td>\n",
              "    </tr>\n",
              "    <tr>\n",
              "      <th>1</th>\n",
              "      <td>Male</td>\n",
              "      <td>4583.0</td>\n",
              "    </tr>\n",
              "    <tr>\n",
              "      <th>2</th>\n",
              "      <td>Male</td>\n",
              "      <td>3000.0</td>\n",
              "    </tr>\n",
              "  </tbody>\n",
              "</table>\n",
              "</div>"
            ],
            "text/plain": [
              "  Gender  ApplicantIncome\n",
              "0    NaN           5849.0\n",
              "1   Male           4583.0\n",
              "2   Male           3000.0"
            ]
          },
          "execution_count": 513,
          "metadata": {},
          "output_type": "execute_result"
        }
      ],
      "source": [
        "subsetN"
      ]
    },
    {
      "cell_type": "code",
      "execution_count": null,
      "id": "33232ba6-9b96-4c14-8b6c-d73194fbfa12",
      "metadata": {
        "id": "33232ba6-9b96-4c14-8b6c-d73194fbfa12",
        "outputId": "775a4d7a-9c3b-4e0e-ae4d-1c4c74163212"
      },
      "outputs": [
        {
          "data": {
            "text/plain": [
              "(16, 7)"
            ]
          },
          "execution_count": 514,
          "metadata": {},
          "output_type": "execute_result"
        }
      ],
      "source": [
        "# Get the Shape of the dataframe (Row x Columns)\n",
        "dataset.shape"
      ]
    },
    {
      "cell_type": "code",
      "execution_count": null,
      "id": "bc594778-ae5a-4c02-8f3f-8cb6bfbf1ec0",
      "metadata": {
        "id": "bc594778-ae5a-4c02-8f3f-8cb6bfbf1ec0",
        "outputId": "d8c7606c-2f73-427e-b26a-23dbd0de71e4"
      },
      "outputs": [
        {
          "data": {
            "text/plain": [
              "Index(['Loan_ID', 'Gender', 'ApplicantIncome', 'CoapplicantIncome',\n",
              "       'LoanAmount', 'Area', 'Loan_Status'],\n",
              "      dtype='object')"
            ]
          },
          "execution_count": 515,
          "metadata": {},
          "output_type": "execute_result"
        }
      ],
      "source": [
        "# Get column names of the dataframe\n",
        "dataset.columns"
      ]
    },
    {
      "cell_type": "code",
      "execution_count": null,
      "id": "d5ef75ff-b86c-40e5-b87f-67b12c672b8d",
      "metadata": {
        "id": "d5ef75ff-b86c-40e5-b87f-67b12c672b8d",
        "outputId": "61f3aa0c-1690-4da3-d55d-18ea767f9f58"
      },
      "outputs": [
        {
          "data": {
            "text/plain": [
              "['Loan_ID',\n",
              " 'Gender',\n",
              " 'ApplicantIncome',\n",
              " 'CoapplicantIncome',\n",
              " 'LoanAmount',\n",
              " 'Area',\n",
              " 'Loan_Status']"
            ]
          },
          "execution_count": 516,
          "metadata": {},
          "output_type": "execute_result"
        }
      ],
      "source": [
        "# Get column names of the dataframe\n",
        "dataset.columns.to_list()"
      ]
    },
    {
      "cell_type": "markdown",
      "id": "954fe921-764e-4806-b984-f2d0d1eb81a5",
      "metadata": {
        "id": "954fe921-764e-4806-b984-f2d0d1eb81a5"
      },
      "source": [
        "# **Section 2: Handling missing values**"
      ]
    },
    {
      "cell_type": "markdown",
      "source": [
        "Handling missing values is a crucial step in data preprocessing to ensure data quality and avoid errors during analysis or modeling. Below are common methods to handle missing values in a dataset:"
      ],
      "metadata": {
        "id": "Zy_d8WJOFlIt"
      },
      "id": "Zy_d8WJOFlIt"
    },
    {
      "cell_type": "code",
      "execution_count": null,
      "id": "c46a8f89-e9a4-416e-9ce7-c31b0f7d4806",
      "metadata": {
        "id": "c46a8f89-e9a4-416e-9ce7-c31b0f7d4806",
        "outputId": "89a80f50-af5e-4872-b664-2db7fb6ad688"
      },
      "outputs": [
        {
          "data": {
            "text/html": [
              "<div>\n",
              "<style scoped>\n",
              "    .dataframe tbody tr th:only-of-type {\n",
              "        vertical-align: middle;\n",
              "    }\n",
              "\n",
              "    .dataframe tbody tr th {\n",
              "        vertical-align: top;\n",
              "    }\n",
              "\n",
              "    .dataframe thead th {\n",
              "        text-align: right;\n",
              "    }\n",
              "</style>\n",
              "<table border=\"1\" class=\"dataframe\">\n",
              "  <thead>\n",
              "    <tr style=\"text-align: right;\">\n",
              "      <th></th>\n",
              "      <th>Loan_ID</th>\n",
              "      <th>Gender</th>\n",
              "      <th>ApplicantIncome</th>\n",
              "      <th>CoapplicantIncome</th>\n",
              "      <th>LoanAmount</th>\n",
              "      <th>Area</th>\n",
              "      <th>Loan_Status</th>\n",
              "    </tr>\n",
              "  </thead>\n",
              "  <tbody>\n",
              "    <tr>\n",
              "      <th>0</th>\n",
              "      <td>False</td>\n",
              "      <td>True</td>\n",
              "      <td>False</td>\n",
              "      <td>False</td>\n",
              "      <td>True</td>\n",
              "      <td>False</td>\n",
              "      <td>False</td>\n",
              "    </tr>\n",
              "    <tr>\n",
              "      <th>1</th>\n",
              "      <td>False</td>\n",
              "      <td>False</td>\n",
              "      <td>False</td>\n",
              "      <td>True</td>\n",
              "      <td>False</td>\n",
              "      <td>False</td>\n",
              "      <td>False</td>\n",
              "    </tr>\n",
              "    <tr>\n",
              "      <th>2</th>\n",
              "      <td>False</td>\n",
              "      <td>False</td>\n",
              "      <td>False</td>\n",
              "      <td>False</td>\n",
              "      <td>False</td>\n",
              "      <td>True</td>\n",
              "      <td>False</td>\n",
              "    </tr>\n",
              "    <tr>\n",
              "      <th>3</th>\n",
              "      <td>False</td>\n",
              "      <td>False</td>\n",
              "      <td>False</td>\n",
              "      <td>False</td>\n",
              "      <td>False</td>\n",
              "      <td>False</td>\n",
              "      <td>True</td>\n",
              "    </tr>\n",
              "    <tr>\n",
              "      <th>4</th>\n",
              "      <td>False</td>\n",
              "      <td>False</td>\n",
              "      <td>True</td>\n",
              "      <td>False</td>\n",
              "      <td>False</td>\n",
              "      <td>False</td>\n",
              "      <td>False</td>\n",
              "    </tr>\n",
              "    <tr>\n",
              "      <th>5</th>\n",
              "      <td>False</td>\n",
              "      <td>False</td>\n",
              "      <td>False</td>\n",
              "      <td>False</td>\n",
              "      <td>False</td>\n",
              "      <td>False</td>\n",
              "      <td>False</td>\n",
              "    </tr>\n",
              "    <tr>\n",
              "      <th>6</th>\n",
              "      <td>False</td>\n",
              "      <td>False</td>\n",
              "      <td>False</td>\n",
              "      <td>False</td>\n",
              "      <td>True</td>\n",
              "      <td>False</td>\n",
              "      <td>False</td>\n",
              "    </tr>\n",
              "    <tr>\n",
              "      <th>7</th>\n",
              "      <td>False</td>\n",
              "      <td>False</td>\n",
              "      <td>False</td>\n",
              "      <td>False</td>\n",
              "      <td>False</td>\n",
              "      <td>False</td>\n",
              "      <td>False</td>\n",
              "    </tr>\n",
              "    <tr>\n",
              "      <th>8</th>\n",
              "      <td>False</td>\n",
              "      <td>False</td>\n",
              "      <td>False</td>\n",
              "      <td>False</td>\n",
              "      <td>False</td>\n",
              "      <td>False</td>\n",
              "      <td>False</td>\n",
              "    </tr>\n",
              "    <tr>\n",
              "      <th>9</th>\n",
              "      <td>False</td>\n",
              "      <td>False</td>\n",
              "      <td>False</td>\n",
              "      <td>False</td>\n",
              "      <td>False</td>\n",
              "      <td>False</td>\n",
              "      <td>False</td>\n",
              "    </tr>\n",
              "    <tr>\n",
              "      <th>10</th>\n",
              "      <td>False</td>\n",
              "      <td>False</td>\n",
              "      <td>False</td>\n",
              "      <td>False</td>\n",
              "      <td>False</td>\n",
              "      <td>False</td>\n",
              "      <td>False</td>\n",
              "    </tr>\n",
              "    <tr>\n",
              "      <th>11</th>\n",
              "      <td>False</td>\n",
              "      <td>False</td>\n",
              "      <td>False</td>\n",
              "      <td>False</td>\n",
              "      <td>False</td>\n",
              "      <td>False</td>\n",
              "      <td>False</td>\n",
              "    </tr>\n",
              "    <tr>\n",
              "      <th>12</th>\n",
              "      <td>False</td>\n",
              "      <td>False</td>\n",
              "      <td>True</td>\n",
              "      <td>False</td>\n",
              "      <td>True</td>\n",
              "      <td>False</td>\n",
              "      <td>False</td>\n",
              "    </tr>\n",
              "    <tr>\n",
              "      <th>13</th>\n",
              "      <td>False</td>\n",
              "      <td>False</td>\n",
              "      <td>False</td>\n",
              "      <td>False</td>\n",
              "      <td>False</td>\n",
              "      <td>False</td>\n",
              "      <td>False</td>\n",
              "    </tr>\n",
              "    <tr>\n",
              "      <th>14</th>\n",
              "      <td>False</td>\n",
              "      <td>False</td>\n",
              "      <td>False</td>\n",
              "      <td>False</td>\n",
              "      <td>False</td>\n",
              "      <td>False</td>\n",
              "      <td>False</td>\n",
              "    </tr>\n",
              "    <tr>\n",
              "      <th>15</th>\n",
              "      <td>False</td>\n",
              "      <td>False</td>\n",
              "      <td>False</td>\n",
              "      <td>False</td>\n",
              "      <td>False</td>\n",
              "      <td>False</td>\n",
              "      <td>False</td>\n",
              "    </tr>\n",
              "  </tbody>\n",
              "</table>\n",
              "</div>"
            ],
            "text/plain": [
              "    Loan_ID  Gender  ApplicantIncome  CoapplicantIncome  LoanAmount   Area  \\\n",
              "0     False    True            False              False        True  False   \n",
              "1     False   False            False               True       False  False   \n",
              "2     False   False            False              False       False   True   \n",
              "3     False   False            False              False       False  False   \n",
              "4     False   False             True              False       False  False   \n",
              "5     False   False            False              False       False  False   \n",
              "6     False   False            False              False        True  False   \n",
              "7     False   False            False              False       False  False   \n",
              "8     False   False            False              False       False  False   \n",
              "9     False   False            False              False       False  False   \n",
              "10    False   False            False              False       False  False   \n",
              "11    False   False            False              False       False  False   \n",
              "12    False   False             True              False        True  False   \n",
              "13    False   False            False              False       False  False   \n",
              "14    False   False            False              False       False  False   \n",
              "15    False   False            False              False       False  False   \n",
              "\n",
              "    Loan_Status  \n",
              "0         False  \n",
              "1         False  \n",
              "2         False  \n",
              "3          True  \n",
              "4         False  \n",
              "5         False  \n",
              "6         False  \n",
              "7         False  \n",
              "8         False  \n",
              "9         False  \n",
              "10        False  \n",
              "11        False  \n",
              "12        False  \n",
              "13        False  \n",
              "14        False  \n",
              "15        False  "
            ]
          },
          "execution_count": 518,
          "metadata": {},
          "output_type": "execute_result"
        }
      ],
      "source": [
        "# Find out columns with missing values\n",
        "dataset.isnull()\n",
        "# it will project 'True' where there is a missing value, can make things difficult to read via naked eyes"
      ]
    },
    {
      "cell_type": "code",
      "execution_count": null,
      "id": "c81f7ed1-38a5-4b7a-ba18-8fa7f8558891",
      "metadata": {
        "id": "c81f7ed1-38a5-4b7a-ba18-8fa7f8558891",
        "outputId": "610c92e8-a21a-4057-e5a4-c01ae0023249"
      },
      "outputs": [
        {
          "data": {
            "text/plain": [
              "Loan_ID              0\n",
              "Gender               1\n",
              "ApplicantIncome      2\n",
              "CoapplicantIncome    1\n",
              "LoanAmount           3\n",
              "Area                 1\n",
              "Loan_Status          1\n",
              "dtype: int64"
            ]
          },
          "execution_count": 519,
          "metadata": {},
          "output_type": "execute_result"
        }
      ],
      "source": [
        "# Here, we will find missing values count for each column\n",
        "dataset.isnull().sum(axis=0)"
      ]
    },
    {
      "cell_type": "code",
      "execution_count": null,
      "id": "5959c964-53da-476b-9947-9ba5da4d7f3c",
      "metadata": {
        "id": "5959c964-53da-476b-9947-9ba5da4d7f3c"
      },
      "outputs": [],
      "source": [
        "# Drop missing values from a particular row say for e.g. LoanAmount and Area\n",
        "dataset_clean = dataset.dropna(subset=['LoanAmount', 'Area'])"
      ]
    },
    {
      "cell_type": "code",
      "execution_count": null,
      "id": "7ac424f9-f8c9-440e-841f-56a066e00e01",
      "metadata": {
        "id": "7ac424f9-f8c9-440e-841f-56a066e00e01",
        "outputId": "41187c5f-e433-4400-f40f-872a13e33265"
      },
      "outputs": [
        {
          "data": {
            "text/html": [
              "<div>\n",
              "<style scoped>\n",
              "    .dataframe tbody tr th:only-of-type {\n",
              "        vertical-align: middle;\n",
              "    }\n",
              "\n",
              "    .dataframe tbody tr th {\n",
              "        vertical-align: top;\n",
              "    }\n",
              "\n",
              "    .dataframe thead th {\n",
              "        text-align: right;\n",
              "    }\n",
              "</style>\n",
              "<table border=\"1\" class=\"dataframe\">\n",
              "  <thead>\n",
              "    <tr style=\"text-align: right;\">\n",
              "      <th></th>\n",
              "      <th>Loan_ID</th>\n",
              "      <th>Gender</th>\n",
              "      <th>ApplicantIncome</th>\n",
              "      <th>CoapplicantIncome</th>\n",
              "      <th>LoanAmount</th>\n",
              "      <th>Area</th>\n",
              "      <th>Loan_Status</th>\n",
              "    </tr>\n",
              "  </thead>\n",
              "  <tbody>\n",
              "    <tr>\n",
              "      <th>1</th>\n",
              "      <td>LP001003</td>\n",
              "      <td>Male</td>\n",
              "      <td>4583.0</td>\n",
              "      <td>NaN</td>\n",
              "      <td>128.0</td>\n",
              "      <td>semi</td>\n",
              "      <td>N</td>\n",
              "    </tr>\n",
              "    <tr>\n",
              "      <th>3</th>\n",
              "      <td>LP001006</td>\n",
              "      <td>Female</td>\n",
              "      <td>2583.0</td>\n",
              "      <td>2358.0</td>\n",
              "      <td>120.0</td>\n",
              "      <td>semi</td>\n",
              "      <td>NaN</td>\n",
              "    </tr>\n",
              "    <tr>\n",
              "      <th>4</th>\n",
              "      <td>LP001008</td>\n",
              "      <td>Male</td>\n",
              "      <td>NaN</td>\n",
              "      <td>0.0</td>\n",
              "      <td>141.0</td>\n",
              "      <td>urban</td>\n",
              "      <td>Y</td>\n",
              "    </tr>\n",
              "    <tr>\n",
              "      <th>5</th>\n",
              "      <td>LP001011</td>\n",
              "      <td>Male</td>\n",
              "      <td>5417.0</td>\n",
              "      <td>4196.0</td>\n",
              "      <td>267.0</td>\n",
              "      <td>semi</td>\n",
              "      <td>Y</td>\n",
              "    </tr>\n",
              "    <tr>\n",
              "      <th>7</th>\n",
              "      <td>LP001014</td>\n",
              "      <td>Female</td>\n",
              "      <td>3036.0</td>\n",
              "      <td>2504.0</td>\n",
              "      <td>158.0</td>\n",
              "      <td>semi</td>\n",
              "      <td>N</td>\n",
              "    </tr>\n",
              "  </tbody>\n",
              "</table>\n",
              "</div>"
            ],
            "text/plain": [
              "    Loan_ID  Gender  ApplicantIncome  CoapplicantIncome  LoanAmount   Area  \\\n",
              "1  LP001003    Male           4583.0                NaN       128.0   semi   \n",
              "3  LP001006  Female           2583.0             2358.0       120.0   semi   \n",
              "4  LP001008    Male              NaN                0.0       141.0  urban   \n",
              "5  LP001011    Male           5417.0             4196.0       267.0   semi   \n",
              "7  LP001014  Female           3036.0             2504.0       158.0   semi   \n",
              "\n",
              "  Loan_Status  \n",
              "1           N  \n",
              "3         NaN  \n",
              "4           Y  \n",
              "5           Y  \n",
              "7           N  "
            ]
          },
          "execution_count": 521,
          "metadata": {},
          "output_type": "execute_result"
        }
      ],
      "source": [
        "dataset_clean.head()"
      ]
    },
    {
      "cell_type": "code",
      "execution_count": null,
      "id": "b72a2503-0fc0-43a0-8d6f-0b4a50feae7c",
      "metadata": {
        "id": "b72a2503-0fc0-43a0-8d6f-0b4a50feae7c"
      },
      "outputs": [],
      "source": [
        "# Drop all the rows with missing values\n",
        "dataset_clean = dataset.dropna()"
      ]
    },
    {
      "cell_type": "code",
      "execution_count": null,
      "id": "0c15a88a-1410-4d09-bbfe-c5682937feb3",
      "metadata": {
        "id": "0c15a88a-1410-4d09-bbfe-c5682937feb3",
        "outputId": "9865bf61-3825-4a9e-f769-554827ef6cf5"
      },
      "outputs": [
        {
          "data": {
            "text/html": [
              "<div>\n",
              "<style scoped>\n",
              "    .dataframe tbody tr th:only-of-type {\n",
              "        vertical-align: middle;\n",
              "    }\n",
              "\n",
              "    .dataframe tbody tr th {\n",
              "        vertical-align: top;\n",
              "    }\n",
              "\n",
              "    .dataframe thead th {\n",
              "        text-align: right;\n",
              "    }\n",
              "</style>\n",
              "<table border=\"1\" class=\"dataframe\">\n",
              "  <thead>\n",
              "    <tr style=\"text-align: right;\">\n",
              "      <th></th>\n",
              "      <th>Loan_ID</th>\n",
              "      <th>Gender</th>\n",
              "      <th>ApplicantIncome</th>\n",
              "      <th>CoapplicantIncome</th>\n",
              "      <th>LoanAmount</th>\n",
              "      <th>Area</th>\n",
              "      <th>Loan_Status</th>\n",
              "    </tr>\n",
              "  </thead>\n",
              "  <tbody>\n",
              "    <tr>\n",
              "      <th>5</th>\n",
              "      <td>LP001011</td>\n",
              "      <td>Male</td>\n",
              "      <td>5417.0</td>\n",
              "      <td>4196.0</td>\n",
              "      <td>267.0</td>\n",
              "      <td>semi</td>\n",
              "      <td>Y</td>\n",
              "    </tr>\n",
              "    <tr>\n",
              "      <th>7</th>\n",
              "      <td>LP001014</td>\n",
              "      <td>Female</td>\n",
              "      <td>3036.0</td>\n",
              "      <td>2504.0</td>\n",
              "      <td>158.0</td>\n",
              "      <td>semi</td>\n",
              "      <td>N</td>\n",
              "    </tr>\n",
              "    <tr>\n",
              "      <th>8</th>\n",
              "      <td>LP001018</td>\n",
              "      <td>Male</td>\n",
              "      <td>4006.0</td>\n",
              "      <td>1526.0</td>\n",
              "      <td>168.0</td>\n",
              "      <td>rural</td>\n",
              "      <td>Y</td>\n",
              "    </tr>\n",
              "    <tr>\n",
              "      <th>9</th>\n",
              "      <td>LP001020</td>\n",
              "      <td>Male</td>\n",
              "      <td>12841.0</td>\n",
              "      <td>10968.0</td>\n",
              "      <td>349.0</td>\n",
              "      <td>semi</td>\n",
              "      <td>N</td>\n",
              "    </tr>\n",
              "    <tr>\n",
              "      <th>10</th>\n",
              "      <td>LP001024</td>\n",
              "      <td>Female</td>\n",
              "      <td>3200.0</td>\n",
              "      <td>700.0</td>\n",
              "      <td>70.0</td>\n",
              "      <td>urban</td>\n",
              "      <td>Y</td>\n",
              "    </tr>\n",
              "  </tbody>\n",
              "</table>\n",
              "</div>"
            ],
            "text/plain": [
              "     Loan_ID  Gender  ApplicantIncome  CoapplicantIncome  LoanAmount   Area  \\\n",
              "5   LP001011    Male           5417.0             4196.0       267.0   semi   \n",
              "7   LP001014  Female           3036.0             2504.0       158.0   semi   \n",
              "8   LP001018    Male           4006.0             1526.0       168.0  rural   \n",
              "9   LP001020    Male          12841.0            10968.0       349.0   semi   \n",
              "10  LP001024  Female           3200.0              700.0        70.0  urban   \n",
              "\n",
              "   Loan_Status  \n",
              "5            Y  \n",
              "7            N  \n",
              "8            Y  \n",
              "9            N  \n",
              "10           Y  "
            ]
          },
          "execution_count": 523,
          "metadata": {},
          "output_type": "execute_result"
        }
      ],
      "source": [
        "dataset_clean.head()"
      ]
    },
    {
      "cell_type": "code",
      "execution_count": null,
      "id": "553abae8-5052-4ddd-9c2b-788000ca46b0",
      "metadata": {
        "id": "553abae8-5052-4ddd-9c2b-788000ca46b0"
      },
      "outputs": [],
      "source": [
        "#Create a duplicate of existing dataset\\\n",
        "dt = dataset.copy()"
      ]
    },
    {
      "cell_type": "code",
      "execution_count": null,
      "id": "c6a17622-75cc-4376-84d7-08189d9277cb",
      "metadata": {
        "id": "c6a17622-75cc-4376-84d7-08189d9277cb",
        "outputId": "aa32f535-015a-457c-ab50-6c9cb92c4f45"
      },
      "outputs": [
        {
          "data": {
            "text/html": [
              "<div>\n",
              "<style scoped>\n",
              "    .dataframe tbody tr th:only-of-type {\n",
              "        vertical-align: middle;\n",
              "    }\n",
              "\n",
              "    .dataframe tbody tr th {\n",
              "        vertical-align: top;\n",
              "    }\n",
              "\n",
              "    .dataframe thead th {\n",
              "        text-align: right;\n",
              "    }\n",
              "</style>\n",
              "<table border=\"1\" class=\"dataframe\">\n",
              "  <thead>\n",
              "    <tr style=\"text-align: right;\">\n",
              "      <th></th>\n",
              "      <th>Loan_ID</th>\n",
              "      <th>Gender</th>\n",
              "      <th>ApplicantIncome</th>\n",
              "      <th>CoapplicantIncome</th>\n",
              "      <th>LoanAmount</th>\n",
              "      <th>Area</th>\n",
              "      <th>Loan_Status</th>\n",
              "    </tr>\n",
              "  </thead>\n",
              "  <tbody>\n",
              "    <tr>\n",
              "      <th>0</th>\n",
              "      <td>LP001002</td>\n",
              "      <td>NaN</td>\n",
              "      <td>5849.0</td>\n",
              "      <td>0.0</td>\n",
              "      <td>NaN</td>\n",
              "      <td>urban</td>\n",
              "      <td>Y</td>\n",
              "    </tr>\n",
              "    <tr>\n",
              "      <th>1</th>\n",
              "      <td>LP001003</td>\n",
              "      <td>Male</td>\n",
              "      <td>4583.0</td>\n",
              "      <td>NaN</td>\n",
              "      <td>128.0</td>\n",
              "      <td>semi</td>\n",
              "      <td>N</td>\n",
              "    </tr>\n",
              "    <tr>\n",
              "      <th>2</th>\n",
              "      <td>LP001005</td>\n",
              "      <td>Male</td>\n",
              "      <td>3000.0</td>\n",
              "      <td>0.0</td>\n",
              "      <td>66.0</td>\n",
              "      <td>NaN</td>\n",
              "      <td>Y</td>\n",
              "    </tr>\n",
              "    <tr>\n",
              "      <th>3</th>\n",
              "      <td>LP001006</td>\n",
              "      <td>Female</td>\n",
              "      <td>2583.0</td>\n",
              "      <td>2358.0</td>\n",
              "      <td>120.0</td>\n",
              "      <td>semi</td>\n",
              "      <td>NaN</td>\n",
              "    </tr>\n",
              "    <tr>\n",
              "      <th>4</th>\n",
              "      <td>LP001008</td>\n",
              "      <td>Male</td>\n",
              "      <td>NaN</td>\n",
              "      <td>0.0</td>\n",
              "      <td>141.0</td>\n",
              "      <td>urban</td>\n",
              "      <td>Y</td>\n",
              "    </tr>\n",
              "  </tbody>\n",
              "</table>\n",
              "</div>"
            ],
            "text/plain": [
              "    Loan_ID  Gender  ApplicantIncome  CoapplicantIncome  LoanAmount   Area  \\\n",
              "0  LP001002     NaN           5849.0                0.0         NaN  urban   \n",
              "1  LP001003    Male           4583.0                NaN       128.0   semi   \n",
              "2  LP001005    Male           3000.0                0.0        66.0    NaN   \n",
              "3  LP001006  Female           2583.0             2358.0       120.0   semi   \n",
              "4  LP001008    Male              NaN                0.0       141.0  urban   \n",
              "\n",
              "  Loan_Status  \n",
              "0           Y  \n",
              "1           N  \n",
              "2           Y  \n",
              "3         NaN  \n",
              "4           Y  "
            ]
          },
          "execution_count": 525,
          "metadata": {},
          "output_type": "execute_result"
        }
      ],
      "source": [
        "dt.head()"
      ]
    },
    {
      "cell_type": "code",
      "execution_count": null,
      "id": "cf5b3870-39ad-4ba4-a981-5c4a46440366",
      "metadata": {
        "id": "cf5b3870-39ad-4ba4-a981-5c4a46440366",
        "outputId": "2be0b8bd-74ed-46ca-b412-59141eaa35cc"
      },
      "outputs": [
        {
          "data": {
            "text/plain": [
              "Loan_ID              0\n",
              "Gender               0\n",
              "ApplicantIncome      2\n",
              "CoapplicantIncome    1\n",
              "LoanAmount           3\n",
              "Area                 0\n",
              "Loan_Status          0\n",
              "dtype: int64"
            ]
          },
          "execution_count": 526,
          "metadata": {},
          "output_type": "execute_result"
        }
      ],
      "source": [
        "# Replace missing categorical values using column names\n",
        "\n",
        "#Step1: Create a list of categorical column\n",
        "cols = ['Gender', 'Area', 'Loan_Status',]\n",
        "\n",
        "#Step2: fillna for filling NaN values using mode (i.e. most frequent count)\n",
        "dt[cols] = dt[cols].fillna(dt.mode().iloc[0])\n",
        "\n",
        "#Step3: Check for count of missing values in categorial column\n",
        "dt.isnull().sum(axis=0)"
      ]
    },
    {
      "cell_type": "code",
      "execution_count": null,
      "id": "0a6f2ede-2481-433c-b711-c40cb42eb194",
      "metadata": {
        "id": "0a6f2ede-2481-433c-b711-c40cb42eb194",
        "outputId": "0b64a189-d71e-4b5b-bd0a-1b4598934b43"
      },
      "outputs": [
        {
          "data": {
            "text/plain": [
              "Loan_ID              0\n",
              "Gender               0\n",
              "ApplicantIncome      0\n",
              "CoapplicantIncome    0\n",
              "LoanAmount           0\n",
              "Area                 0\n",
              "Loan_Status          0\n",
              "dtype: int64"
            ]
          },
          "execution_count": 527,
          "metadata": {},
          "output_type": "execute_result"
        }
      ],
      "source": [
        "# Replace missing numerical values using column names\n",
        "\n",
        "#Step1: Create a list of numerical column\n",
        "cols2 = ['ApplicantIncome', 'CoapplicantIncome', 'LoanAmount']\n",
        "\n",
        "#Step2: fillna for filling NaN values using mean or median (i.e. average or middle value)\n",
        "dt[cols2] = dt[cols2].fillna(dt[cols2].mean())\n",
        "\n",
        "#Step3: Check for count of missing values in numerical column\n",
        "dt.isnull().sum(axis=0)"
      ]
    },
    {
      "cell_type": "markdown",
      "id": "ad3903a5-ea15-43a5-b321-f54752076c9c",
      "metadata": {
        "id": "ad3903a5-ea15-43a5-b321-f54752076c9c"
      },
      "source": [
        "# **Section 3: Encoding Techniques**\n",
        "\n",
        "Encoding techniques convert categorical values into numerical values, which is essential because most machine learning algorithms require numerical input."
      ]
    },
    {
      "cell_type": "markdown",
      "id": "40b17987-cf1d-47a0-93e1-e81852298928",
      "metadata": {
        "id": "40b17987-cf1d-47a0-93e1-e81852298928"
      },
      "source": [
        "**Type 1: Label Encoding**\n",
        "\n",
        "Label encoding is a method to transform categorical data into numerical data by assigning a unique integer to each category. It is best suited for categorical features where there is a natural order or ranking between the categories.Label encoding is used where we have any order between categories. Here's a brief overview of how it works:\n",
        "\n",
        "**How It Works:**\n",
        "\n",
        "**Assign unique integers:** Each category is assigned a unique integer value.\n",
        "Example:\n",
        "*   \"low_salary\" → 0\n",
        "*   \"medium_salary\" → 1\n",
        "*   \"high_salary\" → 2\n",
        "\n",
        "**Replace categorical values:** The original categories in the dataset are replaced by their corresponding integers.\n",
        "\n",
        "**When to Use:**\n",
        "\n",
        "Label encoding works well when:\n",
        "\n",
        "*   The categories have a natural order (e.g., low, medium, high).\n",
        "*   The encoding does not introduce unintended bias (since algorithms may interpret the numerical values as ordinal).\n",
        "\n",
        "***Here are some common algorithms that can use label encoding:***\n",
        "\n",
        "*   **Decision Trees:** Algorithms like Decision Tree Classifier and Decision Tree Regressor can handle label-encoded data well.\n",
        "*   **Random Forest:** Both Random Forest Classifier and Random Forest Regressor can work with label-encoded data.\n",
        "*   **Gradient Boosting:** Algorithms like Gradient Boosting Machines (GBM), XGBoost, LightGBM, and CatBoost can use label-encoded data.\n",
        "*   **Support Vector Machines (SVM):** SVM classifiers can work with label-encoded data.\n",
        "*   **K-Nearest Neighbors (KNN):** KNN classifiers and regressors can use label-encoded data.\n",
        "*   **Naive Bayes:** Naive Bayes classifiers can handle label-encoded data.\n",
        "*   **Neural Networks:** Neural networks, including deep learning models, can use label-encoded data.ed data."
      ]
    },
    {
      "cell_type": "code",
      "execution_count": null,
      "id": "14c8e76b-0263-4c1f-8773-463e21a7910d",
      "metadata": {
        "id": "14c8e76b-0263-4c1f-8773-463e21a7910d",
        "outputId": "6bba7edb-f966-4080-81b7-9e6b9909fdb3"
      },
      "outputs": [
        {
          "data": {
            "text/plain": [
              "Loan_ID               object\n",
              "Gender                object\n",
              "ApplicantIncome      float64\n",
              "CoapplicantIncome    float64\n",
              "LoanAmount           float64\n",
              "Area                  object\n",
              "Loan_Status           object\n",
              "dtype: object"
            ]
          },
          "execution_count": 530,
          "metadata": {},
          "output_type": "execute_result"
        }
      ],
      "source": [
        "# Get datatypes of all the columns of the dataframe\n",
        "dt.dtypes"
      ]
    },
    {
      "cell_type": "code",
      "execution_count": null,
      "id": "7cbe96bf-fc33-4d9e-ad3a-7361c9e6a3e4",
      "metadata": {
        "id": "7cbe96bf-fc33-4d9e-ad3a-7361c9e6a3e4"
      },
      "outputs": [],
      "source": [
        "# Convert string/object column types to categorical\n",
        "dt[cols] = dt[cols].astype('category')"
      ]
    },
    {
      "cell_type": "code",
      "execution_count": null,
      "id": "88b71f69-ec70-4db0-971c-6ed8fb12ad79",
      "metadata": {
        "id": "88b71f69-ec70-4db0-971c-6ed8fb12ad79",
        "outputId": "2e0b82e2-3903-4f40-84c2-baa39f4e4eae"
      },
      "outputs": [
        {
          "data": {
            "text/plain": [
              "Gender         category\n",
              "Area           category\n",
              "Loan_Status    category\n",
              "dtype: object"
            ]
          },
          "execution_count": 532,
          "metadata": {},
          "output_type": "execute_result"
        }
      ],
      "source": [
        "dt[cols].dtypes"
      ]
    },
    {
      "cell_type": "code",
      "execution_count": null,
      "id": "2b39da57-e584-4e4e-bd08-8a46614e932f",
      "metadata": {
        "id": "2b39da57-e584-4e4e-bd08-8a46614e932f"
      },
      "outputs": [],
      "source": [
        "# Convert string to numerical codes\n",
        "for columns in cols:\n",
        "    dt[columns] = dt[columns].cat.codes"
      ]
    },
    {
      "cell_type": "code",
      "execution_count": null,
      "id": "d29b1008-d2a3-42f4-8aee-ab574285642d",
      "metadata": {
        "id": "d29b1008-d2a3-42f4-8aee-ab574285642d",
        "outputId": "4ad8b13b-ac41-489a-ca43-a142897cd093"
      },
      "outputs": [
        {
          "data": {
            "text/plain": [
              "Loan_ID               object\n",
              "Gender                  int8\n",
              "ApplicantIncome      float64\n",
              "CoapplicantIncome    float64\n",
              "LoanAmount           float64\n",
              "Area                    int8\n",
              "Loan_Status             int8\n",
              "dtype: object"
            ]
          },
          "execution_count": 534,
          "metadata": {},
          "output_type": "execute_result"
        }
      ],
      "source": [
        "dt.dtypes    #see columns like Gender, Area and Loan_Status showing is int8 type"
      ]
    },
    {
      "cell_type": "code",
      "execution_count": null,
      "id": "db10bada-7011-42ed-9f4e-b7d4db8c6098",
      "metadata": {
        "id": "db10bada-7011-42ed-9f4e-b7d4db8c6098",
        "outputId": "4aae138b-b732-4101-fecf-58de2445be5f"
      },
      "outputs": [
        {
          "data": {
            "text/html": [
              "<div>\n",
              "<style scoped>\n",
              "    .dataframe tbody tr th:only-of-type {\n",
              "        vertical-align: middle;\n",
              "    }\n",
              "\n",
              "    .dataframe tbody tr th {\n",
              "        vertical-align: top;\n",
              "    }\n",
              "\n",
              "    .dataframe thead th {\n",
              "        text-align: right;\n",
              "    }\n",
              "</style>\n",
              "<table border=\"1\" class=\"dataframe\">\n",
              "  <thead>\n",
              "    <tr style=\"text-align: right;\">\n",
              "      <th></th>\n",
              "      <th>Loan_ID</th>\n",
              "      <th>Gender</th>\n",
              "      <th>ApplicantIncome</th>\n",
              "      <th>CoapplicantIncome</th>\n",
              "      <th>LoanAmount</th>\n",
              "      <th>Area</th>\n",
              "      <th>Loan_Status</th>\n",
              "    </tr>\n",
              "  </thead>\n",
              "  <tbody>\n",
              "    <tr>\n",
              "      <th>0</th>\n",
              "      <td>LP001002</td>\n",
              "      <td>1</td>\n",
              "      <td>5849.000000</td>\n",
              "      <td>0.000000</td>\n",
              "      <td>140.923077</td>\n",
              "      <td>2</td>\n",
              "      <td>1</td>\n",
              "    </tr>\n",
              "    <tr>\n",
              "      <th>1</th>\n",
              "      <td>LP001003</td>\n",
              "      <td>1</td>\n",
              "      <td>4583.000000</td>\n",
              "      <td>2509.333333</td>\n",
              "      <td>128.000000</td>\n",
              "      <td>1</td>\n",
              "      <td>0</td>\n",
              "    </tr>\n",
              "    <tr>\n",
              "      <th>2</th>\n",
              "      <td>LP001005</td>\n",
              "      <td>1</td>\n",
              "      <td>3000.000000</td>\n",
              "      <td>0.000000</td>\n",
              "      <td>66.000000</td>\n",
              "      <td>1</td>\n",
              "      <td>1</td>\n",
              "    </tr>\n",
              "    <tr>\n",
              "      <th>3</th>\n",
              "      <td>LP001006</td>\n",
              "      <td>0</td>\n",
              "      <td>2583.000000</td>\n",
              "      <td>2358.000000</td>\n",
              "      <td>120.000000</td>\n",
              "      <td>1</td>\n",
              "      <td>1</td>\n",
              "    </tr>\n",
              "    <tr>\n",
              "      <th>4</th>\n",
              "      <td>LP001008</td>\n",
              "      <td>1</td>\n",
              "      <td>4103.571429</td>\n",
              "      <td>0.000000</td>\n",
              "      <td>141.000000</td>\n",
              "      <td>2</td>\n",
              "      <td>1</td>\n",
              "    </tr>\n",
              "  </tbody>\n",
              "</table>\n",
              "</div>"
            ],
            "text/plain": [
              "    Loan_ID  Gender  ApplicantIncome  CoapplicantIncome  LoanAmount  Area  \\\n",
              "0  LP001002       1      5849.000000           0.000000  140.923077     2   \n",
              "1  LP001003       1      4583.000000        2509.333333  128.000000     1   \n",
              "2  LP001005       1      3000.000000           0.000000   66.000000     1   \n",
              "3  LP001006       0      2583.000000        2358.000000  120.000000     1   \n",
              "4  LP001008       1      4103.571429           0.000000  141.000000     2   \n",
              "\n",
              "   Loan_Status  \n",
              "0            1  \n",
              "1            0  \n",
              "2            1  \n",
              "3            1  \n",
              "4            1  "
            ]
          },
          "execution_count": 535,
          "metadata": {},
          "output_type": "execute_result"
        }
      ],
      "source": [
        "dt.head()   ##see columns like Gender, Area and Loan_Status showing integer values for categories now as 0,1,2 and so on.."
      ]
    },
    {
      "cell_type": "markdown",
      "id": "420785ab-3a90-4e99-973f-060c06beac00",
      "metadata": {
        "id": "420785ab-3a90-4e99-973f-060c06beac00"
      },
      "source": [
        "# **Type 2: One-Hot Encoding Techniques (Dummy variables)**\n",
        "\n",
        "**One-hot encoding** is a method to convert categorical data into a format suitable for machine learning algorithms. It creates binary columns for each category, ensuring the categorical information is represented numerically without introducing an ordinal relationship.\n",
        "\n",
        "**When to Use:**\n",
        "\n",
        "One-hot encoding is used when there is no inherent order among the categories.\n",
        "For example: \"red\", \"green\", and \"blue\" represent different colors without any ranking or order.\n",
        "\n",
        "**Here's how it works:**\n",
        "\n",
        "1.   **Create binary columns:** For each unique category value in a column, a new binary column (0 or 1) is created.\n",
        "Example:\n",
        "\n",
        "*   **Original column:** \"red\", \"green\", \"blue\"\n",
        "*   **Transformed columns:**\n",
        "\n",
        "          *   is_red: 1 if the category is \"red\", else 0.\n",
        "          *   is_green: 1 if the category is \"green\", else 0.\n",
        "          *   is_blue: 1 if the category is \"blue\", else 0.\n",
        "\n",
        "2.   **Replace the original column:** The original categorical column is replaced with the newly created binary columns.\n",
        "\n",
        "**Common algorithms include:**\n",
        "\n",
        "One-hot encoding works well with most machine learning algorithms, including:\n",
        "\n",
        "*   **Linear Models:** Linear Regression, Logistic Regression.\n",
        "*   **Tree-Based Models:** Decision Trees, Random Forest, Gradient Boosting (XGBoost, LightGBM, etc.).\n",
        "*   **Support Vector Machines (SVM):** Suitable for both classification and regression.\n",
        "*   **K-Nearest Neighbors (KNN):** Handles binary features effectively.\n",
        "Naive Bayes: Works well with binary inputs.\n",
        "*   **Neural Networks:** Fully compatible with one-hot encoded features."
      ]
    },
    {
      "cell_type": "code",
      "execution_count": null,
      "id": "0cf169dd-92c7-4b2a-b5a7-154613726ec2",
      "metadata": {
        "id": "0cf169dd-92c7-4b2a-b5a7-154613726ec2"
      },
      "outputs": [],
      "source": [
        "# Drop a column using column name (this column has high cardinality, i.e. lots of category and I do not want these to taken for one-hot encoding)\n",
        "df2 = dataset.drop(['Loan_ID'], axis=1)"
      ]
    },
    {
      "cell_type": "code",
      "execution_count": null,
      "id": "c0ec2b5e-2798-43f6-8cd0-cc18e532069d",
      "metadata": {
        "id": "c0ec2b5e-2798-43f6-8cd0-cc18e532069d",
        "outputId": "9e59db45-6abe-4b60-fef0-5c46608c2d2b"
      },
      "outputs": [
        {
          "data": {
            "text/html": [
              "<div>\n",
              "<style scoped>\n",
              "    .dataframe tbody tr th:only-of-type {\n",
              "        vertical-align: middle;\n",
              "    }\n",
              "\n",
              "    .dataframe tbody tr th {\n",
              "        vertical-align: top;\n",
              "    }\n",
              "\n",
              "    .dataframe thead th {\n",
              "        text-align: right;\n",
              "    }\n",
              "</style>\n",
              "<table border=\"1\" class=\"dataframe\">\n",
              "  <thead>\n",
              "    <tr style=\"text-align: right;\">\n",
              "      <th></th>\n",
              "      <th>Gender</th>\n",
              "      <th>ApplicantIncome</th>\n",
              "      <th>CoapplicantIncome</th>\n",
              "      <th>LoanAmount</th>\n",
              "      <th>Area</th>\n",
              "      <th>Loan_Status</th>\n",
              "    </tr>\n",
              "  </thead>\n",
              "  <tbody>\n",
              "    <tr>\n",
              "      <th>0</th>\n",
              "      <td>NaN</td>\n",
              "      <td>5849.0</td>\n",
              "      <td>0.0</td>\n",
              "      <td>NaN</td>\n",
              "      <td>urban</td>\n",
              "      <td>Y</td>\n",
              "    </tr>\n",
              "    <tr>\n",
              "      <th>1</th>\n",
              "      <td>Male</td>\n",
              "      <td>4583.0</td>\n",
              "      <td>NaN</td>\n",
              "      <td>128.0</td>\n",
              "      <td>semi</td>\n",
              "      <td>N</td>\n",
              "    </tr>\n",
              "    <tr>\n",
              "      <th>2</th>\n",
              "      <td>Male</td>\n",
              "      <td>3000.0</td>\n",
              "      <td>0.0</td>\n",
              "      <td>66.0</td>\n",
              "      <td>NaN</td>\n",
              "      <td>Y</td>\n",
              "    </tr>\n",
              "    <tr>\n",
              "      <th>3</th>\n",
              "      <td>Female</td>\n",
              "      <td>2583.0</td>\n",
              "      <td>2358.0</td>\n",
              "      <td>120.0</td>\n",
              "      <td>semi</td>\n",
              "      <td>NaN</td>\n",
              "    </tr>\n",
              "    <tr>\n",
              "      <th>4</th>\n",
              "      <td>Male</td>\n",
              "      <td>NaN</td>\n",
              "      <td>0.0</td>\n",
              "      <td>141.0</td>\n",
              "      <td>urban</td>\n",
              "      <td>Y</td>\n",
              "    </tr>\n",
              "  </tbody>\n",
              "</table>\n",
              "</div>"
            ],
            "text/plain": [
              "   Gender  ApplicantIncome  CoapplicantIncome  LoanAmount   Area Loan_Status\n",
              "0     NaN           5849.0                0.0         NaN  urban           Y\n",
              "1    Male           4583.0                NaN       128.0   semi           N\n",
              "2    Male           3000.0                0.0        66.0    NaN           Y\n",
              "3  Female           2583.0             2358.0       120.0   semi         NaN\n",
              "4    Male              NaN                0.0       141.0  urban           Y"
            ]
          },
          "execution_count": 538,
          "metadata": {},
          "output_type": "execute_result"
        }
      ],
      "source": [
        "df2.head()"
      ]
    },
    {
      "cell_type": "code",
      "execution_count": null,
      "id": "52057ffd-9bc5-4b42-9ec1-e88c4c19e876",
      "metadata": {
        "id": "52057ffd-9bc5-4b42-9ec1-e88c4c19e876"
      },
      "outputs": [],
      "source": [
        "# using get_dummies function of Pandas\n",
        "df2 = pd.get_dummies(df2)"
      ]
    },
    {
      "cell_type": "code",
      "execution_count": null,
      "id": "c8ad30ac-d7a0-43b5-89e6-e7020754c0ce",
      "metadata": {
        "id": "c8ad30ac-d7a0-43b5-89e6-e7020754c0ce",
        "outputId": "2be4f83f-dcf0-4c7a-f6f5-3a2e54a826cd"
      },
      "outputs": [
        {
          "data": {
            "text/html": [
              "<div>\n",
              "<style scoped>\n",
              "    .dataframe tbody tr th:only-of-type {\n",
              "        vertical-align: middle;\n",
              "    }\n",
              "\n",
              "    .dataframe tbody tr th {\n",
              "        vertical-align: top;\n",
              "    }\n",
              "\n",
              "    .dataframe thead th {\n",
              "        text-align: right;\n",
              "    }\n",
              "</style>\n",
              "<table border=\"1\" class=\"dataframe\">\n",
              "  <thead>\n",
              "    <tr style=\"text-align: right;\">\n",
              "      <th></th>\n",
              "      <th>ApplicantIncome</th>\n",
              "      <th>CoapplicantIncome</th>\n",
              "      <th>LoanAmount</th>\n",
              "      <th>Gender_Female</th>\n",
              "      <th>Gender_Male</th>\n",
              "      <th>Area_rural</th>\n",
              "      <th>Area_semi</th>\n",
              "      <th>Area_urban</th>\n",
              "      <th>Loan_Status_N</th>\n",
              "      <th>Loan_Status_Y</th>\n",
              "    </tr>\n",
              "  </thead>\n",
              "  <tbody>\n",
              "    <tr>\n",
              "      <th>0</th>\n",
              "      <td>5849.0</td>\n",
              "      <td>0.0</td>\n",
              "      <td>NaN</td>\n",
              "      <td>False</td>\n",
              "      <td>False</td>\n",
              "      <td>False</td>\n",
              "      <td>False</td>\n",
              "      <td>True</td>\n",
              "      <td>False</td>\n",
              "      <td>True</td>\n",
              "    </tr>\n",
              "    <tr>\n",
              "      <th>1</th>\n",
              "      <td>4583.0</td>\n",
              "      <td>NaN</td>\n",
              "      <td>128.0</td>\n",
              "      <td>False</td>\n",
              "      <td>True</td>\n",
              "      <td>False</td>\n",
              "      <td>True</td>\n",
              "      <td>False</td>\n",
              "      <td>True</td>\n",
              "      <td>False</td>\n",
              "    </tr>\n",
              "    <tr>\n",
              "      <th>2</th>\n",
              "      <td>3000.0</td>\n",
              "      <td>0.0</td>\n",
              "      <td>66.0</td>\n",
              "      <td>False</td>\n",
              "      <td>True</td>\n",
              "      <td>False</td>\n",
              "      <td>False</td>\n",
              "      <td>False</td>\n",
              "      <td>False</td>\n",
              "      <td>True</td>\n",
              "    </tr>\n",
              "    <tr>\n",
              "      <th>3</th>\n",
              "      <td>2583.0</td>\n",
              "      <td>2358.0</td>\n",
              "      <td>120.0</td>\n",
              "      <td>True</td>\n",
              "      <td>False</td>\n",
              "      <td>False</td>\n",
              "      <td>True</td>\n",
              "      <td>False</td>\n",
              "      <td>False</td>\n",
              "      <td>False</td>\n",
              "    </tr>\n",
              "    <tr>\n",
              "      <th>4</th>\n",
              "      <td>NaN</td>\n",
              "      <td>0.0</td>\n",
              "      <td>141.0</td>\n",
              "      <td>False</td>\n",
              "      <td>True</td>\n",
              "      <td>False</td>\n",
              "      <td>False</td>\n",
              "      <td>True</td>\n",
              "      <td>False</td>\n",
              "      <td>True</td>\n",
              "    </tr>\n",
              "  </tbody>\n",
              "</table>\n",
              "</div>"
            ],
            "text/plain": [
              "   ApplicantIncome  CoapplicantIncome  LoanAmount  Gender_Female  Gender_Male  \\\n",
              "0           5849.0                0.0         NaN          False        False   \n",
              "1           4583.0                NaN       128.0          False         True   \n",
              "2           3000.0                0.0        66.0          False         True   \n",
              "3           2583.0             2358.0       120.0           True        False   \n",
              "4              NaN                0.0       141.0          False         True   \n",
              "\n",
              "   Area_rural  Area_semi  Area_urban  Loan_Status_N  Loan_Status_Y  \n",
              "0       False      False        True          False           True  \n",
              "1       False       True       False           True          False  \n",
              "2       False      False       False          False           True  \n",
              "3       False       True       False          False          False  \n",
              "4       False      False        True          False           True  "
            ]
          },
          "execution_count": 540,
          "metadata": {},
          "output_type": "execute_result"
        }
      ],
      "source": [
        "df2.head()"
      ]
    },
    {
      "cell_type": "markdown",
      "id": "809a6691-29cb-42b2-8744-f1e3ede425bb",
      "metadata": {
        "id": "809a6691-29cb-42b2-8744-f1e3ede425bb"
      },
      "source": [
        "# **Dummy Variable Trap**\n",
        "\n",
        "The dummy variable trap occurs when you create too many dummy variables, leading to multicollinearity. This happens when the dummy variables are perfectly correlated, causing issues in regression analysis. For instance, if you have a categorical variable with three categories (e.g., \"Red,\" \"Green,\" \"Blue\"), creating three dummy variables (one for each category) will result in perfect multicollinearity because the sum of these dummy variables will always be 1 leading to over fitting.\n",
        "\n",
        "**How to Minimize the Dummy Variable Trap**\n",
        "\n",
        "To avoid the dummy variable trap, you should create ( k-1 ) dummy variables if you have ( k ) categories. This means you drop one dummy variable and use it as a reference category.\n",
        "\n",
        "**Here's an example:**\n",
        "\n",
        "Suppose you have a categorical variable \"Color\" with three categories: \"Red,\" \"Green,\" and \"Blue.\" You can create K-1 = 3-1 = 2 dummy variables to avoid multi-collinearity. The third column below, though not present automatically indicates the third choice!"
      ]
    },
    {
      "cell_type": "code",
      "execution_count": null,
      "id": "5f91f3f8-7fd0-4d4e-8608-11036f0cb26d",
      "metadata": {
        "id": "5f91f3f8-7fd0-4d4e-8608-11036f0cb26d"
      },
      "outputs": [],
      "source": [
        "# Avoid dummy variable trap using drop_first\n",
        "\n",
        "#Step1: Creating a copy datatset:\n",
        "df3 = dataset.drop(['Loan_ID'], axis=1)\n",
        "\n",
        "#Step2: Adding dummy columns using k-1 by adding a property 'drop_first=True'\n",
        "df3 = pd.get_dummies(df3, drop_first=True)"
      ]
    },
    {
      "cell_type": "code",
      "execution_count": null,
      "id": "9add4ba1-1ec8-4c4d-bbd4-d075bedb9535",
      "metadata": {
        "id": "9add4ba1-1ec8-4c4d-bbd4-d075bedb9535",
        "outputId": "ab6deaf2-2f23-4104-bccc-2b9e52568381"
      },
      "outputs": [
        {
          "data": {
            "text/html": [
              "<div>\n",
              "<style scoped>\n",
              "    .dataframe tbody tr th:only-of-type {\n",
              "        vertical-align: middle;\n",
              "    }\n",
              "\n",
              "    .dataframe tbody tr th {\n",
              "        vertical-align: top;\n",
              "    }\n",
              "\n",
              "    .dataframe thead th {\n",
              "        text-align: right;\n",
              "    }\n",
              "</style>\n",
              "<table border=\"1\" class=\"dataframe\">\n",
              "  <thead>\n",
              "    <tr style=\"text-align: right;\">\n",
              "      <th></th>\n",
              "      <th>ApplicantIncome</th>\n",
              "      <th>CoapplicantIncome</th>\n",
              "      <th>LoanAmount</th>\n",
              "      <th>Gender_Male</th>\n",
              "      <th>Area_semi</th>\n",
              "      <th>Area_urban</th>\n",
              "      <th>Loan_Status_Y</th>\n",
              "    </tr>\n",
              "  </thead>\n",
              "  <tbody>\n",
              "    <tr>\n",
              "      <th>0</th>\n",
              "      <td>5849.0</td>\n",
              "      <td>0.0</td>\n",
              "      <td>NaN</td>\n",
              "      <td>False</td>\n",
              "      <td>False</td>\n",
              "      <td>True</td>\n",
              "      <td>True</td>\n",
              "    </tr>\n",
              "    <tr>\n",
              "      <th>1</th>\n",
              "      <td>4583.0</td>\n",
              "      <td>NaN</td>\n",
              "      <td>128.0</td>\n",
              "      <td>True</td>\n",
              "      <td>True</td>\n",
              "      <td>False</td>\n",
              "      <td>False</td>\n",
              "    </tr>\n",
              "    <tr>\n",
              "      <th>2</th>\n",
              "      <td>3000.0</td>\n",
              "      <td>0.0</td>\n",
              "      <td>66.0</td>\n",
              "      <td>True</td>\n",
              "      <td>False</td>\n",
              "      <td>False</td>\n",
              "      <td>True</td>\n",
              "    </tr>\n",
              "    <tr>\n",
              "      <th>3</th>\n",
              "      <td>2583.0</td>\n",
              "      <td>2358.0</td>\n",
              "      <td>120.0</td>\n",
              "      <td>False</td>\n",
              "      <td>True</td>\n",
              "      <td>False</td>\n",
              "      <td>False</td>\n",
              "    </tr>\n",
              "    <tr>\n",
              "      <th>4</th>\n",
              "      <td>NaN</td>\n",
              "      <td>0.0</td>\n",
              "      <td>141.0</td>\n",
              "      <td>True</td>\n",
              "      <td>False</td>\n",
              "      <td>True</td>\n",
              "      <td>True</td>\n",
              "    </tr>\n",
              "  </tbody>\n",
              "</table>\n",
              "</div>"
            ],
            "text/plain": [
              "   ApplicantIncome  CoapplicantIncome  LoanAmount  Gender_Male  Area_semi  \\\n",
              "0           5849.0                0.0         NaN        False      False   \n",
              "1           4583.0                NaN       128.0         True       True   \n",
              "2           3000.0                0.0        66.0         True      False   \n",
              "3           2583.0             2358.0       120.0        False       True   \n",
              "4              NaN                0.0       141.0         True      False   \n",
              "\n",
              "   Area_urban  Loan_Status_Y  \n",
              "0        True           True  \n",
              "1       False          False  \n",
              "2       False           True  \n",
              "3       False          False  \n",
              "4        True           True  "
            ]
          },
          "execution_count": 543,
          "metadata": {},
          "output_type": "execute_result"
        }
      ],
      "source": [
        "df3.head()\n",
        "\n",
        "#compare it with df2 and you would see 'Gender_Female', 'Area_rural' and 'Loan_Status_N' dropped to avoid multi-collinearity/overfitting trap."
      ]
    },
    {
      "cell_type": "markdown",
      "id": "fb3e0d76-269f-4e2a-8779-6e9ee5bef8bd",
      "metadata": {
        "id": "fb3e0d76-269f-4e2a-8779-6e9ee5bef8bd"
      },
      "source": [
        "# **Section 4: Data Normalization**"
      ]
    },
    {
      "cell_type": "markdown",
      "id": "ad15b142-8eab-4370-a2b6-0dbae8ec7f56",
      "metadata": {
        "id": "ad15b142-8eab-4370-a2b6-0dbae8ec7f56"
      },
      "source": [
        "**Data normalization** is a preprocessing technique used to scale numerical data to a standard range, typically between 0 and 1, or to a standard distribution. This process helps improve the performance and training stability of machine learning models by ensuring that all features contribute equally to the model's learning process.\n",
        "\n",
        "**This is only performed on numerical columns (not on category columns)**\n",
        "\n",
        "Categorical columns are usually handled differently as we learned earlier, such as through label encoding or one-hot encoding, to convert them into a numerical format before using them in machine learning models."
      ]
    },
    {
      "cell_type": "code",
      "execution_count": null,
      "id": "911d01bb-8d40-402e-9f7d-8305e1659f0e",
      "metadata": {
        "id": "911d01bb-8d40-402e-9f7d-8305e1659f0e"
      },
      "outputs": [],
      "source": [
        "# extract data to scale\n",
        "data_to_scale = dataset_clean.iloc[:, 2:5]"
      ]
    },
    {
      "cell_type": "code",
      "execution_count": null,
      "id": "41ea14ae-0a12-44a2-b864-a5c9ea6682b7",
      "metadata": {
        "id": "41ea14ae-0a12-44a2-b864-a5c9ea6682b7",
        "outputId": "5cf5c782-535d-4276-9764-5b8de74464c1"
      },
      "outputs": [
        {
          "data": {
            "text/html": [
              "<div>\n",
              "<style scoped>\n",
              "    .dataframe tbody tr th:only-of-type {\n",
              "        vertical-align: middle;\n",
              "    }\n",
              "\n",
              "    .dataframe tbody tr th {\n",
              "        vertical-align: top;\n",
              "    }\n",
              "\n",
              "    .dataframe thead th {\n",
              "        text-align: right;\n",
              "    }\n",
              "</style>\n",
              "<table border=\"1\" class=\"dataframe\">\n",
              "  <thead>\n",
              "    <tr style=\"text-align: right;\">\n",
              "      <th></th>\n",
              "      <th>ApplicantIncome</th>\n",
              "      <th>CoapplicantIncome</th>\n",
              "      <th>LoanAmount</th>\n",
              "    </tr>\n",
              "  </thead>\n",
              "  <tbody>\n",
              "    <tr>\n",
              "      <th>5</th>\n",
              "      <td>5417.0</td>\n",
              "      <td>4196.0</td>\n",
              "      <td>267.0</td>\n",
              "    </tr>\n",
              "    <tr>\n",
              "      <th>7</th>\n",
              "      <td>3036.0</td>\n",
              "      <td>2504.0</td>\n",
              "      <td>158.0</td>\n",
              "    </tr>\n",
              "    <tr>\n",
              "      <th>8</th>\n",
              "      <td>4006.0</td>\n",
              "      <td>1526.0</td>\n",
              "      <td>168.0</td>\n",
              "    </tr>\n",
              "    <tr>\n",
              "      <th>9</th>\n",
              "      <td>12841.0</td>\n",
              "      <td>10968.0</td>\n",
              "      <td>349.0</td>\n",
              "    </tr>\n",
              "    <tr>\n",
              "      <th>10</th>\n",
              "      <td>3200.0</td>\n",
              "      <td>700.0</td>\n",
              "      <td>70.0</td>\n",
              "    </tr>\n",
              "  </tbody>\n",
              "</table>\n",
              "</div>"
            ],
            "text/plain": [
              "    ApplicantIncome  CoapplicantIncome  LoanAmount\n",
              "5            5417.0             4196.0       267.0\n",
              "7            3036.0             2504.0       158.0\n",
              "8            4006.0             1526.0       168.0\n",
              "9           12841.0            10968.0       349.0\n",
              "10           3200.0              700.0        70.0"
            ]
          },
          "execution_count": 547,
          "metadata": {},
          "output_type": "execute_result"
        }
      ],
      "source": [
        "data_to_scale.head()"
      ]
    },
    {
      "cell_type": "markdown",
      "id": "cd9ff584-5fde-4998-96bb-c30e23189bff",
      "metadata": {
        "id": "cd9ff584-5fde-4998-96bb-c30e23189bff"
      },
      "source": [
        "# **Type 1: Standard Scalar**"
      ]
    },
    {
      "cell_type": "markdown",
      "source": [
        "Standard Scaler is a feature scaling technique used to standardize numerical data by removing the mean and scaling it to unit variance. This is crucial when features in the dataset have different scales, as it ensures that each feature contributes equally to the model's learning process."
      ],
      "metadata": {
        "id": "Yh66xA5_LWJs"
      },
      "id": "Yh66xA5_LWJs"
    },
    {
      "cell_type": "code",
      "source": [
        "!pip install scikit-learn"
      ],
      "metadata": {
        "id": "_S8rJqArlScP"
      },
      "id": "_S8rJqArlScP",
      "execution_count": null,
      "outputs": []
    },
    {
      "cell_type": "markdown",
      "source": [
        "Sometimes, you might encounter an error like **\"ModuleNotFoundError: No module named 'sklearn'\"**.\n",
        "Run the code below to install the scikit-learn library and avoid this error."
      ],
      "metadata": {
        "id": "Yck2_ksCmuF-"
      },
      "id": "Yck2_ksCmuF-"
    },
    {
      "cell_type": "code",
      "execution_count": null,
      "id": "500a32d6-e71a-422d-b02a-56a4d7e214b5",
      "metadata": {
        "id": "500a32d6-e71a-422d-b02a-56a4d7e214b5"
      },
      "outputs": [],
      "source": [
        "# Import the StandardScaler class\n",
        "from sklearn.preprocessing import StandardScaler"
      ]
    },
    {
      "cell_type": "code",
      "execution_count": null,
      "id": "d17e2b96-e9df-43dc-999a-dbde718b15b7",
      "metadata": {
        "id": "d17e2b96-e9df-43dc-999a-dbde718b15b7"
      },
      "outputs": [],
      "source": [
        "# Create an object of the class StandardScaler\n",
        "scaler = StandardScaler()"
      ]
    },
    {
      "cell_type": "code",
      "execution_count": null,
      "id": "b12ae299-ed8e-46aa-9e72-05d7db9a788f",
      "metadata": {
        "id": "b12ae299-ed8e-46aa-9e72-05d7db9a788f"
      },
      "outputs": [],
      "source": [
        "# Fit and Transform the data for normalization\n",
        "ss_scaler = scaler.fit_transform(data_to_scale)"
      ]
    },
    {
      "cell_type": "code",
      "execution_count": null,
      "id": "4a596137-7511-490a-858d-a068b6f0dfcf",
      "metadata": {
        "id": "4a596137-7511-490a-858d-a068b6f0dfcf",
        "outputId": "27794d62-d0d2-41a4-f3be-2e3a5d4842c7"
      },
      "outputs": [
        {
          "data": {
            "text/plain": [
              "array([[ 0.32879835,  0.43390231,  1.1995349 ],\n",
              "       [-0.40126276, -0.11198867,  0.05261118],\n",
              "       [-0.10384182, -0.4275214 ,  0.15783354],\n",
              "       [ 2.60514177,  2.61875676,  2.06235824],\n",
              "       [-0.35097716, -0.69401428, -0.87334558],\n",
              "       [-0.56561083, -0.32621539, -0.46297838],\n",
              "       [-0.76399367, -0.00358478, -0.4103672 ],\n",
              "       [-0.9338609 , -0.56947886, -1.43102409],\n",
              "       [ 0.18560703, -0.9198557 , -0.29462261]])"
            ]
          },
          "execution_count": 552,
          "metadata": {},
          "output_type": "execute_result"
        }
      ],
      "source": [
        "ss_scaler"
      ]
    },
    {
      "cell_type": "code",
      "execution_count": null,
      "id": "6babab1d-2400-4186-abdc-fd6c7ac74632",
      "metadata": {
        "id": "6babab1d-2400-4186-abdc-fd6c7ac74632",
        "outputId": "53422e15-215d-4e41-dd3e-ae316f688d10"
      },
      "outputs": [
        {
          "name": "stdout",
          "output_type": "stream",
          "text": [
            "          0         1         2\n",
            "0  0.328798  0.433902  1.199535\n",
            "1 -0.401263 -0.111989  0.052611\n",
            "2 -0.103842 -0.427521  0.157834\n",
            "3  2.605142  2.618757  2.062358\n",
            "4 -0.350977 -0.694014 -0.873346\n"
          ]
        }
      ],
      "source": [
        "# Convert numpy array to pandas DataFrame\n",
        "df_ss = pd.DataFrame(ss_scaler)\n",
        "\n",
        "# Use the head() method\n",
        "print(df_ss.head())     #column name has changed to 0,1 and 2 instead of 'ApplicantIncome', 'Coapplicant Income' and 'LoanAmount'"
      ]
    },
    {
      "cell_type": "code",
      "execution_count": null,
      "id": "1e803e38-918a-4488-971f-69604dcb870f",
      "metadata": {
        "id": "1e803e38-918a-4488-971f-69604dcb870f",
        "outputId": "a5ace0d6-4fd5-46bd-c624-ef1c1c993c1d"
      },
      "outputs": [
        {
          "name": "stdout",
          "output_type": "stream",
          "text": [
            "    Loan_ID  Gender  ApplicantIncome  CoapplicantIncome  LoanAmount   Area  \\\n",
            "0  LP001002     NaN           5849.0                0.0         NaN  urban   \n",
            "1  LP001003    Male           4583.0                NaN       128.0   semi   \n",
            "2  LP001005    Male           3000.0                0.0        66.0    NaN   \n",
            "3  LP001006  Female           2583.0             2358.0       120.0   semi   \n",
            "4  LP001008    Male              NaN                0.0       141.0  urban   \n",
            "\n",
            "  Loan_Status  \n",
            "0           Y  \n",
            "1           N  \n",
            "2           Y  \n",
            "3         NaN  \n",
            "4           Y  \n"
          ]
        }
      ],
      "source": [
        "#To retain the original column names after converting your numpy array back to a pandas DataFrame,\n",
        "# you can specify the column names when creating the DataFrame. Here's how you can do it:\n",
        "\n",
        "# Original column names\n",
        "column_names = ['ApplicantIncome', 'CoapplicantIncome', 'LoanAmount']\n",
        "\n",
        "# Convert numpy array to pandas DataFrame with specified column names\n",
        "df_ss = pd.DataFrame(ss_scaler, columns=column_names)\n",
        "\n",
        "# Use the head() method to view the first few rows\n",
        "print(df_ss.head())"
      ]
    },
    {
      "cell_type": "markdown",
      "id": "7b74e1e2-89c6-44ed-a772-298a768d18f1",
      "metadata": {
        "id": "7b74e1e2-89c6-44ed-a772-298a768d18f1"
      },
      "source": [
        "# **Type 2: Min-Max Scalar**"
      ]
    },
    {
      "cell_type": "markdown",
      "source": [
        "Min-Max Scaler is a feature scaling technique that transforms the data into a specified range, usually between 0 and 1. It scales each feature independently by subtracting the minimum value and dividing by the range (max - min) of the feature."
      ],
      "metadata": {
        "id": "2aO7wDX1L0TV"
      },
      "id": "2aO7wDX1L0TV"
    },
    {
      "cell_type": "code",
      "execution_count": null,
      "id": "8e56490e-8a4b-4752-a427-d5cc2c3421d7",
      "metadata": {
        "id": "8e56490e-8a4b-4752-a427-d5cc2c3421d7"
      },
      "outputs": [],
      "source": [
        "# MinMax Normalization of the data\n",
        "from sklearn.preprocessing import minmax_scale"
      ]
    },
    {
      "cell_type": "code",
      "execution_count": null,
      "id": "ec6894a9-1792-4367-96b6-6783eca386d1",
      "metadata": {
        "id": "ec6894a9-1792-4367-96b6-6783eca386d1"
      },
      "outputs": [],
      "source": [
        "# Fit and Transform the data for MinMax normalization\n",
        "mm_scaler = minmax_scale(data_to_scale)"
      ]
    },
    {
      "cell_type": "code",
      "execution_count": null,
      "id": "7c77e6d1-dbf0-422a-b5d0-49ea5f3612e7",
      "metadata": {
        "id": "7c77e6d1-dbf0-422a-b5d0-49ea5f3612e7",
        "outputId": "0bc855e5-e92f-4928-a36d-f1eff81b181a"
      },
      "outputs": [
        {
          "data": {
            "text/plain": [
              "array([[0.35678392, 0.38256747, 0.75301205],\n",
              "       [0.15049385, 0.22830051, 0.4246988 ],\n",
              "       [0.23453474, 0.13913202, 0.45481928],\n",
              "       [1.        , 1.        , 1.        ],\n",
              "       [0.16470282, 0.06382203, 0.15963855],\n",
              "       [0.10405476, 0.16776076, 0.27710843],\n",
              "       [0.04799861, 0.25893508, 0.29216867],\n",
              "       [0.        , 0.09901532, 0.        ],\n",
              "       [0.31632299, 0.        , 0.3253012 ]])"
            ]
          },
          "execution_count": 558,
          "metadata": {},
          "output_type": "execute_result"
        }
      ],
      "source": [
        "mm_scaler #numpy array"
      ]
    },
    {
      "cell_type": "code",
      "execution_count": null,
      "id": "53794ad6-4b2d-4747-9cab-3ddd5bee2121",
      "metadata": {
        "id": "53794ad6-4b2d-4747-9cab-3ddd5bee2121",
        "outputId": "7f875043-d48c-4ce7-95c5-6e84b3308316"
      },
      "outputs": [
        {
          "name": "stdout",
          "output_type": "stream",
          "text": [
            "   ApplicantIncome  CoapplicantIncome  LoanAmount\n",
            "0         0.356784           0.382567    0.753012\n",
            "1         0.150494           0.228301    0.424699\n",
            "2         0.234535           0.139132    0.454819\n",
            "3         1.000000           1.000000    1.000000\n",
            "4         0.164703           0.063822    0.159639\n"
          ]
        }
      ],
      "source": [
        "#To retain the original column names after converting your numpy array back to a pandas DataFrame,\n",
        "# you can specify the column names when creating the DataFrame. Here's how you can do it:\n",
        "\n",
        "# Original column names\n",
        "column_names = ['ApplicantIncome', 'CoapplicantIncome', 'LoanAmount']\n",
        "\n",
        "# Convert numpy array to pandas DataFrame with specified column names\n",
        "df_mm = pd.DataFrame(mm_scaler, columns=column_names)\n",
        "\n",
        "# Use the head() method to view the first few rows\n",
        "print(df_mm.head())"
      ]
    },
    {
      "cell_type": "markdown",
      "id": "74136b23-da87-46c5-b53e-c106e6e0e1ff",
      "metadata": {
        "id": "74136b23-da87-46c5-b53e-c106e6e0e1ff"
      },
      "source": [
        "# **Section 5: Data Splitting**"
      ]
    },
    {
      "cell_type": "markdown",
      "id": "909326ea-6b9b-4ff2-ba58-438d5be6a4c0",
      "metadata": {
        "id": "909326ea-6b9b-4ff2-ba58-438d5be6a4c0"
      },
      "source": [
        "**Data splitting** is a technique used in machine learning to divide a dataset into separate parts for training and evaluating a model. This helps ensure that the model generalizes well to new, unseen data. The most common splits are:\n",
        "\n",
        "**Training Set:** Used to train the model. Typically, this is the largest portion of the data.\n",
        "                                                                                                  \n",
        "**Validation Set:** Used to tune the model's hyperparameters and prevent overfitting. This set is optional but useful for model selection.\n",
        "                                                                                                  \n",
        "**Test Set:** Used to evaluate the final model's performance. This set should only be used once the model is fully trained and tuned.\n",
        "\n",
        "\n",
        "\n",
        "------------------------------------------------------------------------------------------------------------\n",
        "\n",
        "\n",
        "\n",
        "**Common Splitting Ratios**\n",
        "\n",
        "**Training/Testing Split:** A common ratio is 80% training and 20% testing.\n",
        "\n",
        "**Training/Validation/Test Split:** A common ratio is 70% training, 15% validation, and 15% testing."
      ]
    },
    {
      "cell_type": "code",
      "execution_count": null,
      "id": "0bb33c79-0e2b-4c91-9d51-85f153ecc07d",
      "metadata": {
        "id": "0bb33c79-0e2b-4c91-9d51-85f153ecc07d"
      },
      "outputs": [],
      "source": [
        "df = dataset.copy()"
      ]
    },
    {
      "cell_type": "code",
      "execution_count": null,
      "id": "c1da41b7-d244-43cd-94eb-ceb39c7e2507",
      "metadata": {
        "id": "c1da41b7-d244-43cd-94eb-ceb39c7e2507",
        "outputId": "fad12c54-2b8d-4501-b49f-ddba4e53eda6"
      },
      "outputs": [
        {
          "data": {
            "text/html": [
              "<div>\n",
              "<style scoped>\n",
              "    .dataframe tbody tr th:only-of-type {\n",
              "        vertical-align: middle;\n",
              "    }\n",
              "\n",
              "    .dataframe tbody tr th {\n",
              "        vertical-align: top;\n",
              "    }\n",
              "\n",
              "    .dataframe thead th {\n",
              "        text-align: right;\n",
              "    }\n",
              "</style>\n",
              "<table border=\"1\" class=\"dataframe\">\n",
              "  <thead>\n",
              "    <tr style=\"text-align: right;\">\n",
              "      <th></th>\n",
              "      <th>Loan_ID</th>\n",
              "      <th>Gender</th>\n",
              "      <th>ApplicantIncome</th>\n",
              "      <th>CoapplicantIncome</th>\n",
              "      <th>LoanAmount</th>\n",
              "      <th>Area</th>\n",
              "      <th>Loan_Status</th>\n",
              "    </tr>\n",
              "  </thead>\n",
              "  <tbody>\n",
              "    <tr>\n",
              "      <th>0</th>\n",
              "      <td>LP001002</td>\n",
              "      <td>NaN</td>\n",
              "      <td>5849.0</td>\n",
              "      <td>0.0</td>\n",
              "      <td>NaN</td>\n",
              "      <td>urban</td>\n",
              "      <td>Y</td>\n",
              "    </tr>\n",
              "    <tr>\n",
              "      <th>1</th>\n",
              "      <td>LP001003</td>\n",
              "      <td>Male</td>\n",
              "      <td>4583.0</td>\n",
              "      <td>NaN</td>\n",
              "      <td>128.0</td>\n",
              "      <td>semi</td>\n",
              "      <td>N</td>\n",
              "    </tr>\n",
              "    <tr>\n",
              "      <th>2</th>\n",
              "      <td>LP001005</td>\n",
              "      <td>Male</td>\n",
              "      <td>3000.0</td>\n",
              "      <td>0.0</td>\n",
              "      <td>66.0</td>\n",
              "      <td>NaN</td>\n",
              "      <td>Y</td>\n",
              "    </tr>\n",
              "    <tr>\n",
              "      <th>3</th>\n",
              "      <td>LP001006</td>\n",
              "      <td>Female</td>\n",
              "      <td>2583.0</td>\n",
              "      <td>2358.0</td>\n",
              "      <td>120.0</td>\n",
              "      <td>semi</td>\n",
              "      <td>NaN</td>\n",
              "    </tr>\n",
              "    <tr>\n",
              "      <th>4</th>\n",
              "      <td>LP001008</td>\n",
              "      <td>Male</td>\n",
              "      <td>NaN</td>\n",
              "      <td>0.0</td>\n",
              "      <td>141.0</td>\n",
              "      <td>urban</td>\n",
              "      <td>Y</td>\n",
              "    </tr>\n",
              "  </tbody>\n",
              "</table>\n",
              "</div>"
            ],
            "text/plain": [
              "    Loan_ID  Gender  ApplicantIncome  CoapplicantIncome  LoanAmount   Area  \\\n",
              "0  LP001002     NaN           5849.0                0.0         NaN  urban   \n",
              "1  LP001003    Male           4583.0                NaN       128.0   semi   \n",
              "2  LP001005    Male           3000.0                0.0        66.0    NaN   \n",
              "3  LP001006  Female           2583.0             2358.0       120.0   semi   \n",
              "4  LP001008    Male              NaN                0.0       141.0  urban   \n",
              "\n",
              "  Loan_Status  \n",
              "0           Y  \n",
              "1           N  \n",
              "2           Y  \n",
              "3         NaN  \n",
              "4           Y  "
            ]
          },
          "execution_count": 563,
          "metadata": {},
          "output_type": "execute_result"
        }
      ],
      "source": [
        "df.head()"
      ]
    },
    {
      "cell_type": "code",
      "execution_count": null,
      "id": "31546552-08c8-4cae-8521-398966bd8b47",
      "metadata": {
        "id": "31546552-08c8-4cae-8521-398966bd8b47"
      },
      "outputs": [],
      "source": [
        "# Split by column for X(independent) and Y(dependent) variables\n",
        "X = df.iloc[:, :-1]\n",
        "Y = df.iloc[:,  [-1]]\n",
        "\n",
        "#Why [-1] for Y is written:\n",
        "\n",
        "#Double Square Brackets ([[]]): When you use double square brackets (e.g., df.iloc[:, [-1]]), pandas returns a DataFrame, or else it doesn't return a DF.\n",
        "# So when you're selecting a single column and want to return table-like data structure (dataframe, use this technique)"
      ]
    },
    {
      "cell_type": "code",
      "execution_count": null,
      "id": "19d0c87c-8593-42d0-b05f-fde685e53ae4",
      "metadata": {
        "id": "19d0c87c-8593-42d0-b05f-fde685e53ae4",
        "outputId": "8cad5756-5bd3-4ce2-8790-fd60a4b0306c"
      },
      "outputs": [
        {
          "data": {
            "text/html": [
              "<div>\n",
              "<style scoped>\n",
              "    .dataframe tbody tr th:only-of-type {\n",
              "        vertical-align: middle;\n",
              "    }\n",
              "\n",
              "    .dataframe tbody tr th {\n",
              "        vertical-align: top;\n",
              "    }\n",
              "\n",
              "    .dataframe thead th {\n",
              "        text-align: right;\n",
              "    }\n",
              "</style>\n",
              "<table border=\"1\" class=\"dataframe\">\n",
              "  <thead>\n",
              "    <tr style=\"text-align: right;\">\n",
              "      <th></th>\n",
              "      <th>Loan_ID</th>\n",
              "      <th>Gender</th>\n",
              "      <th>ApplicantIncome</th>\n",
              "      <th>CoapplicantIncome</th>\n",
              "      <th>LoanAmount</th>\n",
              "      <th>Area</th>\n",
              "    </tr>\n",
              "  </thead>\n",
              "  <tbody>\n",
              "    <tr>\n",
              "      <th>0</th>\n",
              "      <td>LP001002</td>\n",
              "      <td>NaN</td>\n",
              "      <td>5849.0</td>\n",
              "      <td>0.0</td>\n",
              "      <td>NaN</td>\n",
              "      <td>urban</td>\n",
              "    </tr>\n",
              "    <tr>\n",
              "      <th>1</th>\n",
              "      <td>LP001003</td>\n",
              "      <td>Male</td>\n",
              "      <td>4583.0</td>\n",
              "      <td>NaN</td>\n",
              "      <td>128.0</td>\n",
              "      <td>semi</td>\n",
              "    </tr>\n",
              "    <tr>\n",
              "      <th>2</th>\n",
              "      <td>LP001005</td>\n",
              "      <td>Male</td>\n",
              "      <td>3000.0</td>\n",
              "      <td>0.0</td>\n",
              "      <td>66.0</td>\n",
              "      <td>NaN</td>\n",
              "    </tr>\n",
              "    <tr>\n",
              "      <th>3</th>\n",
              "      <td>LP001006</td>\n",
              "      <td>Female</td>\n",
              "      <td>2583.0</td>\n",
              "      <td>2358.0</td>\n",
              "      <td>120.0</td>\n",
              "      <td>semi</td>\n",
              "    </tr>\n",
              "    <tr>\n",
              "      <th>4</th>\n",
              "      <td>LP001008</td>\n",
              "      <td>Male</td>\n",
              "      <td>NaN</td>\n",
              "      <td>0.0</td>\n",
              "      <td>141.0</td>\n",
              "      <td>urban</td>\n",
              "    </tr>\n",
              "  </tbody>\n",
              "</table>\n",
              "</div>"
            ],
            "text/plain": [
              "    Loan_ID  Gender  ApplicantIncome  CoapplicantIncome  LoanAmount   Area\n",
              "0  LP001002     NaN           5849.0                0.0         NaN  urban\n",
              "1  LP001003    Male           4583.0                NaN       128.0   semi\n",
              "2  LP001005    Male           3000.0                0.0        66.0    NaN\n",
              "3  LP001006  Female           2583.0             2358.0       120.0   semi\n",
              "4  LP001008    Male              NaN                0.0       141.0  urban"
            ]
          },
          "execution_count": 565,
          "metadata": {},
          "output_type": "execute_result"
        }
      ],
      "source": [
        "X.head()"
      ]
    },
    {
      "cell_type": "code",
      "execution_count": null,
      "id": "ef9f6106-706a-4961-b28c-a89d626c301b",
      "metadata": {
        "id": "ef9f6106-706a-4961-b28c-a89d626c301b",
        "outputId": "863c3e7c-1f0e-4e13-e724-0743a2f4d8b1"
      },
      "outputs": [
        {
          "data": {
            "text/html": [
              "<div>\n",
              "<style scoped>\n",
              "    .dataframe tbody tr th:only-of-type {\n",
              "        vertical-align: middle;\n",
              "    }\n",
              "\n",
              "    .dataframe tbody tr th {\n",
              "        vertical-align: top;\n",
              "    }\n",
              "\n",
              "    .dataframe thead th {\n",
              "        text-align: right;\n",
              "    }\n",
              "</style>\n",
              "<table border=\"1\" class=\"dataframe\">\n",
              "  <thead>\n",
              "    <tr style=\"text-align: right;\">\n",
              "      <th></th>\n",
              "      <th>Loan_Status</th>\n",
              "    </tr>\n",
              "  </thead>\n",
              "  <tbody>\n",
              "    <tr>\n",
              "      <th>0</th>\n",
              "      <td>Y</td>\n",
              "    </tr>\n",
              "    <tr>\n",
              "      <th>1</th>\n",
              "      <td>N</td>\n",
              "    </tr>\n",
              "    <tr>\n",
              "      <th>2</th>\n",
              "      <td>Y</td>\n",
              "    </tr>\n",
              "    <tr>\n",
              "      <th>3</th>\n",
              "      <td>NaN</td>\n",
              "    </tr>\n",
              "    <tr>\n",
              "      <th>4</th>\n",
              "      <td>Y</td>\n",
              "    </tr>\n",
              "  </tbody>\n",
              "</table>\n",
              "</div>"
            ],
            "text/plain": [
              "  Loan_Status\n",
              "0           Y\n",
              "1           N\n",
              "2           Y\n",
              "3         NaN\n",
              "4           Y"
            ]
          },
          "execution_count": 566,
          "metadata": {},
          "output_type": "execute_result"
        }
      ],
      "source": [
        "Y.head()"
      ]
    },
    {
      "cell_type": "code",
      "execution_count": null,
      "id": "49bb1197-49d3-42a6-a943-e7acbdf3d561",
      "metadata": {
        "id": "49bb1197-49d3-42a6-a943-e7acbdf3d561",
        "outputId": "dd807eda-9a67-4689-adb9-5ea8ffa0ddee"
      },
      "outputs": [
        {
          "data": {
            "text/html": [
              "<div>\n",
              "<style scoped>\n",
              "    .dataframe tbody tr th:only-of-type {\n",
              "        vertical-align: middle;\n",
              "    }\n",
              "\n",
              "    .dataframe tbody tr th {\n",
              "        vertical-align: top;\n",
              "    }\n",
              "\n",
              "    .dataframe thead th {\n",
              "        text-align: right;\n",
              "    }\n",
              "</style>\n",
              "<table border=\"1\" class=\"dataframe\">\n",
              "  <thead>\n",
              "    <tr style=\"text-align: right;\">\n",
              "      <th></th>\n",
              "      <th>Loan_ID</th>\n",
              "      <th>Gender</th>\n",
              "      <th>ApplicantIncome</th>\n",
              "      <th>CoapplicantIncome</th>\n",
              "      <th>LoanAmount</th>\n",
              "      <th>Area</th>\n",
              "      <th>Loan_Status</th>\n",
              "    </tr>\n",
              "  </thead>\n",
              "  <tbody>\n",
              "    <tr>\n",
              "      <th>0</th>\n",
              "      <td>LP001002</td>\n",
              "      <td>NaN</td>\n",
              "      <td>5849.0</td>\n",
              "      <td>0.0</td>\n",
              "      <td>NaN</td>\n",
              "      <td>urban</td>\n",
              "      <td>Y</td>\n",
              "    </tr>\n",
              "    <tr>\n",
              "      <th>1</th>\n",
              "      <td>LP001003</td>\n",
              "      <td>Male</td>\n",
              "      <td>4583.0</td>\n",
              "      <td>NaN</td>\n",
              "      <td>128.0</td>\n",
              "      <td>semi</td>\n",
              "      <td>N</td>\n",
              "    </tr>\n",
              "    <tr>\n",
              "      <th>2</th>\n",
              "      <td>LP001005</td>\n",
              "      <td>Male</td>\n",
              "      <td>3000.0</td>\n",
              "      <td>0.0</td>\n",
              "      <td>66.0</td>\n",
              "      <td>NaN</td>\n",
              "      <td>Y</td>\n",
              "    </tr>\n",
              "    <tr>\n",
              "      <th>3</th>\n",
              "      <td>LP001006</td>\n",
              "      <td>Female</td>\n",
              "      <td>2583.0</td>\n",
              "      <td>2358.0</td>\n",
              "      <td>120.0</td>\n",
              "      <td>semi</td>\n",
              "      <td>NaN</td>\n",
              "    </tr>\n",
              "    <tr>\n",
              "      <th>4</th>\n",
              "      <td>LP001008</td>\n",
              "      <td>Male</td>\n",
              "      <td>NaN</td>\n",
              "      <td>0.0</td>\n",
              "      <td>141.0</td>\n",
              "      <td>urban</td>\n",
              "      <td>Y</td>\n",
              "    </tr>\n",
              "  </tbody>\n",
              "</table>\n",
              "</div>"
            ],
            "text/plain": [
              "    Loan_ID  Gender  ApplicantIncome  CoapplicantIncome  LoanAmount   Area  \\\n",
              "0  LP001002     NaN           5849.0                0.0         NaN  urban   \n",
              "1  LP001003    Male           4583.0                NaN       128.0   semi   \n",
              "2  LP001005    Male           3000.0                0.0        66.0    NaN   \n",
              "3  LP001006  Female           2583.0             2358.0       120.0   semi   \n",
              "4  LP001008    Male              NaN                0.0       141.0  urban   \n",
              "\n",
              "  Loan_Status  \n",
              "0           Y  \n",
              "1           N  \n",
              "2           Y  \n",
              "3         NaN  \n",
              "4           Y  "
            ]
          },
          "execution_count": 567,
          "metadata": {},
          "output_type": "execute_result"
        }
      ],
      "source": [
        "df.head()"
      ]
    },
    {
      "cell_type": "code",
      "execution_count": null,
      "id": "9bd4aeaf-d621-43b7-8091-9c7770d8720f",
      "metadata": {
        "id": "9bd4aeaf-d621-43b7-8091-9c7770d8720f"
      },
      "outputs": [],
      "source": [
        "# Split by rows for training and test datasets\n",
        "from sklearn.model_selection import train_test_split\n",
        "X_train, X_test, Y_train, Y_test =      \\\n",
        "train_test_split(X, Y, test_size=0.3, random_state=1234)"
      ]
    },
    {
      "cell_type": "markdown",
      "id": "ff4fe363-4cb4-4df1-ba67-6c49afea2784",
      "metadata": {
        "id": "ff4fe363-4cb4-4df1-ba67-6c49afea2784"
      },
      "source": [
        "*Just see the results below, that the index value (row) matches for X_train and Y_train (70% split) and similary for X_test and Y_test (30% split)*\n",
        "\n",
        "**Total values in dataset = 15**\n",
        "\n",
        "**70% of 15** = 0.7*15 = 10.5 ≈ 11 (in X_train and Y_train)\n",
        "\n",
        "**30% of 15** = 0.3*15 = 4.5 ≈ 04 (in X_test and Y_test)"
      ]
    },
    {
      "cell_type": "code",
      "execution_count": null,
      "id": "edfb1f5c-fbfc-4b45-88a3-65844d9c995f",
      "metadata": {
        "id": "edfb1f5c-fbfc-4b45-88a3-65844d9c995f",
        "outputId": "afe63482-6bb8-4751-c97b-8b7a98d495c8"
      },
      "outputs": [
        {
          "data": {
            "text/html": [
              "<div>\n",
              "<style scoped>\n",
              "    .dataframe tbody tr th:only-of-type {\n",
              "        vertical-align: middle;\n",
              "    }\n",
              "\n",
              "    .dataframe tbody tr th {\n",
              "        vertical-align: top;\n",
              "    }\n",
              "\n",
              "    .dataframe thead th {\n",
              "        text-align: right;\n",
              "    }\n",
              "</style>\n",
              "<table border=\"1\" class=\"dataframe\">\n",
              "  <thead>\n",
              "    <tr style=\"text-align: right;\">\n",
              "      <th></th>\n",
              "      <th>Loan_ID</th>\n",
              "      <th>Gender</th>\n",
              "      <th>ApplicantIncome</th>\n",
              "      <th>CoapplicantIncome</th>\n",
              "      <th>LoanAmount</th>\n",
              "      <th>Area</th>\n",
              "    </tr>\n",
              "  </thead>\n",
              "  <tbody>\n",
              "    <tr>\n",
              "      <th>2</th>\n",
              "      <td>LP001005</td>\n",
              "      <td>Male</td>\n",
              "      <td>3000.0</td>\n",
              "      <td>0.0</td>\n",
              "      <td>66.0</td>\n",
              "      <td>NaN</td>\n",
              "    </tr>\n",
              "    <tr>\n",
              "      <th>10</th>\n",
              "      <td>LP001024</td>\n",
              "      <td>Female</td>\n",
              "      <td>3200.0</td>\n",
              "      <td>700.0</td>\n",
              "      <td>70.0</td>\n",
              "      <td>urban</td>\n",
              "    </tr>\n",
              "    <tr>\n",
              "      <th>7</th>\n",
              "      <td>LP001014</td>\n",
              "      <td>Female</td>\n",
              "      <td>3036.0</td>\n",
              "      <td>2504.0</td>\n",
              "      <td>158.0</td>\n",
              "      <td>semi</td>\n",
              "    </tr>\n",
              "    <tr>\n",
              "      <th>1</th>\n",
              "      <td>LP001003</td>\n",
              "      <td>Male</td>\n",
              "      <td>4583.0</td>\n",
              "      <td>NaN</td>\n",
              "      <td>128.0</td>\n",
              "      <td>semi</td>\n",
              "    </tr>\n",
              "    <tr>\n",
              "      <th>9</th>\n",
              "      <td>LP001020</td>\n",
              "      <td>Male</td>\n",
              "      <td>12841.0</td>\n",
              "      <td>10968.0</td>\n",
              "      <td>349.0</td>\n",
              "      <td>semi</td>\n",
              "    </tr>\n",
              "    <tr>\n",
              "      <th>8</th>\n",
              "      <td>LP001018</td>\n",
              "      <td>Male</td>\n",
              "      <td>4006.0</td>\n",
              "      <td>1526.0</td>\n",
              "      <td>168.0</td>\n",
              "      <td>rural</td>\n",
              "    </tr>\n",
              "    <tr>\n",
              "      <th>4</th>\n",
              "      <td>LP001008</td>\n",
              "      <td>Male</td>\n",
              "      <td>NaN</td>\n",
              "      <td>0.0</td>\n",
              "      <td>141.0</td>\n",
              "      <td>urban</td>\n",
              "    </tr>\n",
              "    <tr>\n",
              "      <th>5</th>\n",
              "      <td>LP001011</td>\n",
              "      <td>Male</td>\n",
              "      <td>5417.0</td>\n",
              "      <td>4196.0</td>\n",
              "      <td>267.0</td>\n",
              "      <td>semi</td>\n",
              "    </tr>\n",
              "    <tr>\n",
              "      <th>6</th>\n",
              "      <td>LP001013</td>\n",
              "      <td>Male</td>\n",
              "      <td>2333.0</td>\n",
              "      <td>1516.0</td>\n",
              "      <td>NaN</td>\n",
              "      <td>rural</td>\n",
              "    </tr>\n",
              "    <tr>\n",
              "      <th>3</th>\n",
              "      <td>LP001006</td>\n",
              "      <td>Female</td>\n",
              "      <td>2583.0</td>\n",
              "      <td>2358.0</td>\n",
              "      <td>120.0</td>\n",
              "      <td>semi</td>\n",
              "    </tr>\n",
              "    <tr>\n",
              "      <th>15</th>\n",
              "      <td>LP001032</td>\n",
              "      <td>Male</td>\n",
              "      <td>4950.0</td>\n",
              "      <td>0.0</td>\n",
              "      <td>125.0</td>\n",
              "      <td>semi</td>\n",
              "    </tr>\n",
              "  </tbody>\n",
              "</table>\n",
              "</div>"
            ],
            "text/plain": [
              "     Loan_ID  Gender  ApplicantIncome  CoapplicantIncome  LoanAmount   Area\n",
              "2   LP001005    Male           3000.0                0.0        66.0    NaN\n",
              "10  LP001024  Female           3200.0              700.0        70.0  urban\n",
              "7   LP001014  Female           3036.0             2504.0       158.0   semi\n",
              "1   LP001003    Male           4583.0                NaN       128.0   semi\n",
              "9   LP001020    Male          12841.0            10968.0       349.0   semi\n",
              "8   LP001018    Male           4006.0             1526.0       168.0  rural\n",
              "4   LP001008    Male              NaN                0.0       141.0  urban\n",
              "5   LP001011    Male           5417.0             4196.0       267.0   semi\n",
              "6   LP001013    Male           2333.0             1516.0         NaN  rural\n",
              "3   LP001006  Female           2583.0             2358.0       120.0   semi\n",
              "15  LP001032    Male           4950.0                0.0       125.0   semi"
            ]
          },
          "execution_count": 570,
          "metadata": {},
          "output_type": "execute_result"
        }
      ],
      "source": [
        "X_train"
      ]
    },
    {
      "cell_type": "code",
      "execution_count": null,
      "id": "c2f9322e-d2e8-49eb-9df9-fb3925016a3a",
      "metadata": {
        "id": "c2f9322e-d2e8-49eb-9df9-fb3925016a3a",
        "outputId": "4a8861d7-448d-44b1-8d74-583d76ad2db7"
      },
      "outputs": [
        {
          "data": {
            "text/html": [
              "<div>\n",
              "<style scoped>\n",
              "    .dataframe tbody tr th:only-of-type {\n",
              "        vertical-align: middle;\n",
              "    }\n",
              "\n",
              "    .dataframe tbody tr th {\n",
              "        vertical-align: top;\n",
              "    }\n",
              "\n",
              "    .dataframe thead th {\n",
              "        text-align: right;\n",
              "    }\n",
              "</style>\n",
              "<table border=\"1\" class=\"dataframe\">\n",
              "  <thead>\n",
              "    <tr style=\"text-align: right;\">\n",
              "      <th></th>\n",
              "      <th>Loan_Status</th>\n",
              "    </tr>\n",
              "  </thead>\n",
              "  <tbody>\n",
              "    <tr>\n",
              "      <th>2</th>\n",
              "      <td>Y</td>\n",
              "    </tr>\n",
              "    <tr>\n",
              "      <th>10</th>\n",
              "      <td>Y</td>\n",
              "    </tr>\n",
              "    <tr>\n",
              "      <th>7</th>\n",
              "      <td>N</td>\n",
              "    </tr>\n",
              "    <tr>\n",
              "      <th>1</th>\n",
              "      <td>N</td>\n",
              "    </tr>\n",
              "    <tr>\n",
              "      <th>9</th>\n",
              "      <td>N</td>\n",
              "    </tr>\n",
              "    <tr>\n",
              "      <th>8</th>\n",
              "      <td>Y</td>\n",
              "    </tr>\n",
              "    <tr>\n",
              "      <th>4</th>\n",
              "      <td>Y</td>\n",
              "    </tr>\n",
              "    <tr>\n",
              "      <th>5</th>\n",
              "      <td>Y</td>\n",
              "    </tr>\n",
              "    <tr>\n",
              "      <th>6</th>\n",
              "      <td>Y</td>\n",
              "    </tr>\n",
              "    <tr>\n",
              "      <th>3</th>\n",
              "      <td>NaN</td>\n",
              "    </tr>\n",
              "    <tr>\n",
              "      <th>15</th>\n",
              "      <td>Y</td>\n",
              "    </tr>\n",
              "  </tbody>\n",
              "</table>\n",
              "</div>"
            ],
            "text/plain": [
              "   Loan_Status\n",
              "2            Y\n",
              "10           Y\n",
              "7            N\n",
              "1            N\n",
              "9            N\n",
              "8            Y\n",
              "4            Y\n",
              "5            Y\n",
              "6            Y\n",
              "3          NaN\n",
              "15           Y"
            ]
          },
          "execution_count": 571,
          "metadata": {},
          "output_type": "execute_result"
        }
      ],
      "source": [
        "Y_train"
      ]
    },
    {
      "cell_type": "code",
      "execution_count": null,
      "id": "b0ac3cb8-415b-4e35-9674-a358a765a588",
      "metadata": {
        "id": "b0ac3cb8-415b-4e35-9674-a358a765a588",
        "outputId": "036edbff-c32c-429d-bca8-1e8aaf626370"
      },
      "outputs": [
        {
          "data": {
            "text/html": [
              "<div>\n",
              "<style scoped>\n",
              "    .dataframe tbody tr th:only-of-type {\n",
              "        vertical-align: middle;\n",
              "    }\n",
              "\n",
              "    .dataframe tbody tr th {\n",
              "        vertical-align: top;\n",
              "    }\n",
              "\n",
              "    .dataframe thead th {\n",
              "        text-align: right;\n",
              "    }\n",
              "</style>\n",
              "<table border=\"1\" class=\"dataframe\">\n",
              "  <thead>\n",
              "    <tr style=\"text-align: right;\">\n",
              "      <th></th>\n",
              "      <th>Loan_ID</th>\n",
              "      <th>Gender</th>\n",
              "      <th>ApplicantIncome</th>\n",
              "      <th>CoapplicantIncome</th>\n",
              "      <th>LoanAmount</th>\n",
              "      <th>Area</th>\n",
              "    </tr>\n",
              "  </thead>\n",
              "  <tbody>\n",
              "    <tr>\n",
              "      <th>13</th>\n",
              "      <td>LP001029</td>\n",
              "      <td>Male</td>\n",
              "      <td>1853.0</td>\n",
              "      <td>2840.0</td>\n",
              "      <td>114.0</td>\n",
              "      <td>urban</td>\n",
              "    </tr>\n",
              "    <tr>\n",
              "      <th>11</th>\n",
              "      <td>LP001027</td>\n",
              "      <td>Male</td>\n",
              "      <td>2500.0</td>\n",
              "      <td>1840.0</td>\n",
              "      <td>109.0</td>\n",
              "      <td>urban</td>\n",
              "    </tr>\n",
              "    <tr>\n",
              "      <th>0</th>\n",
              "      <td>LP001002</td>\n",
              "      <td>NaN</td>\n",
              "      <td>5849.0</td>\n",
              "      <td>0.0</td>\n",
              "      <td>NaN</td>\n",
              "      <td>urban</td>\n",
              "    </tr>\n",
              "    <tr>\n",
              "      <th>12</th>\n",
              "      <td>LP001028</td>\n",
              "      <td>Female</td>\n",
              "      <td>NaN</td>\n",
              "      <td>8106.0</td>\n",
              "      <td>NaN</td>\n",
              "      <td>urban</td>\n",
              "    </tr>\n",
              "    <tr>\n",
              "      <th>14</th>\n",
              "      <td>LP001030</td>\n",
              "      <td>Male</td>\n",
              "      <td>1299.0</td>\n",
              "      <td>1086.0</td>\n",
              "      <td>17.0</td>\n",
              "      <td>semi</td>\n",
              "    </tr>\n",
              "  </tbody>\n",
              "</table>\n",
              "</div>"
            ],
            "text/plain": [
              "     Loan_ID  Gender  ApplicantIncome  CoapplicantIncome  LoanAmount   Area\n",
              "13  LP001029    Male           1853.0             2840.0       114.0  urban\n",
              "11  LP001027    Male           2500.0             1840.0       109.0  urban\n",
              "0   LP001002     NaN           5849.0                0.0         NaN  urban\n",
              "12  LP001028  Female              NaN             8106.0         NaN  urban\n",
              "14  LP001030    Male           1299.0             1086.0        17.0   semi"
            ]
          },
          "execution_count": 572,
          "metadata": {},
          "output_type": "execute_result"
        }
      ],
      "source": [
        "X_test"
      ]
    },
    {
      "cell_type": "code",
      "execution_count": null,
      "id": "0ad730d6-844c-463b-a2bc-2ebd7a91e3da",
      "metadata": {
        "id": "0ad730d6-844c-463b-a2bc-2ebd7a91e3da",
        "outputId": "da7595fa-5952-4e3a-bc72-1b48da11648c"
      },
      "outputs": [
        {
          "data": {
            "text/html": [
              "<div>\n",
              "<style scoped>\n",
              "    .dataframe tbody tr th:only-of-type {\n",
              "        vertical-align: middle;\n",
              "    }\n",
              "\n",
              "    .dataframe tbody tr th {\n",
              "        vertical-align: top;\n",
              "    }\n",
              "\n",
              "    .dataframe thead th {\n",
              "        text-align: right;\n",
              "    }\n",
              "</style>\n",
              "<table border=\"1\" class=\"dataframe\">\n",
              "  <thead>\n",
              "    <tr style=\"text-align: right;\">\n",
              "      <th></th>\n",
              "      <th>Loan_Status</th>\n",
              "    </tr>\n",
              "  </thead>\n",
              "  <tbody>\n",
              "    <tr>\n",
              "      <th>13</th>\n",
              "      <td>N</td>\n",
              "    </tr>\n",
              "    <tr>\n",
              "      <th>11</th>\n",
              "      <td>Y</td>\n",
              "    </tr>\n",
              "    <tr>\n",
              "      <th>0</th>\n",
              "      <td>Y</td>\n",
              "    </tr>\n",
              "    <tr>\n",
              "      <th>12</th>\n",
              "      <td>Y</td>\n",
              "    </tr>\n",
              "    <tr>\n",
              "      <th>14</th>\n",
              "      <td>Y</td>\n",
              "    </tr>\n",
              "  </tbody>\n",
              "</table>\n",
              "</div>"
            ],
            "text/plain": [
              "   Loan_Status\n",
              "13           N\n",
              "11           Y\n",
              "0            Y\n",
              "12           Y\n",
              "14           Y"
            ]
          },
          "execution_count": 573,
          "metadata": {},
          "output_type": "execute_result"
        }
      ],
      "source": [
        "Y_test"
      ]
    }
  ],
  "metadata": {
    "kernelspec": {
      "display_name": "Python 3 (ipykernel)",
      "language": "python",
      "name": "python3"
    },
    "language_info": {
      "codemirror_mode": {
        "name": "ipython",
        "version": 3
      },
      "file_extension": ".py",
      "mimetype": "text/x-python",
      "name": "python",
      "nbconvert_exporter": "python",
      "pygments_lexer": "ipython3",
      "version": "3.12.4"
    },
    "colab": {
      "provenance": []
    }
  },
  "nbformat": 4,
  "nbformat_minor": 5
}