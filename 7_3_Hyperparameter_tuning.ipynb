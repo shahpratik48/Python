{
  "cells": [
    {
      "cell_type": "markdown",
      "metadata": {
        "id": "Q9RVRqYMiMzE"
      },
      "source": [
        "# Hyperparameter Tuning and Cross-Validation with Random Forest Regressor\n",
        "\n",
        "In this notebook, we will perform **Hyperparameter Tuning** and **Cross-Validation (CV)** using a **RandomForestRegressor** to predict the `SalePrice` of homes from the Ames Housing dataset. We will optimize the model using grid search for hyperparameters and evaluate the results using cross-validation.\n",
        "\n",
        "## 1. Introduction to Hyperparameter Tuning and Cross-Validation\n",
        "\n",
        "### Hyperparameter Tuning:\n",
        "- **Hyperparameters** are the parameters that are set before the model training process begins. These include parameters like the number of trees in a Random Forest or the depth of a decision tree.\n",
        "- The goal of **hyperparameter tuning** is to find the best set of hyperparameters that improves the model's performance.\n",
        "\n",
        "### Cross-Validation (CV):\n",
        "- **Cross-validation** is a technique to evaluate machine learning models by training them on different subsets of the data and evaluating them on the remaining parts. This helps ensure that the model is not overfitting to a specific subset of data and can generalize well to unseen data.\n",
        "\n",
        "### Search Space for Hyperparameters:\n",
        "The **search space** defines the possible values for each hyperparameter. We will define the following hyperparameters for **RandomForestRegressor**:\n",
        "- `n_estimators`: The number of trees in the forest.\n",
        "- `max_depth`: The maximum depth of each tree.\n",
        "- `min_samples_split`: The minimum number of samples required to split an internal node.\n",
        "- `min_samples_leaf`: The minimum number of samples required at each leaf node.\n",
        "\n",
        "We will use **GridSearchCV** to search over this space.\n",
        "\n",
        "---\n",
        "\n",
        "## 2. Define the Search Space for Hyperparameters\n",
        "\n",
        "Before we perform **hyperparameter tuning**, we need to define the **search space**. This search space will consist of several values for each hyperparameter, and **GridSearchCV** will evaluate all combinations.\n",
        "\n",
        "The hyperparameters we will tune include:\n",
        "- `n_estimators`: Number of trees in the forest.\n",
        "- `max_depth`: Maximum depth of the tree.\n",
        "- `min_samples_split`: Minimum number of samples required to split an internal node.\n",
        "- `min_samples_leaf`: Minimum number of samples at each leaf node.\n",
        "\n",
        "```python\n",
        "param_grid = {\n",
        "    'model__n_estimators': [50, 100, 200],  # Number of trees in the forest\n",
        "    'model__max_depth': [10, 20, None],  # Maximum depth of each tree\n",
        "    'model__min_samples_split': [2, 5, 10],  # Minimum samples to split a node\n",
        "    'model__min_samples_leaf': [1, 2,4]  # Minimum samples at a leaf node\n",
        "}\n",
        "s required at a leaf node\n",
        "}\n"
      ]
    },
    {
      "cell_type": "markdown",
      "metadata": {
        "id": "0e7bXoUbiMzH"
      },
      "source": [
        "# 3. Possible Number of Results\n",
        "\n",
        "The total number of results possible from the grid search depends on the number of combinations of hyperparameters in the search space. For each hyperparameter, we define a set of possible values.\n",
        "\n",
        "For example, if we have the following grid:\n",
        "\n",
        "- `n_estimators`: [50, 100, 200] (3 values)\n",
        "- `max_depth`: [10, 20, None] (3 values)\n",
        "- `min_samples_split`: [2, 5, 10] (3 values)\n",
        "- `min_samples_leaf`: [1, 2, 4] (3 values)\n",
        "\n",
        "The total number of possible combinations is:\n",
        "\n",
        "\\[\n",
        "3 \\times 3 \\times 3 \\times 3 = 81 \\text{ combinations}\n",
        "\\]\n",
        "\n",
        "Thus, **81 different results** will be evaluated by the grid search.\n",
        "\n",
        "If you have more hyperparameters or more values per hyperparameter, the number of possible combinations increases exponentially.\n",
        "\n",
        "You can calculate the total combinations as the product of the number of values for each hyperparameter.\n"
      ]
    },
    {
      "cell_type": "markdown",
      "metadata": {
        "id": "XCT3d26GiMzI"
      },
      "source": [
        "# 4. Code: Hyperparameter Tuning with GridSearch"
      ]
    },
    {
      "cell_type": "markdown",
      "metadata": {
        "id": "N94mOCxte3xU"
      },
      "source": [
        "**Steps Included In the code**\n",
        "\n",
        "Step 1: Importing the Libraries\n",
        "\n",
        "*   **pandas:** For handling and processing data.\n",
        "*   **sklearn:** A popular library for machine learning tasks (like training models, preprocessing data, etc.).\n",
        "\n",
        "*   **tqdm:** Used for showing a progress bar (so you can see how far along a task is).\n",
        "*   **numpy:** For numerical operations, especially with arrays.\n",
        "\n",
        "Step 2: Loading and Exploring the Data:\n",
        "\n",
        "*   **df = pd.read_csv('AmesHousing.csv') :** This line loads the dataset into a pandas DataFrame (a table-like data structure).\n",
        "*  **print(df.head()) :** Displays the first few rows of the dataset so you can see what it looks like.\n",
        "\n",
        "\n",
        "Step 3: Defining Features and Target Variable:\n",
        "\n",
        "\n",
        "*   **features:** This is the part of the dataset that contains the input data (everything except the target column SalePrice).\n",
        "\n",
        "*  **target:** This is the column we're trying to predict—SalePrice (the price of the house).\n",
        "\n",
        "Step 4: Identifying Categorical and Numerical Features:\n",
        "\n",
        "\n",
        "*   **categorical_features:** These are the columns that contain categorical data (like \"Neighborhood\" or \"GarageFinish\").\n",
        "\n",
        "*   **numerical_features:** These are the columns with numeric data (like \"LotArea\" or \"YearBuilt\").\n",
        "\n",
        "Step 5: Creating Preprocessing Pipelines :\n",
        "\n",
        "This section defines how the data will be processed before being fed into the model.\n",
        "\n",
        "*   **For numerical data:**\n",
        "\n",
        "\n",
        "1.   **Imputer:** Fills in missing values with the mean of each column.\n",
        "\n",
        "2.   **Scaler:** Scales the numerical features so they have a standard range (important for some algorithms).\n",
        "\n",
        "\n",
        "*   **For categorical data:**\n",
        "\n",
        "\n",
        "1.  **Imputer:** Fills in missing values with the string 'missing'.\n",
        "\n",
        "2.  **OneHotEncoder:** Converts categorical values into a format that the model can understand by creating binary columns for each category.\n",
        "\n",
        "Step 6 : Combining Preprocessing Steps :\n",
        "\n",
        "\n",
        "\n",
        "*   **ColumnTransformer:** This applies the numerical and categorical transformations to the respective features in the dataset.\n",
        "\n",
        "Step 7 : Splitting the Data into Training and Testing Sets:\n",
        "\n",
        "*   **train_test_split:** This splits the data into training and test sets. 80% of the data will be used to train the model, and 20% will be used for testing.\n",
        "\n",
        "Step 8 : Defining the Model:  \n",
        "*   **RandomForestRegressor:** This is a machine learning model that can predict numerical values (like house prices). It works by combining multiple decision trees to make predictions.\n",
        "\n",
        "Step 9 : Creating a Full Pipeline:\n",
        "\n",
        "\n",
        "\n",
        "*  **Pipeline:** Combines both preprocessing and modeling steps into one pipeline, making it easier to handle and fit the model.\n",
        "\n",
        "Step 10 : Setting Up Hyperparameter Tuning:   \n",
        "*   **param_grid:** Specifies the hyperparameters to test during grid search. These settings control the behavior of the RandomForest model, such as the number of trees (**n_estimators**), tree depth (**max_depth**), and how the trees split and leaf nodes are formed.\n",
        "\n",
        "Step 11 : Custom Grid Search with Progress Bar:\n",
        "\n",
        "\n",
        "\n",
        "*   **custom_grid_search:** This function manually runs a grid search to try different hyperparameter combinations from the param_grid. It also uses the tqdm progress bar to track how far along the search is.\n",
        "*   The function loops through all combinations of hyperparameters, fits the pipeline with each one, and records the R² score for each configuration.\n",
        "\n",
        "Step 12 : Running the Grid Search :\n",
        "*   **custom_grid_search(pipeline, param_grid, X_train, y_train):** This line calls the grid search function, which tests all possible combinations of hyperparameters defined in param_grid.\n",
        "\n",
        "Step 13 : Finding the Best Model::\n",
        "\n",
        "*   **max(grid_search_results, key=lambda x: x[1]):** Finds the hyperparameter combination that results in the highest R² score (best model performance).\n",
        "*   The best hyperparameters and their corresponding R² score are printed.\n",
        "*   **Mean Squared Error:** Measures the average squared difference between predicted and actual values (lower is better).\n",
        "\n",
        "Step 14 : Final Model Evaluation on Test Set:\n",
        "\n",
        "*   **pipeline.set_params(**best_params):** The pipeline is updated to use the best hyperparameters found during the grid search.\n",
        "*   **y_pred = pipeline.predict(X_test):** The final model is used to make predictions on the test set.\n",
        "*   **Evaluation:** The performance of the model is evaluated using the R² score (how well the model's predictions match the true values) and Mean Squared Error (a measure of the average error)."
      ]
    },
    {
      "cell_type": "code",
      "execution_count": null,
      "metadata": {
        "colab": {
          "background_save": true,
          "base_uri": "https://localhost:8080/"
        },
        "id": "QUS71EN2iMzI",
        "outputId": "f7a1863f-eecb-4dc7-ecee-bba32e2cd806"
      },
      "outputs": [
        {
          "name": "stdout",
          "output_type": "stream",
          "text": [
            "   Order        PID  MS SubClass MS Zoning  Lot Frontage  Lot Area Street  \\\n",
            "0      1  526301100           20        RL         141.0     31770   Pave   \n",
            "1      2  526350040           20        RH          80.0     11622   Pave   \n",
            "2      3  526351010           20        RL          81.0     14267   Pave   \n",
            "3      4  526353030           20        RL          93.0     11160   Pave   \n",
            "4      5  527105010           60        RL          74.0     13830   Pave   \n",
            "\n",
            "  Alley Lot Shape Land Contour  ... Pool Area Pool QC  Fence Misc Feature  \\\n",
            "0   NaN       IR1          Lvl  ...         0     NaN    NaN          NaN   \n",
            "1   NaN       Reg          Lvl  ...         0     NaN  MnPrv          NaN   \n",
            "2   NaN       IR1          Lvl  ...         0     NaN    NaN         Gar2   \n",
            "3   NaN       Reg          Lvl  ...         0     NaN    NaN          NaN   \n",
            "4   NaN       IR1          Lvl  ...         0     NaN  MnPrv          NaN   \n",
            "\n",
            "  Misc Val Mo Sold Yr Sold Sale Type  Sale Condition  SalePrice  \n",
            "0        0       5    2010       WD           Normal     215000  \n",
            "1        0       6    2010       WD           Normal     105000  \n",
            "2    12500       6    2010       WD           Normal     172000  \n",
            "3        0       4    2010       WD           Normal     244000  \n",
            "4        0       3    2010       WD           Normal     189900  \n",
            "\n",
            "[5 rows x 82 columns]\n"
          ]
        },
        {
          "name": "stderr",
          "output_type": "stream",
          "text": [
            "GridSearch Progress: 100%|██████████| 81/81 [34:54<00:00, 25.85s/it]"
          ]
        },
        {
          "name": "stdout",
          "output_type": "stream",
          "text": [
            "Best Hyperparameters: {'model__n_estimators': 200, 'model__max_depth': 20, 'model__min_samples_split': 2, 'model__min_samples_leaf': 1}\n",
            "Best R² Score: 0.9837748806499791\n",
            "R² Score: 0.9029640257779548\n",
            "Mean Squared Error: 777990574.3475772\n"
          ]
        },
        {
          "name": "stderr",
          "output_type": "stream",
          "text": [
            "\n"
          ]
        }
      ],
      "source": [
        "import pandas as pd\n",
        "from sklearn.model_selection import train_test_split\n",
        "from sklearn.ensemble import RandomForestRegressor\n",
        "from sklearn.model_selection import GridSearchCV\n",
        "from sklearn.metrics import mean_squared_error, r2_score\n",
        "from sklearn.preprocessing import StandardScaler\n",
        "from sklearn.impute import SimpleImputer\n",
        "from sklearn.compose import ColumnTransformer\n",
        "from sklearn.pipeline import Pipeline\n",
        "from sklearn.preprocessing import OneHotEncoder\n",
        "from tqdm import tqdm\n",
        "import numpy as np\n",
        "\n",
        "# Load Ames Housing dataset from the local CSV file\n",
        "df = pd.read_csv('AmesHousing.csv')\n",
        "\n",
        "# Check the first few rows of the dataset\n",
        "print(df.head())\n",
        "\n",
        "# Define features and target variable\n",
        "features = df.drop(['SalePrice'], axis=1)\n",
        "target = df['SalePrice']\n",
        "\n",
        "# Handle missing values and categorical variables\n",
        "categorical_features = features.select_dtypes(include=['object']).columns\n",
        "numerical_features = features.select_dtypes(exclude=['object']).columns\n",
        "\n",
        "# Preprocessing pipeline for numerical and categorical features\n",
        "numerical_transformer = Pipeline(steps=[\n",
        "    ('imputer', SimpleImputer(strategy='mean')),\n",
        "    ('scaler', StandardScaler())\n",
        "])\n",
        "\n",
        "categorical_transformer = Pipeline(steps=[\n",
        "    ('imputer', SimpleImputer(strategy='constant', fill_value='missing')),\n",
        "    ('onehot', OneHotEncoder(handle_unknown='ignore'))\n",
        "])\n",
        "\n",
        "# Combine transformations for different feature types\n",
        "preprocessor = ColumnTransformer(\n",
        "    transformers=[\n",
        "        ('num', numerical_transformer, numerical_features),\n",
        "        ('cat', categorical_transformer, categorical_features)\n",
        "    ])\n",
        "\n",
        "# Split data into train and test sets\n",
        "X_train, X_test, y_train, y_test = train_test_split(features, target, test_size=0.2, random_state=42)\n",
        "\n",
        "# Define the model\n",
        "model = RandomForestRegressor(random_state=42)\n",
        "\n",
        "# Create a pipeline that first preprocesses the data then applies the model\n",
        "pipeline = Pipeline(steps=[('preprocessor', preprocessor),\n",
        "                           ('model', model)])\n",
        "\n",
        "# Define hyperparameters for tuning\n",
        "param_grid = {\n",
        "    'model__n_estimators': [50, 100, 200],\n",
        "    'model__max_depth': [10, 20, None],\n",
        "    'model__min_samples_split': [2, 5, 10],\n",
        "    'model__min_samples_leaf': [1, 2, 4]\n",
        "}\n",
        "\n",
        "# Custom GridSearchCV with tqdm for progress bar\n",
        "def custom_grid_search(pipeline, param_grid, X_train, y_train, cv=5):\n",
        "    param_list = [dict(zip(param_grid, x)) for x in np.array(np.meshgrid(*param_grid.values())).T.reshape(-1, len(param_grid))]\n",
        "    results = []\n",
        "\n",
        "    for params in tqdm(param_list, desc=\"GridSearch Progress\"):\n",
        "        pipeline.set_params(**params)\n",
        "        pipeline.fit(X_train, y_train)\n",
        "        score = pipeline.score(X_train, y_train)  # R² score or any other metric\n",
        "        results.append((params, score))\n",
        "\n",
        "    return results\n",
        "\n",
        "# Run the custom grid search with progress bar\n",
        "grid_search_results = custom_grid_search(pipeline, param_grid, X_train, y_train)\n",
        "\n",
        "# Find the best model\n",
        "best_params, best_score = max(grid_search_results, key=lambda x: x[1])\n",
        "print(\"Best Hyperparameters:\", best_params)\n",
        "print(\"Best R² Score:\", best_score)\n",
        "\n",
        "# Get the best model from the pipeline\n",
        "pipeline.set_params(**best_params)\n",
        "\n",
        "# Make predictions on the test set\n",
        "y_pred = pipeline.predict(X_test)\n",
        "\n",
        "# Print the evaluation metrics\n",
        "print(\"R² Score:\", r2_score(y_test, y_pred))\n",
        "print(\"Mean Squared Error:\", mean_squared_error(y_test, y_pred))"
      ]
    },
    {
      "cell_type": "markdown",
      "metadata": {
        "id": "Xma4carLiMzJ"
      },
      "source": [
        "# 5. Code: Hyperparameter Tuning with GridSearch\n",
        "**(Streaming Results and Progress Bar)**\n",
        "\n",
        "Each time a parameter combination is evaluated, we **print** the current hyperparameters and the corresponding R² score. This allows us to view the performance for each parameter set as the grid search progresses, without having to wait for all iterations to finish.\n",
        "\n",
        "### `yield`\n",
        "\n",
        "We use the `yield` keyword within the `custom_grid_search()` function to return each result one by one. This allows us to **stream** each result as soon as it is computed, rather than waiting for all iterations to complete. By using `yield`, we can pause the function and resume it at each iteration, giving us immediate feedback on the current search parameters and their performance.\n",
        "\n",
        "### Progress Bar\n",
        "\n",
        "A **progress bar** is displayed using the `tqdm` library. It updates as the grid search iterates, giving a visual indication of how far along the search process is. The progress bar provides a helpful way to track the grid search's progress and ensures that the user is aware of how long the process will take."
      ]
    },
    {
      "cell_type": "markdown",
      "metadata": {
        "id": "LY6jpdkzeEty"
      },
      "source": [
        "**Steps Included In the code**\n",
        "\n",
        "Step 1: Importing the Libraries\n",
        "\n",
        "*   **pandas:** For handling and processing data.\n",
        "*   **sklearn:** A popular library for machine learning tasks (like training models, preprocessing data, etc.).\n",
        "\n",
        "*   **tqdm:** Used for showing a progress bar (so you can see how far along a task is).\n",
        "*   **numpy:** For numerical operations, especially with arrays.\n",
        "\n",
        "Step 2: Loading and Exploring the Data:\n",
        "\n",
        "*   **df = pd.read_csv('AmesHousing.csv') :** This line loads the dataset into a pandas DataFrame (a table-like data structure).\n",
        "*  **print(df.head()) :** Displays the first few rows of the dataset so you can see what it looks like.\n",
        "\n",
        "\n",
        "Step 3: Defining Features and Target Variable:\n",
        "\n",
        "\n",
        "*   **features:** This is the part of the dataset that contains the input data (everything except the target column SalePrice).\n",
        "\n",
        "*  **target:** This is the column we're trying to predict—SalePrice (the price of the house).\n",
        "\n",
        "Step 4: Handling Missing Data and Categorical Variables:\n",
        "\n",
        "\n",
        "*   **categorical_features:** These are the columns that contain categorical data (like \"Neighborhood\" or \"GarageFinish\").\n",
        "\n",
        "*   **numerical_features:** These are the columns with numeric data (like \"LotArea\" or \"YearBuilt\").\n",
        "\n",
        "Step 5: Creating Preprocessing Pipelines :\n",
        "\n",
        "This section defines how the data will be processed before being fed into the model.\n",
        "\n",
        "*   **For numerical data:**\n",
        "\n",
        "\n",
        "1.   **Imputer:** Fills in missing values with the mean of each column.\n",
        "\n",
        "2.   **Scaler:** Scales the numerical features so they have a standard range (important for some algorithms).\n",
        "\n",
        "\n",
        "*   **For categorical data:**\n",
        "\n",
        "\n",
        "1.  **Imputer:** Fills in missing values with the string 'missing'.\n",
        "\n",
        "2.  **OneHotEncoder:** Converts categorical values into a format that the model can understand by creating binary columns for each category.\n",
        "\n",
        "Step 6 : Combining Preprocessing Steps for Different Features:\n",
        "\n",
        "\n",
        "\n",
        "*   **ColumnTransformer:** This step applies the specific preprocessing steps to different types of features (numerical or categorical) based on the column type.\n",
        "\n",
        "Step 7 : Splitting the Data into Training and Testing Sets:\n",
        "\n",
        "*   **train_test_split:** This splits the data into training data (used to train the model) and test data (used to evaluate the model). The test size is 20% of the data, and the random state ensures the split is reproducible.\n",
        "\n",
        "Step 8 : Defining the Model:  \n",
        "*   **RandomForestRegressor:** A machine learning model that works well for regression tasks like predicting house prices.\n",
        "\n",
        "Step 9 : Creating a Full Pipeline:\n",
        "\n",
        "\n",
        "\n",
        "*  **Pipeline:** Combines preprocessing and model training steps into a single object. This makes it easier to apply transformations and training in one go.\n",
        "\n",
        "Step 10 : Setting Up Hyperparameter Tuning:   \n",
        "*   **param_grid:** Specifies the hyperparameters (settings) to try when tuning the model. The values will be tested to find the best combination for predicting house prices.\n",
        "\n",
        "Step 11 : Custom Grid Search with Progress Bar:\n",
        "\n",
        "\n",
        "\n",
        "*   **custom_grid_search:** This function manually runs the grid search, which tests different combinations of hyperparameters from **param_grid** to find the best one. It also uses **tqdm** to show a progress bar during the search.\n",
        "\n",
        "\n",
        "Step 12 : Running the Grid Search and Tracking the Best Model:\n",
        "*   This part loops through all combinations of hyperparameters, trains the model with each one, evaluates it, and tracks the combination that gives the best performance.\n",
        "\n",
        "Step 13 : Evaluating the Best Model:\n",
        "\n",
        "*   After finding the best hyperparameters, the model is trained again with those settings, and its performance is evaluated on the **test set**.\n",
        "*   **R² Score:** Tells you how well the model's predictions match the actual values (the closer to 1, the better).\n",
        "*   **Mean Squared Error:** Measures the average squared difference between predicted and actual values (lower is better)."
      ]
    },
    {
      "cell_type": "code",
      "execution_count": null,
      "metadata": {
        "id": "BHXw2K_4iMzK",
        "outputId": "fd690240-be28-4d10-915f-c7ff10e1a62d"
      },
      "outputs": [
        {
          "name": "stdout",
          "output_type": "stream",
          "text": [
            "   Order        PID  MS SubClass MS Zoning  Lot Frontage  Lot Area Street  \\\n",
            "0      1  526301100           20        RL         141.0     31770   Pave   \n",
            "1      2  526350040           20        RH          80.0     11622   Pave   \n",
            "2      3  526351010           20        RL          81.0     14267   Pave   \n",
            "3      4  526353030           20        RL          93.0     11160   Pave   \n",
            "4      5  527105010           60        RL          74.0     13830   Pave   \n",
            "\n",
            "  Alley Lot Shape Land Contour  ... Pool Area Pool QC  Fence Misc Feature  \\\n",
            "0   NaN       IR1          Lvl  ...         0     NaN    NaN          NaN   \n",
            "1   NaN       Reg          Lvl  ...         0     NaN  MnPrv          NaN   \n",
            "2   NaN       IR1          Lvl  ...         0     NaN    NaN         Gar2   \n",
            "3   NaN       Reg          Lvl  ...         0     NaN    NaN          NaN   \n",
            "4   NaN       IR1          Lvl  ...         0     NaN  MnPrv          NaN   \n",
            "\n",
            "  Misc Val Mo Sold Yr Sold Sale Type  Sale Condition  SalePrice  \n",
            "0        0       5    2010       WD           Normal     215000  \n",
            "1        0       6    2010       WD           Normal     105000  \n",
            "2    12500       6    2010       WD           Normal     172000  \n",
            "3        0       4    2010       WD           Normal     244000  \n",
            "4        0       3    2010       WD           Normal     189900  \n",
            "\n",
            "[5 rows x 82 columns]\n"
          ]
        },
        {
          "name": "stderr",
          "output_type": "stream",
          "text": [
            "GridSearch Progress:   1%|▊                                                             | 1/81 [00:16<21:59, 16.49s/it]"
          ]
        },
        {
          "name": "stdout",
          "output_type": "stream",
          "text": [
            "Evaluating params: {'model__n_estimators': 50, 'model__max_depth': 10, 'model__min_samples_split': 2, 'model__min_samples_leaf': 1}\n",
            "R² Score for current parameters: 0.9738\n"
          ]
        },
        {
          "name": "stderr",
          "output_type": "stream",
          "text": [
            "GridSearch Progress:   2%|█▌                                                            | 2/81 [00:47<32:42, 24.84s/it]"
          ]
        },
        {
          "name": "stdout",
          "output_type": "stream",
          "text": [
            "Evaluating params: {'model__n_estimators': 50, 'model__max_depth': 20, 'model__min_samples_split': 2, 'model__min_samples_leaf': 1}\n",
            "R² Score for current parameters: 0.9823\n"
          ]
        },
        {
          "name": "stderr",
          "output_type": "stream",
          "text": [
            "GridSearch Progress:   4%|██▎                                                           | 3/81 [01:17<35:33, 27.35s/it]"
          ]
        },
        {
          "name": "stdout",
          "output_type": "stream",
          "text": [
            "Evaluating params: {'model__n_estimators': 50, 'model__max_depth': None, 'model__min_samples_split': 2, 'model__min_samples_leaf': 1}\n",
            "R² Score for current parameters: 0.9821\n"
          ]
        },
        {
          "name": "stderr",
          "output_type": "stream",
          "text": [
            "GridSearch Progress:   5%|███                                                           | 4/81 [01:50<37:45, 29.42s/it]"
          ]
        },
        {
          "name": "stdout",
          "output_type": "stream",
          "text": [
            "Evaluating params: {'model__n_estimators': 100, 'model__max_depth': 10, 'model__min_samples_split': 2, 'model__min_samples_leaf': 1}\n",
            "R² Score for current parameters: 0.9747\n"
          ]
        },
        {
          "name": "stderr",
          "output_type": "stream",
          "text": [
            "GridSearch Progress:   6%|███▊                                                          | 5/81 [02:49<51:05, 40.34s/it]"
          ]
        },
        {
          "name": "stdout",
          "output_type": "stream",
          "text": [
            "Evaluating params: {'model__n_estimators': 100, 'model__max_depth': 20, 'model__min_samples_split': 2, 'model__min_samples_leaf': 1}\n",
            "R² Score for current parameters: 0.9832\n"
          ]
        },
        {
          "name": "stderr",
          "output_type": "stream",
          "text": [
            "GridSearch Progress:   7%|████▌                                                         | 6/81 [03:52<59:57, 47.97s/it]"
          ]
        },
        {
          "name": "stdout",
          "output_type": "stream",
          "text": [
            "Evaluating params: {'model__n_estimators': 100, 'model__max_depth': None, 'model__min_samples_split': 2, 'model__min_samples_leaf': 1}\n",
            "R² Score for current parameters: 0.9833\n"
          ]
        },
        {
          "name": "stderr",
          "output_type": "stream",
          "text": [
            "GridSearch Progress:   9%|█████▏                                                      | 7/81 [04:57<1:06:04, 53.57s/it]"
          ]
        },
        {
          "name": "stdout",
          "output_type": "stream",
          "text": [
            "Evaluating params: {'model__n_estimators': 200, 'model__max_depth': 10, 'model__min_samples_split': 2, 'model__min_samples_leaf': 1}\n",
            "R² Score for current parameters: 0.9751\n"
          ]
        },
        {
          "name": "stderr",
          "output_type": "stream",
          "text": [
            "GridSearch Progress:  10%|█████▉                                                      | 8/81 [06:59<1:31:38, 75.32s/it]"
          ]
        },
        {
          "name": "stdout",
          "output_type": "stream",
          "text": [
            "Evaluating params: {'model__n_estimators': 200, 'model__max_depth': 20, 'model__min_samples_split': 2, 'model__min_samples_leaf': 1}\n",
            "R² Score for current parameters: 0.9836\n"
          ]
        },
        {
          "name": "stderr",
          "output_type": "stream",
          "text": [
            "GridSearch Progress:  11%|██████▋                                                     | 9/81 [09:01<1:47:48, 89.84s/it]"
          ]
        },
        {
          "name": "stdout",
          "output_type": "stream",
          "text": [
            "Evaluating params: {'model__n_estimators': 200, 'model__max_depth': None, 'model__min_samples_split': 2, 'model__min_samples_leaf': 1}\n",
            "R² Score for current parameters: 0.9836\n"
          ]
        },
        {
          "name": "stderr",
          "output_type": "stream",
          "text": [
            "GridSearch Progress:  12%|███████▎                                                   | 10/81 [09:12<1:17:40, 65.64s/it]"
          ]
        },
        {
          "name": "stdout",
          "output_type": "stream",
          "text": [
            "Evaluating params: {'model__n_estimators': 50, 'model__max_depth': 10, 'model__min_samples_split': 5, 'model__min_samples_leaf': 1}\n",
            "R² Score for current parameters: 0.9696\n"
          ]
        },
        {
          "name": "stderr",
          "output_type": "stream",
          "text": [
            "GridSearch Progress:  14%|████████▎                                                    | 11/81 [09:30<59:29, 51.00s/it]"
          ]
        },
        {
          "name": "stdout",
          "output_type": "stream",
          "text": [
            "Evaluating params: {'model__n_estimators': 50, 'model__max_depth': 20, 'model__min_samples_split': 5, 'model__min_samples_leaf': 1}\n",
            "R² Score for current parameters: 0.9771\n"
          ]
        },
        {
          "name": "stderr",
          "output_type": "stream",
          "text": [
            "GridSearch Progress:  15%|█████████                                                    | 12/81 [09:48<47:09, 41.01s/it]"
          ]
        },
        {
          "name": "stdout",
          "output_type": "stream",
          "text": [
            "Evaluating params: {'model__n_estimators': 50, 'model__max_depth': None, 'model__min_samples_split': 5, 'model__min_samples_leaf': 1}\n",
            "R² Score for current parameters: 0.9774\n"
          ]
        },
        {
          "name": "stderr",
          "output_type": "stream",
          "text": [
            "GridSearch Progress:  16%|█████████▊                                                   | 13/81 [10:13<40:47, 35.99s/it]"
          ]
        },
        {
          "name": "stdout",
          "output_type": "stream",
          "text": [
            "Evaluating params: {'model__n_estimators': 100, 'model__max_depth': 10, 'model__min_samples_split': 5, 'model__min_samples_leaf': 1}\n",
            "R² Score for current parameters: 0.9704\n"
          ]
        },
        {
          "name": "stderr",
          "output_type": "stream",
          "text": [
            "GridSearch Progress:  17%|██████████▌                                                  | 14/81 [10:48<39:58, 35.80s/it]"
          ]
        },
        {
          "name": "stdout",
          "output_type": "stream",
          "text": [
            "Evaluating params: {'model__n_estimators': 100, 'model__max_depth': 20, 'model__min_samples_split': 5, 'model__min_samples_leaf': 1}\n",
            "R² Score for current parameters: 0.9782\n"
          ]
        },
        {
          "name": "stderr",
          "output_type": "stream",
          "text": [
            "GridSearch Progress:  19%|███████████▎                                                 | 15/81 [11:28<40:45, 37.06s/it]"
          ]
        },
        {
          "name": "stdout",
          "output_type": "stream",
          "text": [
            "Evaluating params: {'model__n_estimators': 100, 'model__max_depth': None, 'model__min_samples_split': 5, 'model__min_samples_leaf': 1}\n",
            "R² Score for current parameters: 0.9782\n"
          ]
        },
        {
          "name": "stderr",
          "output_type": "stream",
          "text": [
            "GridSearch Progress:  20%|████████████                                                 | 16/81 [12:19<44:45, 41.32s/it]"
          ]
        },
        {
          "name": "stdout",
          "output_type": "stream",
          "text": [
            "Evaluating params: {'model__n_estimators': 200, 'model__max_depth': 10, 'model__min_samples_split': 5, 'model__min_samples_leaf': 1}\n",
            "R² Score for current parameters: 0.9711\n"
          ]
        },
        {
          "name": "stderr",
          "output_type": "stream",
          "text": [
            "GridSearch Progress:  21%|████████████▊                                                | 17/81 [13:43<57:33, 53.97s/it]"
          ]
        },
        {
          "name": "stdout",
          "output_type": "stream",
          "text": [
            "Evaluating params: {'model__n_estimators': 200, 'model__max_depth': 20, 'model__min_samples_split': 5, 'model__min_samples_leaf': 1}\n",
            "R² Score for current parameters: 0.9789\n"
          ]
        },
        {
          "name": "stderr",
          "output_type": "stream",
          "text": [
            "GridSearch Progress:  22%|█████████████                                              | 18/81 [15:13<1:08:14, 64.99s/it]"
          ]
        },
        {
          "name": "stdout",
          "output_type": "stream",
          "text": [
            "Evaluating params: {'model__n_estimators': 200, 'model__max_depth': None, 'model__min_samples_split': 5, 'model__min_samples_leaf': 1}\n",
            "R² Score for current parameters: 0.9790\n"
          ]
        },
        {
          "name": "stderr",
          "output_type": "stream",
          "text": [
            "GridSearch Progress:  23%|██████████████▎                                              | 19/81 [15:27<51:13, 49.57s/it]"
          ]
        },
        {
          "name": "stdout",
          "output_type": "stream",
          "text": [
            "Evaluating params: {'model__n_estimators': 50, 'model__max_depth': 10, 'model__min_samples_split': 10, 'model__min_samples_leaf': 1}\n",
            "R² Score for current parameters: 0.9633\n"
          ]
        },
        {
          "name": "stderr",
          "output_type": "stream",
          "text": [
            "GridSearch Progress:  25%|███████████████                                              | 20/81 [15:47<41:18, 40.63s/it]"
          ]
        },
        {
          "name": "stdout",
          "output_type": "stream",
          "text": [
            "Evaluating params: {'model__n_estimators': 50, 'model__max_depth': 20, 'model__min_samples_split': 10, 'model__min_samples_leaf': 1}\n",
            "R² Score for current parameters: 0.9681\n"
          ]
        },
        {
          "name": "stderr",
          "output_type": "stream",
          "text": [
            "GridSearch Progress:  26%|███████████████▊                                             | 21/81 [16:07<34:24, 34.41s/it]"
          ]
        },
        {
          "name": "stdout",
          "output_type": "stream",
          "text": [
            "Evaluating params: {'model__n_estimators': 50, 'model__max_depth': None, 'model__min_samples_split': 10, 'model__min_samples_leaf': 1}\n",
            "R² Score for current parameters: 0.9684\n"
          ]
        },
        {
          "name": "stderr",
          "output_type": "stream",
          "text": [
            "GridSearch Progress:  27%|████████████████▌                                            | 22/81 [16:34<31:48, 32.34s/it]"
          ]
        },
        {
          "name": "stdout",
          "output_type": "stream",
          "text": [
            "Evaluating params: {'model__n_estimators': 100, 'model__max_depth': 10, 'model__min_samples_split': 10, 'model__min_samples_leaf': 1}\n",
            "R² Score for current parameters: 0.9637\n"
          ]
        },
        {
          "name": "stderr",
          "output_type": "stream",
          "text": [
            "GridSearch Progress:  28%|█████████████████▎                                           | 23/81 [17:12<32:53, 34.03s/it]"
          ]
        },
        {
          "name": "stdout",
          "output_type": "stream",
          "text": [
            "Evaluating params: {'model__n_estimators': 100, 'model__max_depth': 20, 'model__min_samples_split': 10, 'model__min_samples_leaf': 1}\n",
            "R² Score for current parameters: 0.9694\n"
          ]
        },
        {
          "name": "stderr",
          "output_type": "stream",
          "text": [
            "GridSearch Progress:  30%|██████████████████                                           | 24/81 [17:51<33:50, 35.63s/it]"
          ]
        },
        {
          "name": "stdout",
          "output_type": "stream",
          "text": [
            "Evaluating params: {'model__n_estimators': 100, 'model__max_depth': None, 'model__min_samples_split': 10, 'model__min_samples_leaf': 1}\n",
            "R² Score for current parameters: 0.9691\n"
          ]
        },
        {
          "name": "stderr",
          "output_type": "stream",
          "text": [
            "GridSearch Progress:  31%|██████████████████▊                                          | 25/81 [18:47<38:41, 41.46s/it]"
          ]
        },
        {
          "name": "stdout",
          "output_type": "stream",
          "text": [
            "Evaluating params: {'model__n_estimators': 200, 'model__max_depth': 10, 'model__min_samples_split': 10, 'model__min_samples_leaf': 1}\n",
            "R² Score for current parameters: 0.9642\n"
          ]
        },
        {
          "name": "stderr",
          "output_type": "stream",
          "text": [
            "GridSearch Progress:  32%|███████████████████▌                                         | 26/81 [20:02<47:15, 51.56s/it]"
          ]
        },
        {
          "name": "stdout",
          "output_type": "stream",
          "text": [
            "Evaluating params: {'model__n_estimators': 200, 'model__max_depth': 20, 'model__min_samples_split': 10, 'model__min_samples_leaf': 1}\n",
            "R² Score for current parameters: 0.9701\n"
          ]
        },
        {
          "name": "stderr",
          "output_type": "stream",
          "text": [
            "GridSearch Progress:  33%|████████████████████▎                                        | 27/81 [21:16<52:30, 58.34s/it]"
          ]
        },
        {
          "name": "stdout",
          "output_type": "stream",
          "text": [
            "Evaluating params: {'model__n_estimators': 200, 'model__max_depth': None, 'model__min_samples_split': 10, 'model__min_samples_leaf': 1}\n",
            "R² Score for current parameters: 0.9700\n"
          ]
        },
        {
          "name": "stderr",
          "output_type": "stream",
          "text": [
            "GridSearch Progress:  35%|█████████████████████                                        | 28/81 [21:31<39:59, 45.27s/it]"
          ]
        },
        {
          "name": "stdout",
          "output_type": "stream",
          "text": [
            "Evaluating params: {'model__n_estimators': 50, 'model__max_depth': 10, 'model__min_samples_split': 2, 'model__min_samples_leaf': 2}\n",
            "R² Score for current parameters: 0.9674\n"
          ]
        },
        {
          "name": "stderr",
          "output_type": "stream",
          "text": [
            "GridSearch Progress:  36%|█████████████████████▊                                       | 29/81 [21:52<33:06, 38.20s/it]"
          ]
        },
        {
          "name": "stdout",
          "output_type": "stream",
          "text": [
            "Evaluating params: {'model__n_estimators': 50, 'model__max_depth': 20, 'model__min_samples_split': 2, 'model__min_samples_leaf': 2}\n",
            "R² Score for current parameters: 0.9746\n"
          ]
        },
        {
          "name": "stderr",
          "output_type": "stream",
          "text": [
            "GridSearch Progress:  37%|██████████████████████▌                                      | 30/81 [22:15<28:27, 33.48s/it]"
          ]
        },
        {
          "name": "stdout",
          "output_type": "stream",
          "text": [
            "Evaluating params: {'model__n_estimators': 50, 'model__max_depth': None, 'model__min_samples_split': 2, 'model__min_samples_leaf': 2}\n",
            "R² Score for current parameters: 0.9747\n"
          ]
        },
        {
          "name": "stderr",
          "output_type": "stream",
          "text": [
            "GridSearch Progress:  38%|███████████████████████▎                                     | 31/81 [22:41<26:06, 31.34s/it]"
          ]
        },
        {
          "name": "stdout",
          "output_type": "stream",
          "text": [
            "Evaluating params: {'model__n_estimators': 100, 'model__max_depth': 10, 'model__min_samples_split': 2, 'model__min_samples_leaf': 2}\n",
            "R² Score for current parameters: 0.9687\n"
          ]
        },
        {
          "name": "stderr",
          "output_type": "stream",
          "text": [
            "GridSearch Progress:  40%|████████████████████████                                     | 32/81 [23:23<28:04, 34.38s/it]"
          ]
        },
        {
          "name": "stdout",
          "output_type": "stream",
          "text": [
            "Evaluating params: {'model__n_estimators': 100, 'model__max_depth': 20, 'model__min_samples_split': 2, 'model__min_samples_leaf': 2}\n",
            "R² Score for current parameters: 0.9756\n"
          ]
        },
        {
          "name": "stderr",
          "output_type": "stream",
          "text": [
            "GridSearch Progress:  41%|████████████████████████▊                                    | 33/81 [24:05<29:31, 36.91s/it]"
          ]
        },
        {
          "name": "stdout",
          "output_type": "stream",
          "text": [
            "Evaluating params: {'model__n_estimators': 100, 'model__max_depth': None, 'model__min_samples_split': 2, 'model__min_samples_leaf': 2}\n",
            "R² Score for current parameters: 0.9755\n"
          ]
        },
        {
          "name": "stderr",
          "output_type": "stream",
          "text": [
            "GridSearch Progress:  42%|█████████████████████████▌                                   | 34/81 [25:01<33:22, 42.61s/it]"
          ]
        },
        {
          "name": "stdout",
          "output_type": "stream",
          "text": [
            "Evaluating params: {'model__n_estimators': 200, 'model__max_depth': 10, 'model__min_samples_split': 2, 'model__min_samples_leaf': 2}\n",
            "R² Score for current parameters: 0.9694\n"
          ]
        },
        {
          "name": "stderr",
          "output_type": "stream",
          "text": [
            "GridSearch Progress:  43%|██████████████████████████▎                                  | 35/81 [26:22<41:29, 54.12s/it]"
          ]
        },
        {
          "name": "stdout",
          "output_type": "stream",
          "text": [
            "Evaluating params: {'model__n_estimators': 200, 'model__max_depth': 20, 'model__min_samples_split': 2, 'model__min_samples_leaf': 2}\n",
            "R² Score for current parameters: 0.9764\n"
          ]
        },
        {
          "name": "stderr",
          "output_type": "stream",
          "text": [
            "GridSearch Progress:  44%|███████████████████████████                                  | 36/81 [27:47<47:33, 63.41s/it]"
          ]
        },
        {
          "name": "stdout",
          "output_type": "stream",
          "text": [
            "Evaluating params: {'model__n_estimators': 200, 'model__max_depth': None, 'model__min_samples_split': 2, 'model__min_samples_leaf': 2}\n",
            "R² Score for current parameters: 0.9766\n"
          ]
        },
        {
          "name": "stderr",
          "output_type": "stream",
          "text": [
            "GridSearch Progress:  46%|███████████████████████████▊                                 | 37/81 [28:02<35:51, 48.91s/it]"
          ]
        },
        {
          "name": "stdout",
          "output_type": "stream",
          "text": [
            "Evaluating params: {'model__n_estimators': 50, 'model__max_depth': 10, 'model__min_samples_split': 5, 'model__min_samples_leaf': 2}\n",
            "R² Score for current parameters: 0.9667\n"
          ]
        },
        {
          "name": "stderr",
          "output_type": "stream",
          "text": [
            "GridSearch Progress:  47%|████████████████████████████▌                                | 38/81 [28:23<28:57, 40.41s/it]"
          ]
        },
        {
          "name": "stdout",
          "output_type": "stream",
          "text": [
            "Evaluating params: {'model__n_estimators': 50, 'model__max_depth': 20, 'model__min_samples_split': 5, 'model__min_samples_leaf': 2}\n",
            "R² Score for current parameters: 0.9730\n"
          ]
        },
        {
          "name": "stderr",
          "output_type": "stream",
          "text": [
            "GridSearch Progress:  48%|█████████████████████████████▎                               | 39/81 [28:43<24:00, 34.29s/it]"
          ]
        },
        {
          "name": "stdout",
          "output_type": "stream",
          "text": [
            "Evaluating params: {'model__n_estimators': 50, 'model__max_depth': None, 'model__min_samples_split': 5, 'model__min_samples_leaf': 2}\n",
            "R² Score for current parameters: 0.9729\n"
          ]
        },
        {
          "name": "stderr",
          "output_type": "stream",
          "text": [
            "GridSearch Progress:  49%|██████████████████████████████                               | 40/81 [29:10<22:00, 32.20s/it]"
          ]
        },
        {
          "name": "stdout",
          "output_type": "stream",
          "text": [
            "Evaluating params: {'model__n_estimators': 100, 'model__max_depth': 10, 'model__min_samples_split': 5, 'model__min_samples_leaf': 2}\n",
            "R² Score for current parameters: 0.9673\n"
          ]
        },
        {
          "name": "stderr",
          "output_type": "stream",
          "text": [
            "GridSearch Progress:  51%|██████████████████████████████▉                              | 41/81 [29:49<22:46, 34.16s/it]"
          ]
        },
        {
          "name": "stdout",
          "output_type": "stream",
          "text": [
            "Evaluating params: {'model__n_estimators': 100, 'model__max_depth': 20, 'model__min_samples_split': 5, 'model__min_samples_leaf': 2}\n",
            "R² Score for current parameters: 0.9739\n"
          ]
        },
        {
          "name": "stderr",
          "output_type": "stream",
          "text": [
            "GridSearch Progress:  52%|███████████████████████████████▋                             | 42/81 [30:30<23:30, 36.17s/it]"
          ]
        },
        {
          "name": "stdout",
          "output_type": "stream",
          "text": [
            "Evaluating params: {'model__n_estimators': 100, 'model__max_depth': None, 'model__min_samples_split': 5, 'model__min_samples_leaf': 2}\n",
            "R² Score for current parameters: 0.9739\n"
          ]
        },
        {
          "name": "stderr",
          "output_type": "stream",
          "text": [
            "GridSearch Progress:  53%|████████████████████████████████▍                            | 43/81 [31:26<26:46, 42.28s/it]"
          ]
        },
        {
          "name": "stdout",
          "output_type": "stream",
          "text": [
            "Evaluating params: {'model__n_estimators': 200, 'model__max_depth': 10, 'model__min_samples_split': 5, 'model__min_samples_leaf': 2}\n",
            "R² Score for current parameters: 0.9680\n"
          ]
        },
        {
          "name": "stderr",
          "output_type": "stream",
          "text": [
            "GridSearch Progress:  54%|█████████████████████████████████▏                           | 44/81 [32:47<33:12, 53.86s/it]"
          ]
        },
        {
          "name": "stdout",
          "output_type": "stream",
          "text": [
            "Evaluating params: {'model__n_estimators': 200, 'model__max_depth': 20, 'model__min_samples_split': 5, 'model__min_samples_leaf': 2}\n",
            "R² Score for current parameters: 0.9747\n"
          ]
        },
        {
          "name": "stderr",
          "output_type": "stream",
          "text": [
            "GridSearch Progress:  56%|█████████████████████████████████▉                           | 45/81 [34:10<37:28, 62.45s/it]"
          ]
        },
        {
          "name": "stdout",
          "output_type": "stream",
          "text": [
            "Evaluating params: {'model__n_estimators': 200, 'model__max_depth': None, 'model__min_samples_split': 5, 'model__min_samples_leaf': 2}\n",
            "R² Score for current parameters: 0.9747\n"
          ]
        },
        {
          "name": "stderr",
          "output_type": "stream",
          "text": [
            "GridSearch Progress:  57%|██████████████████████████████████▋                          | 46/81 [34:22<27:41, 47.46s/it]"
          ]
        },
        {
          "name": "stdout",
          "output_type": "stream",
          "text": [
            "Evaluating params: {'model__n_estimators': 50, 'model__max_depth': 10, 'model__min_samples_split': 10, 'model__min_samples_leaf': 2}\n",
            "R² Score for current parameters: 0.9592\n"
          ]
        },
        {
          "name": "stderr",
          "output_type": "stream",
          "text": [
            "GridSearch Progress:  58%|███████████████████████████████████▍                         | 47/81 [34:40<21:46, 38.42s/it]"
          ]
        },
        {
          "name": "stdout",
          "output_type": "stream",
          "text": [
            "Evaluating params: {'model__n_estimators': 50, 'model__max_depth': 20, 'model__min_samples_split': 10, 'model__min_samples_leaf': 2}\n",
            "R² Score for current parameters: 0.9645\n"
          ]
        },
        {
          "name": "stderr",
          "output_type": "stream",
          "text": [
            "GridSearch Progress:  59%|████████████████████████████████████▏                        | 48/81 [34:56<17:27, 31.74s/it]"
          ]
        },
        {
          "name": "stdout",
          "output_type": "stream",
          "text": [
            "Evaluating params: {'model__n_estimators': 50, 'model__max_depth': None, 'model__min_samples_split': 10, 'model__min_samples_leaf': 2}\n",
            "R² Score for current parameters: 0.9645\n"
          ]
        },
        {
          "name": "stderr",
          "output_type": "stream",
          "text": [
            "GridSearch Progress:  60%|████████████████████████████████████▉                        | 49/81 [35:20<15:39, 29.37s/it]"
          ]
        },
        {
          "name": "stdout",
          "output_type": "stream",
          "text": [
            "Evaluating params: {'model__n_estimators': 100, 'model__max_depth': 10, 'model__min_samples_split': 10, 'model__min_samples_leaf': 2}\n",
            "R² Score for current parameters: 0.9602\n"
          ]
        },
        {
          "name": "stderr",
          "output_type": "stream",
          "text": [
            "GridSearch Progress:  62%|█████████████████████████████████████▋                       | 50/81 [35:52<15:41, 30.36s/it]"
          ]
        },
        {
          "name": "stdout",
          "output_type": "stream",
          "text": [
            "Evaluating params: {'model__n_estimators': 100, 'model__max_depth': 20, 'model__min_samples_split': 10, 'model__min_samples_leaf': 2}\n",
            "R² Score for current parameters: 0.9654\n"
          ]
        },
        {
          "name": "stderr",
          "output_type": "stream",
          "text": [
            "GridSearch Progress:  63%|██████████████████████████████████████▍                      | 51/81 [36:24<15:26, 30.87s/it]"
          ]
        },
        {
          "name": "stdout",
          "output_type": "stream",
          "text": [
            "Evaluating params: {'model__n_estimators': 100, 'model__max_depth': None, 'model__min_samples_split': 10, 'model__min_samples_leaf': 2}\n",
            "R² Score for current parameters: 0.9653\n"
          ]
        },
        {
          "name": "stderr",
          "output_type": "stream",
          "text": [
            "GridSearch Progress:  64%|███████████████████████████████████████▏                     | 52/81 [37:11<17:12, 35.61s/it]"
          ]
        },
        {
          "name": "stdout",
          "output_type": "stream",
          "text": [
            "Evaluating params: {'model__n_estimators': 200, 'model__max_depth': 10, 'model__min_samples_split': 10, 'model__min_samples_leaf': 2}\n",
            "R² Score for current parameters: 0.9609\n"
          ]
        },
        {
          "name": "stderr",
          "output_type": "stream",
          "text": [
            "GridSearch Progress:  65%|███████████████████████████████████████▉                     | 53/81 [38:08<19:34, 41.93s/it]"
          ]
        },
        {
          "name": "stdout",
          "output_type": "stream",
          "text": [
            "Evaluating params: {'model__n_estimators': 200, 'model__max_depth': 20, 'model__min_samples_split': 10, 'model__min_samples_leaf': 2}\n",
            "R² Score for current parameters: 0.9661\n"
          ]
        },
        {
          "name": "stderr",
          "output_type": "stream",
          "text": [
            "GridSearch Progress:  67%|████████████████████████████████████████▋                    | 54/81 [39:05<20:55, 46.51s/it]"
          ]
        },
        {
          "name": "stdout",
          "output_type": "stream",
          "text": [
            "Evaluating params: {'model__n_estimators': 200, 'model__max_depth': None, 'model__min_samples_split': 10, 'model__min_samples_leaf': 2}\n",
            "R² Score for current parameters: 0.9660\n"
          ]
        },
        {
          "name": "stderr",
          "output_type": "stream",
          "text": [
            "GridSearch Progress:  68%|█████████████████████████████████████████▍                   | 55/81 [39:16<15:29, 35.77s/it]"
          ]
        },
        {
          "name": "stdout",
          "output_type": "stream",
          "text": [
            "Evaluating params: {'model__n_estimators': 50, 'model__max_depth': 10, 'model__min_samples_split': 2, 'model__min_samples_leaf': 4}\n",
            "R² Score for current parameters: 0.9534\n"
          ]
        },
        {
          "name": "stderr",
          "output_type": "stream",
          "text": [
            "GridSearch Progress:  69%|██████████████████████████████████████████▏                  | 56/81 [39:29<12:08, 29.14s/it]"
          ]
        },
        {
          "name": "stdout",
          "output_type": "stream",
          "text": [
            "Evaluating params: {'model__n_estimators': 50, 'model__max_depth': 20, 'model__min_samples_split': 2, 'model__min_samples_leaf': 4}\n",
            "R² Score for current parameters: 0.9573\n"
          ]
        },
        {
          "name": "stderr",
          "output_type": "stream",
          "text": [
            "GridSearch Progress:  70%|██████████████████████████████████████████▉                  | 57/81 [39:43<09:49, 24.55s/it]"
          ]
        },
        {
          "name": "stdout",
          "output_type": "stream",
          "text": [
            "Evaluating params: {'model__n_estimators': 50, 'model__max_depth': None, 'model__min_samples_split': 2, 'model__min_samples_leaf': 4}\n",
            "R² Score for current parameters: 0.9573\n"
          ]
        },
        {
          "name": "stderr",
          "output_type": "stream",
          "text": [
            "GridSearch Progress:  72%|███████████████████████████████████████████▋                 | 58/81 [40:05<09:04, 23.68s/it]"
          ]
        },
        {
          "name": "stdout",
          "output_type": "stream",
          "text": [
            "Evaluating params: {'model__n_estimators': 100, 'model__max_depth': 10, 'model__min_samples_split': 2, 'model__min_samples_leaf': 4}\n",
            "R² Score for current parameters: 0.9546\n"
          ]
        },
        {
          "name": "stderr",
          "output_type": "stream",
          "text": [
            "GridSearch Progress:  73%|████████████████████████████████████████████▍                | 59/81 [40:32<09:01, 24.63s/it]"
          ]
        },
        {
          "name": "stdout",
          "output_type": "stream",
          "text": [
            "Evaluating params: {'model__n_estimators': 100, 'model__max_depth': 20, 'model__min_samples_split': 2, 'model__min_samples_leaf': 4}\n",
            "R² Score for current parameters: 0.9586\n"
          ]
        },
        {
          "name": "stderr",
          "output_type": "stream",
          "text": [
            "GridSearch Progress:  74%|█████████████████████████████████████████████▏               | 60/81 [41:00<09:03, 25.86s/it]"
          ]
        },
        {
          "name": "stdout",
          "output_type": "stream",
          "text": [
            "Evaluating params: {'model__n_estimators': 100, 'model__max_depth': None, 'model__min_samples_split': 2, 'model__min_samples_leaf': 4}\n",
            "R² Score for current parameters: 0.9586\n"
          ]
        },
        {
          "name": "stderr",
          "output_type": "stream",
          "text": [
            "GridSearch Progress:  75%|█████████████████████████████████████████████▉               | 61/81 [41:46<10:35, 31.77s/it]"
          ]
        },
        {
          "name": "stdout",
          "output_type": "stream",
          "text": [
            "Evaluating params: {'model__n_estimators': 200, 'model__max_depth': 10, 'model__min_samples_split': 2, 'model__min_samples_leaf': 4}\n",
            "R² Score for current parameters: 0.9551\n"
          ]
        },
        {
          "name": "stderr",
          "output_type": "stream",
          "text": [
            "GridSearch Progress:  77%|██████████████████████████████████████████████▋              | 62/81 [42:52<13:16, 41.92s/it]"
          ]
        },
        {
          "name": "stdout",
          "output_type": "stream",
          "text": [
            "Evaluating params: {'model__n_estimators': 200, 'model__max_depth': 20, 'model__min_samples_split': 2, 'model__min_samples_leaf': 4}\n",
            "R² Score for current parameters: 0.9589\n"
          ]
        },
        {
          "name": "stderr",
          "output_type": "stream",
          "text": [
            "GridSearch Progress:  78%|███████████████████████████████████████████████▍             | 63/81 [43:56<14:34, 48.57s/it]"
          ]
        },
        {
          "name": "stdout",
          "output_type": "stream",
          "text": [
            "Evaluating params: {'model__n_estimators': 200, 'model__max_depth': None, 'model__min_samples_split': 2, 'model__min_samples_leaf': 4}\n",
            "R² Score for current parameters: 0.9589\n"
          ]
        },
        {
          "name": "stderr",
          "output_type": "stream",
          "text": [
            "GridSearch Progress:  79%|████████████████████████████████████████████████▏            | 64/81 [44:09<10:44, 37.90s/it]"
          ]
        },
        {
          "name": "stdout",
          "output_type": "stream",
          "text": [
            "Evaluating params: {'model__n_estimators': 50, 'model__max_depth': 10, 'model__min_samples_split': 5, 'model__min_samples_leaf': 4}\n",
            "R² Score for current parameters: 0.9534\n"
          ]
        },
        {
          "name": "stderr",
          "output_type": "stream",
          "text": [
            "GridSearch Progress:  80%|████████████████████████████████████████████████▉            | 65/81 [44:25<08:22, 31.41s/it]"
          ]
        },
        {
          "name": "stdout",
          "output_type": "stream",
          "text": [
            "Evaluating params: {'model__n_estimators': 50, 'model__max_depth': 20, 'model__min_samples_split': 5, 'model__min_samples_leaf': 4}\n",
            "R² Score for current parameters: 0.9573\n"
          ]
        },
        {
          "name": "stderr",
          "output_type": "stream",
          "text": [
            "GridSearch Progress:  81%|█████████████████████████████████████████████████▋           | 66/81 [44:40<06:39, 26.60s/it]"
          ]
        },
        {
          "name": "stdout",
          "output_type": "stream",
          "text": [
            "Evaluating params: {'model__n_estimators': 50, 'model__max_depth': None, 'model__min_samples_split': 5, 'model__min_samples_leaf': 4}\n",
            "R² Score for current parameters: 0.9573\n"
          ]
        },
        {
          "name": "stderr",
          "output_type": "stream",
          "text": [
            "GridSearch Progress:  83%|██████████████████████████████████████████████████▍          | 67/81 [45:02<05:51, 25.07s/it]"
          ]
        },
        {
          "name": "stdout",
          "output_type": "stream",
          "text": [
            "Evaluating params: {'model__n_estimators': 100, 'model__max_depth': 10, 'model__min_samples_split': 5, 'model__min_samples_leaf': 4}\n",
            "R² Score for current parameters: 0.9546\n"
          ]
        },
        {
          "name": "stderr",
          "output_type": "stream",
          "text": [
            "GridSearch Progress:  84%|███████████████████████████████████████████████████▏         | 68/81 [45:30<05:39, 26.15s/it]"
          ]
        },
        {
          "name": "stdout",
          "output_type": "stream",
          "text": [
            "Evaluating params: {'model__n_estimators': 100, 'model__max_depth': 20, 'model__min_samples_split': 5, 'model__min_samples_leaf': 4}\n",
            "R² Score for current parameters: 0.9586\n"
          ]
        },
        {
          "name": "stderr",
          "output_type": "stream",
          "text": [
            "GridSearch Progress:  85%|███████████████████████████████████████████████████▉         | 69/81 [45:59<05:23, 26.94s/it]"
          ]
        },
        {
          "name": "stdout",
          "output_type": "stream",
          "text": [
            "Evaluating params: {'model__n_estimators': 100, 'model__max_depth': None, 'model__min_samples_split': 5, 'model__min_samples_leaf': 4}\n",
            "R² Score for current parameters: 0.9586\n"
          ]
        },
        {
          "name": "stderr",
          "output_type": "stream",
          "text": [
            "GridSearch Progress:  86%|████████████████████████████████████████████████████▋        | 70/81 [46:47<06:06, 33.31s/it]"
          ]
        },
        {
          "name": "stdout",
          "output_type": "stream",
          "text": [
            "Evaluating params: {'model__n_estimators': 200, 'model__max_depth': 10, 'model__min_samples_split': 5, 'model__min_samples_leaf': 4}\n",
            "R² Score for current parameters: 0.9551\n"
          ]
        },
        {
          "name": "stderr",
          "output_type": "stream",
          "text": [
            "GridSearch Progress:  88%|█████████████████████████████████████████████████████▍       | 71/81 [47:48<06:54, 41.48s/it]"
          ]
        },
        {
          "name": "stdout",
          "output_type": "stream",
          "text": [
            "Evaluating params: {'model__n_estimators': 200, 'model__max_depth': 20, 'model__min_samples_split': 5, 'model__min_samples_leaf': 4}\n",
            "R² Score for current parameters: 0.9589\n"
          ]
        },
        {
          "name": "stderr",
          "output_type": "stream",
          "text": [
            "GridSearch Progress:  89%|██████████████████████████████████████████████████████▏      | 72/81 [48:55<07:23, 49.22s/it]"
          ]
        },
        {
          "name": "stdout",
          "output_type": "stream",
          "text": [
            "Evaluating params: {'model__n_estimators': 200, 'model__max_depth': None, 'model__min_samples_split': 5, 'model__min_samples_leaf': 4}\n",
            "R² Score for current parameters: 0.9589\n"
          ]
        },
        {
          "name": "stderr",
          "output_type": "stream",
          "text": [
            "GridSearch Progress:  90%|██████████████████████████████████████████████████████▉      | 73/81 [49:09<05:08, 38.56s/it]"
          ]
        },
        {
          "name": "stdout",
          "output_type": "stream",
          "text": [
            "Evaluating params: {'model__n_estimators': 50, 'model__max_depth': 10, 'model__min_samples_split': 10, 'model__min_samples_leaf': 4}\n",
            "R² Score for current parameters: 0.9506\n"
          ]
        },
        {
          "name": "stderr",
          "output_type": "stream",
          "text": [
            "GridSearch Progress:  91%|███████████████████████████████████████████████████████▋     | 74/81 [49:25<03:43, 31.90s/it]"
          ]
        },
        {
          "name": "stdout",
          "output_type": "stream",
          "text": [
            "Evaluating params: {'model__n_estimators': 50, 'model__max_depth': 20, 'model__min_samples_split': 10, 'model__min_samples_leaf': 4}\n",
            "R² Score for current parameters: 0.9543\n"
          ]
        },
        {
          "name": "stderr",
          "output_type": "stream",
          "text": [
            "GridSearch Progress:  93%|████████████████████████████████████████████████████████▍    | 75/81 [49:41<02:41, 26.98s/it]"
          ]
        },
        {
          "name": "stdout",
          "output_type": "stream",
          "text": [
            "Evaluating params: {'model__n_estimators': 50, 'model__max_depth': None, 'model__min_samples_split': 10, 'model__min_samples_leaf': 4}\n",
            "R² Score for current parameters: 0.9543\n"
          ]
        },
        {
          "name": "stderr",
          "output_type": "stream",
          "text": [
            "GridSearch Progress:  94%|█████████████████████████████████████████████████████████▏   | 76/81 [50:04<02:08, 25.73s/it]"
          ]
        },
        {
          "name": "stdout",
          "output_type": "stream",
          "text": [
            "Evaluating params: {'model__n_estimators': 100, 'model__max_depth': 10, 'model__min_samples_split': 10, 'model__min_samples_leaf': 4}\n",
            "R² Score for current parameters: 0.9517\n"
          ]
        },
        {
          "name": "stderr",
          "output_type": "stream",
          "text": [
            "GridSearch Progress:  95%|█████████████████████████████████████████████████████████▉   | 77/81 [50:29<01:42, 25.69s/it]"
          ]
        },
        {
          "name": "stdout",
          "output_type": "stream",
          "text": [
            "Evaluating params: {'model__n_estimators': 100, 'model__max_depth': 20, 'model__min_samples_split': 10, 'model__min_samples_leaf': 4}\n",
            "R² Score for current parameters: 0.9554\n"
          ]
        },
        {
          "name": "stderr",
          "output_type": "stream",
          "text": [
            "GridSearch Progress:  96%|██████████████████████████████████████████████████████████▋  | 78/81 [50:54<01:15, 25.30s/it]"
          ]
        },
        {
          "name": "stdout",
          "output_type": "stream",
          "text": [
            "Evaluating params: {'model__n_estimators': 100, 'model__max_depth': None, 'model__min_samples_split': 10, 'model__min_samples_leaf': 4}\n",
            "R² Score for current parameters: 0.9554\n"
          ]
        },
        {
          "name": "stderr",
          "output_type": "stream",
          "text": [
            "GridSearch Progress:  98%|███████████████████████████████████████████████████████████▍ | 79/81 [51:33<00:59, 29.58s/it]"
          ]
        },
        {
          "name": "stdout",
          "output_type": "stream",
          "text": [
            "Evaluating params: {'model__n_estimators': 200, 'model__max_depth': 10, 'model__min_samples_split': 10, 'model__min_samples_leaf': 4}\n",
            "R² Score for current parameters: 0.9521\n"
          ]
        },
        {
          "name": "stderr",
          "output_type": "stream",
          "text": [
            "GridSearch Progress:  99%|████████████████████████████████████████████████████████████▏| 80/81 [52:22<00:35, 35.38s/it]"
          ]
        },
        {
          "name": "stdout",
          "output_type": "stream",
          "text": [
            "Evaluating params: {'model__n_estimators': 200, 'model__max_depth': 20, 'model__min_samples_split': 10, 'model__min_samples_leaf': 4}\n",
            "R² Score for current parameters: 0.9558\n"
          ]
        },
        {
          "name": "stderr",
          "output_type": "stream",
          "text": [
            "GridSearch Progress: 100%|█████████████████████████████████████████████████████████████| 81/81 [53:11<00:00, 39.40s/it]"
          ]
        },
        {
          "name": "stdout",
          "output_type": "stream",
          "text": [
            "Evaluating params: {'model__n_estimators': 200, 'model__max_depth': None, 'model__min_samples_split': 10, 'model__min_samples_leaf': 4}\n",
            "R² Score for current parameters: 0.9558\n",
            "\n",
            "Best Hyperparameters: {'model__n_estimators': 200, 'model__max_depth': 20, 'model__min_samples_split': 2, 'model__min_samples_leaf': 1}\n",
            "Best R² Score: 0.9835951627501026\n",
            "R² Score on test set: 0.9030877014134127\n",
            "Mean Squared Error on test set: 776998999.0124081\n"
          ]
        },
        {
          "name": "stderr",
          "output_type": "stream",
          "text": [
            "\n"
          ]
        }
      ],
      "source": [
        "import pandas as pd\n",
        "from sklearn.model_selection import train_test_split\n",
        "from sklearn.ensemble import RandomForestRegressor\n",
        "from sklearn.metrics import mean_squared_error, r2_score\n",
        "from sklearn.preprocessing import StandardScaler\n",
        "from sklearn.impute import SimpleImputer\n",
        "from sklearn.compose import ColumnTransformer\n",
        "from sklearn.pipeline import Pipeline\n",
        "from sklearn.preprocessing import OneHotEncoder\n",
        "from tqdm import tqdm\n",
        "import numpy as np\n",
        "\n",
        "# Load Ames Housing dataset from the local CSV file\n",
        "df = pd.read_csv('AmesHousing.csv')\n",
        "\n",
        "# Check the first few rows of the dataset\n",
        "print(df.head())\n",
        "\n",
        "# Define features and target variable\n",
        "features = df.drop(['SalePrice'], axis=1)\n",
        "target = df['SalePrice']\n",
        "\n",
        "# Handle missing values and categorical variables\n",
        "categorical_features = features.select_dtypes(include=['object']).columns\n",
        "numerical_features = features.select_dtypes(exclude=['object']).columns\n",
        "\n",
        "# Preprocessing pipeline for numerical and categorical features\n",
        "numerical_transformer = Pipeline(steps=[\n",
        "    ('imputer', SimpleImputer(strategy='mean')),\n",
        "    ('scaler', StandardScaler())\n",
        "])\n",
        "\n",
        "categorical_transformer = Pipeline(steps=[\n",
        "    ('imputer', SimpleImputer(strategy='constant', fill_value='missing')),\n",
        "    ('onehot', OneHotEncoder(handle_unknown='ignore'))\n",
        "])\n",
        "\n",
        "# Combine transformations for different feature types\n",
        "preprocessor = ColumnTransformer(\n",
        "    transformers=[\n",
        "        ('num', numerical_transformer, numerical_features),\n",
        "        ('cat', categorical_transformer, categorical_features)\n",
        "    ])\n",
        "\n",
        "# Split data into train and test sets\n",
        "X_train, X_test, y_train, y_test = train_test_split(features, target, test_size=0.2, random_state=42)\n",
        "\n",
        "# Define the model\n",
        "model = RandomForestRegressor(random_state=42)\n",
        "\n",
        "# Create a pipeline that first preprocesses the data then applies the model\n",
        "pipeline = Pipeline(steps=[('preprocessor', preprocessor),\n",
        "                           ('model', model)])\n",
        "\n",
        "# Define hyperparameters for tuning\n",
        "param_grid = {\n",
        "    'model__n_estimators': [50, 100, 200],\n",
        "    'model__max_depth': [10, 20, None],\n",
        "    'model__min_samples_split': [2, 5, 10],\n",
        "    'model__min_samples_leaf': [1, 2, 4]\n",
        "}\n",
        "\n",
        "# Custom GridSearchCV with tqdm for progress bar and streaming results\n",
        "def custom_grid_search(pipeline, param_grid, X_train, y_train, cv=5):\n",
        "    param_list = [dict(zip(param_grid, x)) for x in np.array(np.meshgrid(*param_grid.values())).T.reshape(-1, len(param_grid))]\n",
        "\n",
        "    for params in tqdm(param_list, desc=\"GridSearch Progress\", position=0):\n",
        "        pipeline.set_params(**params)\n",
        "        pipeline.fit(X_train, y_train)\n",
        "\n",
        "        # Evaluate model performance\n",
        "        score = pipeline.score(X_train, y_train)  # R² score or other metric\n",
        "\n",
        "        # Stream results after each iteration\n",
        "        print(f\"Evaluating params: {params}\")\n",
        "        print(f\"R² Score for current parameters: {score:.4f}\")\n",
        "\n",
        "        # Optional: Record the results for further processing or selecting the best model\n",
        "        yield params, score\n",
        "\n",
        "# Run the custom grid search with progress bar and streamed results\n",
        "best_score = -np.inf\n",
        "best_params = None\n",
        "\n",
        "for params, score in custom_grid_search(pipeline, param_grid, X_train, y_train):\n",
        "    # Track the best model\n",
        "    if score > best_score:\n",
        "        best_score = score\n",
        "        best_params = params\n",
        "\n",
        "# Print the best parameters after all iterations\n",
        "print(\"\\nBest Hyperparameters:\", best_params)\n",
        "print(\"Best R² Score:\", best_score)\n",
        "\n",
        "# Set the best model in the pipeline and evaluate on the test set\n",
        "pipeline.set_params(**best_params)\n",
        "y_pred = pipeline.predict(X_test)\n",
        "\n",
        "# Print the evaluation metrics on the test set\n",
        "print(\"R² Score on test set:\", r2_score(y_test, y_pred))\n",
        "print(\"Mean Squared Error on test set:\", mean_squared_error(y_test, y_pred))\n"
      ]
    },
    {
      "cell_type": "markdown",
      "source": [
        "**Conclusion :**\n",
        "\n",
        "In this notebook, we performed hyperparameter tuning and cross-validation using a RandomForestRegressor to predict house prices from the Ames Housing dataset. By defining a search space for key hyperparameters and using GridSearchCV, we optimized the model to improve performance. Cross-validation ensured the model's ability to generalize to new data, preventing overfitting. The tuning process allowed us to identify the best hyperparameter combination for the model. Ultimately, this approach improved model accuracy and ensured reliable predictions, making the model robust and capable of performing well on unseen data, which is essential for real-world applications.\n",
        "\n",
        "**NOTE:**\n",
        "\n",
        "\n",
        "*   **custom grid search with progress bar**\n",
        "    \n",
        "   code is static i.e. it takes time to output the results of all models generated\n",
        "*  **custom grid search with progress bar and streamed results**\n",
        "\n",
        " code is with live streaming wherein model gets displayed one by one as it is generated\n",
        "\n"
      ],
      "metadata": {
        "id": "06z5e8nn4ok4"
      }
    }
  ],
  "metadata": {
    "colab": {
      "provenance": []
    },
    "kernelspec": {
      "display_name": "Python 3 (ipykernel)",
      "language": "python",
      "name": "python3"
    },
    "language_info": {
      "codemirror_mode": {
        "name": "ipython",
        "version": 3
      },
      "file_extension": ".py",
      "mimetype": "text/x-python",
      "name": "python",
      "nbconvert_exporter": "python",
      "pygments_lexer": "ipython3",
      "version": "3.12.4"
    }
  },
  "nbformat": 4,
  "nbformat_minor": 0
}