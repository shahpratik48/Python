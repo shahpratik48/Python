{
  "cells": [
    {
      "cell_type": "markdown",
      "metadata": {
        "id": "view-in-github",
        "colab_type": "text"
      },
      "source": [
        "<a href=\"https://colab.research.google.com/github/k21academyuk/Python/blob/main/7_2_Feature_Engineering.ipynb\" target=\"_parent\"><img src=\"https://colab.research.google.com/assets/colab-badge.svg\" alt=\"Open In Colab\"/></a>"
      ]
    },
    {
      "cell_type": "markdown",
      "id": "b785401a-b794-43ab-bfbb-5419c5fe5e1a",
      "metadata": {
        "id": "b785401a-b794-43ab-bfbb-5419c5fe5e1a"
      },
      "source": [
        "# Feature Engineering"
      ]
    },
    {
      "cell_type": "markdown",
      "id": "881cc3b8-b50c-488b-8bf4-c42f2c387d99",
      "metadata": {
        "id": "881cc3b8-b50c-488b-8bf4-c42f2c387d99"
      },
      "source": [
        "#### What is F-test?\n",
        "The F-test is a statistical method used in machine learning to figure out if a feature (or group of features) is useful for predicting the target variable. It helps you decide if a feature adds value or can be ignored.\n",
        "\n",
        "**For example:** If you’re predicting house prices, the F-test can tell you whether \"house size\" or \"distance from the city\" is important for the prediction or not."
      ]
    },
    {
      "cell_type": "markdown",
      "id": "21a1115e-ba0f-4dca-9d2e-15f90a117181",
      "metadata": {
        "id": "21a1115e-ba0f-4dca-9d2e-15f90a117181"
      },
      "source": [
        "#### What does the F-test do?"
      ]
    },
    {
      "cell_type": "markdown",
      "id": "c88d5633-455d-44b0-ae29-d65e96d5f42b",
      "metadata": {
        "id": "c88d5633-455d-44b0-ae29-d65e96d5f42b"
      },
      "source": [
        "It compares the variation:\n",
        "\n",
        "Between groups/features (explained by the model).\n",
        "\n",
        "Within groups (random noise or error not explained by the model).\n",
        "\n",
        "It checks if the feature significantly helps predict the target variable"
      ]
    },
    {
      "cell_type": "markdown",
      "id": "5ef1c29e-8b95-40da-99ee-e12404bfe1a5",
      "metadata": {
        "id": "5ef1c29e-8b95-40da-99ee-e12404bfe1a5"
      },
      "source": [
        "#### Why is it useful in machine learning?"
      ]
    },
    {
      "cell_type": "markdown",
      "id": "2b41c1b4-3297-4509-8d81-504ff624b3dd",
      "metadata": {
        "id": "2b41c1b4-3297-4509-8d81-504ff624b3dd"
      },
      "source": [
        "To identify which features are important for the model.\n",
        "\n",
        "To remove features that don’t add value (feature selection).\n",
        "\n",
        "To compare models with different sets of features and decide which one is better."
      ]
    },
    {
      "cell_type": "markdown",
      "id": "4b8dd81a-4b17-434e-aee1-4418215415eb",
      "metadata": {
        "id": "4b8dd81a-4b17-434e-aee1-4418215415eb"
      },
      "source": [
        "#### Simple Example\n",
        "Let’s say you’re predicting house prices using:\n",
        "\n",
        "Number of bedrooms\n",
        "\n",
        "Size of the house\n",
        "\n",
        "Distance from the city center\n",
        "\n",
        "The F-test can tell you which of these features (or a combination) really impacts the price. If \"number of bedrooms\" has a low F-statistic, it means it doesn’t help much and can be ignored."
      ]
    },
    {
      "cell_type": "markdown",
      "id": "6cabcbff-6aa5-4015-adbe-744f88485d7d",
      "metadata": {
        "id": "6cabcbff-6aa5-4015-adbe-744f88485d7d"
      },
      "source": [
        "## 1. Feature Selection with F-test"
      ]
    },
    {
      "cell_type": "markdown",
      "source": [
        "### Apply Feature Selection with F-Test on Linear Regression\n",
        "Feature selection helps in identifying the most important features in a dataset that contribute to the target variable. The **F-Test** is a statistical test used to evaluate whether the means of two or more groups are significantly different.\n",
        "\n",
        "In this code block, we apply feature selection using the F-Test in the context of Linear Regression. This helps in narrowing down the features that are most predictive of the target variable.\n",
        "\n",
        "### Comparison of Results\n",
        "After selecting features, we compare the model's performance with and without feature selection. This step helps in understanding whether the selected features improve the model’s accuracy or reduce computational complexity without compromising performance.\n"
      ],
      "metadata": {
        "id": "N1BMtC_h_eoi"
      },
      "id": "N1BMtC_h_eoi"
    },
    {
      "cell_type": "markdown",
      "source": [
        "#### Importing pandas\n",
        "We import the `pandas` library for data manipulation and analysis. It provides powerful tools to work with structured data like tables and CSV files.\n"
      ],
      "metadata": {
        "id": "iRvi2ip4_tYH"
      },
      "id": "iRvi2ip4_tYH"
    },
    {
      "cell_type": "code",
      "execution_count": null,
      "id": "c214000b-67d5-400b-9cc8-9ad9061c8d92",
      "metadata": {
        "id": "c214000b-67d5-400b-9cc8-9ad9061c8d92"
      },
      "outputs": [],
      "source": [
        "# Import libraries\n",
        "import pandas as pd"
      ]
    },
    {
      "cell_type": "markdown",
      "source": [
        "#### Reading the Dataset\n",
        "We use `pandas` to load the `Students2.csv` file into a DataFrame. This allows us to work with the data in a structured tabular format.\n"
      ],
      "metadata": {
        "id": "DLrb-TTU_4Od"
      },
      "id": "DLrb-TTU_4Od"
    },
    {
      "cell_type": "code",
      "execution_count": null,
      "id": "75bf2d6a-7d80-4d2d-8b5c-81be6dc0c35d",
      "metadata": {
        "id": "75bf2d6a-7d80-4d2d-8b5c-81be6dc0c35d"
      },
      "outputs": [],
      "source": [
        "# Read the file\n",
        "f = pd.read_csv('Students2.csv')"
      ]
    },
    {
      "cell_type": "markdown",
      "source": [
        "#### Displaying the First Few Rows\n",
        "The `head()` function is used to view the first 5 rows of the dataset. It helps in quickly inspecting the structure and content of the DataFrame.\n"
      ],
      "metadata": {
        "id": "pon4wGSxADWr"
      },
      "id": "pon4wGSxADWr"
    },
    {
      "cell_type": "code",
      "execution_count": null,
      "id": "9e55e5c4-773c-4b8d-91a7-b73c1fd947d3",
      "metadata": {
        "id": "9e55e5c4-773c-4b8d-91a7-b73c1fd947d3",
        "outputId": "d8f69ccf-70bb-451c-9bc0-1a9b017c2b07"
      },
      "outputs": [
        {
          "data": {
            "text/html": [
              "<div>\n",
              "<style scoped>\n",
              "    .dataframe tbody tr th:only-of-type {\n",
              "        vertical-align: middle;\n",
              "    }\n",
              "\n",
              "    .dataframe tbody tr th {\n",
              "        vertical-align: top;\n",
              "    }\n",
              "\n",
              "    .dataframe thead th {\n",
              "        text-align: right;\n",
              "    }\n",
              "</style>\n",
              "<table border=\"1\" class=\"dataframe\">\n",
              "  <thead>\n",
              "    <tr style=\"text-align: right;\">\n",
              "      <th></th>\n",
              "      <th>Hours</th>\n",
              "      <th>sHours</th>\n",
              "      <th>hoursplayed</th>\n",
              "      <th>income</th>\n",
              "      <th>distance</th>\n",
              "      <th>calories</th>\n",
              "      <th>Marks</th>\n",
              "    </tr>\n",
              "  </thead>\n",
              "  <tbody>\n",
              "    <tr>\n",
              "      <th>0</th>\n",
              "      <td>0</td>\n",
              "      <td>6</td>\n",
              "      <td>6</td>\n",
              "      <td>146</td>\n",
              "      <td>9</td>\n",
              "      <td>2491</td>\n",
              "      <td>34</td>\n",
              "    </tr>\n",
              "    <tr>\n",
              "      <th>1</th>\n",
              "      <td>1</td>\n",
              "      <td>7</td>\n",
              "      <td>2</td>\n",
              "      <td>112</td>\n",
              "      <td>5</td>\n",
              "      <td>2303</td>\n",
              "      <td>36</td>\n",
              "    </tr>\n",
              "    <tr>\n",
              "      <th>2</th>\n",
              "      <td>1</td>\n",
              "      <td>6</td>\n",
              "      <td>1</td>\n",
              "      <td>84</td>\n",
              "      <td>7</td>\n",
              "      <td>2475</td>\n",
              "      <td>33</td>\n",
              "    </tr>\n",
              "    <tr>\n",
              "      <th>3</th>\n",
              "      <td>1</td>\n",
              "      <td>8</td>\n",
              "      <td>5</td>\n",
              "      <td>134</td>\n",
              "      <td>0</td>\n",
              "      <td>2282</td>\n",
              "      <td>39</td>\n",
              "    </tr>\n",
              "    <tr>\n",
              "      <th>4</th>\n",
              "      <td>1</td>\n",
              "      <td>8</td>\n",
              "      <td>5</td>\n",
              "      <td>104</td>\n",
              "      <td>8</td>\n",
              "      <td>2359</td>\n",
              "      <td>42</td>\n",
              "    </tr>\n",
              "  </tbody>\n",
              "</table>\n",
              "</div>"
            ],
            "text/plain": [
              "   Hours  sHours  hoursplayed  income  distance  calories  Marks\n",
              "0      0       6            6     146         9      2491     34\n",
              "1      1       7            2     112         5      2303     36\n",
              "2      1       6            1      84         7      2475     33\n",
              "3      1       8            5     134         0      2282     39\n",
              "4      1       8            5     104         8      2359     42"
            ]
          },
          "execution_count": 23,
          "metadata": {},
          "output_type": "execute_result"
        }
      ],
      "source": [
        "f.head()"
      ]
    },
    {
      "cell_type": "markdown",
      "source": [
        "#### Splitting the Data into Features (X) and Target (Y)\n",
        "- `X`: Contains all the independent features (all columns except the last one).\n",
        "- `Y`: Contains the dependent feature (the last column), which is the target variable to be predicted.\n",
        "We use `iloc` to perform slicing based on column positions.\n"
      ],
      "metadata": {
        "id": "EqdK2epbAJQ9"
      },
      "id": "EqdK2epbAJQ9"
    },
    {
      "cell_type": "code",
      "execution_count": null,
      "id": "523f50dd-3361-45dd-8351-c1631f95ee42",
      "metadata": {
        "id": "523f50dd-3361-45dd-8351-c1631f95ee42"
      },
      "outputs": [],
      "source": [
        "# Split the columns into Dependent (Y) and independent (X) features\n",
        "x = f.iloc[:,:-1]\n",
        "y = f.iloc[:, -1]"
      ]
    },
    {
      "cell_type": "markdown",
      "source": [
        "#### Displaying the First Few Rows of Features (X)\n",
        "The `head()` function shows the first 5 rows of the independent features (`X`). This helps in understanding the structure and values of the input data.\n"
      ],
      "metadata": {
        "id": "p2ScHRuZAOhi"
      },
      "id": "p2ScHRuZAOhi"
    },
    {
      "cell_type": "code",
      "execution_count": null,
      "id": "f448b232-d411-440a-a371-37e96a1032fe",
      "metadata": {
        "id": "f448b232-d411-440a-a371-37e96a1032fe",
        "outputId": "7ba2eddb-6dac-4cfa-b526-875dfa26cab7"
      },
      "outputs": [
        {
          "data": {
            "text/html": [
              "<div>\n",
              "<style scoped>\n",
              "    .dataframe tbody tr th:only-of-type {\n",
              "        vertical-align: middle;\n",
              "    }\n",
              "\n",
              "    .dataframe tbody tr th {\n",
              "        vertical-align: top;\n",
              "    }\n",
              "\n",
              "    .dataframe thead th {\n",
              "        text-align: right;\n",
              "    }\n",
              "</style>\n",
              "<table border=\"1\" class=\"dataframe\">\n",
              "  <thead>\n",
              "    <tr style=\"text-align: right;\">\n",
              "      <th></th>\n",
              "      <th>Hours</th>\n",
              "      <th>sHours</th>\n",
              "      <th>hoursplayed</th>\n",
              "      <th>income</th>\n",
              "      <th>distance</th>\n",
              "      <th>calories</th>\n",
              "    </tr>\n",
              "  </thead>\n",
              "  <tbody>\n",
              "    <tr>\n",
              "      <th>0</th>\n",
              "      <td>0</td>\n",
              "      <td>6</td>\n",
              "      <td>6</td>\n",
              "      <td>146</td>\n",
              "      <td>9</td>\n",
              "      <td>2491</td>\n",
              "    </tr>\n",
              "    <tr>\n",
              "      <th>1</th>\n",
              "      <td>1</td>\n",
              "      <td>7</td>\n",
              "      <td>2</td>\n",
              "      <td>112</td>\n",
              "      <td>5</td>\n",
              "      <td>2303</td>\n",
              "    </tr>\n",
              "    <tr>\n",
              "      <th>2</th>\n",
              "      <td>1</td>\n",
              "      <td>6</td>\n",
              "      <td>1</td>\n",
              "      <td>84</td>\n",
              "      <td>7</td>\n",
              "      <td>2475</td>\n",
              "    </tr>\n",
              "    <tr>\n",
              "      <th>3</th>\n",
              "      <td>1</td>\n",
              "      <td>8</td>\n",
              "      <td>5</td>\n",
              "      <td>134</td>\n",
              "      <td>0</td>\n",
              "      <td>2282</td>\n",
              "    </tr>\n",
              "    <tr>\n",
              "      <th>4</th>\n",
              "      <td>1</td>\n",
              "      <td>8</td>\n",
              "      <td>5</td>\n",
              "      <td>104</td>\n",
              "      <td>8</td>\n",
              "      <td>2359</td>\n",
              "    </tr>\n",
              "  </tbody>\n",
              "</table>\n",
              "</div>"
            ],
            "text/plain": [
              "   Hours  sHours  hoursplayed  income  distance  calories\n",
              "0      0       6            6     146         9      2491\n",
              "1      1       7            2     112         5      2303\n",
              "2      1       6            1      84         7      2475\n",
              "3      1       8            5     134         0      2282\n",
              "4      1       8            5     104         8      2359"
            ]
          },
          "execution_count": 27,
          "metadata": {},
          "output_type": "execute_result"
        }
      ],
      "source": [
        "x.head()"
      ]
    },
    {
      "cell_type": "code",
      "execution_count": null,
      "id": "27099c90-b70d-45f4-b675-ea3e597ef2a7",
      "metadata": {
        "id": "27099c90-b70d-45f4-b675-ea3e597ef2a7",
        "outputId": "aaf783ce-92f4-42fa-c600-fec98fed975c"
      },
      "outputs": [
        {
          "data": {
            "text/html": [
              "<div>\n",
              "<style scoped>\n",
              "    .dataframe tbody tr th:only-of-type {\n",
              "        vertical-align: middle;\n",
              "    }\n",
              "\n",
              "    .dataframe tbody tr th {\n",
              "        vertical-align: top;\n",
              "    }\n",
              "\n",
              "    .dataframe thead th {\n",
              "        text-align: right;\n",
              "    }\n",
              "</style>\n",
              "<table border=\"1\" class=\"dataframe\">\n",
              "  <thead>\n",
              "    <tr style=\"text-align: right;\">\n",
              "      <th></th>\n",
              "      <th>Marks</th>\n",
              "    </tr>\n",
              "  </thead>\n",
              "  <tbody>\n",
              "    <tr>\n",
              "      <th>0</th>\n",
              "      <td>34</td>\n",
              "    </tr>\n",
              "    <tr>\n",
              "      <th>1</th>\n",
              "      <td>36</td>\n",
              "    </tr>\n",
              "    <tr>\n",
              "      <th>2</th>\n",
              "      <td>33</td>\n",
              "    </tr>\n",
              "    <tr>\n",
              "      <th>3</th>\n",
              "      <td>39</td>\n",
              "    </tr>\n",
              "    <tr>\n",
              "      <th>4</th>\n",
              "      <td>42</td>\n",
              "    </tr>\n",
              "  </tbody>\n",
              "</table>\n",
              "</div>"
            ],
            "text/plain": [
              "   Marks\n",
              "0     34\n",
              "1     36\n",
              "2     33\n",
              "3     39\n",
              "4     42"
            ]
          },
          "execution_count": 31,
          "metadata": {},
          "output_type": "execute_result"
        }
      ],
      "source": [
        "y.head().to_frame()"
      ]
    },
    {
      "cell_type": "code",
      "execution_count": null,
      "id": "1d5b46fb-bc3c-477b-9c21-cd7062a99bb7",
      "metadata": {
        "id": "1d5b46fb-bc3c-477b-9c21-cd7062a99bb7"
      },
      "outputs": [],
      "source": [
        "# Split the data\n",
        "from sklearn.model_selection import train_test_split\n",
        "X_train, X_test, Y_train, Y_test = \\\n",
        "train_test_split(x, y, test_size = 0.4, random_state = 1234)"
      ]
    },
    {
      "cell_type": "code",
      "execution_count": null,
      "id": "7a3d6c31-8604-46ea-804e-64aff9c4309a",
      "metadata": {
        "id": "7a3d6c31-8604-46ea-804e-64aff9c4309a"
      },
      "outputs": [],
      "source": [
        "# Perform Linear Regression using original dataset\n",
        "from sklearn.linear_model import LinearRegression"
      ]
    },
    {
      "cell_type": "code",
      "execution_count": null,
      "id": "2c9fd88c-c808-4ea3-9b8c-7566e2671ea5",
      "metadata": {
        "id": "2c9fd88c-c808-4ea3-9b8c-7566e2671ea5"
      },
      "outputs": [],
      "source": [
        "lr = LinearRegression()"
      ]
    },
    {
      "cell_type": "code",
      "execution_count": null,
      "id": "c4ada89b-b3f2-4aac-a36a-10b27af546cd",
      "metadata": {
        "id": "c4ada89b-b3f2-4aac-a36a-10b27af546cd",
        "outputId": "923488a8-709e-4e80-e63c-6f14fa6f69f0"
      },
      "outputs": [
        {
          "data": {
            "text/html": [
              "<style>#sk-container-id-1 {\n",
              "  /* Definition of color scheme common for light and dark mode */\n",
              "  --sklearn-color-text: black;\n",
              "  --sklearn-color-line: gray;\n",
              "  /* Definition of color scheme for unfitted estimators */\n",
              "  --sklearn-color-unfitted-level-0: #fff5e6;\n",
              "  --sklearn-color-unfitted-level-1: #f6e4d2;\n",
              "  --sklearn-color-unfitted-level-2: #ffe0b3;\n",
              "  --sklearn-color-unfitted-level-3: chocolate;\n",
              "  /* Definition of color scheme for fitted estimators */\n",
              "  --sklearn-color-fitted-level-0: #f0f8ff;\n",
              "  --sklearn-color-fitted-level-1: #d4ebff;\n",
              "  --sklearn-color-fitted-level-2: #b3dbfd;\n",
              "  --sklearn-color-fitted-level-3: cornflowerblue;\n",
              "\n",
              "  /* Specific color for light theme */\n",
              "  --sklearn-color-text-on-default-background: var(--sg-text-color, var(--theme-code-foreground, var(--jp-content-font-color1, black)));\n",
              "  --sklearn-color-background: var(--sg-background-color, var(--theme-background, var(--jp-layout-color0, white)));\n",
              "  --sklearn-color-border-box: var(--sg-text-color, var(--theme-code-foreground, var(--jp-content-font-color1, black)));\n",
              "  --sklearn-color-icon: #696969;\n",
              "\n",
              "  @media (prefers-color-scheme: dark) {\n",
              "    /* Redefinition of color scheme for dark theme */\n",
              "    --sklearn-color-text-on-default-background: var(--sg-text-color, var(--theme-code-foreground, var(--jp-content-font-color1, white)));\n",
              "    --sklearn-color-background: var(--sg-background-color, var(--theme-background, var(--jp-layout-color0, #111)));\n",
              "    --sklearn-color-border-box: var(--sg-text-color, var(--theme-code-foreground, var(--jp-content-font-color1, white)));\n",
              "    --sklearn-color-icon: #878787;\n",
              "  }\n",
              "}\n",
              "\n",
              "#sk-container-id-1 {\n",
              "  color: var(--sklearn-color-text);\n",
              "}\n",
              "\n",
              "#sk-container-id-1 pre {\n",
              "  padding: 0;\n",
              "}\n",
              "\n",
              "#sk-container-id-1 input.sk-hidden--visually {\n",
              "  border: 0;\n",
              "  clip: rect(1px 1px 1px 1px);\n",
              "  clip: rect(1px, 1px, 1px, 1px);\n",
              "  height: 1px;\n",
              "  margin: -1px;\n",
              "  overflow: hidden;\n",
              "  padding: 0;\n",
              "  position: absolute;\n",
              "  width: 1px;\n",
              "}\n",
              "\n",
              "#sk-container-id-1 div.sk-dashed-wrapped {\n",
              "  border: 1px dashed var(--sklearn-color-line);\n",
              "  margin: 0 0.4em 0.5em 0.4em;\n",
              "  box-sizing: border-box;\n",
              "  padding-bottom: 0.4em;\n",
              "  background-color: var(--sklearn-color-background);\n",
              "}\n",
              "\n",
              "#sk-container-id-1 div.sk-container {\n",
              "  /* jupyter's `normalize.less` sets `[hidden] { display: none; }`\n",
              "     but bootstrap.min.css set `[hidden] { display: none !important; }`\n",
              "     so we also need the `!important` here to be able to override the\n",
              "     default hidden behavior on the sphinx rendered scikit-learn.org.\n",
              "     See: https://github.com/scikit-learn/scikit-learn/issues/21755 */\n",
              "  display: inline-block !important;\n",
              "  position: relative;\n",
              "}\n",
              "\n",
              "#sk-container-id-1 div.sk-text-repr-fallback {\n",
              "  display: none;\n",
              "}\n",
              "\n",
              "div.sk-parallel-item,\n",
              "div.sk-serial,\n",
              "div.sk-item {\n",
              "  /* draw centered vertical line to link estimators */\n",
              "  background-image: linear-gradient(var(--sklearn-color-text-on-default-background), var(--sklearn-color-text-on-default-background));\n",
              "  background-size: 2px 100%;\n",
              "  background-repeat: no-repeat;\n",
              "  background-position: center center;\n",
              "}\n",
              "\n",
              "/* Parallel-specific style estimator block */\n",
              "\n",
              "#sk-container-id-1 div.sk-parallel-item::after {\n",
              "  content: \"\";\n",
              "  width: 100%;\n",
              "  border-bottom: 2px solid var(--sklearn-color-text-on-default-background);\n",
              "  flex-grow: 1;\n",
              "}\n",
              "\n",
              "#sk-container-id-1 div.sk-parallel {\n",
              "  display: flex;\n",
              "  align-items: stretch;\n",
              "  justify-content: center;\n",
              "  background-color: var(--sklearn-color-background);\n",
              "  position: relative;\n",
              "}\n",
              "\n",
              "#sk-container-id-1 div.sk-parallel-item {\n",
              "  display: flex;\n",
              "  flex-direction: column;\n",
              "}\n",
              "\n",
              "#sk-container-id-1 div.sk-parallel-item:first-child::after {\n",
              "  align-self: flex-end;\n",
              "  width: 50%;\n",
              "}\n",
              "\n",
              "#sk-container-id-1 div.sk-parallel-item:last-child::after {\n",
              "  align-self: flex-start;\n",
              "  width: 50%;\n",
              "}\n",
              "\n",
              "#sk-container-id-1 div.sk-parallel-item:only-child::after {\n",
              "  width: 0;\n",
              "}\n",
              "\n",
              "/* Serial-specific style estimator block */\n",
              "\n",
              "#sk-container-id-1 div.sk-serial {\n",
              "  display: flex;\n",
              "  flex-direction: column;\n",
              "  align-items: center;\n",
              "  background-color: var(--sklearn-color-background);\n",
              "  padding-right: 1em;\n",
              "  padding-left: 1em;\n",
              "}\n",
              "\n",
              "\n",
              "/* Toggleable style: style used for estimator/Pipeline/ColumnTransformer box that is\n",
              "clickable and can be expanded/collapsed.\n",
              "- Pipeline and ColumnTransformer use this feature and define the default style\n",
              "- Estimators will overwrite some part of the style using the `sk-estimator` class\n",
              "*/\n",
              "\n",
              "/* Pipeline and ColumnTransformer style (default) */\n",
              "\n",
              "#sk-container-id-1 div.sk-toggleable {\n",
              "  /* Default theme specific background. It is overwritten whether we have a\n",
              "  specific estimator or a Pipeline/ColumnTransformer */\n",
              "  background-color: var(--sklearn-color-background);\n",
              "}\n",
              "\n",
              "/* Toggleable label */\n",
              "#sk-container-id-1 label.sk-toggleable__label {\n",
              "  cursor: pointer;\n",
              "  display: block;\n",
              "  width: 100%;\n",
              "  margin-bottom: 0;\n",
              "  padding: 0.5em;\n",
              "  box-sizing: border-box;\n",
              "  text-align: center;\n",
              "}\n",
              "\n",
              "#sk-container-id-1 label.sk-toggleable__label-arrow:before {\n",
              "  /* Arrow on the left of the label */\n",
              "  content: \"▸\";\n",
              "  float: left;\n",
              "  margin-right: 0.25em;\n",
              "  color: var(--sklearn-color-icon);\n",
              "}\n",
              "\n",
              "#sk-container-id-1 label.sk-toggleable__label-arrow:hover:before {\n",
              "  color: var(--sklearn-color-text);\n",
              "}\n",
              "\n",
              "/* Toggleable content - dropdown */\n",
              "\n",
              "#sk-container-id-1 div.sk-toggleable__content {\n",
              "  max-height: 0;\n",
              "  max-width: 0;\n",
              "  overflow: hidden;\n",
              "  text-align: left;\n",
              "  /* unfitted */\n",
              "  background-color: var(--sklearn-color-unfitted-level-0);\n",
              "}\n",
              "\n",
              "#sk-container-id-1 div.sk-toggleable__content.fitted {\n",
              "  /* fitted */\n",
              "  background-color: var(--sklearn-color-fitted-level-0);\n",
              "}\n",
              "\n",
              "#sk-container-id-1 div.sk-toggleable__content pre {\n",
              "  margin: 0.2em;\n",
              "  border-radius: 0.25em;\n",
              "  color: var(--sklearn-color-text);\n",
              "  /* unfitted */\n",
              "  background-color: var(--sklearn-color-unfitted-level-0);\n",
              "}\n",
              "\n",
              "#sk-container-id-1 div.sk-toggleable__content.fitted pre {\n",
              "  /* unfitted */\n",
              "  background-color: var(--sklearn-color-fitted-level-0);\n",
              "}\n",
              "\n",
              "#sk-container-id-1 input.sk-toggleable__control:checked~div.sk-toggleable__content {\n",
              "  /* Expand drop-down */\n",
              "  max-height: 200px;\n",
              "  max-width: 100%;\n",
              "  overflow: auto;\n",
              "}\n",
              "\n",
              "#sk-container-id-1 input.sk-toggleable__control:checked~label.sk-toggleable__label-arrow:before {\n",
              "  content: \"▾\";\n",
              "}\n",
              "\n",
              "/* Pipeline/ColumnTransformer-specific style */\n",
              "\n",
              "#sk-container-id-1 div.sk-label input.sk-toggleable__control:checked~label.sk-toggleable__label {\n",
              "  color: var(--sklearn-color-text);\n",
              "  background-color: var(--sklearn-color-unfitted-level-2);\n",
              "}\n",
              "\n",
              "#sk-container-id-1 div.sk-label.fitted input.sk-toggleable__control:checked~label.sk-toggleable__label {\n",
              "  background-color: var(--sklearn-color-fitted-level-2);\n",
              "}\n",
              "\n",
              "/* Estimator-specific style */\n",
              "\n",
              "/* Colorize estimator box */\n",
              "#sk-container-id-1 div.sk-estimator input.sk-toggleable__control:checked~label.sk-toggleable__label {\n",
              "  /* unfitted */\n",
              "  background-color: var(--sklearn-color-unfitted-level-2);\n",
              "}\n",
              "\n",
              "#sk-container-id-1 div.sk-estimator.fitted input.sk-toggleable__control:checked~label.sk-toggleable__label {\n",
              "  /* fitted */\n",
              "  background-color: var(--sklearn-color-fitted-level-2);\n",
              "}\n",
              "\n",
              "#sk-container-id-1 div.sk-label label.sk-toggleable__label,\n",
              "#sk-container-id-1 div.sk-label label {\n",
              "  /* The background is the default theme color */\n",
              "  color: var(--sklearn-color-text-on-default-background);\n",
              "}\n",
              "\n",
              "/* On hover, darken the color of the background */\n",
              "#sk-container-id-1 div.sk-label:hover label.sk-toggleable__label {\n",
              "  color: var(--sklearn-color-text);\n",
              "  background-color: var(--sklearn-color-unfitted-level-2);\n",
              "}\n",
              "\n",
              "/* Label box, darken color on hover, fitted */\n",
              "#sk-container-id-1 div.sk-label.fitted:hover label.sk-toggleable__label.fitted {\n",
              "  color: var(--sklearn-color-text);\n",
              "  background-color: var(--sklearn-color-fitted-level-2);\n",
              "}\n",
              "\n",
              "/* Estimator label */\n",
              "\n",
              "#sk-container-id-1 div.sk-label label {\n",
              "  font-family: monospace;\n",
              "  font-weight: bold;\n",
              "  display: inline-block;\n",
              "  line-height: 1.2em;\n",
              "}\n",
              "\n",
              "#sk-container-id-1 div.sk-label-container {\n",
              "  text-align: center;\n",
              "}\n",
              "\n",
              "/* Estimator-specific */\n",
              "#sk-container-id-1 div.sk-estimator {\n",
              "  font-family: monospace;\n",
              "  border: 1px dotted var(--sklearn-color-border-box);\n",
              "  border-radius: 0.25em;\n",
              "  box-sizing: border-box;\n",
              "  margin-bottom: 0.5em;\n",
              "  /* unfitted */\n",
              "  background-color: var(--sklearn-color-unfitted-level-0);\n",
              "}\n",
              "\n",
              "#sk-container-id-1 div.sk-estimator.fitted {\n",
              "  /* fitted */\n",
              "  background-color: var(--sklearn-color-fitted-level-0);\n",
              "}\n",
              "\n",
              "/* on hover */\n",
              "#sk-container-id-1 div.sk-estimator:hover {\n",
              "  /* unfitted */\n",
              "  background-color: var(--sklearn-color-unfitted-level-2);\n",
              "}\n",
              "\n",
              "#sk-container-id-1 div.sk-estimator.fitted:hover {\n",
              "  /* fitted */\n",
              "  background-color: var(--sklearn-color-fitted-level-2);\n",
              "}\n",
              "\n",
              "/* Specification for estimator info (e.g. \"i\" and \"?\") */\n",
              "\n",
              "/* Common style for \"i\" and \"?\" */\n",
              "\n",
              ".sk-estimator-doc-link,\n",
              "a:link.sk-estimator-doc-link,\n",
              "a:visited.sk-estimator-doc-link {\n",
              "  float: right;\n",
              "  font-size: smaller;\n",
              "  line-height: 1em;\n",
              "  font-family: monospace;\n",
              "  background-color: var(--sklearn-color-background);\n",
              "  border-radius: 1em;\n",
              "  height: 1em;\n",
              "  width: 1em;\n",
              "  text-decoration: none !important;\n",
              "  margin-left: 1ex;\n",
              "  /* unfitted */\n",
              "  border: var(--sklearn-color-unfitted-level-1) 1pt solid;\n",
              "  color: var(--sklearn-color-unfitted-level-1);\n",
              "}\n",
              "\n",
              ".sk-estimator-doc-link.fitted,\n",
              "a:link.sk-estimator-doc-link.fitted,\n",
              "a:visited.sk-estimator-doc-link.fitted {\n",
              "  /* fitted */\n",
              "  border: var(--sklearn-color-fitted-level-1) 1pt solid;\n",
              "  color: var(--sklearn-color-fitted-level-1);\n",
              "}\n",
              "\n",
              "/* On hover */\n",
              "div.sk-estimator:hover .sk-estimator-doc-link:hover,\n",
              ".sk-estimator-doc-link:hover,\n",
              "div.sk-label-container:hover .sk-estimator-doc-link:hover,\n",
              ".sk-estimator-doc-link:hover {\n",
              "  /* unfitted */\n",
              "  background-color: var(--sklearn-color-unfitted-level-3);\n",
              "  color: var(--sklearn-color-background);\n",
              "  text-decoration: none;\n",
              "}\n",
              "\n",
              "div.sk-estimator.fitted:hover .sk-estimator-doc-link.fitted:hover,\n",
              ".sk-estimator-doc-link.fitted:hover,\n",
              "div.sk-label-container:hover .sk-estimator-doc-link.fitted:hover,\n",
              ".sk-estimator-doc-link.fitted:hover {\n",
              "  /* fitted */\n",
              "  background-color: var(--sklearn-color-fitted-level-3);\n",
              "  color: var(--sklearn-color-background);\n",
              "  text-decoration: none;\n",
              "}\n",
              "\n",
              "/* Span, style for the box shown on hovering the info icon */\n",
              ".sk-estimator-doc-link span {\n",
              "  display: none;\n",
              "  z-index: 9999;\n",
              "  position: relative;\n",
              "  font-weight: normal;\n",
              "  right: .2ex;\n",
              "  padding: .5ex;\n",
              "  margin: .5ex;\n",
              "  width: min-content;\n",
              "  min-width: 20ex;\n",
              "  max-width: 50ex;\n",
              "  color: var(--sklearn-color-text);\n",
              "  box-shadow: 2pt 2pt 4pt #999;\n",
              "  /* unfitted */\n",
              "  background: var(--sklearn-color-unfitted-level-0);\n",
              "  border: .5pt solid var(--sklearn-color-unfitted-level-3);\n",
              "}\n",
              "\n",
              ".sk-estimator-doc-link.fitted span {\n",
              "  /* fitted */\n",
              "  background: var(--sklearn-color-fitted-level-0);\n",
              "  border: var(--sklearn-color-fitted-level-3);\n",
              "}\n",
              "\n",
              ".sk-estimator-doc-link:hover span {\n",
              "  display: block;\n",
              "}\n",
              "\n",
              "/* \"?\"-specific style due to the `<a>` HTML tag */\n",
              "\n",
              "#sk-container-id-1 a.estimator_doc_link {\n",
              "  float: right;\n",
              "  font-size: 1rem;\n",
              "  line-height: 1em;\n",
              "  font-family: monospace;\n",
              "  background-color: var(--sklearn-color-background);\n",
              "  border-radius: 1rem;\n",
              "  height: 1rem;\n",
              "  width: 1rem;\n",
              "  text-decoration: none;\n",
              "  /* unfitted */\n",
              "  color: var(--sklearn-color-unfitted-level-1);\n",
              "  border: var(--sklearn-color-unfitted-level-1) 1pt solid;\n",
              "}\n",
              "\n",
              "#sk-container-id-1 a.estimator_doc_link.fitted {\n",
              "  /* fitted */\n",
              "  border: var(--sklearn-color-fitted-level-1) 1pt solid;\n",
              "  color: var(--sklearn-color-fitted-level-1);\n",
              "}\n",
              "\n",
              "/* On hover */\n",
              "#sk-container-id-1 a.estimator_doc_link:hover {\n",
              "  /* unfitted */\n",
              "  background-color: var(--sklearn-color-unfitted-level-3);\n",
              "  color: var(--sklearn-color-background);\n",
              "  text-decoration: none;\n",
              "}\n",
              "\n",
              "#sk-container-id-1 a.estimator_doc_link.fitted:hover {\n",
              "  /* fitted */\n",
              "  background-color: var(--sklearn-color-fitted-level-3);\n",
              "}\n",
              "</style><div id=\"sk-container-id-1\" class=\"sk-top-container\"><div class=\"sk-text-repr-fallback\"><pre>LinearRegression()</pre><b>In a Jupyter environment, please rerun this cell to show the HTML representation or trust the notebook. <br />On GitHub, the HTML representation is unable to render, please try loading this page with nbviewer.org.</b></div><div class=\"sk-container\" hidden><div class=\"sk-item\"><div class=\"sk-estimator fitted sk-toggleable\"><input class=\"sk-toggleable__control sk-hidden--visually\" id=\"sk-estimator-id-1\" type=\"checkbox\" checked><label for=\"sk-estimator-id-1\" class=\"sk-toggleable__label fitted sk-toggleable__label-arrow fitted\">&nbsp;&nbsp;LinearRegression<a class=\"sk-estimator-doc-link fitted\" rel=\"noreferrer\" target=\"_blank\" href=\"https://scikit-learn.org/1.4/modules/generated/sklearn.linear_model.LinearRegression.html\">?<span>Documentation for LinearRegression</span></a><span class=\"sk-estimator-doc-link fitted\">i<span>Fitted</span></span></label><div class=\"sk-toggleable__content fitted\"><pre>LinearRegression()</pre></div> </div></div></div></div>"
            ],
            "text/plain": [
              "LinearRegression()"
            ]
          },
          "execution_count": 43,
          "metadata": {},
          "output_type": "execute_result"
        }
      ],
      "source": [
        "lr.fit(X_train, Y_train)"
      ]
    },
    {
      "cell_type": "code",
      "execution_count": null,
      "id": "93b0444f-e789-4703-b162-a9c08c342c9e",
      "metadata": {
        "id": "93b0444f-e789-4703-b162-a9c08c342c9e"
      },
      "outputs": [],
      "source": [
        "y_predict = lr.predict(X_test)"
      ]
    },
    {
      "cell_type": "code",
      "execution_count": null,
      "id": "5f683a22-77f5-46c2-b3f8-a96b277d2d5a",
      "metadata": {
        "id": "5f683a22-77f5-46c2-b3f8-a96b277d2d5a",
        "outputId": "70a13710-e5e7-49b3-b042-01ef4584af59"
      },
      "outputs": [
        {
          "data": {
            "text/plain": [
              "7     45\n",
              "10    56\n",
              "4     42\n",
              "1     36\n",
              "28    82\n",
              "8     53\n",
              "3     39\n",
              "23    89\n",
              "14    72\n",
              "13    56\n",
              "22    71\n",
              "24    82\n",
              "Name: Marks, dtype: int64"
            ]
          },
          "execution_count": 69,
          "metadata": {},
          "output_type": "execute_result"
        }
      ],
      "source": [
        "Y_test"
      ]
    },
    {
      "cell_type": "code",
      "execution_count": null,
      "id": "40d26476-3228-4ca9-bfe5-3454b36c3d32",
      "metadata": {
        "id": "40d26476-3228-4ca9-bfe5-3454b36c3d32",
        "outputId": "5f402978-b85f-460c-96d1-eaba7056c3cb"
      },
      "outputs": [
        {
          "data": {
            "text/plain": [
              "[37.43043619598965,\n",
              " 56.84799579604985,\n",
              " 38.85467353701599,\n",
              " 38.975672999863235,\n",
              " 82.86947671956898,\n",
              " 59.67634561811308,\n",
              " 52.29968092971381,\n",
              " 81.1729075926475,\n",
              " 67.775629380509,\n",
              " 63.75778539649318,\n",
              " 82.18209853962895,\n",
              " 86.65908659236905]"
            ]
          },
          "execution_count": 73,
          "metadata": {},
          "output_type": "execute_result"
        }
      ],
      "source": [
        "y_predict.tolist()"
      ]
    },
    {
      "cell_type": "code",
      "execution_count": null,
      "id": "1cd142e6-2221-4459-987a-83c9adc5ceb4",
      "metadata": {
        "id": "1cd142e6-2221-4459-987a-83c9adc5ceb4"
      },
      "outputs": [],
      "source": [
        "# Calculate the RMSE error for the regression\n",
        "from sklearn.metrics import mean_squared_error\n",
        "import math\n",
        "rmse = math.sqrt(mean_squared_error(Y_test, y_predict))"
      ]
    },
    {
      "cell_type": "code",
      "execution_count": null,
      "id": "6e894c4e-68f9-4f02-ab66-4bafe2413c4d",
      "metadata": {
        "id": "6e894c4e-68f9-4f02-ab66-4bafe2413c4d",
        "outputId": "f61f4861-3a8c-4294-dfb5-6585d66662ee"
      },
      "outputs": [
        {
          "data": {
            "text/plain": [
              "6.982206715357434"
            ]
          },
          "execution_count": 77,
          "metadata": {},
          "output_type": "execute_result"
        }
      ],
      "source": [
        "rmse"
      ]
    },
    {
      "cell_type": "code",
      "execution_count": null,
      "id": "020d4eb1-22b3-4c28-aa32-1e761ccc293b",
      "metadata": {
        "id": "020d4eb1-22b3-4c28-aa32-1e761ccc293b"
      },
      "outputs": [],
      "source": [
        "# import and perform the f_regression to get the F-Score and P-Values\n",
        "from sklearn.feature_selection import f_regression as fr\n",
        "result = fr(x,y)"
      ]
    },
    {
      "cell_type": "code",
      "execution_count": null,
      "id": "bb876a4b-3a0b-4472-9b69-b4c0865f3b68",
      "metadata": {
        "id": "bb876a4b-3a0b-4472-9b69-b4c0865f3b68",
        "outputId": "987adf2c-befd-4ee4-a08e-5d4075f5a1f3"
      },
      "outputs": [
        {
          "data": {
            "text/plain": [
              "(array([1.41905913e+02, 4.57019756e+00, 1.44882087e-03, 1.59990513e-01,\n",
              "        3.16606568e-03, 4.04208927e-01]),\n",
              " array([1.77038466e-12, 4.14028344e-02, 9.69907241e-01, 6.92200477e-01,\n",
              "        9.55528076e-01, 5.30086171e-01]))"
            ]
          },
          "execution_count": 81,
          "metadata": {},
          "output_type": "execute_result"
        }
      ],
      "source": [
        "result"
      ]
    },
    {
      "cell_type": "code",
      "execution_count": null,
      "id": "0a2e630b-8f9d-47e7-98c8-efd3c04d03b2",
      "metadata": {
        "id": "0a2e630b-8f9d-47e7-98c8-efd3c04d03b2"
      },
      "outputs": [],
      "source": [
        "# Split the result tuple into F_Score and P_Values\n",
        "f_score = result[0]\n",
        "p_values = result[1]"
      ]
    },
    {
      "cell_type": "code",
      "execution_count": null,
      "id": "3f0299fb-d8eb-4f45-9648-55a443fb42d2",
      "metadata": {
        "id": "3f0299fb-d8eb-4f45-9648-55a443fb42d2",
        "outputId": "5197a94c-d1c9-4aab-e111-486e3974c5d4"
      },
      "outputs": [
        {
          "data": {
            "text/plain": [
              "array([1.41905913e+02, 4.57019756e+00, 1.44882087e-03, 1.59990513e-01,\n",
              "       3.16606568e-03, 4.04208927e-01])"
            ]
          },
          "execution_count": 85,
          "metadata": {},
          "output_type": "execute_result"
        }
      ],
      "source": [
        "f_score"
      ]
    },
    {
      "cell_type": "code",
      "execution_count": null,
      "id": "ae5e043c-fe53-49d5-91f7-d3c3fb843414",
      "metadata": {
        "id": "ae5e043c-fe53-49d5-91f7-d3c3fb843414",
        "outputId": "dc7b44f4-246d-434a-b216-f2248299fcc5"
      },
      "outputs": [
        {
          "data": {
            "text/plain": [
              "array([1.77038466e-12, 4.14028344e-02, 9.69907241e-01, 6.92200477e-01,\n",
              "       9.55528076e-01, 5.30086171e-01])"
            ]
          },
          "execution_count": 87,
          "metadata": {},
          "output_type": "execute_result"
        }
      ],
      "source": [
        "p_values"
      ]
    },
    {
      "cell_type": "code",
      "execution_count": null,
      "id": "57172847-4a94-44a9-812f-43fa1e83429d",
      "metadata": {
        "id": "57172847-4a94-44a9-812f-43fa1e83429d",
        "outputId": "0ef790b5-ee6d-4ad6-8330-a92acc028cdb"
      },
      "outputs": [
        {
          "name": "stdout",
          "output_type": "stream",
          "text": [
            " \n",
            " \n",
            " \n",
            "    Features      F-Score     P-Values\n",
            "    -----------  ---------    ---------\n",
            "     Hours          141.91      0.000000\n",
            "     sHours           4.57      0.041403\n",
            "     hoursplayed      0.00      0.969907\n",
            "     income           0.16      0.692200\n",
            "     distance         0.00      0.955528\n",
            "     calories         0.40      0.530086\n"
          ]
        }
      ],
      "source": [
        "# Print the table of Features, F-Score and P-values\n",
        "columns = list(x.columns)\n",
        "\n",
        "print (\" \")\n",
        "print (\" \")\n",
        "print (\" \")\n",
        "\n",
        "print (\"    Features     \", \"F-Score    \", \"P-Values\")\n",
        "print (\"    -----------  ---------    ---------\")\n",
        "\n",
        "for i in range(0, len(columns)):\n",
        "    f1 = \"%4.2f\" % f_score[i]\n",
        "    p1 = \"%2.6f\" % p_values[i]\n",
        "    print(\"    \", columns[i].ljust(12), f1.rjust(8),\"    \", p1.rjust(8))"
      ]
    },
    {
      "cell_type": "code",
      "execution_count": null,
      "id": "cd7c01d2-4b34-4be5-8f93-73c56ca73ec0",
      "metadata": {
        "id": "cd7c01d2-4b34-4be5-8f93-73c56ca73ec0"
      },
      "outputs": [],
      "source": [
        "# Perform the Linear Regression with reduced features\n",
        "X_train_n = X_train[['Hours', 'sHours']]\n",
        "X_test_n = X_test[['Hours', 'sHours']]"
      ]
    },
    {
      "cell_type": "code",
      "execution_count": null,
      "id": "3f658aed-60c7-4050-b004-d656b2d10f3f",
      "metadata": {
        "id": "3f658aed-60c7-4050-b004-d656b2d10f3f"
      },
      "outputs": [],
      "source": [
        "lr1 = LinearRegression()\n",
        "lr1.fit(X_train_n, Y_train)\n",
        "y_predict_n = lr1.predict(X_test_n)"
      ]
    },
    {
      "cell_type": "code",
      "execution_count": null,
      "id": "3e10845d-cff2-4ee4-8db1-7a583f7c5c7d",
      "metadata": {
        "id": "3e10845d-cff2-4ee4-8db1-7a583f7c5c7d",
        "outputId": "7ab390fd-d651-4a15-91bf-18f98ae71fc5"
      },
      "outputs": [
        {
          "data": {
            "text/plain": [
              "7     45\n",
              "10    56\n",
              "4     42\n",
              "1     36\n",
              "28    82\n",
              "8     53\n",
              "3     39\n",
              "23    89\n",
              "14    72\n",
              "13    56\n",
              "22    71\n",
              "24    82\n",
              "Name: Marks, dtype: int64"
            ]
          },
          "execution_count": 103,
          "metadata": {},
          "output_type": "execute_result"
        }
      ],
      "source": [
        "Y_test"
      ]
    },
    {
      "cell_type": "code",
      "execution_count": null,
      "id": "4c932d86-ab88-494f-b22d-1e8a6c789a35",
      "metadata": {
        "id": "4c932d86-ab88-494f-b22d-1e8a6c789a35",
        "outputId": "f76a2cc4-53be-477e-b474-54ecd509d537"
      },
      "outputs": [
        {
          "data": {
            "text/plain": [
              "[45.710625255414804,\n",
              " 56.08733142623621,\n",
              " 46.592398855741735,\n",
              " 41.40404577033103,\n",
              " 89.31959542296687,\n",
              " 50.89897834082551,\n",
              " 46.592398855741735,\n",
              " 79.82466285247241,\n",
              " 65.58226399673069,\n",
              " 55.64644462607274,\n",
              " 74.6363097670617,\n",
              " 84.57212913771966]"
            ]
          },
          "execution_count": 107,
          "metadata": {},
          "output_type": "execute_result"
        }
      ],
      "source": [
        "y_predict_n.tolist()"
      ]
    },
    {
      "cell_type": "code",
      "execution_count": null,
      "id": "ee7368f7-bc74-41fe-a7d9-440c643199b0",
      "metadata": {
        "id": "ee7368f7-bc74-41fe-a7d9-440c643199b0",
        "outputId": "80525034-06ef-4d61-8ada-63360c0a9ecf"
      },
      "outputs": [
        {
          "data": {
            "text/plain": [
              "5.09721728108113"
            ]
          },
          "execution_count": 111,
          "metadata": {},
          "output_type": "execute_result"
        }
      ],
      "source": [
        "# Calculate the RMSE with reduced features\n",
        "rmse_n = math.sqrt(mean_squared_error(Y_test, y_predict_n))\n",
        "rmse_n"
      ]
    },
    {
      "cell_type": "markdown",
      "id": "f9852719-a51f-4fdf-9262-b21ba6932102",
      "metadata": {
        "id": "f9852719-a51f-4fdf-9262-b21ba6932102"
      },
      "source": [
        "#### Note: the RMSE (root mean square error) value has reduced from rmse = 6.98 to rmse_n = 5.09"
      ]
    },
    {
      "cell_type": "markdown",
      "id": "a0a0a252-7fbd-43a1-adaf-789160aa67b3",
      "metadata": {
        "id": "a0a0a252-7fbd-43a1-adaf-789160aa67b3"
      },
      "source": [
        "## 2. Different Feature Selection Methods"
      ]
    },
    {
      "cell_type": "code",
      "execution_count": null,
      "id": "d38c32ef-43cd-48da-86f8-8b5d234b875c",
      "metadata": {
        "id": "d38c32ef-43cd-48da-86f8-8b5d234b875c"
      },
      "outputs": [],
      "source": [
        "# ----------------------------------------------------------------\n",
        "# Implement various feature selection, Select Transforms\n",
        "# ----------------------------------------------------------------"
      ]
    },
    {
      "cell_type": "code",
      "execution_count": null,
      "id": "fcb3a17b-12da-4905-adf3-6fc7e9ea36ce",
      "metadata": {
        "id": "fcb3a17b-12da-4905-adf3-6fc7e9ea36ce"
      },
      "outputs": [],
      "source": [
        "# Import pandas, read the file and split into X and Y\n",
        "import pandas as pd\n",
        "f = pd.read_csv('Students2.csv')\n",
        "X = f.iloc[:, :-1]\n",
        "Y = f.iloc[:,  -1]"
      ]
    },
    {
      "cell_type": "code",
      "execution_count": null,
      "id": "497ea808-0bc3-474a-aae4-d4aff0b6391c",
      "metadata": {
        "id": "497ea808-0bc3-474a-aae4-d4aff0b6391c"
      },
      "outputs": [],
      "source": [
        "# Import various select transforms along with the f_regression mode\n",
        "from sklearn.feature_selection import SelectKBest,             \\\n",
        "                                      SelectPercentile,        \\\n",
        "                                      GenericUnivariateSelect, \\\n",
        "                                      f_regression"
      ]
    },
    {
      "cell_type": "code",
      "execution_count": null,
      "id": "79c25112-df34-47a3-a494-bf1cccada3c8",
      "metadata": {
        "id": "79c25112-df34-47a3-a494-bf1cccada3c8",
        "outputId": "9e1c0534-7b42-4c51-eeab-d1ed11029d26"
      },
      "outputs": [
        {
          "name": "stdout",
          "output_type": "stream",
          "text": [
            "SelectKBest - F-Score and P-Values:\n",
            " \n",
            "Features     F-Score    P-Value\n",
            "Feature_0        0.04    0.839093\n",
            "Feature_1       27.73    0.000001\n",
            "Feature_2       22.88    0.000006\n",
            "Feature_3       98.73    0.000000\n",
            "Feature_4       15.22    0.000175\n",
            "\n",
            "SelectPercentile - F-Score and P-Values:\n",
            " \n",
            "Features     F-Score    P-Value\n",
            "Feature_0        0.04    0.839093\n",
            "Feature_1       27.73    0.000001\n",
            "Feature_2       22.88    0.000006\n",
            "Feature_3       98.73    0.000000\n",
            "Feature_4       15.22    0.000175\n",
            "\n",
            "GenericUnivariateSelect (k_best) - F-Score and P-Values:\n",
            " \n",
            "Features     F-Score    P-Value\n",
            "Feature_0        0.04    0.839093\n",
            "Feature_1       27.73    0.000001\n",
            "Feature_2       22.88    0.000006\n",
            "Feature_3       98.73    0.000000\n",
            "Feature_4       15.22    0.000175\n",
            "\n",
            "GenericUnivariateSelect (percentile) - F-Score and P-Values:\n",
            " \n",
            "Features     F-Score    P-Value\n",
            "Feature_0        0.04    0.839093\n",
            "Feature_1       27.73    0.000001\n",
            "Feature_2       22.88    0.000006\n",
            "Feature_3       98.73    0.000000\n",
            "Feature_4       15.22    0.000175\n"
          ]
        }
      ],
      "source": [
        "from sklearn.feature_selection import SelectKBest, SelectPercentile, GenericUnivariateSelect, f_regression\n",
        "from sklearn.datasets import make_regression\n",
        "import pandas as pd\n",
        "import numpy as np\n",
        "\n",
        "# Example dataset creation (replace with your data)\n",
        "X, Y = make_regression(n_samples=100, n_features=5, noise=0.1)\n",
        "\n",
        "# Convert to DataFrame for better visualization\n",
        "X = pd.DataFrame(X, columns=[f'Feature_{i}' for i in range(X.shape[1])])\n",
        "\n",
        "# ---------------------- SelectKBest ----------------------\n",
        "selectorK = SelectKBest(score_func=f_regression, k=3)\n",
        "x_k = selectorK.fit_transform(X, Y)\n",
        "\n",
        "# Get f_score and p_values for the selected features\n",
        "f_score_k = selectorK.scores_\n",
        "p_values_k = selectorK.pvalues_\n",
        "\n",
        "print(\"SelectKBest - F-Score and P-Values:\")\n",
        "print(\" \")\n",
        "print(\"Features     F-Score    P-Value\")\n",
        "for i in range(len(X.columns)):\n",
        "    print(f\"{X.columns[i]:<12} {f_score_k[i]:>8.2f}    {p_values_k[i]:>8.6f}\")\n",
        "\n",
        "# ---------------------- SelectPercentile ----------------------\n",
        "selectorP = SelectPercentile(score_func=f_regression, percentile=50)\n",
        "x_p = selectorP.fit_transform(X, Y)\n",
        "\n",
        "# Get f_score and p_values for the selected features\n",
        "f_score_p = selectorP.scores_\n",
        "p_values_p = selectorP.pvalues_\n",
        "\n",
        "print(\"\\nSelectPercentile - F-Score and P-Values:\")\n",
        "print(\" \")\n",
        "print(\"Features     F-Score    P-Value\")\n",
        "for i in range(len(X.columns)):\n",
        "    print(f\"{X.columns[i]:<12} {f_score_p[i]:>8.2f}    {p_values_p[i]:>8.6f}\")\n",
        "\n",
        "# ---------------------- GenericUnivariateSelect (k_best) ----------------------\n",
        "selectorG1 = GenericUnivariateSelect(score_func=f_regression, mode='k_best', param=3)\n",
        "x_g1 = selectorG1.fit_transform(X, Y)\n",
        "\n",
        "# Get scores and calculate p-values using f_regression\n",
        "f_score_g1 = selectorG1.scores_\n",
        "_, p_values_g1 = f_regression(X, Y)  # Calculate p-values using f_regression\n",
        "\n",
        "print(\"\\nGenericUnivariateSelect (k_best) - F-Score and P-Values:\")\n",
        "print(\" \")\n",
        "print(\"Features     F-Score    P-Value\")\n",
        "for i in range(len(X.columns)):\n",
        "    print(f\"{X.columns[i]:<12} {f_score_g1[i]:>8.2f}    {p_values_g1[i]:>8.6f}\")\n",
        "\n",
        "# ---------------------- GenericUnivariateSelect (percentile) ----------------------\n",
        "selectorG2 = GenericUnivariateSelect(score_func=f_regression, mode='percentile', param=50)\n",
        "x_g2 = selectorG2.fit_transform(X, Y)\n",
        "\n",
        "# Get scores and calculate p-values using f_regression\n",
        "f_score_g2 = selectorG2.scores_\n",
        "_, p_values_g2 = f_regression(X, Y)  # Calculate p-values using f_regression\n",
        "\n",
        "print(\"\\nGenericUnivariateSelect (percentile) - F-Score and P-Values:\")\n",
        "print(\" \")\n",
        "print(\"Features     F-Score    P-Value\")\n",
        "for i in range(len(X.columns)):\n",
        "    print(f\"{X.columns[i]:<12} {f_score_g2[i]:>8.2f}    {p_values_g2[i]:>8.6f}\")\n"
      ]
    },
    {
      "cell_type": "code",
      "execution_count": null,
      "id": "79455ada-dcc3-4b38-bb90-ba06168d1ae3",
      "metadata": {
        "id": "79455ada-dcc3-4b38-bb90-ba06168d1ae3"
      },
      "outputs": [],
      "source": []
    }
  ],
  "metadata": {
    "kernelspec": {
      "display_name": "Python 3 (ipykernel)",
      "language": "python",
      "name": "python3"
    },
    "language_info": {
      "codemirror_mode": {
        "name": "ipython",
        "version": 3
      },
      "file_extension": ".py",
      "mimetype": "text/x-python",
      "name": "python",
      "nbconvert_exporter": "python",
      "pygments_lexer": "ipython3",
      "version": "3.12.4"
    },
    "colab": {
      "provenance": [],
      "include_colab_link": true
    }
  },
  "nbformat": 4,
  "nbformat_minor": 5
}