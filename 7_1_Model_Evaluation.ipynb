{
  "cells": [
    {
      "cell_type": "markdown",
      "id": "a89f6d9a-e769-41ac-ace6-a15886a67cd6",
      "metadata": {
        "id": "a89f6d9a-e769-41ac-ace6-a15886a67cd6"
      },
      "source": [
        "# Model Evaluation\n",
        "\n",
        "**Model evaluation** is the process of assessing how well a machine learning model performs on unseen data. It ensures the model generalizes well and avoids issues like overfitting (memorizing data) or underfitting (failing to learn patterns).\n",
        "\n",
        "## Key Concepts:\n",
        "- **Training Data**: Used to train the model.\n",
        "- **Testing Data**: Used to evaluate the model on unseen examples.\n",
        "- **Overfitting**: When the model performs well on training data but poorly on testing data.\n",
        "- **Underfitting**: When the model performs poorly on both training and testing data.\n",
        "\n",
        "## Common Metrics:\n",
        "- **Classification**: Accuracy, Precision, Recall, F1 Score, and AUC-ROC.\n",
        "- **Regression**: MAE, MSE, RMSE, and R².\n",
        "\n",
        "## Why Evaluate?\n",
        "Model evaluation ensures the model is reliable, identifies areas for improvement, and helps select the best-performing model for deployment.\n"
      ]
    },
    {
      "cell_type": "markdown",
      "source": [
        "# Build and Evaluate the Logistic Regression Model\n",
        "\n",
        "In this section, we will:\n",
        "1. **Build the Model**: Train a Logistic Regression model using the training dataset.\n",
        "2. **Make Predictions**: Use the trained model to predict outcomes on the test dataset.\n",
        "3. **Evaluate the Model**: Assess the model's performance using key metrics such as:\n",
        "   - Accuracy\n",
        "   - Confusion Matrix\n",
        "   - ROC-AUC Curve"
      ],
      "metadata": {
        "id": "IhwL_rTGVNYD"
      },
      "id": "IhwL_rTGVNYD"
    },
    {
      "cell_type": "markdown",
      "source": [
        "# Import Libraries\n",
        "In this section, we import the required library:\n",
        "- **pandas**: A powerful Python library used for data manipulation and analysis. It provides data structures such as DataFrames to work with tabular data easily.\n"
      ],
      "metadata": {
        "id": "B7KiV_P2Vb5x"
      },
      "id": "B7KiV_P2Vb5x"
    },
    {
      "cell_type": "code",
      "execution_count": null,
      "id": "8bc2cc60-d0c0-4382-964f-304b59454c94",
      "metadata": {
        "id": "8bc2cc60-d0c0-4382-964f-304b59454c94"
      },
      "outputs": [],
      "source": [
        "# Import Libraries\n",
        "import pandas as pd"
      ]
    },
    {
      "cell_type": "markdown",
      "source": [
        "# Read the Data and Create a Copy\n",
        "\n",
        "In this section:\n",
        "1. **Read the Data**:\n",
        "   - The dataset is loaded from a CSV file named `01Exercise1.csv` using `pd.read_csv()`.\n",
        "   - It is stored in a DataFrame named `LoanData`.\n",
        "\n",
        "2. **Create a Copy**:\n",
        "   - A copy of the original dataset is created and stored in `LoanPrep`.\n",
        "   - This ensures the original data (`LoanData`) remains unchanged during data preprocessing and analysis.\n",
        "\n",
        "3. **Preview the Data**:\n",
        "   - The `.head()` method is used to display the first few rows of the dataset, giving an overview of the structure and contents of the data.\n"
      ],
      "metadata": {
        "id": "vS6jMTWjVlUV"
      },
      "id": "vS6jMTWjVlUV"
    },
    {
      "cell_type": "code",
      "execution_count": null,
      "id": "326deaaf-27b6-49b6-86fa-9438afeb94cc",
      "metadata": {
        "id": "326deaaf-27b6-49b6-86fa-9438afeb94cc"
      },
      "outputs": [],
      "source": [
        "# Read the data and Create a copy\n",
        "LoanData = pd.read_csv(\"01Exercise1.csv\")\n",
        "LoanPrep = LoanData.copy()"
      ]
    },
    {
      "cell_type": "code",
      "execution_count": null,
      "id": "b491579e-2076-42dc-bc16-d027b9e1813d",
      "metadata": {
        "id": "b491579e-2076-42dc-bc16-d027b9e1813d",
        "outputId": "3f244a90-1e3b-4c08-818d-14f9f68c7ca3"
      },
      "outputs": [
        {
          "data": {
            "text/html": [
              "<div>\n",
              "<style scoped>\n",
              "    .dataframe tbody tr th:only-of-type {\n",
              "        vertical-align: middle;\n",
              "    }\n",
              "\n",
              "    .dataframe tbody tr th {\n",
              "        vertical-align: top;\n",
              "    }\n",
              "\n",
              "    .dataframe thead th {\n",
              "        text-align: right;\n",
              "    }\n",
              "</style>\n",
              "<table border=\"1\" class=\"dataframe\">\n",
              "  <thead>\n",
              "    <tr style=\"text-align: right;\">\n",
              "      <th></th>\n",
              "      <th>gender</th>\n",
              "      <th>married</th>\n",
              "      <th>ch</th>\n",
              "      <th>income</th>\n",
              "      <th>loanamt</th>\n",
              "      <th>status</th>\n",
              "    </tr>\n",
              "  </thead>\n",
              "  <tbody>\n",
              "    <tr>\n",
              "      <th>0</th>\n",
              "      <td>Male</td>\n",
              "      <td>No</td>\n",
              "      <td>1.0</td>\n",
              "      <td>5849</td>\n",
              "      <td>NaN</td>\n",
              "      <td>Y</td>\n",
              "    </tr>\n",
              "    <tr>\n",
              "      <th>1</th>\n",
              "      <td>Male</td>\n",
              "      <td>Yes</td>\n",
              "      <td>1.0</td>\n",
              "      <td>4583</td>\n",
              "      <td>128.0</td>\n",
              "      <td>N</td>\n",
              "    </tr>\n",
              "    <tr>\n",
              "      <th>2</th>\n",
              "      <td>Male</td>\n",
              "      <td>Yes</td>\n",
              "      <td>1.0</td>\n",
              "      <td>3000</td>\n",
              "      <td>66.0</td>\n",
              "      <td>Y</td>\n",
              "    </tr>\n",
              "    <tr>\n",
              "      <th>3</th>\n",
              "      <td>Male</td>\n",
              "      <td>Yes</td>\n",
              "      <td>1.0</td>\n",
              "      <td>2583</td>\n",
              "      <td>120.0</td>\n",
              "      <td>Y</td>\n",
              "    </tr>\n",
              "    <tr>\n",
              "      <th>4</th>\n",
              "      <td>Male</td>\n",
              "      <td>No</td>\n",
              "      <td>1.0</td>\n",
              "      <td>6000</td>\n",
              "      <td>141.0</td>\n",
              "      <td>Y</td>\n",
              "    </tr>\n",
              "  </tbody>\n",
              "</table>\n",
              "</div>"
            ],
            "text/plain": [
              "  gender married   ch  income  loanamt status\n",
              "0   Male      No  1.0    5849      NaN      Y\n",
              "1   Male     Yes  1.0    4583    128.0      N\n",
              "2   Male     Yes  1.0    3000     66.0      Y\n",
              "3   Male     Yes  1.0    2583    120.0      Y\n",
              "4   Male      No  1.0    6000    141.0      Y"
            ]
          },
          "execution_count": 12,
          "metadata": {},
          "output_type": "execute_result"
        }
      ],
      "source": [
        "LoanPrep.head()"
      ]
    },
    {
      "cell_type": "markdown",
      "source": [
        "# Find Columns with Missing Values\n",
        "\n",
        "In this section, we identify columns with missing values in the dataset:\n",
        "- **`LoanPrep.isnull()`**: Checks each cell in the DataFrame for missing values (`NaN`), returning `True` for missing values and `False` otherwise.\n",
        "- **`.sum(axis=0)`**: Calculates the total number of missing values for each column by summing up the `True` values along the vertical axis (columns).\n",
        "\n",
        "This helps in understanding which columns require data cleaning or handling for missing values.\n"
      ],
      "metadata": {
        "id": "MkftTDWTVuH0"
      },
      "id": "MkftTDWTVuH0"
    },
    {
      "cell_type": "code",
      "execution_count": null,
      "id": "77c6f39e-5434-4919-8b88-5c9b4e170277",
      "metadata": {
        "id": "77c6f39e-5434-4919-8b88-5c9b4e170277",
        "outputId": "a1212f46-b93b-479c-8788-8974c9529ee3"
      },
      "outputs": [
        {
          "data": {
            "text/plain": [
              "gender     13\n",
              "married     3\n",
              "ch         50\n",
              "income      0\n",
              "loanamt    22\n",
              "status      0\n",
              "dtype: int64"
            ]
          },
          "execution_count": 14,
          "metadata": {},
          "output_type": "execute_result"
        }
      ],
      "source": [
        "#find out columns with missing values\n",
        "LoanPrep.isnull().sum(axis=0)"
      ]
    },
    {
      "cell_type": "markdown",
      "source": [
        "# Replace Missing Values by Dropping Rows\n",
        "\n",
        "Missing values are handled by removing rows that contain any `NaN` values:\n",
        "- **`LoanPrep.dropna()`** removes rows with missing values from the DataFrame.\n",
        "- The updated DataFrame (`LoanPrep`) will only include rows with complete data.\n",
        "\n",
        "This method is effective when the dataset is large, and the dropped rows do not significantly affect the analysis.\n"
      ],
      "metadata": {
        "id": "LYOI-eUxV6KJ"
      },
      "id": "LYOI-eUxV6KJ"
    },
    {
      "cell_type": "code",
      "execution_count": null,
      "id": "a52130cf-f28a-42a5-aa5d-5ecae827a674",
      "metadata": {
        "id": "a52130cf-f28a-42a5-aa5d-5ecae827a674"
      },
      "outputs": [],
      "source": [
        "# Replace Missing Values. Drop the rows.\n",
        "LoanPrep = LoanPrep.dropna()"
      ]
    },
    {
      "cell_type": "markdown",
      "source": [
        "# Check for Missing Values in Each Column\n",
        "\n",
        "The code `LoanPrep.isnull().sum(axis=0)` is used to identify the number of missing values in each column:\n",
        "- **`isnull()`**: Checks for missing values (`NaN`) and returns a boolean DataFrame.\n",
        "- **`sum(axis=0)`**: Sums up the `True` values (representing missing data) column-wise.\n",
        "\n",
        "This provides a clear view of which columns have missing values and how many, enabling informed data cleaning decisions.\n"
      ],
      "metadata": {
        "id": "EM4w-94VWEaR"
      },
      "id": "EM4w-94VWEaR"
    },
    {
      "cell_type": "code",
      "execution_count": null,
      "id": "13d9d1e5-fd24-4c61-86cc-a8ed9a942f57",
      "metadata": {
        "id": "13d9d1e5-fd24-4c61-86cc-a8ed9a942f57",
        "outputId": "8a511b36-c6fc-44be-a9ed-4c1c2d789232"
      },
      "outputs": [
        {
          "data": {
            "text/plain": [
              "gender     0\n",
              "married    0\n",
              "ch         0\n",
              "income     0\n",
              "loanamt    0\n",
              "status     0\n",
              "dtype: int64"
            ]
          },
          "execution_count": 20,
          "metadata": {},
          "output_type": "execute_result"
        }
      ],
      "source": [
        "LoanPrep.isnull().sum(axis=0)"
      ]
    },
    {
      "cell_type": "markdown",
      "source": [
        "# Drop Irrelevant Columns\n",
        "\n",
        "Certain columns may not add value to the analysis or model based on business understanding.\n",
        "The code:\n",
        "- **`LoanPrep.drop(['gender'], axis=1)`** removes the column `gender` from the DataFrame.\n",
        "- **`axis=1`** specifies that the operation is column-wise.\n",
        "\n",
        "This step simplifies the dataset by excluding irrelevant or redundant information.\n"
      ],
      "metadata": {
        "id": "ym5cdFkSWLbm"
      },
      "id": "ym5cdFkSWLbm"
    },
    {
      "cell_type": "code",
      "execution_count": null,
      "id": "4d520afb-04f6-4dcc-b69d-843e3420454c",
      "metadata": {
        "id": "4d520afb-04f6-4dcc-b69d-843e3420454c"
      },
      "outputs": [],
      "source": [
        "# Drop irrelevant columns based on business sense\n",
        "LoanPrep = LoanPrep.drop(['gender'], axis=1)"
      ]
    },
    {
      "cell_type": "code",
      "execution_count": null,
      "id": "f1ae67df-0be1-4617-bcc9-3222d70b7892",
      "metadata": {
        "id": "f1ae67df-0be1-4617-bcc9-3222d70b7892",
        "outputId": "4fa632e5-7b76-47e3-cd8c-97c883e131bf"
      },
      "outputs": [
        {
          "data": {
            "text/plain": [
              "Index(['ch', 'income', 'loanamt', 'married_Yes', 'status_Y'], dtype='object')"
            ]
          },
          "execution_count": 28,
          "metadata": {},
          "output_type": "execute_result"
        }
      ],
      "source": [
        "LoanPrep.columns"
      ]
    },
    {
      "cell_type": "markdown",
      "source": [
        "# Create Dummy Variables\n",
        "1. **Check Data Types**: The `.dtypes` method displays the data types of each column.\n",
        "2. **Encode Categorical Variables**: The `pd.get_dummies()` function converts categorical variables into dummy/indicator variables, with the `drop_first=True` parameter dropping the first category to avoid multicollinearity.\n"
      ],
      "metadata": {
        "id": "QJg19hKVWtNv"
      },
      "id": "QJg19hKVWtNv"
    },
    {
      "cell_type": "code",
      "execution_count": null,
      "id": "f1ce092c-5d0b-4185-abf0-83ca5afdeca6",
      "metadata": {
        "id": "f1ce092c-5d0b-4185-abf0-83ca5afdeca6"
      },
      "outputs": [],
      "source": [
        "# Create Dummy variables\n",
        "LoanPrep.dtypes\n",
        "LoanPrep = pd.get_dummies(LoanPrep, drop_first=True)"
      ]
    },
    {
      "cell_type": "code",
      "execution_count": null,
      "id": "895c6437-e081-4a41-a594-7a50c245affd",
      "metadata": {
        "id": "895c6437-e081-4a41-a594-7a50c245affd",
        "outputId": "6c32a6ad-57b8-4723-873b-9692671db762"
      },
      "outputs": [
        {
          "data": {
            "text/html": [
              "<div>\n",
              "<style scoped>\n",
              "    .dataframe tbody tr th:only-of-type {\n",
              "        vertical-align: middle;\n",
              "    }\n",
              "\n",
              "    .dataframe tbody tr th {\n",
              "        vertical-align: top;\n",
              "    }\n",
              "\n",
              "    .dataframe thead th {\n",
              "        text-align: right;\n",
              "    }\n",
              "</style>\n",
              "<table border=\"1\" class=\"dataframe\">\n",
              "  <thead>\n",
              "    <tr style=\"text-align: right;\">\n",
              "      <th></th>\n",
              "      <th>ch</th>\n",
              "      <th>income</th>\n",
              "      <th>loanamt</th>\n",
              "      <th>married_Yes</th>\n",
              "      <th>status_Y</th>\n",
              "    </tr>\n",
              "  </thead>\n",
              "  <tbody>\n",
              "    <tr>\n",
              "      <th>1</th>\n",
              "      <td>1.0</td>\n",
              "      <td>4583</td>\n",
              "      <td>128.0</td>\n",
              "      <td>True</td>\n",
              "      <td>False</td>\n",
              "    </tr>\n",
              "    <tr>\n",
              "      <th>2</th>\n",
              "      <td>1.0</td>\n",
              "      <td>3000</td>\n",
              "      <td>66.0</td>\n",
              "      <td>True</td>\n",
              "      <td>True</td>\n",
              "    </tr>\n",
              "    <tr>\n",
              "      <th>3</th>\n",
              "      <td>1.0</td>\n",
              "      <td>2583</td>\n",
              "      <td>120.0</td>\n",
              "      <td>True</td>\n",
              "      <td>True</td>\n",
              "    </tr>\n",
              "    <tr>\n",
              "      <th>4</th>\n",
              "      <td>1.0</td>\n",
              "      <td>6000</td>\n",
              "      <td>141.0</td>\n",
              "      <td>False</td>\n",
              "      <td>True</td>\n",
              "    </tr>\n",
              "    <tr>\n",
              "      <th>5</th>\n",
              "      <td>1.0</td>\n",
              "      <td>5417</td>\n",
              "      <td>267.0</td>\n",
              "      <td>True</td>\n",
              "      <td>True</td>\n",
              "    </tr>\n",
              "  </tbody>\n",
              "</table>\n",
              "</div>"
            ],
            "text/plain": [
              "    ch  income  loanamt  married_Yes  status_Y\n",
              "1  1.0    4583    128.0         True     False\n",
              "2  1.0    3000     66.0         True      True\n",
              "3  1.0    2583    120.0         True      True\n",
              "4  1.0    6000    141.0        False      True\n",
              "5  1.0    5417    267.0         True      True"
            ]
          },
          "execution_count": 32,
          "metadata": {},
          "output_type": "execute_result"
        }
      ],
      "source": [
        "LoanPrep.head()"
      ]
    },
    {
      "cell_type": "markdown",
      "source": [
        "# Normalize Data\n",
        "1. **StandardScaler**: This scales the `income` and `loanamt` columns to have a mean of 0 and a standard deviation of 1.\n",
        "2. Normalization ensures that numerical features are on the same scale, improving model performance.\n"
      ],
      "metadata": {
        "id": "oQ93y1sNW2R1"
      },
      "id": "oQ93y1sNW2R1"
    },
    {
      "cell_type": "code",
      "execution_count": null,
      "id": "cab16a69-07a8-439b-931c-34ab22a88240",
      "metadata": {
        "id": "cab16a69-07a8-439b-931c-34ab22a88240"
      },
      "outputs": [],
      "source": [
        "# Normalize the data (Income and Loan Amount) Using StandardScaler\n",
        "from sklearn.preprocessing import StandardScaler\n",
        "scalar_ = StandardScaler()\n",
        "LoanPrep['income'] = scalar_.fit_transform(LoanPrep[['income']])\n",
        "LoanPrep['loanamt'] = scalar_.fit_transform(LoanPrep[['loanamt']])"
      ]
    },
    {
      "cell_type": "code",
      "execution_count": null,
      "id": "1fd0cda1-55f3-470b-a5c3-467fc3deff26",
      "metadata": {
        "id": "1fd0cda1-55f3-470b-a5c3-467fc3deff26",
        "outputId": "7a1c87f8-c6c6-45d5-e841-d602a6e5e6c2"
      },
      "outputs": [
        {
          "data": {
            "text/html": [
              "<div>\n",
              "<style scoped>\n",
              "    .dataframe tbody tr th:only-of-type {\n",
              "        vertical-align: middle;\n",
              "    }\n",
              "\n",
              "    .dataframe tbody tr th {\n",
              "        vertical-align: top;\n",
              "    }\n",
              "\n",
              "    .dataframe thead th {\n",
              "        text-align: right;\n",
              "    }\n",
              "</style>\n",
              "<table border=\"1\" class=\"dataframe\">\n",
              "  <thead>\n",
              "    <tr style=\"text-align: right;\">\n",
              "      <th></th>\n",
              "      <th>ch</th>\n",
              "      <th>income</th>\n",
              "      <th>loanamt</th>\n",
              "      <th>married_Yes</th>\n",
              "      <th>status_Y</th>\n",
              "    </tr>\n",
              "  </thead>\n",
              "  <tbody>\n",
              "    <tr>\n",
              "      <th>1</th>\n",
              "      <td>1.0</td>\n",
              "      <td>-0.128073</td>\n",
              "      <td>-0.194250</td>\n",
              "      <td>True</td>\n",
              "      <td>False</td>\n",
              "    </tr>\n",
              "    <tr>\n",
              "      <th>2</th>\n",
              "      <td>1.0</td>\n",
              "      <td>-0.392077</td>\n",
              "      <td>-0.971015</td>\n",
              "      <td>True</td>\n",
              "      <td>True</td>\n",
              "    </tr>\n",
              "    <tr>\n",
              "      <th>3</th>\n",
              "      <td>1.0</td>\n",
              "      <td>-0.461621</td>\n",
              "      <td>-0.294478</td>\n",
              "      <td>True</td>\n",
              "      <td>True</td>\n",
              "    </tr>\n",
              "    <tr>\n",
              "      <th>4</th>\n",
              "      <td>1.0</td>\n",
              "      <td>0.108246</td>\n",
              "      <td>-0.031380</td>\n",
              "      <td>False</td>\n",
              "      <td>True</td>\n",
              "    </tr>\n",
              "    <tr>\n",
              "      <th>5</th>\n",
              "      <td>1.0</td>\n",
              "      <td>0.011017</td>\n",
              "      <td>1.547205</td>\n",
              "      <td>True</td>\n",
              "      <td>True</td>\n",
              "    </tr>\n",
              "  </tbody>\n",
              "</table>\n",
              "</div>"
            ],
            "text/plain": [
              "    ch    income   loanamt  married_Yes  status_Y\n",
              "1  1.0 -0.128073 -0.194250         True     False\n",
              "2  1.0 -0.392077 -0.971015         True      True\n",
              "3  1.0 -0.461621 -0.294478         True      True\n",
              "4  1.0  0.108246 -0.031380        False      True\n",
              "5  1.0  0.011017  1.547205         True      True"
            ]
          },
          "execution_count": 38,
          "metadata": {},
          "output_type": "execute_result"
        }
      ],
      "source": [
        "LoanPrep.head()"
      ]
    },
    {
      "cell_type": "markdown",
      "source": [
        "\n",
        "# Split Data into Features and Labels\n",
        "1. `Y`: Contains the dependent variable (`status_Y`) as the target.\n",
        "2. `X`: Contains the independent variables after removing `status_Y`.\n"
      ],
      "metadata": {
        "id": "ttGOKxB5XANP"
      },
      "id": "ttGOKxB5XANP"
    },
    {
      "cell_type": "code",
      "execution_count": null,
      "id": "04d69f08-f46c-42e2-93c5-184d860a232b",
      "metadata": {
        "id": "04d69f08-f46c-42e2-93c5-184d860a232b"
      },
      "outputs": [],
      "source": [
        "# Create the X (Independent) and Y (Dependent) dataframes\n",
        "# -------------------------------------------------------\n",
        "Y = LoanPrep[['status_Y']]\n",
        "X = LoanPrep.drop(['status_Y'], axis=1)"
      ]
    },
    {
      "cell_type": "markdown",
      "source": [
        "# Train-Test Split\n",
        "1. Splits the data into training (70%) and testing (30%) sets.\n",
        "2. **`stratify=Y`** ensures the split maintains the class distribution in `Y`.\n",
        "3. **`random_state=1234`** ensures reproducibility.\n"
      ],
      "metadata": {
        "id": "IzW-ZZBaXGoV"
      },
      "id": "IzW-ZZBaXGoV"
    },
    {
      "cell_type": "code",
      "execution_count": null,
      "id": "53700736-e917-4398-8250-07db435bf9d0",
      "metadata": {
        "id": "53700736-e917-4398-8250-07db435bf9d0"
      },
      "outputs": [],
      "source": [
        "# Split the X and Y dataset into training and testing set\n",
        "from sklearn.model_selection import train_test_split\n",
        "X_train, X_test, Y_train, Y_test = \\\n",
        "train_test_split(X, Y, test_size = 0.3, random_state = 1234, stratify=Y)"
      ]
    },
    {
      "cell_type": "markdown",
      "source": [
        "# Build Logistic Regression Model\n",
        "1. A Logistic Regression model is initialized using `LogisticRegression()`.\n",
        "2. The model is trained on the training dataset (`X_train`, `Y_train`) using the `.fit()` method.\n"
      ],
      "metadata": {
        "id": "sc9g15XbXJhA"
      },
      "id": "sc9g15XbXJhA"
    },
    {
      "cell_type": "code",
      "execution_count": null,
      "id": "36da257e-c533-4665-83d7-a0cb13661212",
      "metadata": {
        "id": "36da257e-c533-4665-83d7-a0cb13661212",
        "outputId": "19bd1dbf-cdae-431f-e77e-f1d348765a8c"
      },
      "outputs": [
        {
          "name": "stderr",
          "output_type": "stream",
          "text": [
            "C:\\ProgramData\\anaconda3\\Lib\\site-packages\\sklearn\\utils\\validation.py:1300: DataConversionWarning: A column-vector y was passed when a 1d array was expected. Please change the shape of y to (n_samples, ), for example using ravel().\n",
            "  y = column_or_1d(y, warn=True)\n"
          ]
        },
        {
          "data": {
            "text/html": [
              "<style>#sk-container-id-2 {\n",
              "  /* Definition of color scheme common for light and dark mode */\n",
              "  --sklearn-color-text: black;\n",
              "  --sklearn-color-line: gray;\n",
              "  /* Definition of color scheme for unfitted estimators */\n",
              "  --sklearn-color-unfitted-level-0: #fff5e6;\n",
              "  --sklearn-color-unfitted-level-1: #f6e4d2;\n",
              "  --sklearn-color-unfitted-level-2: #ffe0b3;\n",
              "  --sklearn-color-unfitted-level-3: chocolate;\n",
              "  /* Definition of color scheme for fitted estimators */\n",
              "  --sklearn-color-fitted-level-0: #f0f8ff;\n",
              "  --sklearn-color-fitted-level-1: #d4ebff;\n",
              "  --sklearn-color-fitted-level-2: #b3dbfd;\n",
              "  --sklearn-color-fitted-level-3: cornflowerblue;\n",
              "\n",
              "  /* Specific color for light theme */\n",
              "  --sklearn-color-text-on-default-background: var(--sg-text-color, var(--theme-code-foreground, var(--jp-content-font-color1, black)));\n",
              "  --sklearn-color-background: var(--sg-background-color, var(--theme-background, var(--jp-layout-color0, white)));\n",
              "  --sklearn-color-border-box: var(--sg-text-color, var(--theme-code-foreground, var(--jp-content-font-color1, black)));\n",
              "  --sklearn-color-icon: #696969;\n",
              "\n",
              "  @media (prefers-color-scheme: dark) {\n",
              "    /* Redefinition of color scheme for dark theme */\n",
              "    --sklearn-color-text-on-default-background: var(--sg-text-color, var(--theme-code-foreground, var(--jp-content-font-color1, white)));\n",
              "    --sklearn-color-background: var(--sg-background-color, var(--theme-background, var(--jp-layout-color0, #111)));\n",
              "    --sklearn-color-border-box: var(--sg-text-color, var(--theme-code-foreground, var(--jp-content-font-color1, white)));\n",
              "    --sklearn-color-icon: #878787;\n",
              "  }\n",
              "}\n",
              "\n",
              "#sk-container-id-2 {\n",
              "  color: var(--sklearn-color-text);\n",
              "}\n",
              "\n",
              "#sk-container-id-2 pre {\n",
              "  padding: 0;\n",
              "}\n",
              "\n",
              "#sk-container-id-2 input.sk-hidden--visually {\n",
              "  border: 0;\n",
              "  clip: rect(1px 1px 1px 1px);\n",
              "  clip: rect(1px, 1px, 1px, 1px);\n",
              "  height: 1px;\n",
              "  margin: -1px;\n",
              "  overflow: hidden;\n",
              "  padding: 0;\n",
              "  position: absolute;\n",
              "  width: 1px;\n",
              "}\n",
              "\n",
              "#sk-container-id-2 div.sk-dashed-wrapped {\n",
              "  border: 1px dashed var(--sklearn-color-line);\n",
              "  margin: 0 0.4em 0.5em 0.4em;\n",
              "  box-sizing: border-box;\n",
              "  padding-bottom: 0.4em;\n",
              "  background-color: var(--sklearn-color-background);\n",
              "}\n",
              "\n",
              "#sk-container-id-2 div.sk-container {\n",
              "  /* jupyter's `normalize.less` sets `[hidden] { display: none; }`\n",
              "     but bootstrap.min.css set `[hidden] { display: none !important; }`\n",
              "     so we also need the `!important` here to be able to override the\n",
              "     default hidden behavior on the sphinx rendered scikit-learn.org.\n",
              "     See: https://github.com/scikit-learn/scikit-learn/issues/21755 */\n",
              "  display: inline-block !important;\n",
              "  position: relative;\n",
              "}\n",
              "\n",
              "#sk-container-id-2 div.sk-text-repr-fallback {\n",
              "  display: none;\n",
              "}\n",
              "\n",
              "div.sk-parallel-item,\n",
              "div.sk-serial,\n",
              "div.sk-item {\n",
              "  /* draw centered vertical line to link estimators */\n",
              "  background-image: linear-gradient(var(--sklearn-color-text-on-default-background), var(--sklearn-color-text-on-default-background));\n",
              "  background-size: 2px 100%;\n",
              "  background-repeat: no-repeat;\n",
              "  background-position: center center;\n",
              "}\n",
              "\n",
              "/* Parallel-specific style estimator block */\n",
              "\n",
              "#sk-container-id-2 div.sk-parallel-item::after {\n",
              "  content: \"\";\n",
              "  width: 100%;\n",
              "  border-bottom: 2px solid var(--sklearn-color-text-on-default-background);\n",
              "  flex-grow: 1;\n",
              "}\n",
              "\n",
              "#sk-container-id-2 div.sk-parallel {\n",
              "  display: flex;\n",
              "  align-items: stretch;\n",
              "  justify-content: center;\n",
              "  background-color: var(--sklearn-color-background);\n",
              "  position: relative;\n",
              "}\n",
              "\n",
              "#sk-container-id-2 div.sk-parallel-item {\n",
              "  display: flex;\n",
              "  flex-direction: column;\n",
              "}\n",
              "\n",
              "#sk-container-id-2 div.sk-parallel-item:first-child::after {\n",
              "  align-self: flex-end;\n",
              "  width: 50%;\n",
              "}\n",
              "\n",
              "#sk-container-id-2 div.sk-parallel-item:last-child::after {\n",
              "  align-self: flex-start;\n",
              "  width: 50%;\n",
              "}\n",
              "\n",
              "#sk-container-id-2 div.sk-parallel-item:only-child::after {\n",
              "  width: 0;\n",
              "}\n",
              "\n",
              "/* Serial-specific style estimator block */\n",
              "\n",
              "#sk-container-id-2 div.sk-serial {\n",
              "  display: flex;\n",
              "  flex-direction: column;\n",
              "  align-items: center;\n",
              "  background-color: var(--sklearn-color-background);\n",
              "  padding-right: 1em;\n",
              "  padding-left: 1em;\n",
              "}\n",
              "\n",
              "\n",
              "/* Toggleable style: style used for estimator/Pipeline/ColumnTransformer box that is\n",
              "clickable and can be expanded/collapsed.\n",
              "- Pipeline and ColumnTransformer use this feature and define the default style\n",
              "- Estimators will overwrite some part of the style using the `sk-estimator` class\n",
              "*/\n",
              "\n",
              "/* Pipeline and ColumnTransformer style (default) */\n",
              "\n",
              "#sk-container-id-2 div.sk-toggleable {\n",
              "  /* Default theme specific background. It is overwritten whether we have a\n",
              "  specific estimator or a Pipeline/ColumnTransformer */\n",
              "  background-color: var(--sklearn-color-background);\n",
              "}\n",
              "\n",
              "/* Toggleable label */\n",
              "#sk-container-id-2 label.sk-toggleable__label {\n",
              "  cursor: pointer;\n",
              "  display: block;\n",
              "  width: 100%;\n",
              "  margin-bottom: 0;\n",
              "  padding: 0.5em;\n",
              "  box-sizing: border-box;\n",
              "  text-align: center;\n",
              "}\n",
              "\n",
              "#sk-container-id-2 label.sk-toggleable__label-arrow:before {\n",
              "  /* Arrow on the left of the label */\n",
              "  content: \"▸\";\n",
              "  float: left;\n",
              "  margin-right: 0.25em;\n",
              "  color: var(--sklearn-color-icon);\n",
              "}\n",
              "\n",
              "#sk-container-id-2 label.sk-toggleable__label-arrow:hover:before {\n",
              "  color: var(--sklearn-color-text);\n",
              "}\n",
              "\n",
              "/* Toggleable content - dropdown */\n",
              "\n",
              "#sk-container-id-2 div.sk-toggleable__content {\n",
              "  max-height: 0;\n",
              "  max-width: 0;\n",
              "  overflow: hidden;\n",
              "  text-align: left;\n",
              "  /* unfitted */\n",
              "  background-color: var(--sklearn-color-unfitted-level-0);\n",
              "}\n",
              "\n",
              "#sk-container-id-2 div.sk-toggleable__content.fitted {\n",
              "  /* fitted */\n",
              "  background-color: var(--sklearn-color-fitted-level-0);\n",
              "}\n",
              "\n",
              "#sk-container-id-2 div.sk-toggleable__content pre {\n",
              "  margin: 0.2em;\n",
              "  border-radius: 0.25em;\n",
              "  color: var(--sklearn-color-text);\n",
              "  /* unfitted */\n",
              "  background-color: var(--sklearn-color-unfitted-level-0);\n",
              "}\n",
              "\n",
              "#sk-container-id-2 div.sk-toggleable__content.fitted pre {\n",
              "  /* unfitted */\n",
              "  background-color: var(--sklearn-color-fitted-level-0);\n",
              "}\n",
              "\n",
              "#sk-container-id-2 input.sk-toggleable__control:checked~div.sk-toggleable__content {\n",
              "  /* Expand drop-down */\n",
              "  max-height: 200px;\n",
              "  max-width: 100%;\n",
              "  overflow: auto;\n",
              "}\n",
              "\n",
              "#sk-container-id-2 input.sk-toggleable__control:checked~label.sk-toggleable__label-arrow:before {\n",
              "  content: \"▾\";\n",
              "}\n",
              "\n",
              "/* Pipeline/ColumnTransformer-specific style */\n",
              "\n",
              "#sk-container-id-2 div.sk-label input.sk-toggleable__control:checked~label.sk-toggleable__label {\n",
              "  color: var(--sklearn-color-text);\n",
              "  background-color: var(--sklearn-color-unfitted-level-2);\n",
              "}\n",
              "\n",
              "#sk-container-id-2 div.sk-label.fitted input.sk-toggleable__control:checked~label.sk-toggleable__label {\n",
              "  background-color: var(--sklearn-color-fitted-level-2);\n",
              "}\n",
              "\n",
              "/* Estimator-specific style */\n",
              "\n",
              "/* Colorize estimator box */\n",
              "#sk-container-id-2 div.sk-estimator input.sk-toggleable__control:checked~label.sk-toggleable__label {\n",
              "  /* unfitted */\n",
              "  background-color: var(--sklearn-color-unfitted-level-2);\n",
              "}\n",
              "\n",
              "#sk-container-id-2 div.sk-estimator.fitted input.sk-toggleable__control:checked~label.sk-toggleable__label {\n",
              "  /* fitted */\n",
              "  background-color: var(--sklearn-color-fitted-level-2);\n",
              "}\n",
              "\n",
              "#sk-container-id-2 div.sk-label label.sk-toggleable__label,\n",
              "#sk-container-id-2 div.sk-label label {\n",
              "  /* The background is the default theme color */\n",
              "  color: var(--sklearn-color-text-on-default-background);\n",
              "}\n",
              "\n",
              "/* On hover, darken the color of the background */\n",
              "#sk-container-id-2 div.sk-label:hover label.sk-toggleable__label {\n",
              "  color: var(--sklearn-color-text);\n",
              "  background-color: var(--sklearn-color-unfitted-level-2);\n",
              "}\n",
              "\n",
              "/* Label box, darken color on hover, fitted */\n",
              "#sk-container-id-2 div.sk-label.fitted:hover label.sk-toggleable__label.fitted {\n",
              "  color: var(--sklearn-color-text);\n",
              "  background-color: var(--sklearn-color-fitted-level-2);\n",
              "}\n",
              "\n",
              "/* Estimator label */\n",
              "\n",
              "#sk-container-id-2 div.sk-label label {\n",
              "  font-family: monospace;\n",
              "  font-weight: bold;\n",
              "  display: inline-block;\n",
              "  line-height: 1.2em;\n",
              "}\n",
              "\n",
              "#sk-container-id-2 div.sk-label-container {\n",
              "  text-align: center;\n",
              "}\n",
              "\n",
              "/* Estimator-specific */\n",
              "#sk-container-id-2 div.sk-estimator {\n",
              "  font-family: monospace;\n",
              "  border: 1px dotted var(--sklearn-color-border-box);\n",
              "  border-radius: 0.25em;\n",
              "  box-sizing: border-box;\n",
              "  margin-bottom: 0.5em;\n",
              "  /* unfitted */\n",
              "  background-color: var(--sklearn-color-unfitted-level-0);\n",
              "}\n",
              "\n",
              "#sk-container-id-2 div.sk-estimator.fitted {\n",
              "  /* fitted */\n",
              "  background-color: var(--sklearn-color-fitted-level-0);\n",
              "}\n",
              "\n",
              "/* on hover */\n",
              "#sk-container-id-2 div.sk-estimator:hover {\n",
              "  /* unfitted */\n",
              "  background-color: var(--sklearn-color-unfitted-level-2);\n",
              "}\n",
              "\n",
              "#sk-container-id-2 div.sk-estimator.fitted:hover {\n",
              "  /* fitted */\n",
              "  background-color: var(--sklearn-color-fitted-level-2);\n",
              "}\n",
              "\n",
              "/* Specification for estimator info (e.g. \"i\" and \"?\") */\n",
              "\n",
              "/* Common style for \"i\" and \"?\" */\n",
              "\n",
              ".sk-estimator-doc-link,\n",
              "a:link.sk-estimator-doc-link,\n",
              "a:visited.sk-estimator-doc-link {\n",
              "  float: right;\n",
              "  font-size: smaller;\n",
              "  line-height: 1em;\n",
              "  font-family: monospace;\n",
              "  background-color: var(--sklearn-color-background);\n",
              "  border-radius: 1em;\n",
              "  height: 1em;\n",
              "  width: 1em;\n",
              "  text-decoration: none !important;\n",
              "  margin-left: 1ex;\n",
              "  /* unfitted */\n",
              "  border: var(--sklearn-color-unfitted-level-1) 1pt solid;\n",
              "  color: var(--sklearn-color-unfitted-level-1);\n",
              "}\n",
              "\n",
              ".sk-estimator-doc-link.fitted,\n",
              "a:link.sk-estimator-doc-link.fitted,\n",
              "a:visited.sk-estimator-doc-link.fitted {\n",
              "  /* fitted */\n",
              "  border: var(--sklearn-color-fitted-level-1) 1pt solid;\n",
              "  color: var(--sklearn-color-fitted-level-1);\n",
              "}\n",
              "\n",
              "/* On hover */\n",
              "div.sk-estimator:hover .sk-estimator-doc-link:hover,\n",
              ".sk-estimator-doc-link:hover,\n",
              "div.sk-label-container:hover .sk-estimator-doc-link:hover,\n",
              ".sk-estimator-doc-link:hover {\n",
              "  /* unfitted */\n",
              "  background-color: var(--sklearn-color-unfitted-level-3);\n",
              "  color: var(--sklearn-color-background);\n",
              "  text-decoration: none;\n",
              "}\n",
              "\n",
              "div.sk-estimator.fitted:hover .sk-estimator-doc-link.fitted:hover,\n",
              ".sk-estimator-doc-link.fitted:hover,\n",
              "div.sk-label-container:hover .sk-estimator-doc-link.fitted:hover,\n",
              ".sk-estimator-doc-link.fitted:hover {\n",
              "  /* fitted */\n",
              "  background-color: var(--sklearn-color-fitted-level-3);\n",
              "  color: var(--sklearn-color-background);\n",
              "  text-decoration: none;\n",
              "}\n",
              "\n",
              "/* Span, style for the box shown on hovering the info icon */\n",
              ".sk-estimator-doc-link span {\n",
              "  display: none;\n",
              "  z-index: 9999;\n",
              "  position: relative;\n",
              "  font-weight: normal;\n",
              "  right: .2ex;\n",
              "  padding: .5ex;\n",
              "  margin: .5ex;\n",
              "  width: min-content;\n",
              "  min-width: 20ex;\n",
              "  max-width: 50ex;\n",
              "  color: var(--sklearn-color-text);\n",
              "  box-shadow: 2pt 2pt 4pt #999;\n",
              "  /* unfitted */\n",
              "  background: var(--sklearn-color-unfitted-level-0);\n",
              "  border: .5pt solid var(--sklearn-color-unfitted-level-3);\n",
              "}\n",
              "\n",
              ".sk-estimator-doc-link.fitted span {\n",
              "  /* fitted */\n",
              "  background: var(--sklearn-color-fitted-level-0);\n",
              "  border: var(--sklearn-color-fitted-level-3);\n",
              "}\n",
              "\n",
              ".sk-estimator-doc-link:hover span {\n",
              "  display: block;\n",
              "}\n",
              "\n",
              "/* \"?\"-specific style due to the `<a>` HTML tag */\n",
              "\n",
              "#sk-container-id-2 a.estimator_doc_link {\n",
              "  float: right;\n",
              "  font-size: 1rem;\n",
              "  line-height: 1em;\n",
              "  font-family: monospace;\n",
              "  background-color: var(--sklearn-color-background);\n",
              "  border-radius: 1rem;\n",
              "  height: 1rem;\n",
              "  width: 1rem;\n",
              "  text-decoration: none;\n",
              "  /* unfitted */\n",
              "  color: var(--sklearn-color-unfitted-level-1);\n",
              "  border: var(--sklearn-color-unfitted-level-1) 1pt solid;\n",
              "}\n",
              "\n",
              "#sk-container-id-2 a.estimator_doc_link.fitted {\n",
              "  /* fitted */\n",
              "  border: var(--sklearn-color-fitted-level-1) 1pt solid;\n",
              "  color: var(--sklearn-color-fitted-level-1);\n",
              "}\n",
              "\n",
              "/* On hover */\n",
              "#sk-container-id-2 a.estimator_doc_link:hover {\n",
              "  /* unfitted */\n",
              "  background-color: var(--sklearn-color-unfitted-level-3);\n",
              "  color: var(--sklearn-color-background);\n",
              "  text-decoration: none;\n",
              "}\n",
              "\n",
              "#sk-container-id-2 a.estimator_doc_link.fitted:hover {\n",
              "  /* fitted */\n",
              "  background-color: var(--sklearn-color-fitted-level-3);\n",
              "}\n",
              "</style><div id=\"sk-container-id-2\" class=\"sk-top-container\"><div class=\"sk-text-repr-fallback\"><pre>LogisticRegression()</pre><b>In a Jupyter environment, please rerun this cell to show the HTML representation or trust the notebook. <br />On GitHub, the HTML representation is unable to render, please try loading this page with nbviewer.org.</b></div><div class=\"sk-container\" hidden><div class=\"sk-item\"><div class=\"sk-estimator fitted sk-toggleable\"><input class=\"sk-toggleable__control sk-hidden--visually\" id=\"sk-estimator-id-2\" type=\"checkbox\" checked><label for=\"sk-estimator-id-2\" class=\"sk-toggleable__label fitted sk-toggleable__label-arrow fitted\">&nbsp;&nbsp;LogisticRegression<a class=\"sk-estimator-doc-link fitted\" rel=\"noreferrer\" target=\"_blank\" href=\"https://scikit-learn.org/1.4/modules/generated/sklearn.linear_model.LogisticRegression.html\">?<span>Documentation for LogisticRegression</span></a><span class=\"sk-estimator-doc-link fitted\">i<span>Fitted</span></span></label><div class=\"sk-toggleable__content fitted\"><pre>LogisticRegression()</pre></div> </div></div></div></div>"
            ],
            "text/plain": [
              "LogisticRegression()"
            ]
          },
          "execution_count": 48,
          "metadata": {},
          "output_type": "execute_result"
        }
      ],
      "source": [
        "# Build the Logistic Regression model\n",
        "from sklearn.linear_model import LogisticRegression\n",
        "lr = LogisticRegression()\n",
        "lr.fit(X_train, Y_train)"
      ]
    },
    {
      "cell_type": "markdown",
      "source": [
        "# Make Predictions\n",
        "Uses the trained Logistic Regression model to predict outcomes for the test dataset (`X_test`).\n"
      ],
      "metadata": {
        "id": "A8RywCtyXNEe"
      },
      "id": "A8RywCtyXNEe"
    },
    {
      "cell_type": "markdown",
      "source": [
        "# Predict the Outcome Using Test Data\n",
        "\n",
        "The trained Logistic Regression model is used to make predictions on the test dataset:\n",
        "- **`lr.predict(X_test)`**: Uses the `predict()` method of the model to generate predictions for the test dataset (`X_test`).\n",
        "- The predicted outcomes are stored in `Y_predict`.\n",
        "\n",
        "These predictions are later compared with the actual values (`Y_test`) to evaluate the model's performance.\n"
      ],
      "metadata": {
        "id": "84gxKpxQXX-J"
      },
      "id": "84gxKpxQXX-J"
    },
    {
      "cell_type": "code",
      "execution_count": null,
      "id": "0a060c16-6bfa-4898-8bae-e80f6cbf0587",
      "metadata": {
        "id": "0a060c16-6bfa-4898-8bae-e80f6cbf0587"
      },
      "outputs": [],
      "source": [
        "# Predict the outcome using Test data\n",
        "Y_predict = lr.predict(X_test)"
      ]
    },
    {
      "cell_type": "markdown",
      "source": [
        "# Import Libraries to Evaluate the Model\n",
        "\n",
        "The following libraries from `sklearn.metrics` are imported to evaluate the performance of the Logistic Regression model:\n",
        "1. **`confusion_matrix`**: Computes the confusion matrix, showing true positives, true negatives, false positives, and false negatives.\n",
        "2. **`classification_report`**: Generates a detailed performance report including precision, recall, F1 score, and support for each class.\n",
        "3. **`accuracy_score`**: Calculates the accuracy of the model, defined as the ratio of correctly predicted observations to the total observations.\n",
        "\n",
        "These tools provide a comprehensive evaluation of the model's effectiveness.\n"
      ],
      "metadata": {
        "id": "t4g-_pHyXdMN"
      },
      "id": "t4g-_pHyXdMN"
    },
    {
      "cell_type": "code",
      "execution_count": null,
      "id": "368251ef-05c6-4992-83fb-c312563a3589",
      "metadata": {
        "id": "368251ef-05c6-4992-83fb-c312563a3589"
      },
      "outputs": [],
      "source": [
        "# import libraries to evaluate the model\n",
        "from sklearn.metrics import confusion_matrix\n",
        "from sklearn.metrics import classification_report\n",
        "from sklearn.metrics import accuracy_score"
      ]
    },
    {
      "cell_type": "markdown",
      "source": [
        "# Build Confusion Matrix, Score, and Report for the Default Model\n",
        "\n",
        "In this step, we evaluate the Logistic Regression model's performance using the following:\n",
        "\n",
        "1. **Confusion Matrix (`cm1`)**:\n",
        "   - **`confusion_matrix(Y_test, Y_predict)`** computes a matrix summarizing the classification performance.\n",
        "   - It provides counts of:\n",
        "     - **True Positives (TP)**: Correctly predicted positives.\n",
        "     - **True Negatives (TN)**: Correctly predicted negatives.\n",
        "     - **False Positives (FP)**: Incorrectly predicted as positive.\n",
        "     - **False Negatives (FN)**: Incorrectly predicted as negative.\n",
        "\n",
        "2. **Accuracy Score (`score1`)**:\n",
        "   - **`lr.score(X_test, Y_test)`** calculates the proportion of correctly predicted observations out of the total observations in the test dataset.\n",
        "\n",
        "3. **Classification Report (`cr1`)**:\n",
        "   - **`classification_report(Y_test, Y_predict)`** generates a detailed report including:\n",
        "     - **Precision**: Proportion of positive predictions that are correct.\n",
        "     - **Recall**: Proportion of actual positives correctly identified.\n",
        "     - **F1 Score**: Harmonic mean of precision and recall.\n",
        "     - **Support**: The number of actual instances for each class.\n",
        "\n",
        "These metrics together provide a comprehensive understanding of the model's classification performance.\n"
      ],
      "metadata": {
        "id": "IK-0IUL1XkN8"
      },
      "id": "IK-0IUL1XkN8"
    },
    {
      "cell_type": "code",
      "execution_count": null,
      "id": "3d2bf440-de07-46b6-badb-fb8457175ba4",
      "metadata": {
        "id": "3d2bf440-de07-46b6-badb-fb8457175ba4"
      },
      "outputs": [],
      "source": [
        "# Build Confusion Matrix, score and report for the default model\n",
        "cm1 = confusion_matrix(Y_test, Y_predict)\n",
        "score1 = lr.score(X_test, Y_test)\n",
        "cr1 = classification_report(Y_test, Y_predict)"
      ]
    },
    {
      "cell_type": "code",
      "execution_count": null,
      "id": "41e2f95a-960c-4420-ac10-2620f969a2b1",
      "metadata": {
        "id": "41e2f95a-960c-4420-ac10-2620f969a2b1",
        "outputId": "7da0653e-473e-4733-ba8c-b2da1c3e9bc7"
      },
      "outputs": [
        {
          "data": {
            "text/plain": [
              "array([[ 29,  20],\n",
              "       [  2, 108]], dtype=int64)"
            ]
          },
          "execution_count": 56,
          "metadata": {},
          "output_type": "execute_result"
        }
      ],
      "source": [
        "cm1"
      ]
    },
    {
      "cell_type": "code",
      "execution_count": null,
      "id": "7e1878d4-6b03-4ee6-bbe4-15d3d9e9621a",
      "metadata": {
        "id": "7e1878d4-6b03-4ee6-bbe4-15d3d9e9621a",
        "outputId": "a0acc3b3-a019-4f96-bfcd-2138bb3ca22d"
      },
      "outputs": [
        {
          "data": {
            "text/html": [
              "<div>\n",
              "<style scoped>\n",
              "    .dataframe tbody tr th:only-of-type {\n",
              "        vertical-align: middle;\n",
              "    }\n",
              "\n",
              "    .dataframe tbody tr th {\n",
              "        vertical-align: top;\n",
              "    }\n",
              "\n",
              "    .dataframe thead th {\n",
              "        text-align: right;\n",
              "    }\n",
              "</style>\n",
              "<table border=\"1\" class=\"dataframe\">\n",
              "  <thead>\n",
              "    <tr style=\"text-align: right;\">\n",
              "      <th></th>\n",
              "      <th>0</th>\n",
              "      <th>1</th>\n",
              "    </tr>\n",
              "  </thead>\n",
              "  <tbody>\n",
              "    <tr>\n",
              "      <th>0</th>\n",
              "      <td>29</td>\n",
              "      <td>20</td>\n",
              "    </tr>\n",
              "    <tr>\n",
              "      <th>1</th>\n",
              "      <td>2</td>\n",
              "      <td>108</td>\n",
              "    </tr>\n",
              "  </tbody>\n",
              "</table>\n",
              "</div>"
            ],
            "text/plain": [
              "    0    1\n",
              "0  29   20\n",
              "1   2  108"
            ]
          },
          "execution_count": 90,
          "metadata": {},
          "output_type": "execute_result"
        }
      ],
      "source": [
        "df= pd.DataFrame(cm1)\n",
        "df"
      ]
    },
    {
      "cell_type": "code",
      "execution_count": null,
      "id": "1326f889-463f-45f8-91b9-624920bad9ae",
      "metadata": {
        "id": "1326f889-463f-45f8-91b9-624920bad9ae",
        "outputId": "dfd867c8-6477-4cb5-addc-49bb64836983"
      },
      "outputs": [
        {
          "data": {
            "text/plain": [
              "'              precision    recall  f1-score   support\\n\\n       False       0.94      0.59      0.72        49\\n        True       0.84      0.98      0.91       110\\n\\n    accuracy                           0.86       159\\n   macro avg       0.89      0.79      0.82       159\\nweighted avg       0.87      0.86      0.85       159\\n'"
            ]
          },
          "execution_count": 64,
          "metadata": {},
          "output_type": "execute_result"
        }
      ],
      "source": [
        "cr1"
      ]
    },
    {
      "cell_type": "markdown",
      "source": [
        "# Convert the Classification Report to a DataFrame\n",
        "\n",
        "This code converts the classification report (originally a string) into a structured DataFrame for better visualization and analysis:\n",
        "1. **`io.StringIO(cr1)`**:\n",
        "   - Converts the string representation of the classification report (`cr1`) into a file-like object.\n",
        "2. **`pd.read_fwf(cr1_io)`**:\n",
        "   - Reads the fixed-width formatted string into a pandas DataFrame, making it easier to view and process the report programmatically.\n",
        "\n",
        "The resulting DataFrame (`df`) contains the same metrics (precision, recall, F1 score, and support) but in a tabular format.\n"
      ],
      "metadata": {
        "id": "nre_t7RmXrNc"
      },
      "id": "nre_t7RmXrNc"
    },
    {
      "cell_type": "code",
      "execution_count": null,
      "id": "47a54e7a-ffa5-4c70-8ace-dfd1342263dc",
      "metadata": {
        "id": "47a54e7a-ffa5-4c70-8ace-dfd1342263dc",
        "outputId": "f90204e2-e4c0-4849-eb9e-5369d836eba6"
      },
      "outputs": [
        {
          "data": {
            "text/html": [
              "<div>\n",
              "<style scoped>\n",
              "    .dataframe tbody tr th:only-of-type {\n",
              "        vertical-align: middle;\n",
              "    }\n",
              "\n",
              "    .dataframe tbody tr th {\n",
              "        vertical-align: top;\n",
              "    }\n",
              "\n",
              "    .dataframe thead th {\n",
              "        text-align: right;\n",
              "    }\n",
              "</style>\n",
              "<table border=\"1\" class=\"dataframe\">\n",
              "  <thead>\n",
              "    <tr style=\"text-align: right;\">\n",
              "      <th></th>\n",
              "      <th>Unnamed: 0</th>\n",
              "      <th>precision</th>\n",
              "      <th>recall</th>\n",
              "      <th>f1-score</th>\n",
              "      <th>support</th>\n",
              "    </tr>\n",
              "  </thead>\n",
              "  <tbody>\n",
              "    <tr>\n",
              "      <th>0</th>\n",
              "      <td>False</td>\n",
              "      <td>0.94</td>\n",
              "      <td>0.59</td>\n",
              "      <td>0.72</td>\n",
              "      <td>49</td>\n",
              "    </tr>\n",
              "    <tr>\n",
              "      <th>1</th>\n",
              "      <td>True</td>\n",
              "      <td>0.84</td>\n",
              "      <td>0.98</td>\n",
              "      <td>0.91</td>\n",
              "      <td>110</td>\n",
              "    </tr>\n",
              "    <tr>\n",
              "      <th>2</th>\n",
              "      <td>accuracy</td>\n",
              "      <td>NaN</td>\n",
              "      <td>NaN</td>\n",
              "      <td>0.86</td>\n",
              "      <td>159</td>\n",
              "    </tr>\n",
              "    <tr>\n",
              "      <th>3</th>\n",
              "      <td>macro avg</td>\n",
              "      <td>0.89</td>\n",
              "      <td>0.79</td>\n",
              "      <td>0.82</td>\n",
              "      <td>159</td>\n",
              "    </tr>\n",
              "    <tr>\n",
              "      <th>4</th>\n",
              "      <td>weighted avg</td>\n",
              "      <td>0.87</td>\n",
              "      <td>0.86</td>\n",
              "      <td>0.85</td>\n",
              "      <td>159</td>\n",
              "    </tr>\n",
              "  </tbody>\n",
              "</table>\n",
              "</div>"
            ],
            "text/plain": [
              "     Unnamed: 0  precision  recall  f1-score  support\n",
              "0         False       0.94    0.59      0.72       49\n",
              "1          True       0.84    0.98      0.91      110\n",
              "2      accuracy        NaN     NaN      0.86      159\n",
              "3     macro avg       0.89    0.79      0.82      159\n",
              "4  weighted avg       0.87    0.86      0.85      159"
            ]
          },
          "execution_count": 70,
          "metadata": {},
          "output_type": "execute_result"
        }
      ],
      "source": [
        "import io\n",
        "# Convert the classification report string to a DataFrame\n",
        "cr1_io = io.StringIO(cr1)  # Convert the string into a file-like object\n",
        "df = pd.read_fwf(cr1_io)  # Read the fixed-width formatted string into a DataFrame\n",
        "df"
      ]
    },
    {
      "cell_type": "markdown",
      "source": [
        "# Create Prediction Probability List\n",
        "\n",
        "This code generates the probability predictions for each instance in the test dataset:\n",
        "- **`lr.predict_proba(X_test)`**:\n",
        "  - This method computes the probabilities for each class (e.g., 0 or 1) for all instances in `X_test`.\n",
        "  - It returns a 2D array where each row corresponds to an instance and columns represent class probabilities.\n",
        "- **`[:, 1]`**:\n",
        "  - Extracts the probabilities for the positive class (label `1`).\n",
        "- **`Y_prob`**:\n",
        "  - Stores the probabilities for the positive class, which can be used to analyze performance at different thresholds or to plot an ROC curve.\n",
        "\n",
        "This approach provides more granular insights into the model's confidence in its predictions.\n"
      ],
      "metadata": {
        "id": "6FHMDOuQXyew"
      },
      "id": "6FHMDOuQXyew"
    },
    {
      "cell_type": "code",
      "execution_count": null,
      "id": "49769478-09aa-445c-82c0-ed1104612164",
      "metadata": {
        "id": "49769478-09aa-445c-82c0-ed1104612164"
      },
      "outputs": [],
      "source": [
        "# Create prediction probability list\n",
        "Y_prob = lr.predict_proba(X_test)[:, 1]"
      ]
    },
    {
      "cell_type": "markdown",
      "source": [
        "# Create New Predictions Based on a Custom Probability Threshold\n",
        "\n",
        "This code adjusts the prediction logic to use a custom probability threshold for classifying instances:\n",
        "1. **`threshold = 0.8`**:\n",
        "   - Sets a higher threshold (default is typically 0.5) for classifying an instance as belonging to the positive class (`1`).\n",
        "\n",
        "2. **`for` Loop**:\n",
        "   - Iterates over the probabilities in `Y_prob`.\n",
        "   - If the probability for an instance is greater than `0.8`, it is classified as `1` (positive class).\n",
        "   - Otherwise, it is classified as `0` (negative class).\n",
        "\n",
        "3. **`Y_new_pred`**:\n",
        "   - Stores the new predictions based on the custom threshold.\n",
        "\n",
        "This approach is useful for scenarios where the cost of false positives or false negatives is high, allowing you to fine-tune the model's behavior to prioritize one type of error over the other.\n"
      ],
      "metadata": {
        "id": "iO4C2s3wX5dD"
      },
      "id": "iO4C2s3wX5dD"
    },
    {
      "cell_type": "code",
      "execution_count": null,
      "id": "f55ed9a9-8a9c-481c-b462-b3d93cd6e263",
      "metadata": {
        "id": "f55ed9a9-8a9c-481c-b462-b3d93cd6e263"
      },
      "outputs": [],
      "source": [
        "# Create new predictions based on new probability threshold\n",
        "Y_new_pred = []\n",
        "threshold  = 0.8\n",
        "\n",
        "for i in range(0, len(Y_prob)):\n",
        "    if Y_prob[i] > threshold:\n",
        "        Y_new_pred.append(1)\n",
        "    else:\n",
        "        Y_new_pred.append(0)"
      ]
    },
    {
      "cell_type": "markdown",
      "source": [
        "# Check the Effect of Probability Threshold on Predictions\n",
        "\n",
        "This code evaluates how changing the probability threshold affects the model's predictions and performance metrics:\n",
        "1. **Confusion Matrix (`cm2`)**:\n",
        "   - **`confusion_matrix(Y_test, Y_new_pred)`**:\n",
        "     - Computes the confusion matrix using the new predictions (`Y_new_pred`).\n",
        "     - Displays the distribution of true positives, true negatives, false positives, and false negatives based on the updated threshold.\n",
        "\n",
        "2. **Accuracy Score (`score2`)**:\n",
        "   - **`accuracy_score(Y_test, Y_new_pred)`**:\n",
        "     - Calculates the proportion of correctly predicted observations out of the total observations with the new threshold.\n",
        "\n",
        "3. **Classification Report (`cr2`)**:\n",
        "   - **`classification_report(Y_test, Y_new_pred)`**:\n",
        "     - Generates a detailed report of precision, recall, F1 score, and support for each class using the updated predictions.\n",
        "\n",
        "This step allows you to analyze how changing the threshold affects the balance between precision, recall, and overall accuracy.\n"
      ],
      "metadata": {
        "id": "h0EC1j9pX_Wb"
      },
      "id": "h0EC1j9pX_Wb"
    },
    {
      "cell_type": "code",
      "execution_count": null,
      "id": "c2f88ced-1c6e-4eb8-b464-9eb0d6fa82d3",
      "metadata": {
        "id": "c2f88ced-1c6e-4eb8-b464-9eb0d6fa82d3"
      },
      "outputs": [],
      "source": [
        "# Check the effect of probability threshold on predictions\n",
        "cm2 = confusion_matrix(Y_test, Y_new_pred)\n",
        "score2 = accuracy_score(Y_test, Y_new_pred)\n",
        "cr2 = classification_report(Y_test, Y_new_pred)"
      ]
    },
    {
      "cell_type": "code",
      "execution_count": null,
      "id": "9879a590-d93c-4239-ab69-133d7f119be1",
      "metadata": {
        "id": "9879a590-d93c-4239-ab69-133d7f119be1",
        "outputId": "9a2da6ed-d3ab-4bec-bd95-9f7780427516"
      },
      "outputs": [
        {
          "data": {
            "text/plain": [
              "array([[46,  3],\n",
              "       [60, 50]], dtype=int64)"
            ]
          },
          "execution_count": 82,
          "metadata": {},
          "output_type": "execute_result"
        }
      ],
      "source": [
        "cm2"
      ]
    },
    {
      "cell_type": "code",
      "execution_count": null,
      "id": "2a4612bf-209d-4f99-a2dd-693cf665f836",
      "metadata": {
        "id": "2a4612bf-209d-4f99-a2dd-693cf665f836",
        "outputId": "f92c1313-95eb-4b80-db4e-99273bc01eaf"
      },
      "outputs": [
        {
          "data": {
            "text/html": [
              "<div>\n",
              "<style scoped>\n",
              "    .dataframe tbody tr th:only-of-type {\n",
              "        vertical-align: middle;\n",
              "    }\n",
              "\n",
              "    .dataframe tbody tr th {\n",
              "        vertical-align: top;\n",
              "    }\n",
              "\n",
              "    .dataframe thead th {\n",
              "        text-align: right;\n",
              "    }\n",
              "</style>\n",
              "<table border=\"1\" class=\"dataframe\">\n",
              "  <thead>\n",
              "    <tr style=\"text-align: right;\">\n",
              "      <th></th>\n",
              "      <th>0</th>\n",
              "      <th>1</th>\n",
              "    </tr>\n",
              "  </thead>\n",
              "  <tbody>\n",
              "    <tr>\n",
              "      <th>0</th>\n",
              "      <td>46</td>\n",
              "      <td>3</td>\n",
              "    </tr>\n",
              "    <tr>\n",
              "      <th>1</th>\n",
              "      <td>60</td>\n",
              "      <td>50</td>\n",
              "    </tr>\n",
              "  </tbody>\n",
              "</table>\n",
              "</div>"
            ],
            "text/plain": [
              "    0   1\n",
              "0  46   3\n",
              "1  60  50"
            ]
          },
          "execution_count": 92,
          "metadata": {},
          "output_type": "execute_result"
        }
      ],
      "source": [
        "df= pd.DataFrame(cm2)\n",
        "df"
      ]
    },
    {
      "cell_type": "markdown",
      "source": [
        "# Convert the Updated Classification Report to a DataFrame\n",
        "\n",
        "This code converts the updated classification report (`cr2`) into a pandas DataFrame for better visualization and analysis:\n",
        "1. **`io.StringIO(cr2)`**:\n",
        "   - Converts the string representation of the updated classification report (`cr2`) into a file-like object.\n",
        "2. **`pd.read_fwf(cr2_io)`**:\n",
        "   - Reads the fixed-width formatted string into a pandas DataFrame.\n",
        "\n",
        "The resulting DataFrame (`df`) presents the updated metrics (precision, recall, F1 score, and support) in a tabular format, making it easier to analyze and compare with the previous results.\n"
      ],
      "metadata": {
        "id": "iH23938NYGp9"
      },
      "id": "iH23938NYGp9"
    },
    {
      "cell_type": "code",
      "execution_count": null,
      "id": "6dfb4bf7-3db4-424d-8d00-450985ae6d6f",
      "metadata": {
        "id": "6dfb4bf7-3db4-424d-8d00-450985ae6d6f",
        "outputId": "1a38839d-5fb1-489a-985d-77ce644c178c"
      },
      "outputs": [
        {
          "data": {
            "text/html": [
              "<div>\n",
              "<style scoped>\n",
              "    .dataframe tbody tr th:only-of-type {\n",
              "        vertical-align: middle;\n",
              "    }\n",
              "\n",
              "    .dataframe tbody tr th {\n",
              "        vertical-align: top;\n",
              "    }\n",
              "\n",
              "    .dataframe thead th {\n",
              "        text-align: right;\n",
              "    }\n",
              "</style>\n",
              "<table border=\"1\" class=\"dataframe\">\n",
              "  <thead>\n",
              "    <tr style=\"text-align: right;\">\n",
              "      <th></th>\n",
              "      <th>Unnamed: 0</th>\n",
              "      <th>precision</th>\n",
              "      <th>recall</th>\n",
              "      <th>f1-score</th>\n",
              "      <th>support</th>\n",
              "    </tr>\n",
              "  </thead>\n",
              "  <tbody>\n",
              "    <tr>\n",
              "      <th>0</th>\n",
              "      <td>False</td>\n",
              "      <td>0.43</td>\n",
              "      <td>0.94</td>\n",
              "      <td>0.59</td>\n",
              "      <td>49</td>\n",
              "    </tr>\n",
              "    <tr>\n",
              "      <th>1</th>\n",
              "      <td>True</td>\n",
              "      <td>0.94</td>\n",
              "      <td>0.45</td>\n",
              "      <td>0.61</td>\n",
              "      <td>110</td>\n",
              "    </tr>\n",
              "    <tr>\n",
              "      <th>2</th>\n",
              "      <td>accuracy</td>\n",
              "      <td>NaN</td>\n",
              "      <td>NaN</td>\n",
              "      <td>0.60</td>\n",
              "      <td>159</td>\n",
              "    </tr>\n",
              "    <tr>\n",
              "      <th>3</th>\n",
              "      <td>macro avg</td>\n",
              "      <td>0.69</td>\n",
              "      <td>0.70</td>\n",
              "      <td>0.60</td>\n",
              "      <td>159</td>\n",
              "    </tr>\n",
              "    <tr>\n",
              "      <th>4</th>\n",
              "      <td>weighted avg</td>\n",
              "      <td>0.79</td>\n",
              "      <td>0.60</td>\n",
              "      <td>0.61</td>\n",
              "      <td>159</td>\n",
              "    </tr>\n",
              "  </tbody>\n",
              "</table>\n",
              "</div>"
            ],
            "text/plain": [
              "     Unnamed: 0  precision  recall  f1-score  support\n",
              "0         False       0.43    0.94      0.59       49\n",
              "1          True       0.94    0.45      0.61      110\n",
              "2      accuracy        NaN     NaN      0.60      159\n",
              "3     macro avg       0.69    0.70      0.60      159\n",
              "4  weighted avg       0.79    0.60      0.61      159"
            ]
          },
          "execution_count": 94,
          "metadata": {},
          "output_type": "execute_result"
        }
      ],
      "source": [
        "import io\n",
        "# Convert the classification report string to a DataFrame\n",
        "cr2_io = io.StringIO(cr2)  # Convert the string into a file-like object\n",
        "df = pd.read_fwf(cr2_io)  # Read the fixed-width formatted string into a DataFrame\n",
        "df"
      ]
    },
    {
      "cell_type": "markdown",
      "id": "a5386dbc-fcf5-4c50-9d26-3f6572959816",
      "metadata": {
        "id": "a5386dbc-fcf5-4c50-9d26-3f6572959816"
      },
      "source": [
        "ROC plots the True Positive Rate (TPR) against the False Positive Rate (FPR) at different classification thresholds."
      ]
    },
    {
      "cell_type": "markdown",
      "source": [
        "# Understand and Implement AUC ROC Curve\n",
        "\n",
        "In this step, we import the necessary functions to evaluate the model using the AUC-ROC curve:\n",
        "1. **`roc_curve`**:\n",
        "   - Computes the Receiver Operating Characteristic (ROC) curve by calculating the True Positive Rate (TPR) and False Positive Rate (FPR) at various thresholds.\n",
        "   - The ROC curve visually represents the trade-off between sensitivity (recall) and specificity.\n",
        "\n",
        "2. **`roc_auc_score`**:\n",
        "   - Calculates the Area Under the Curve (AUC) for the ROC curve.\n",
        "   - The AUC is a single scalar value that quantifies the model's ability to distinguish between positive and negative classes.\n",
        "   - A value of `1.0` indicates perfect classification, while `0.5` suggests no discrimination (random guessing).\n",
        "\n",
        "These tools help evaluate the model's performance across different thresholds.\n"
      ],
      "metadata": {
        "id": "R8ZDPtDyYNv9"
      },
      "id": "R8ZDPtDyYNv9"
    },
    {
      "cell_type": "code",
      "execution_count": null,
      "id": "2e3d0f61-9d5e-4e03-bc07-7243c6e153e2",
      "metadata": {
        "id": "2e3d0f61-9d5e-4e03-bc07-7243c6e153e2"
      },
      "outputs": [],
      "source": [
        "# Understand and implement AUC ROC Curve\n",
        "from sklearn.metrics import roc_curve, roc_auc_score"
      ]
    },
    {
      "cell_type": "markdown",
      "source": [
        "# Get the Area Under the ROC Curve (AUC)\n",
        "\n",
        "The code calculates the **Area Under the Curve (AUC)** for the Receiver Operating Characteristic (ROC) curve:\n",
        "- **`roc_auc_score(Y_test, Y_prob)`**:\n",
        "  - Computes the AUC using the actual labels (`Y_test`) and the predicted probabilities for the positive class (`Y_prob`).\n",
        "  - The AUC quantifies the model's ability to distinguish between positive and negative classes.\n",
        "  - A higher AUC value (close to `1.0`) indicates better model performance, while a value of `0.5` suggests random guessing.\n",
        "\n",
        "The AUC provides a single metric to evaluate the model's performance across all possible classification thresholds.\n"
      ],
      "metadata": {
        "id": "n63Xgyg4YTIE"
      },
      "id": "n63Xgyg4YTIE"
    },
    {
      "cell_type": "code",
      "execution_count": null,
      "id": "0630b4c1-e744-443c-a1f4-5d92d55bd657",
      "metadata": {
        "id": "0630b4c1-e744-443c-a1f4-5d92d55bd657"
      },
      "outputs": [],
      "source": [
        "# Get the Area Under the ROC Curve\n",
        "auc = roc_auc_score(Y_test, Y_prob)"
      ]
    },
    {
      "cell_type": "markdown",
      "source": [
        "# Plot the ROC Curve\n",
        "\n",
        "The code generates and visualizes the **Receiver Operating Characteristic (ROC)** curve to evaluate the model's classification performance:\n",
        "\n",
        "1. **Calculate ROC Components**:\n",
        "   - **`roc_curve(Y_test, Y_prob)`**:\n",
        "     - Computes the False Positive Rate (FPR), True Positive Rate (TPR), and thresholds based on the actual labels (`Y_test`) and predicted probabilities (`Y_prob`).\n",
        "\n",
        "2. **Plot the ROC Curve**:\n",
        "   - **`plt.plot(fpr, tpr, linewidth=4)`**:\n",
        "     - Plots the TPR (sensitivity) against the FPR at different classification thresholds.\n",
        "   - **`plt.xlabel(\"False Positive rate\")`**: Labels the x-axis as the False Positive Rate.\n",
        "   - **`plt.ylabel(\"True Positive Rate\")`**: Labels the y-axis as the True Positive Rate.\n",
        "   - **`plt.title(\"ROC Curve for Loan Prediction\")`**: Sets the title of the plot.\n",
        "\n",
        "3. **Grid**:\n",
        "   - **`plt.grid()`**: Adds a grid to the plot for better readability.\n",
        "\n",
        "### Interpretation:\n",
        "- The ROC curve shows the trade-off between sensitivity (TPR) and specificity (1 - FPR) at various thresholds.\n",
        "- A curve closer to the top-left corner indicates better model performance.\n"
      ],
      "metadata": {
        "id": "E42L1RPwYZRx"
      },
      "id": "E42L1RPwYZRx"
    },
    {
      "cell_type": "code",
      "execution_count": null,
      "id": "35d2aa5d-b4d5-4bc6-bd76-a8f7ed694846",
      "metadata": {
        "id": "35d2aa5d-b4d5-4bc6-bd76-a8f7ed694846",
        "outputId": "dbccbd43-e9e4-4a6b-b6c4-2ffe22e8886b"
      },
      "outputs": [
        {
          "data": {
            "image/png": "[encoded data removed]",
            "text/plain": [
              "<Figure size 640x480 with 1 Axes>"
            ]
          },
          "metadata": {},
          "output_type": "display_data"
        }
      ],
      "source": [
        "# plot ROC\n",
        "import matplotlib.pyplot as plt\n",
        "\n",
        "fpr, tpr, threshold = roc_curve(Y_test, Y_prob)\n",
        "plt.plot(fpr, tpr, linewidth=4)\n",
        "plt.xlabel(\"False Positive rate\")\n",
        "plt.ylabel(\"True Positve Rate\")\n",
        "plt.title(\"ROC Curve for Loan Prediction\")\n",
        "plt.grid()"
      ]
    },
    {
      "cell_type": "code",
      "execution_count": null,
      "id": "000e41c3-435e-4ecc-8640-502c793ad153",
      "metadata": {
        "id": "000e41c3-435e-4ecc-8640-502c793ad153"
      },
      "outputs": [],
      "source": []
    }
  ],
  "metadata": {
    "kernelspec": {
      "display_name": "Python 3 (ipykernel)",
      "language": "python",
      "name": "python3"
    },
    "language_info": {
      "codemirror_mode": {
        "name": "ipython",
        "version": 3
      },
      "file_extension": ".py",
      "mimetype": "text/x-python",
      "name": "python",
      "nbconvert_exporter": "python",
      "pygments_lexer": "ipython3",
      "version": "3.12.4"
    },
    "colab": {
      "provenance": []
    }
  },
  "nbformat": 4,
  "nbformat_minor": 5
}