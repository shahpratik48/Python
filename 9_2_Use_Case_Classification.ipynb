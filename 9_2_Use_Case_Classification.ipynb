{
  "cells": [
    {
      "cell_type": "markdown",
      "id": "313117bf-9b3f-4a93-8ea4-917a9696a826",
      "metadata": {
        "id": "313117bf-9b3f-4a93-8ea4-917a9696a826"
      },
      "source": [
        "# Classification Machine Learning - Bank Term Deposit Subscription\n",
        "\n",
        "Classification in Machine Learning is a type of supervised learning where the goal is to predict the category or class of an input data point based on its features. The model is trained on a labeled dataset, where each input data point has a corresponding class label.\n",
        "\n",
        "**Key Characteristics of Classification:**\n",
        "1. **Discrete Output:** The output of a classification model is categorical, meaning the predictions belong to predefined classes or categories.\n",
        "2. **Supervised Learning:** It requires labeled data for training, where each input is paired with its correct class label.\n",
        "3. **Decision Boundary:** The model learns a decision boundary that separates different classes in the feature space."
      ]
    },
    {
      "cell_type": "markdown",
      "id": "ce2360f2-7e45-4ce9-960e-159ad29eedb0",
      "metadata": {
        "id": "ce2360f2-7e45-4ce9-960e-159ad29eedb0"
      },
      "source": [
        "The dataset appears to be related to a bank marketing campaign, with the target variable likely being whether a client will subscribe to a term deposit ('y'). The target variable y in your dataset seems to be binary, indicating 'yes' or 'no'.\n",
        "\n",
        "\n",
        "#### Step-by-step process:\n",
        "\n",
        "**Step 0 - Load and Explore the Data**\n",
        "\n",
        "**Step 1 - Data Preprocessing**\n",
        "\n",
        "* Handle missing values\n",
        "* Encode categorical variables\n",
        "* Split the data into training and testing sets\n",
        "\n",
        "**Step 2 - Feature Selection: Select relevant features for the model**\n",
        "\n",
        "**Step 3 - Model Training: Train a machine learning model (e.g., Logistic Regression, Random Forest, etc.)**\n",
        "\n",
        "**Step 4 - Model Saving: Save the trained model for later use.**\n",
        "\n",
        "**Step 5 - Streamlit App: Create a Streamlit app to get predictions using the trained model.**\n",
        "\n",
        "Let's start with data loading."
      ]
    },
    {
      "cell_type": "markdown",
      "id": "d54106e4-6abd-44c4-9d01-d5b4cfb58467",
      "metadata": {
        "id": "d54106e4-6abd-44c4-9d01-d5b4cfb58467"
      },
      "source": [
        "**Step 0 to Step 4: Preprocess, Train, and Save the Model and Label Encoders**"
      ]
    },
    {
      "cell_type": "code",
      "execution_count": null,
      "id": "a4ac34f7-8265-4d69-9ba7-d1631905275c",
      "metadata": {
        "id": "a4ac34f7-8265-4d69-9ba7-d1631905275c",
        "outputId": "f84851e4-d7c9-497f-c036-6c13a3ee7d23"
      },
      "outputs": [
        {
          "name": "stdout",
          "output_type": "stream",
          "text": [
            "Label encoders saved, keys: dict_keys(['job', 'marital', 'education', 'default', 'housing', 'loan', 'contact', 'month', 'day_of_week', 'poutcome', 'y'])\n",
            "Accuracy: 0.9133284777858703\n",
            "              precision    recall  f1-score   support\n",
            "\n",
            "           0       0.94      0.96      0.95      7303\n",
            "           1       0.65      0.51      0.57       935\n",
            "\n",
            "    accuracy                           0.91      8238\n",
            "   macro avg       0.79      0.74      0.76      8238\n",
            "weighted avg       0.91      0.91      0.91      8238\n",
            "\n",
            "Model saved at rf_model.joblib\n"
          ]
        }
      ],
      "source": [
        "import pandas as pd\n",
        "from sklearn.model_selection import train_test_split\n",
        "from sklearn.preprocessing import LabelEncoder\n",
        "from sklearn.ensemble import RandomForestClassifier\n",
        "from sklearn.metrics import accuracy_score, classification_report\n",
        "import joblib\n",
        "\n",
        "# Step 1: Load the data\n",
        "file_path = 'bank.csv'\n",
        "data = pd.read_csv(file_path)\n",
        "data.head()\n",
        "\n",
        "# Step 2: Check for missing values\n",
        "missing_values = data.isnull().sum()\n",
        "if missing_values.any():\n",
        "    print(\"Missing values found:\\n\", missing_values)\n",
        "    # Handle missing values (e.g., fill with mode for simplicity)\n",
        "    for col in data.columns:\n",
        "        if data[col].isnull().sum() > 0:\n",
        "            data[col].fillna(data[col].mode()[0], inplace=True)\n",
        "\n",
        "# Encode categorical variables\n",
        "label_encoders = {}\n",
        "categorical_columns = data.select_dtypes(include=['object']).columns\n",
        "\n",
        "for col in categorical_columns:\n",
        "    le = LabelEncoder()\n",
        "    le.fit(data[col])\n",
        "    data[col] = le.transform(data[col])\n",
        "    label_encoders[col] = le\n",
        "\n",
        "# Save the label encoders immediately to check their contents\n",
        "joblib.dump(label_encoders, 'label_encoders.joblib')\n",
        "\n",
        "# Logging stored label encoders for debug\n",
        "print(\"Label encoders saved, keys:\", label_encoders.keys())\n",
        "\n",
        "# Split the data into features (X) and target (y)\n",
        "X = data.drop('y', axis=1)\n",
        "y = data['y']\n",
        "\n",
        "# Split the data into training and testing sets\n",
        "X_train, X_test, y_train, y_test = train_test_split(X, y, test_size=0.2, random_state=42)\n",
        "\n",
        "# Train and evaluate the model\n",
        "model = RandomForestClassifier(random_state=42)\n",
        "model.fit(X_train, y_train)\n",
        "y_pred = model.predict(X_test)\n",
        "accuracy = accuracy_score(y_test, y_pred)\n",
        "report = classification_report(y_test, y_pred)\n",
        "print(f\"Accuracy: {accuracy}\")\n",
        "print(report)\n",
        "\n",
        "# Step 4: Save the trained model and label encoders\n",
        "model_path = 'rf_model.joblib'\n",
        "joblib.dump(model, model_path)\n",
        "print(f\"Model saved at {model_path}\")\n"
      ]
    },
    {
      "cell_type": "markdown",
      "id": "5df3e0a8-8085-4742-beb6-d9803520bafb",
      "metadata": {
        "id": "5df3e0a8-8085-4742-beb6-d9803520bafb"
      },
      "source": [
        "**Step 5: Create a Streamlit App for Prediction**\n",
        "\n",
        "Save the following code in a file named app_class.py in the same folder where the model is and run in command line in VS Code: streamlit run app_class.py"
      ]
    },
    {
      "cell_type": "code",
      "execution_count": null,
      "id": "d12aa996-55e9-4fa1-ba7b-5b09ca63a013",
      "metadata": {
        "id": "d12aa996-55e9-4fa1-ba7b-5b09ca63a013",
        "outputId": "b6bf9418-665d-4c53-ba47-1ef712b5ac86"
      },
      "outputs": [
        {
          "name": "stderr",
          "output_type": "stream",
          "text": [
            "2025-01-03 10:40:42.964 \n",
            "  \u001b[33m\u001b[1mWarning:\u001b[0m to view this Streamlit app on a browser, run it with the following\n",
            "  command:\n",
            "\n",
            "    streamlit run C:\\Users\\losts\\AppData\\Roaming\\Python\\Python312\\site-packages\\ipykernel_launcher.py [ARGUMENTS]\n"
          ]
        }
      ],
      "source": [
        "import streamlit as st\n",
        "import joblib\n",
        "import pandas as pd\n",
        "\n",
        "# Load the model and label encoders\n",
        "model = joblib.load('rf_model.joblib')\n",
        "label_encoders = joblib.load('label_encoders.joblib')\n",
        "expected_columns = ['job', 'marital', 'education', 'default', 'housing',\n",
        "                    'loan', 'contact', 'month', 'day_of_week', 'poutcome']\n",
        "\n",
        "# Check if all expected encoders are present\n",
        "missing_columns = set(expected_columns) - set(label_encoders.keys())\n",
        "if missing_columns:\n",
        "    st.write(\"Missing columns in label encoders:\", missing_columns)\n",
        "else:\n",
        "    st.write(\"All required columns are present in label encoders.\")\n",
        "\n",
        "# Title\n",
        "st.title('Bank Marketing Prediction')\n",
        "\n",
        "# Collecting user input\n",
        "def get_user_input():\n",
        "    age = st.number_input('Age', min_value=18, max_value=100, value=30)\n",
        "    job = st.selectbox('Job', options=list(label_encoders['job'].classes_))\n",
        "    marital = st.selectbox('Marital', options=list(label_encoders['marital'].classes_))\n",
        "    education = st.selectbox('Education', options=list(label_encoders['education'].classes_))\n",
        "    default = st.selectbox('Default', options=list(label_encoders['default'].classes_))\n",
        "    housing = st.selectbox('Housing', options=list(label_encoders['housing'].classes_))\n",
        "    loan = st.selectbox('Loan', options=list(label_encoders['loan'].classes_))\n",
        "    contact = st.selectbox('Contact', options=list(label_encoders['contact'].classes_))\n",
        "    month = st.selectbox('Month', options=list(label_encoders['month'].classes_))\n",
        "    day_of_week = st.selectbox('Day of Week', options=list(label_encoders['day_of_week'].classes_))\n",
        "    duration = st.number_input('Duration', min_value=0, step=10, value=1)\n",
        "    campaign = st.number_input('Campaign', min_value=1, step=1, value=1)\n",
        "    pdays = st.number_input('Pdays', min_value=0, step=1, value=999)\n",
        "    previous = st.number_input('Previous', min_value=0, step=1, value=0)\n",
        "    poutcome = st.selectbox('Poutcome', options=list(label_encoders['poutcome'].classes_))\n",
        "    emp_var_rate = st.number_input('Employment Variation Rate', value=1.0)\n",
        "    cons_price_idx = st.number_input('Consumer Price Index', value=93.994)\n",
        "    cons_conf_idx = st.number_input('Consumer Confidence Index', value=-36.4)\n",
        "    euribor3m = st.number_input('Euribor 3 Month Rate', value=4.857)\n",
        "    nr_employed = st.number_input('Number of Employees', value=5191.0)\n",
        "\n",
        "    user_input = {\n",
        "        'age': age,\n",
        "        'job': label_encoders['job'].transform([job])[0],\n",
        "        'marital': label_encoders['marital'].transform([marital])[0],\n",
        "        'education': label_encoders['education'].transform([education])[0],\n",
        "        'default': label_encoders['default'].transform([default])[0],\n",
        "        'housing': label_encoders['housing'].transform([housing])[0],\n",
        "        'loan': label_encoders['loan'].transform([loan])[0],\n",
        "        'contact': label_encoders['contact'].transform([contact])[0],\n",
        "        'month': label_encoders['month'].transform([month])[0],\n",
        "        'day_of_week': label_encoders['day_of_week'].transform([day_of_week])[0],\n",
        "        'duration': duration,\n",
        "        'campaign': campaign,\n",
        "        'pdays': pdays,\n",
        "        'previous': previous,\n",
        "        'poutcome': label_encoders['poutcome'].transform([poutcome])[0],\n",
        "        'emp.var.rate': emp_var_rate,\n",
        "        'cons.price.idx': cons_price_idx,\n",
        "        'cons.conf.idx': cons_conf_idx,\n",
        "        'euribor3m': euribor3m,\n",
        "        'nr.employed': nr_employed,\n",
        "    }\n",
        "\n",
        "    return pd.DataFrame([user_input])\n",
        "\n",
        "# Get user input\n",
        "user_input_df = get_user_input()\n",
        "\n",
        "# Prediction\n",
        "if st.button('Predict'):\n",
        "    prediction = model.predict(user_input_df)\n",
        "    prediction_proba = model.predict_proba(user_input_df)\n",
        "\n",
        "    predicted_label = label_encoders['y'].inverse_transform(prediction)[0]\n",
        "    proba_yes = prediction_proba[0][1]\n",
        "    st.write(f\"Prediction: {predicted_label}\")\n",
        "    st.write(f\"Probability of Yes: {proba_yes:.2f}\")"
      ]
    },
    {
      "cell_type": "code",
      "execution_count": null,
      "id": "993a3baa-df59-4961-97dd-2e76d884c5c2",
      "metadata": {
        "id": "993a3baa-df59-4961-97dd-2e76d884c5c2"
      },
      "outputs": [],
      "source": []
    }
  ],
  "metadata": {
    "kernelspec": {
      "display_name": "Python 3 (ipykernel)",
      "language": "python",
      "name": "python3"
    },
    "language_info": {
      "codemirror_mode": {
        "name": "ipython",
        "version": 3
      },
      "file_extension": ".py",
      "mimetype": "text/x-python",
      "name": "python",
      "nbconvert_exporter": "python",
      "pygments_lexer": "ipython3",
      "version": "3.12.4"
    },
    "colab": {
      "provenance": []
    }
  },
  "nbformat": 4,
  "nbformat_minor": 5
}